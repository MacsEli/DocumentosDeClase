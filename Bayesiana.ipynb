{
  "nbformat": 4,
  "nbformat_minor": 0,
  "metadata": {
    "colab": {
      "name": "Bayesiana.ipynb",
      "provenance": [],
      "include_colab_link": true
    },
    "kernelspec": {
      "name": "python3",
      "display_name": "Python 3"
    }
  },
  "cells": [
    {
      "cell_type": "markdown",
      "metadata": {
        "id": "view-in-github",
        "colab_type": "text"
      },
      "source": [
        "<a href=\"https://colab.research.google.com/github/MacsEli/DocumentosDeClase/blob/main/Bayesiana.ipynb\" target=\"_parent\"><img src=\"https://colab.research.google.com/assets/colab-badge.svg\" alt=\"Open In Colab\"/></a>"
      ]
    },
    {
      "cell_type": "markdown",
      "metadata": {
        "id": "gfPdATJtlQWq"
      },
      "source": [
        "### Conceptos básicos"
      ]
    },
    {
      "cell_type": "markdown",
      "metadata": {
        "id": "ZPvm7GdloTuE"
      },
      "source": [
        "La probabilidad de A dado B significa la probabiliad de que pase A una vez que ya sabemos que B pasó, se usa la notación\r\n",
        "$$P(A|B)=\\frac{P(A\\cap B)}{P(B)}$$\r\n",
        "Si despejamos podemos obtener $$P(A\\cap B)=P(A|B)P(B)$$\r\n",
        "$$P(B\\cap A)=P(B|A)P(A)$$\r\n",
        "Recordemos que dos eventos son independientes sii\r\n",
        "$$P(A|B)=P(A)$$\r\n",
        "Fijándonos en la ecuación de arriba eso resulta en \r\n",
        "$$P(A\\cap B)=P(A)P(B)$$\r\n",
        "El teorema de Bayes nos dice que \r\n",
        "$$P(A|B)=\\frac{P(B|A)P(A)}{P(B)}$$"
      ]
    },
    {
      "cell_type": "markdown",
      "metadata": {
        "id": "o3yRkLG7px47"
      },
      "source": [
        "Un caso particular de ese teorema es cuando $A=A_1$ pertenece a una partición y podemos hacer\r\n",
        "$$P(A_1|B)=\\frac{P(B|A_1)P(A_1)}{P(B|A_1)P(A_1)+\\cdots+P(B|A_n)P(A_n)}$$\r\n",
        "\r\n",
        "---"
      ]
    },
    {
      "cell_type": "markdown",
      "metadata": {
        "id": "ndAfo3qoZTLX"
      },
      "source": [
        "#### Ejemplo cajas de galletas\r\n",
        "Caja 1= 10 galletas de chocolate \\\\\r\n",
        "Caja 2= 5 galletas de chocolate y 5 galletas de coco \\\\\r\n",
        "Vamos a tomar una galleta sin ver y queremos obtener lo siguiente."
      ]
    },
    {
      "cell_type": "markdown",
      "metadata": {
        "id": "WBmIEz5nkdLt"
      },
      "source": [
        "$P(Caja1 | Chocolate)$ \\\\\r\n",
        "La probabilidad que la galleta obtenida sea de la caja1 si sabemos que es de chocolate"
      ]
    },
    {
      "cell_type": "markdown",
      "metadata": {
        "id": "a7bSl0BtiY80"
      },
      "source": [
        "\r\n",
        "$P(Caja1 | Chocolate)=\\frac{P(Chocolate|Caja1)P(Caja1)}{P(Chocolate)}$ \\\\\r\n",
        "$P(Chocolate | Caja1)=1$ \\\\\r\n",
        "$ P(Chocolate|Caja2)=1/2$ \\\\\r\n",
        "La siguientes probas son 1/2 porque la galleta la tomamos de una caja sin ver \\\\\r\n",
        "$P(Caja1)=1/2$ \\\\\r\n",
        "$P(Caja2)=1/2$ \\\\\r\n",
        "$P(Chocolate)=P(Chocolate|Caja1)P(Caja1) + P(Chocolate|Caja2)P(Caja2)=1*1/2+1/2*1/2=3/4$\r\n"
      ]
    },
    {
      "cell_type": "markdown",
      "metadata": {
        "id": "iQO9r2t8lCNO"
      },
      "source": [
        "$P(Caja1 | Chocolate)=\\frac{1*1/2}{3/4}=4/6=2/3$\r\n",
        "\r\n",
        "---"
      ]
    },
    {
      "cell_type": "markdown",
      "metadata": {
        "id": "HjIV-jpQHWJ1"
      },
      "source": [
        "### Terminología Bayes\r\n",
        "$$P(A|B)=\\frac{P(B|A)P(A)}{P(B)}$$\r\n",
        "$P(A)$ priori. \\\\\r\n",
        "$P(B|A)$ likelihood. \\\\\r\n",
        "$P(B)$ marginal. \\\\\r\n",
        "$P(A|B)$ posteriori. \\\\"
      ]
    },
    {
      "cell_type": "code",
      "metadata": {
        "id": "TNV5XM1unmy9"
      },
      "source": [
        "import numpy as np"
      ],
      "execution_count": null,
      "outputs": []
    },
    {
      "cell_type": "code",
      "metadata": {
        "id": "y5AOMXLYlte7"
      },
      "source": [
        "# Ejemplo de las galletas usando python\r\n",
        "# priors = Probabilidad de que la galleta venga de cada caja\r\n",
        "# likelihoods = Probabilidad de que la galleta sea de chocolate si la saque de cada caja\r\n",
        "priors = [1/2, 1/2]\r\n",
        "likelihoods = [1, 1/2]\r\n",
        "#np.multiply(priors, likelihoods)=[1*1/2, 1/2*1/2]\r\n",
        "def bayes(priors, likelihoods):\r\n",
        "\r\n",
        "  #La marginal la calculamos como P(Chocolate|Caja1)P(Caja1) + P(Chocolate|Caja2)P(Caja2)\r\n",
        "  #Es decir sumando el producto de priors por likelihoods emtrada por entrada\r\n",
        "  marginal = sum(np.multiply(priors, likelihoods))\r\n",
        "\r\n",
        "  #El numerador es una lista de la forma P(Chocolate|Cajai)P(Cajai) que usaremos para\r\n",
        "  # calcular P(Cajai|Chocolate), aunque nosotros tenemos interés específicamente en\r\n",
        "  # P(Caja1|Chocolate)\r\n",
        "  num = np.multiply(priors, likelihoods)\r\n",
        "  posteriori = np.divide(num, marginal)\r\n",
        "  return posteriori"
      ],
      "execution_count": null,
      "outputs": []
    },
    {
      "cell_type": "code",
      "metadata": {
        "colab": {
          "base_uri": "https://localhost:8080/"
        },
        "id": "MEF-0V_jpDo-",
        "outputId": "08c4e022-2321-412b-fd90-34f11964fd63"
      },
      "source": [
        "# resultado = [proba de que sea caja 1 dado chocolate, proba de que sea caja 2 dado chocolate]\r\n",
        "bayes(priors, likelihoods)"
      ],
      "execution_count": null,
      "outputs": [
        {
          "output_type": "execute_result",
          "data": {
            "text/plain": [
              "array([0.66666667, 0.33333333])"
            ]
          },
          "metadata": {
            "tags": []
          },
          "execution_count": 8
        }
      ]
    },
    {
      "cell_type": "markdown",
      "metadata": {
        "id": "FD1G1qz7YdLS"
      },
      "source": [
        "### Bayes en medicina\r\n",
        "Primero veamos terminología que no será de utilidad un poco más adelante"
      ]
    },
    {
      "cell_type": "markdown",
      "metadata": {
        "id": "jxeMq1WjqaGy"
      },
      "source": [
        "![Sensib/especif](https://pbs.twimg.com/media/EV-bnxjUwAcZW_B.jpg)"
      ]
    },
    {
      "cell_type": "markdown",
      "metadata": {
        "id": "PQIkoTQrtJiA"
      },
      "source": [
        "Supongamos que tenemos una prueba que nos ayuda a identificar si una persona ha consumido o no alguna droga específica. \\\\\r\n",
        "Sabiendo lo de arriba vamos a crear una función que nos ayude a calcular la probabilidad de que una persona consumiera drogas, dado que la prueba sale positiva, elgunas probabilidades importantes son:\r\n",
        "\r\n",
        "---\r\n",
        "$P(usuario | positivo)=\\frac{P(positivo|usuario)P(usuario)}{P(postivo)}$ \\\\\r\n",
        "$P(positivo)$ = P(positivo | usuario)*P(usuario) + P(positivo | no\\; usuario)*P(no\\; usuario) \\\\\r\n",
        "$P(positivo | usuario)=$ Sensibilidad \\\\\r\n",
        "$P(positivo | no\\; usuario)=1-P(negativo | no\\;usuario)$ \\\\\r\n",
        "$P(negativo | no\\;usuario)$ =Especificidad \\\\\r\n",
        "$P(usuario)=$ Prevalencia\r\n"
      ]
    },
    {
      "cell_type": "code",
      "metadata": {
        "id": "ZoNWOsuhtSdy"
      },
      "source": [
        "# sensibilidad = porcentaje reales positivos\r\n",
        "# especifidad = porcentaje de reales negativos\r\n",
        "# prevalencia = que tan probable es que una persona sea usario al hacerse la prueba\r\n",
        "\r\n",
        "# El verbose será usado solo para ver si queremos o no el print al correr la función\r\n",
        "# Flag va a ser qué probabilidad de que sea usuario mínima queremos para afirmar que es usuario(print)\r\n",
        "def proba_usuario(flag = 0.5, sensibilidad = 0.99, especificidad = 0.99, preval = 0.01, verbose = False):\r\n",
        "  \r\n",
        "  prob_usuario = preval\r\n",
        "  prob_no_usuario = 1 - preval\r\n",
        "\r\n",
        "  prob_positivo_usuario = sensibilidad\r\n",
        "  prob_negativo_no_usuario = especificidad\r\n",
        "  prob_negativo_usuario = 1-sensibilidad\r\n",
        "  prob_positivo_no_usuario = 1-especificidad\r\n",
        "\r\n",
        "  #Aplicamos probabilidad global (desglosamos la proba como arriba)\r\n",
        "  prob_positivo = prob_positivo_usuario*prob_usuario + prob_positivo_no_usuario*prob_no_usuario\r\n",
        "\r\n",
        "  #Es la parte de arriba de la fracción que escribimos arriba en el teorema de bayes\r\n",
        "  num = prob_positivo_usuario*prob_usuario\r\n",
        "  proba_posteriori = num/prob_positivo\r\n",
        "\r\n",
        "  if verbose:\r\n",
        "    if proba_posteriori>flag:\r\n",
        "      print('Si es usuario! Agarralo')\r\n",
        "    else:\r\n",
        "      print('Dale calma fue falso positivo')\r\n",
        "  return proba_posteriori"
      ],
      "execution_count": null,
      "outputs": []
    },
    {
      "cell_type": "code",
      "metadata": {
        "id": "Kxi_IBjlxkCh"
      },
      "source": [
        "import matplotlib.pyplot as plt"
      ],
      "execution_count": null,
      "outputs": []
    },
    {
      "cell_type": "code",
      "metadata": {
        "colab": {
          "base_uri": "https://localhost:8080/",
          "height": 334
        },
        "id": "n2HU9nWlxv0o",
        "outputId": "3c196beb-9839-4204-d572-589f664590f9"
      },
      "source": [
        "# Vamos a ver qué pasa si dejamos la sensibilidad y especificidad fija y variamos la prevalencia\r\n",
        "# Lo que estamos viendo en el eje y es: si la prueba sale positiva entonces qué tan probable es que\r\n",
        "# efectivamente sea usuario\r\n",
        "#Recordando que la prevalencia es la probabilidad de que la persona sea usuario antes de ver los resultados\r\n",
        "# de la prueba\r\n",
        "probabilidades = []\r\n",
        "prevalencias = []\r\n",
        "for preva in [i*.001 for i in range(1,201,2)]:\r\n",
        "    prevalencias.append(preva*100)\r\n",
        "    p=proba_usuario(sensibilidad = 0.95, especificidad = 0.95, preval = preva)\r\n",
        "    probabilidades.append(p)\r\n",
        "plt.figure(figsize=(10, 5),facecolor='w')\r\n",
        "plt.plot(prevalencias, probabilidades)\r\n",
        "plt.xlabel('Porcentaje de la población que es usuario')\r\n",
        "plt.ylabel('Probabilidad de usuario | prueba positiva')\r\n",
        "plt.show()"
      ],
      "execution_count": null,
      "outputs": [
        {
          "output_type": "display_data",
          "data": {
            "image/png": "[encoded data removed]",
            "text/plain": [
              "<Figure size 720x360 with 1 Axes>"
            ]
          },
          "metadata": {
            "tags": []
          }
        }
      ]
    },
    {
      "cell_type": "code",
      "metadata": {
        "colab": {
          "base_uri": "https://localhost:8080/",
          "height": 334
        },
        "id": "sBD6T0G8zXGD",
        "outputId": "a71b7926-e025-41ef-e5bf-e62a63ea71fe"
      },
      "source": [
        "# Igual que arriba pero ahora fijamos la especificidad y prevalencia y variamos la sensibilidad\r\n",
        "# Recordando que las sensibilidad es que si alguien es usuario qué tan probable es que la prueba salga positivo\r\n",
        "probabilidades = []\r\n",
        "sensibilidades = []\r\n",
        "for sensib in [i*.001+0.95 for i in range(1,51,2)]:\r\n",
        "    sensibilidades.append(sensib*100)\r\n",
        "    p=proba_usuario(sensibilidad = sensib, especificidad = 0.95, preval = 0.01)\r\n",
        "    probabilidades.append(p)\r\n",
        "plt.figure(figsize=(10, 5),facecolor='w')\r\n",
        "plt.plot(sensibilidades, probabilidades)\r\n",
        "plt.xlabel('Sensibilidad')\r\n",
        "plt.ylabel('Probabilidad de usuario | prueba positiva')\r\n",
        "plt.show()"
      ],
      "execution_count": null,
      "outputs": [
        {
          "output_type": "display_data",
          "data": {
            "image/png": "[encoded data removed]",
            "text/plain": [
              "<Figure size 720x360 with 1 Axes>"
            ]
          },
          "metadata": {
            "tags": []
          }
        }
      ]
    },
    {
      "cell_type": "code",
      "metadata": {
        "colab": {
          "base_uri": "https://localhost:8080/",
          "height": 334
        },
        "id": "CxW4d15C048l",
        "outputId": "89541001-b8b4-449b-c935-d0dce34b9794"
      },
      "source": [
        "# Igual que arriba pero ahora fijamos la sensibilidad y prevalencia y variamos la especificidad\r\n",
        "# Recordando que las especificidad es que si alguien no es usuario qué tan probable es que la prueba salga negativo\r\n",
        "probabilidades = []\r\n",
        "especificidades = []\r\n",
        "for especif in [i*.001+0.95 for i in range(1,51,2)]:\r\n",
        "    especificidades.append(especif*100)\r\n",
        "    p=proba_usuario(sensibilidad = 0.95, especificidad = especif, preval = 0.01)\r\n",
        "    probabilidades.append(p)\r\n",
        "plt.figure(figsize=(10, 5),facecolor='w')\r\n",
        "plt.plot(especificidades, probabilidades)\r\n",
        "plt.xlabel('Especificidad')\r\n",
        "plt.ylabel('Probabilidad de usuario | prueba positiva')\r\n",
        "plt.show()"
      ],
      "execution_count": null,
      "outputs": [
        {
          "output_type": "display_data",
          "data": {
            "image/png": "[encoded data removed]",
            "text/plain": [
              "<Figure size 720x360 with 1 Axes>"
            ]
          },
          "metadata": {
            "tags": []
          }
        }
      ]
    },
    {
      "cell_type": "code",
      "metadata": {
        "colab": {
          "base_uri": "https://localhost:8080/"
        },
        "id": "r38ldtfr2VhP",
        "outputId": "9cb672c7-3402-438a-8760-25d960eac1d8"
      },
      "source": [
        "# Hicimos una prueba y salió positivo, entonces según lo parámetros iniciales hay\r\n",
        "# un 8% de probabilidad que sea usuario\r\n",
        "p1 = proba_usuario(sensibilidad=0.95, especificidad=0.95, preval=0.005, verbose=True)\r\n",
        "p1"
      ],
      "execution_count": null,
      "outputs": [
        {
          "output_type": "stream",
          "text": [
            "Dale calma fue falso positivo\n"
          ],
          "name": "stdout"
        },
        {
          "output_type": "execute_result",
          "data": {
            "text/plain": [
              "0.08715596330275223"
            ]
          },
          "metadata": {
            "tags": []
          },
          "execution_count": 40
        }
      ]
    },
    {
      "cell_type": "code",
      "metadata": {
        "colab": {
          "base_uri": "https://localhost:8080/"
        },
        "id": "7h4eMaad5If_",
        "outputId": "6f083890-e818-4a3d-a5c6-a0c06874f39c"
      },
      "source": [
        "# Se hace segunda prueba sabiendo que nuestra prevalencia ahora cambia porque\r\n",
        "# ya tuvimos una prueba positiva entonces la probabilidad de que sea usuario antes\r\n",
        "# de la segunda prueba es de 8% y no de .5% como era inicialmente.\r\n",
        "# Si esta segunda prueba salió postivo entonces hay un 64% de probabilidad que sea usuario\r\n",
        "p2 = proba_usuario(sensibilidad = 0.95, especificidad=0.95, preval=p1, verbose=True)\r\n",
        "p2"
      ],
      "execution_count": null,
      "outputs": [
        {
          "output_type": "stream",
          "text": [
            "Si es usuario! Agarralo\n"
          ],
          "name": "stdout"
        },
        {
          "output_type": "execute_result",
          "data": {
            "text/plain": [
              "0.6446428571428567"
            ]
          },
          "metadata": {
            "tags": []
          },
          "execution_count": 41
        }
      ]
    },
    {
      "cell_type": "markdown",
      "metadata": {
        "id": "cdKeWzJkSX7P"
      },
      "source": [
        "Estadística bayesiana en la vida real trata de estimar algún parámetro con una distribución conocida usando muestras observadas para actualizar la distribución de dicho parámetro"
      ]
    },
    {
      "cell_type": "markdown",
      "metadata": {
        "id": "BpLLgSPT4_mC"
      },
      "source": [
        "Suppose we have just launched an online store that sells fidget spinners, and we are trying to estimate what percentage of visitors to our online store will make a purchase.\r\n",
        "\r\n",
        "Prior to seeing any traffic or purchase data, we have no idea what to expect so we will start with the assumption that all percentages are equally likely. This is called a uniform prior because we can use a uniform distribution to represent the fact that every rate has an equal chance of being the actual rate of purchase. To set this up in Python, we are going to use Numpy to generate a uniform distribution from 100,000 random draws of numbers between 0 and 1."
      ]
    },
    {
      "cell_type": "markdown",
      "metadata": {
        "id": "wyqk1eMJxcTV"
      },
      "source": [
        "Binomial(n,p) \\\\\r\n",
        "En este caso nuestro parámetro que estimaremos es p, ya depende del programmador saber qué siginifica, en caso de la binomial es la probabilidad de que un usuario compr"
      ]
    },
    {
      "cell_type": "code",
      "metadata": {
        "id": "h0TQmniQSWzy"
      },
      "source": [
        "import pandas as pd"
      ],
      "execution_count": null,
      "outputs": []
    },
    {
      "cell_type": "code",
      "metadata": {
        "id": "EH75zKa5lLOA"
      },
      "source": [
        "n_draws=100000\r\n",
        "prior = pd.Series(np.random.uniform(0,1, size=n_draws))"
      ],
      "execution_count": null,
      "outputs": []
    },
    {
      "cell_type": "code",
      "metadata": {
        "colab": {
          "base_uri": "https://localhost:8080/",
          "height": 320
        },
        "id": "c9570p7-99FV",
        "outputId": "8ee81e67-9f7c-4e6b-b6ad-53090356c6cc"
      },
      "source": [
        "plt.figure(figsize=(10,5),facecolor='w')\r\n",
        "prior.hist();"
      ],
      "execution_count": null,
      "outputs": [
        {
          "output_type": "display_data",
          "data": {
            "image/png": "[encoded data removed]",
            "text/plain": [
              "<Figure size 720x360 with 1 Axes>"
            ]
          },
          "metadata": {
            "tags": []
          }
        }
      ]
    },
    {
      "cell_type": "code",
      "metadata": {
        "id": "1-MNYnjo-6jE"
      },
      "source": [
        "def generative_model(param):\r\n",
        "  # 50 bots\r\n",
        "  result = np.random.binomial(50, param)\r\n",
        "  return result"
      ],
      "execution_count": null,
      "outputs": []
    },
    {
      "cell_type": "code",
      "metadata": {
        "id": "FPVUDQCY_SJO"
      },
      "source": [
        "compraron = list()\r\n",
        "for p in prior:\r\n",
        "  compraron.append(generative_model(p))"
      ],
      "execution_count": null,
      "outputs": []
    },
    {
      "cell_type": "code",
      "metadata": {
        "colab": {
          "base_uri": "https://localhost:8080/"
        },
        "id": "ygOlLo7gBv58",
        "outputId": "7838aeee-5a34-4694-db7b-a2358e5b66c7"
      },
      "source": [
        "prior[:10]"
      ],
      "execution_count": null,
      "outputs": [
        {
          "output_type": "execute_result",
          "data": {
            "text/plain": [
              "0    0.268480\n",
              "1    0.006106\n",
              "2    0.455809\n",
              "3    0.432499\n",
              "4    0.341297\n",
              "5    0.889194\n",
              "6    0.994681\n",
              "7    0.686530\n",
              "8    0.628469\n",
              "9    0.767906\n",
              "dtype: float64"
            ]
          },
          "metadata": {
            "tags": []
          },
          "execution_count": 90
        }
      ]
    },
    {
      "cell_type": "code",
      "metadata": {
        "colab": {
          "base_uri": "https://localhost:8080/"
        },
        "id": "74pTyVYi_ei4",
        "outputId": "97b7326b-b8a9-46ff-b2b4-9ba8b7fdc56a"
      },
      "source": [
        "compraron[:10]"
      ],
      "execution_count": null,
      "outputs": [
        {
          "output_type": "execute_result",
          "data": {
            "text/plain": [
              "[12, 0, 24, 19, 16, 43, 50, 38, 29, 37]"
            ]
          },
          "metadata": {
            "tags": []
          },
          "execution_count": 89
        }
      ]
    },
    {
      "cell_type": "code",
      "metadata": {
        "id": "AH9b4LtU_s3Q"
      },
      "source": [
        "# Observe que un día de 50 personas que visitaron compraron 10\r\n",
        "posterior = prior[list(map(lambda x: x == 10, compraron))]"
      ],
      "execution_count": null,
      "outputs": []
    },
    {
      "cell_type": "code",
      "metadata": {
        "colab": {
          "base_uri": "https://localhost:8080/"
        },
        "id": "5MPr7JLeC_7-",
        "outputId": "ea1ec144-a22c-442c-a54a-aafffa4521dd"
      },
      "source": [
        "compraron[90]"
      ],
      "execution_count": null,
      "outputs": [
        {
          "output_type": "execute_result",
          "data": {
            "text/plain": [
              "10"
            ]
          },
          "metadata": {
            "tags": []
          },
          "execution_count": 97
        }
      ]
    },
    {
      "cell_type": "code",
      "metadata": {
        "colab": {
          "base_uri": "https://localhost:8080/"
        },
        "id": "ieLdx7YaC3h-",
        "outputId": "02958a98-a075-43f8-e4d0-98ffe42d3864"
      },
      "source": [
        "posterior"
      ],
      "execution_count": null,
      "outputs": [
        {
          "output_type": "execute_result",
          "data": {
            "text/plain": [
              "90       0.258085\n",
              "106      0.169216\n",
              "153      0.132937\n",
              "174      0.130564\n",
              "221      0.218454\n",
              "           ...   \n",
              "99811    0.185137\n",
              "99846    0.070634\n",
              "99913    0.195729\n",
              "99981    0.180270\n",
              "99995    0.213744\n",
              "Length: 2006, dtype: float64"
            ]
          },
          "metadata": {
            "tags": []
          },
          "execution_count": 96
        }
      ]
    },
    {
      "cell_type": "code",
      "metadata": {
        "colab": {
          "base_uri": "https://localhost:8080/",
          "height": 320
        },
        "id": "O_uzsnFEDFeu",
        "outputId": "0ec2a5d6-2a39-416b-d7ad-47015b05b526"
      },
      "source": [
        "plt.figure(figsize=(10,5),facecolor='w')\r\n",
        "posterior.hist();"
      ],
      "execution_count": null,
      "outputs": [
        {
          "output_type": "display_data",
          "data": {
            "image/png": "[encoded data removed]",
            "text/plain": [
              "<Figure size 720x360 with 1 Axes>"
            ]
          },
          "metadata": {
            "tags": []
          }
        }
      ]
    },
    {
      "cell_type": "markdown",
      "metadata": {
        "id": "aOi8D_9R_TiN"
      },
      "source": [
        "Una caseta cómo se comporta el número de conductores que pasan por ahí en una hora. Esto se comporta como una Poisson(lambda). \\\\\r\n",
        "Sabemos porque hemos estado estudiando durante un año los datos con eso podemos modelas nuestra distribución inicial de nuestro lambda"
      ]
    },
    {
      "cell_type": "code",
      "metadata": {
        "id": "cJRiWCcxDUCP"
      },
      "source": [
        "n_draws = 100000\r\n",
        "prior = pd.Series(np.random.normal(15, 2, size=n_draws))"
      ],
      "execution_count": null,
      "outputs": []
    },
    {
      "cell_type": "code",
      "metadata": {
        "colab": {
          "base_uri": "https://localhost:8080/",
          "height": 320
        },
        "id": "jUjFOi6gAa5d",
        "outputId": "ba1014bb-59d7-4b85-e572-b6b2f0664e23"
      },
      "source": [
        "plt.figure(figsize=(10,5),facecolor='w')\r\n",
        "prior.hist()\r\n",
        "plt.show()"
      ],
      "execution_count": null,
      "outputs": [
        {
          "output_type": "display_data",
          "data": {
            "image/png": "[encoded data removed]",
            "text/plain": [
              "<Figure size 720x360 with 1 Axes>"
            ]
          },
          "metadata": {
            "tags": []
          }
        }
      ]
    },
    {
      "cell_type": "code",
      "metadata": {
        "colab": {
          "base_uri": "https://localhost:8080/"
        },
        "id": "77Fcgf8pAdJq",
        "outputId": "d308e216-6df9-4119-e706-f6909065cb3c"
      },
      "source": [
        "prior.head()"
      ],
      "execution_count": null,
      "outputs": [
        {
          "output_type": "execute_result",
          "data": {
            "text/plain": [
              "0    16.271175\n",
              "1    11.895726\n",
              "2    15.835444\n",
              "3    15.691350\n",
              "4    13.570281\n",
              "dtype: float64"
            ]
          },
          "metadata": {
            "tags": []
          },
          "execution_count": 7
        }
      ]
    },
    {
      "cell_type": "code",
      "metadata": {
        "colab": {
          "base_uri": "https://localhost:8080/"
        },
        "id": "-H0f_shQAxFj",
        "outputId": "8094b215-b227-4e27-aeba-4936d6995195"
      },
      "source": [
        "prior.mean()"
      ],
      "execution_count": null,
      "outputs": [
        {
          "output_type": "execute_result",
          "data": {
            "text/plain": [
              "14.992784629712586"
            ]
          },
          "metadata": {
            "tags": []
          },
          "execution_count": 8
        }
      ]
    },
    {
      "cell_type": "code",
      "metadata": {
        "id": "YS0pS8cFAzbu"
      },
      "source": [
        "def generative_model(param):\r\n",
        "  result = np.random.poisson(param)\r\n",
        "  return result"
      ],
      "execution_count": null,
      "outputs": []
    },
    {
      "cell_type": "code",
      "metadata": {
        "id": "OAwzGKmsBHjS"
      },
      "source": [
        "pasaron = list()\r\n",
        "for p in prior:\r\n",
        "  pasaron.append(generative_model(p))"
      ],
      "execution_count": null,
      "outputs": []
    },
    {
      "cell_type": "code",
      "metadata": {
        "colab": {
          "base_uri": "https://localhost:8080/"
        },
        "id": "Loi0c_kpI6w4",
        "outputId": "6dfcb5fe-8816-450d-c1a4-71426bbcb685"
      },
      "source": [
        "generative_model(prior.head(1).values)"
      ],
      "execution_count": null,
      "outputs": [
        {
          "output_type": "execute_result",
          "data": {
            "text/plain": [
              "array([15])"
            ]
          },
          "metadata": {
            "tags": []
          },
          "execution_count": 36
        }
      ]
    },
    {
      "cell_type": "code",
      "metadata": {
        "colab": {
          "base_uri": "https://localhost:8080/"
        },
        "id": "FV3MefNoIutq",
        "outputId": "ea7d2704-36f6-4373-a196-c58dc87d6412"
      },
      "source": [
        "prior.head(1)"
      ],
      "execution_count": null,
      "outputs": [
        {
          "output_type": "execute_result",
          "data": {
            "text/plain": [
              "0    16.271175\n",
              "dtype: float64"
            ]
          },
          "metadata": {
            "tags": []
          },
          "execution_count": 31
        }
      ]
    },
    {
      "cell_type": "code",
      "metadata": {
        "colab": {
          "base_uri": "https://localhost:8080/"
        },
        "id": "ABw35ErzBMPr",
        "outputId": "b5ceb7e3-6ce6-410b-8a35-aa9290152529"
      },
      "source": [
        "pasaron[60:70]"
      ],
      "execution_count": null,
      "outputs": [
        {
          "output_type": "execute_result",
          "data": {
            "text/plain": [
              "[19, 8, 14, 14, 18, 16, 20, 14, 15, 11]"
            ]
          },
          "metadata": {
            "tags": []
          },
          "execution_count": 18
        }
      ]
    },
    {
      "cell_type": "code",
      "metadata": {
        "id": "Uu6vcPLDBRqH"
      },
      "source": [
        "# Un día observado pasaron en promedio 8 automóviles\r\n",
        "posterior = prior[list(map(lambda x: x == 8, pasaron))]"
      ],
      "execution_count": null,
      "outputs": []
    },
    {
      "cell_type": "code",
      "metadata": {
        "colab": {
          "base_uri": "https://localhost:8080/"
        },
        "id": "c8ehW89BEKhy",
        "outputId": "c97afe49-09c5-467f-a087-0f5afa32d370"
      },
      "source": [
        "np.random.poisson(13.483,10)"
      ],
      "execution_count": null,
      "outputs": [
        {
          "output_type": "execute_result",
          "data": {
            "text/plain": [
              "array([11,  7,  7, 14, 13, 12, 13, 20, 14, 14])"
            ]
          },
          "metadata": {
            "tags": []
          },
          "execution_count": 23
        }
      ]
    },
    {
      "cell_type": "code",
      "metadata": {
        "colab": {
          "base_uri": "https://localhost:8080/"
        },
        "id": "7IFnaK9JBZpi",
        "outputId": "72d5ed33-7064-4a55-ca00-bd6461e1059b"
      },
      "source": [
        "posterior"
      ],
      "execution_count": null,
      "outputs": [
        {
          "output_type": "execute_result",
          "data": {
            "text/plain": [
              "61       13.176253\n",
              "169      13.277685\n",
              "191      13.679026\n",
              "282      14.562981\n",
              "309      13.331229\n",
              "           ...    \n",
              "99802    17.095977\n",
              "99819    13.078977\n",
              "99837    13.261959\n",
              "99953    13.537263\n",
              "99963    10.174656\n",
              "Length: 2619, dtype: float64"
            ]
          },
          "metadata": {
            "tags": []
          },
          "execution_count": 37
        }
      ]
    },
    {
      "cell_type": "code",
      "metadata": {
        "colab": {
          "base_uri": "https://localhost:8080/",
          "height": 320
        },
        "id": "3LrKUwvgBdme",
        "outputId": "06a6f3e6-cc72-4245-9b55-2d97b383ffcf"
      },
      "source": [
        "plt.figure(figsize=(10,5),facecolor='w')\r\n",
        "posterior.hist();"
      ],
      "execution_count": null,
      "outputs": [
        {
          "output_type": "display_data",
          "data": {
            "image/png": "[encoded data removed]",
            "text/plain": [
              "<Figure size 720x360 with 1 Axes>"
            ]
          },
          "metadata": {
            "tags": []
          }
        }
      ]
    },
    {
      "cell_type": "code",
      "metadata": {
        "colab": {
          "base_uri": "https://localhost:8080/"
        },
        "id": "A7qkqiKRBjIO",
        "outputId": "0a8f1e05-ac27-4fa0-ff90-e4338caa7c16"
      },
      "source": [
        "posterior.describe()"
      ],
      "execution_count": null,
      "outputs": [
        {
          "output_type": "execute_result",
          "data": {
            "text/plain": [
              "count    2619.000000\n",
              "mean       13.412460\n",
              "std         1.804796\n",
              "min         7.482631\n",
              "25%        12.192331\n",
              "50%        13.406187\n",
              "75%        14.615621\n",
              "max        19.726859\n",
              "dtype: float64"
            ]
          },
          "metadata": {
            "tags": []
          },
          "execution_count": 17
        }
      ]
    },
    {
      "cell_type": "code",
      "metadata": {
        "colab": {
          "base_uri": "https://localhost:8080/"
        },
        "id": "f2e-IqR_CGEH",
        "outputId": "7f2311a7-85af-4896-fb3c-ae7689da5230"
      },
      "source": [
        "# Intervalo de confianza del 50%\r\n",
        "print('(',posterior.quantile(0.25), ', ', posterior.quantile(0.75), ')')"
      ],
      "execution_count": null,
      "outputs": [
        {
          "output_type": "stream",
          "text": [
            "( 12.192330617937975 ,  14.615620920525732 )\n"
          ],
          "name": "stdout"
        }
      ]
    },
    {
      "cell_type": "code",
      "metadata": {
        "colab": {
          "base_uri": "https://localhost:8080/"
        },
        "id": "TYEGdwcoE6gJ",
        "outputId": "7d08f8a5-4058-4c02-8a30-888c1cfdd6e9"
      },
      "source": [
        "# Intervalo de confianza del 95%\r\n",
        "print('(',posterior.quantile(0.025), ', ', posterior.quantile(0.975), ')')"
      ],
      "execution_count": null,
      "outputs": [
        {
          "output_type": "stream",
          "text": [
            "( 9.952480553411736 ,  16.957432095135275 )\n"
          ],
          "name": "stdout"
        }
      ]
    },
    {
      "cell_type": "code",
      "metadata": {
        "colab": {
          "base_uri": "https://localhost:8080/"
        },
        "id": "jEYM4JaZFQRP",
        "outputId": "e2918347-5fd4-4d82-c649-638da2f988bf"
      },
      "source": [
        "# Intervalo de confianza del 95%\r\n",
        "print('( -inf, ', posterior.quantile(0.95), ')')"
      ],
      "execution_count": null,
      "outputs": [
        {
          "output_type": "stream",
          "text": [
            "( -inf,  16.404468590415583 )\n"
          ],
          "name": "stdout"
        }
      ]
    },
    {
      "cell_type": "code",
      "metadata": {
        "colab": {
          "base_uri": "https://localhost:8080/"
        },
        "id": "nidTg7vLG-Hw",
        "outputId": "8571384f-3ed8-4090-8fce-0cb4b33166f5"
      },
      "source": [
        "# Intervalo de confianza del 95%\r\n",
        "print('(',posterior.mean()-2*posterior.std(), ', ', posterior.mean()+2*posterior.std(), ')')"
      ],
      "execution_count": null,
      "outputs": [
        {
          "output_type": "stream",
          "text": [
            "( 9.802868410670456 ,  17.02205121642572 )\n"
          ],
          "name": "stdout"
        }
      ]
    },
    {
      "cell_type": "markdown",
      "metadata": {
        "id": "KvF7cNnnEqXA"
      },
      "source": [
        ""
      ]
    }
  ]
}