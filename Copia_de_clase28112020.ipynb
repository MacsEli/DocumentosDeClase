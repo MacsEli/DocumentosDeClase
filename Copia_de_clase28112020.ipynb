{
  "nbformat": 4,
  "nbformat_minor": 0,
  "metadata": {
    "colab": {
      "name": "Copia de clase28112020.ipynb",
      "provenance": [],
      "include_colab_link": true
    },
    "kernelspec": {
      "name": "python3",
      "display_name": "Python 3"
    }
  },
  "cells": [
    {
      "cell_type": "markdown",
      "metadata": {
        "id": "view-in-github",
        "colab_type": "text"
      },
      "source": [
        "<a href=\"https://colab.research.google.com/github/MacsEli/DocumentosDeClase/blob/main/Copia_de_clase28112020.ipynb\" target=\"_parent\"><img src=\"https://colab.research.google.com/assets/colab-badge.svg\" alt=\"Open In Colab\"/></a>"
      ]
    },
    {
      "cell_type": "code",
      "metadata": {
        "colab": {
          "base_uri": "https://localhost:8080/"
        },
        "id": "zeVVXvTcjIVi",
        "outputId": "5aacee01-60fc-4821-9952-0ee9ec647b57"
      },
      "source": [
        "from google.colab import drive\n",
        "drive.mount('/content/drive')"
      ],
      "execution_count": null,
      "outputs": [
        {
          "output_type": "stream",
          "text": [
            "Mounted at /content/drive\n"
          ],
          "name": "stdout"
        }
      ]
    },
    {
      "cell_type": "code",
      "metadata": {
        "id": "920N1zn2lyLK"
      },
      "source": [
        "import pandas as pd\n",
        "import numpy as np"
      ],
      "execution_count": null,
      "outputs": []
    },
    {
      "cell_type": "code",
      "metadata": {
        "id": "-dWmrskVl1ZD"
      },
      "source": [
        "df_01 = pd.read_csv('/content/drive/MyDrive/Databases/Week 9 - Saturday/denue/denue_inegi_01_.csv')"
      ],
      "execution_count": null,
      "outputs": []
    },
    {
      "cell_type": "code",
      "metadata": {
        "colab": {
          "base_uri": "https://localhost:8080/"
        },
        "id": "7H8XKg_xmE2M",
        "outputId": "3d3ac5a6-2157-4042-826e-59a7336d4d68"
      },
      "source": [
        "import chardet #detectar el charcater encoding\n",
        "with open ('/content/drive/MyDrive/Databases/Week 9 - Saturday/denue/denue_inegi_01_.csv','rb') as rawdata:\n",
        "  result = chardet.detect(rawdata.read(10000))\n",
        "  \n",
        "print(result)\n"
      ],
      "execution_count": null,
      "outputs": [
        {
          "output_type": "stream",
          "text": [
            "{'encoding': 'ISO-8859-1', 'confidence': 0.73, 'language': ''}\n"
          ],
          "name": "stdout"
        }
      ]
    },
    {
      "cell_type": "code",
      "metadata": {
        "id": "yhwxygjAmNRi"
      },
      "source": [
        "df_01 = pd.read_csv('/content/drive/MyDrive/Databases/Week 9 - Saturday/denue/denue_inegi_01_.csv', \n",
        "                    encoding = 'ISO-8859-1')"
      ],
      "execution_count": null,
      "outputs": []
    },
    {
      "cell_type": "code",
      "metadata": {
        "colab": {
          "base_uri": "https://localhost:8080/"
        },
        "id": "-L-FU9cZm3mv",
        "outputId": "e7e1839c-da6c-4dc0-f92a-2b0329193051"
      },
      "source": [
        "df_02 = pd.read_csv('/content/drive/MyDrive/Databases/Week 9 - Saturday/denue/denue_inegi_02_.csv', \n",
        "                    encoding = 'ISO-8859-1')\n",
        "df_03 = pd.read_csv('/content/drive/MyDrive/Databases/Week 9 - Saturday/denue/denue_inegi_03_.csv', \n",
        "                    encoding = 'ISO-8859-1')\n",
        "df_04 = pd.read_csv('/content/drive/MyDrive/Databases/Week 9 - Saturday/denue/denue_inegi_04_.csv', \n",
        "                    encoding = 'ISO-8859-1')\n",
        "df_05 = pd.read_csv('/content/drive/MyDrive/Databases/Week 9 - Saturday/denue/denue_inegi_05_.csv', \n",
        "                    encoding = 'ISO-8859-1')"
      ],
      "execution_count": null,
      "outputs": [
        {
          "output_type": "stream",
          "text": [
            "/usr/local/lib/python3.6/dist-packages/IPython/core/interactiveshell.py:2718: DtypeWarning: Columns (34) have mixed types.Specify dtype option on import or set low_memory=False.\n",
            "  interactivity=interactivity, compiler=compiler, result=result)\n"
          ],
          "name": "stderr"
        }
      ]
    },
    {
      "cell_type": "code",
      "metadata": {
        "colab": {
          "base_uri": "https://localhost:8080/",
          "height": 185
        },
        "id": "Xj_2Wiggm3zL",
        "outputId": "43991261-d249-4028-c8f1-7f8f4e24baca"
      },
      "source": [
        "df_01.head(1)"
      ],
      "execution_count": null,
      "outputs": [
        {
          "output_type": "execute_result",
          "data": {
            "text/html": [
              "<div>\n",
              "<style scoped>\n",
              "    .dataframe tbody tr th:only-of-type {\n",
              "        vertical-align: middle;\n",
              "    }\n",
              "\n",
              "    .dataframe tbody tr th {\n",
              "        vertical-align: top;\n",
              "    }\n",
              "\n",
              "    .dataframe thead th {\n",
              "        text-align: right;\n",
              "    }\n",
              "</style>\n",
              "<table border=\"1\" class=\"dataframe\">\n",
              "  <thead>\n",
              "    <tr style=\"text-align: right;\">\n",
              "      <th></th>\n",
              "      <th>per_ocupacion</th>\n",
              "      <th>nom_estab</th>\n",
              "      <th>raz_social</th>\n",
              "      <th>codigo_act</th>\n",
              "      <th>nombre_act</th>\n",
              "      <th>tipo_vial</th>\n",
              "      <th>numero_ext</th>\n",
              "      <th>nom_vial</th>\n",
              "      <th>tipo_v_e_1</th>\n",
              "      <th>nom_v_e_1</th>\n",
              "      <th>tipo_v_e_2</th>\n",
              "      <th>nom_v_e_2</th>\n",
              "      <th>tipo_v_e_3</th>\n",
              "      <th>id</th>\n",
              "      <th>nom_v_e_3</th>\n",
              "      <th>letra_ext</th>\n",
              "      <th>edificio</th>\n",
              "      <th>edificio_e</th>\n",
              "      <th>numero_int</th>\n",
              "      <th>letra_int</th>\n",
              "      <th>tipo_asent</th>\n",
              "      <th>nomb_asent</th>\n",
              "      <th>tipoCenCom</th>\n",
              "      <th>nom_CenCom</th>\n",
              "      <th>num_local</th>\n",
              "      <th>cod_postal</th>\n",
              "      <th>cve_ent</th>\n",
              "      <th>entidad</th>\n",
              "      <th>cve_mun</th>\n",
              "      <th>municipio</th>\n",
              "      <th>cve_loc</th>\n",
              "      <th>localidad</th>\n",
              "      <th>ageb</th>\n",
              "      <th>manzana</th>\n",
              "      <th>telefono</th>\n",
              "      <th>correoelec</th>\n",
              "      <th>www</th>\n",
              "      <th>tipoUniEco</th>\n",
              "      <th>latitud</th>\n",
              "      <th>longitud</th>\n",
              "      <th>fecha_alta</th>\n",
              "    </tr>\n",
              "  </thead>\n",
              "  <tbody>\n",
              "    <tr>\n",
              "      <th>0</th>\n",
              "      <td>31 a 50 personas</td>\n",
              "      <td>AGROPECUARIA CHARCOS DE QUEZADA</td>\n",
              "      <td>AGROPECUARIA CHARCOS DE QUEZADA SOCIEDAD DE PR...</td>\n",
              "      <td>115119</td>\n",
              "      <td>Otros servicios relacionados con la agricultura</td>\n",
              "      <td>AVENIDA</td>\n",
              "      <td>602.0</td>\n",
              "      <td>UNIVERSIDAD</td>\n",
              "      <td>CALLE</td>\n",
              "      <td>BENJAMÍN MÉNDEZ</td>\n",
              "      <td>CALLE</td>\n",
              "      <td>SILVESTRE GÓMEZ</td>\n",
              "      <td>CALLE</td>\n",
              "      <td>6862345</td>\n",
              "      <td>MARÍA DEL CARMEN MARTÍN DEL CAMPO</td>\n",
              "      <td>NaN</td>\n",
              "      <td>NaN</td>\n",
              "      <td>NaN</td>\n",
              "      <td>16.0</td>\n",
              "      <td>NaN</td>\n",
              "      <td>COLONIA</td>\n",
              "      <td>UNIDAD GANADERA</td>\n",
              "      <td>NaN</td>\n",
              "      <td>NaN</td>\n",
              "      <td>NaN</td>\n",
              "      <td>20130.0</td>\n",
              "      <td>1</td>\n",
              "      <td>AGUASCALIENTES</td>\n",
              "      <td>1</td>\n",
              "      <td>Aguascalientes</td>\n",
              "      <td>1</td>\n",
              "      <td>Aguascalientes</td>\n",
              "      <td>233</td>\n",
              "      <td>9</td>\n",
              "      <td>4.492854e+09</td>\n",
              "      <td>MICHAEL.GALINDO@UGASA.COM.MX</td>\n",
              "      <td>NaN</td>\n",
              "      <td>Fijo</td>\n",
              "      <td>21.906992</td>\n",
              "      <td>-102.309807</td>\n",
              "      <td>2019-04</td>\n",
              "    </tr>\n",
              "  </tbody>\n",
              "</table>\n",
              "</div>"
            ],
            "text/plain": [
              "      per_ocupacion                        nom_estab  ...    longitud  fecha_alta\n",
              "0  31 a 50 personas  AGROPECUARIA CHARCOS DE QUEZADA  ... -102.309807     2019-04\n",
              "\n",
              "[1 rows x 41 columns]"
            ]
          },
          "metadata": {
            "tags": []
          },
          "execution_count": 8
        }
      ]
    },
    {
      "cell_type": "code",
      "metadata": {
        "id": "bD7todD2nBa3",
        "colab": {
          "base_uri": "https://localhost:8080/",
          "height": 250
        },
        "outputId": "4d607ad6-0679-4e43-dc73-b7a175c952b5"
      },
      "source": [
        "df_02.head(2)"
      ],
      "execution_count": null,
      "outputs": [
        {
          "output_type": "execute_result",
          "data": {
            "text/html": [
              "<div>\n",
              "<style scoped>\n",
              "    .dataframe tbody tr th:only-of-type {\n",
              "        vertical-align: middle;\n",
              "    }\n",
              "\n",
              "    .dataframe tbody tr th {\n",
              "        vertical-align: top;\n",
              "    }\n",
              "\n",
              "    .dataframe thead th {\n",
              "        text-align: right;\n",
              "    }\n",
              "</style>\n",
              "<table border=\"1\" class=\"dataframe\">\n",
              "  <thead>\n",
              "    <tr style=\"text-align: right;\">\n",
              "      <th></th>\n",
              "      <th>id</th>\n",
              "      <th>nom_estab</th>\n",
              "      <th>raz_social</th>\n",
              "      <th>codigo_act</th>\n",
              "      <th>nombre_act</th>\n",
              "      <th>per_ocu</th>\n",
              "      <th>tipo_vial</th>\n",
              "      <th>nom_vial</th>\n",
              "      <th>tipo_v_e_1</th>\n",
              "      <th>nom_v_e_1</th>\n",
              "      <th>tipo_v_e_2</th>\n",
              "      <th>nom_v_e_2</th>\n",
              "      <th>tipo_v_e_3</th>\n",
              "      <th>nom_v_e_3</th>\n",
              "      <th>numero_ext</th>\n",
              "      <th>letra_ext</th>\n",
              "      <th>edificio</th>\n",
              "      <th>edificio_e</th>\n",
              "      <th>numero_int</th>\n",
              "      <th>letra_int</th>\n",
              "      <th>tipo_asent</th>\n",
              "      <th>nomb_asent</th>\n",
              "      <th>tipoCenCom</th>\n",
              "      <th>nom_CenCom</th>\n",
              "      <th>num_local</th>\n",
              "      <th>cod_postal</th>\n",
              "      <th>cve_ent</th>\n",
              "      <th>entidad</th>\n",
              "      <th>cve_mun</th>\n",
              "      <th>municipio</th>\n",
              "      <th>cve_loc</th>\n",
              "      <th>localidad</th>\n",
              "      <th>ageb</th>\n",
              "      <th>manzana</th>\n",
              "      <th>telefono</th>\n",
              "      <th>correoelec</th>\n",
              "      <th>www</th>\n",
              "      <th>tipoUniEco</th>\n",
              "      <th>latitud</th>\n",
              "      <th>longitud</th>\n",
              "      <th>fecha_alta</th>\n",
              "    </tr>\n",
              "  </thead>\n",
              "  <tbody>\n",
              "    <tr>\n",
              "      <th>0</th>\n",
              "      <td>8320509</td>\n",
              "      <td>ABOS ABS PROMOTORA DE MEXICO SADE CV</td>\n",
              "      <td>NaN</td>\n",
              "      <td>115111</td>\n",
              "      <td>Servicios de fumigación agrícola</td>\n",
              "      <td>0 a 5 personas</td>\n",
              "      <td>CALLE</td>\n",
              "      <td>NINGUNO</td>\n",
              "      <td>CALLE</td>\n",
              "      <td>NINGUNO</td>\n",
              "      <td>CALLE</td>\n",
              "      <td>NINGUNO</td>\n",
              "      <td>OTRO (ESPECIFIQUE)</td>\n",
              "      <td>SIN REFERENCIA</td>\n",
              "      <td>NaN</td>\n",
              "      <td>SN</td>\n",
              "      <td>NaN</td>\n",
              "      <td>NaN</td>\n",
              "      <td>NaN</td>\n",
              "      <td>NaN</td>\n",
              "      <td>EJIDO</td>\n",
              "      <td>HERMOSILLO</td>\n",
              "      <td>NaN</td>\n",
              "      <td>NaN</td>\n",
              "      <td>NaN</td>\n",
              "      <td>21840.0</td>\n",
              "      <td>2</td>\n",
              "      <td>BAJA CALIFORNIA</td>\n",
              "      <td>2</td>\n",
              "      <td>Mexicali</td>\n",
              "      <td>192</td>\n",
              "      <td>Ejido Hermosillo</td>\n",
              "      <td>8423</td>\n",
              "      <td>3.0</td>\n",
              "      <td>667603750.0</td>\n",
              "      <td>NaN</td>\n",
              "      <td>NaN</td>\n",
              "      <td>Fijo</td>\n",
              "      <td>32.523387</td>\n",
              "      <td>-114.917778</td>\n",
              "      <td>2019-11</td>\n",
              "    </tr>\n",
              "    <tr>\n",
              "      <th>1</th>\n",
              "      <td>8838283</td>\n",
              "      <td>ABULONES CULTIVADOS</td>\n",
              "      <td>ABULONES CULTIVADOS S DE RL DE CV</td>\n",
              "      <td>112512</td>\n",
              "      <td>Piscicultura y otra acuicultura, excepto camar...</td>\n",
              "      <td>6 a 10 personas</td>\n",
              "      <td>CALLE</td>\n",
              "      <td>TENIENTE AZUETA</td>\n",
              "      <td>OTRO (ESPECIFIQUE)</td>\n",
              "      <td>NINGUNO</td>\n",
              "      <td>OTRO (ESPECIFIQUE)</td>\n",
              "      <td>NINGUNO</td>\n",
              "      <td>OTRO (ESPECIFIQUE)</td>\n",
              "      <td>NINGUNO</td>\n",
              "      <td>187.0</td>\n",
              "      <td>B</td>\n",
              "      <td>NaN</td>\n",
              "      <td>NaN</td>\n",
              "      <td>NaN</td>\n",
              "      <td>NaN</td>\n",
              "      <td>COLONIA</td>\n",
              "      <td>ZONA CENTRO</td>\n",
              "      <td>NaN</td>\n",
              "      <td>NaN</td>\n",
              "      <td>NaN</td>\n",
              "      <td>22800.0</td>\n",
              "      <td>2</td>\n",
              "      <td>BAJA CALIFORNIA</td>\n",
              "      <td>1</td>\n",
              "      <td>Ensenada</td>\n",
              "      <td>1</td>\n",
              "      <td>Ensenada</td>\n",
              "      <td>0632</td>\n",
              "      <td>16.0</td>\n",
              "      <td>NaN</td>\n",
              "      <td>MANAGER@ABULONES.COM</td>\n",
              "      <td>WWW.ABULONES.COM</td>\n",
              "      <td>Fijo</td>\n",
              "      <td>31.860877</td>\n",
              "      <td>-116.627010</td>\n",
              "      <td>2019-11</td>\n",
              "    </tr>\n",
              "  </tbody>\n",
              "</table>\n",
              "</div>"
            ],
            "text/plain": [
              "        id                             nom_estab  ...    longitud  fecha_alta\n",
              "0  8320509  ABOS ABS PROMOTORA DE MEXICO SADE CV  ... -114.917778     2019-11\n",
              "1  8838283                   ABULONES CULTIVADOS  ... -116.627010     2019-11\n",
              "\n",
              "[2 rows x 41 columns]"
            ]
          },
          "metadata": {
            "tags": []
          },
          "execution_count": 9
        }
      ]
    }
  ]
}