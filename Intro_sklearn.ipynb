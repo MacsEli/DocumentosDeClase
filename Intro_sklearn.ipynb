{
  "nbformat": 4,
  "nbformat_minor": 0,
  "metadata": {
    "colab": {
      "name": "Intro_sklearn.ipynb",
      "provenance": [],
      "include_colab_link": true
    },
    "kernelspec": {
      "name": "python3",
      "display_name": "Python 3"
    }
  },
  "cells": [
    {
      "cell_type": "markdown",
      "metadata": {
        "id": "view-in-github",
        "colab_type": "text"
      },
      "source": [
        "<a href=\"https://colab.research.google.com/github/MacsEli/DocumentosDeClase/blob/main/Intro_sklearn.ipynb\" target=\"_parent\"><img src=\"https://colab.research.google.com/assets/colab-badge.svg\" alt=\"Open In Colab\"/></a>"
      ]
    },
    {
      "cell_type": "markdown",
      "metadata": {
        "id": "CgqtRpCoTH5w"
      },
      "source": [
        "### Datasets"
      ]
    },
    {
      "cell_type": "code",
      "metadata": {
        "id": "SeObXwUETW9P"
      },
      "source": [
        "from sklearn import datasets\r\n",
        "import matplotlib.pyplot as plt\r\n"
      ],
      "execution_count": null,
      "outputs": []
    },
    {
      "cell_type": "code",
      "metadata": {
        "id": "Ixh3Yb1mUWft"
      },
      "source": [
        "boston = datasets.load_boston()"
      ],
      "execution_count": null,
      "outputs": []
    },
    {
      "cell_type": "code",
      "metadata": {
        "colab": {
          "base_uri": "https://localhost:8080/"
        },
        "id": "v3-CmO_-UWBx",
        "outputId": "391d5734-9e53-47c1-87f1-505a3796d881"
      },
      "source": [
        "boston.keys()"
      ],
      "execution_count": null,
      "outputs": [
        {
          "output_type": "execute_result",
          "data": {
            "text/plain": [
              "dict_keys(['data', 'target', 'feature_names', 'DESCR', 'filename'])"
            ]
          },
          "metadata": {
            "tags": []
          },
          "execution_count": 5
        }
      ]
    },
    {
      "cell_type": "code",
      "metadata": {
        "colab": {
          "base_uri": "https://localhost:8080/"
        },
        "id": "7qMfi786UjBP",
        "outputId": "8a66ccc9-90be-4e7c-8133-b39a7620875d"
      },
      "source": [
        "print(boston.DESCR)"
      ],
      "execution_count": null,
      "outputs": [
        {
          "output_type": "stream",
          "text": [
            ".. _boston_dataset:\n",
            "\n",
            "Boston house prices dataset\n",
            "---------------------------\n",
            "\n",
            "**Data Set Characteristics:**  \n",
            "\n",
            "    :Number of Instances: 506 \n",
            "\n",
            "    :Number of Attributes: 13 numeric/categorical predictive. Median Value (attribute 14) is usually the target.\n",
            "\n",
            "    :Attribute Information (in order):\n",
            "        - CRIM     per capita crime rate by town\n",
            "        - ZN       proportion of residential land zoned for lots over 25,000 sq.ft.\n",
            "        - INDUS    proportion of non-retail business acres per town\n",
            "        - CHAS     Charles River dummy variable (= 1 if tract bounds river; 0 otherwise)\n",
            "        - NOX      nitric oxides concentration (parts per 10 million)\n",
            "        - RM       average number of rooms per dwelling\n",
            "        - AGE      proportion of owner-occupied units built prior to 1940\n",
            "        - DIS      weighted distances to five Boston employment centres\n",
            "        - RAD      index of accessibility to radial highways\n",
            "        - TAX      full-value property-tax rate per $10,000\n",
            "        - PTRATIO  pupil-teacher ratio by town\n",
            "        - B        1000(Bk - 0.63)^2 where Bk is the proportion of blacks by town\n",
            "        - LSTAT    % lower status of the population\n",
            "        - MEDV     Median value of owner-occupied homes in $1000's\n",
            "\n",
            "    :Missing Attribute Values: None\n",
            "\n",
            "    :Creator: Harrison, D. and Rubinfeld, D.L.\n",
            "\n",
            "This is a copy of UCI ML housing dataset.\n",
            "https://archive.ics.uci.edu/ml/machine-learning-databases/housing/\n",
            "\n",
            "\n",
            "This dataset was taken from the StatLib library which is maintained at Carnegie Mellon University.\n",
            "\n",
            "The Boston house-price data of Harrison, D. and Rubinfeld, D.L. 'Hedonic\n",
            "prices and the demand for clean air', J. Environ. Economics & Management,\n",
            "vol.5, 81-102, 1978.   Used in Belsley, Kuh & Welsch, 'Regression diagnostics\n",
            "...', Wiley, 1980.   N.B. Various transformations are used in the table on\n",
            "pages 244-261 of the latter.\n",
            "\n",
            "The Boston house-price data has been used in many machine learning papers that address regression\n",
            "problems.   \n",
            "     \n",
            ".. topic:: References\n",
            "\n",
            "   - Belsley, Kuh & Welsch, 'Regression diagnostics: Identifying Influential Data and Sources of Collinearity', Wiley, 1980. 244-261.\n",
            "   - Quinlan,R. (1993). Combining Instance-Based and Model-Based Learning. In Proceedings on the Tenth International Conference of Machine Learning, 236-243, University of Massachusetts, Amherst. Morgan Kaufmann.\n",
            "\n"
          ],
          "name": "stdout"
        }
      ]
    },
    {
      "cell_type": "code",
      "metadata": {
        "colab": {
          "base_uri": "https://localhost:8080/"
        },
        "id": "ybHGbWqxUi9Z",
        "outputId": "f0886688-50c8-4621-9cf0-2a48dc8c85d3"
      },
      "source": [
        "boston.data"
      ],
      "execution_count": null,
      "outputs": [
        {
          "output_type": "execute_result",
          "data": {
            "text/plain": [
              "array([[6.3200e-03, 1.8000e+01, 2.3100e+00, ..., 1.5300e+01, 3.9690e+02,\n",
              "        4.9800e+00],\n",
              "       [2.7310e-02, 0.0000e+00, 7.0700e+00, ..., 1.7800e+01, 3.9690e+02,\n",
              "        9.1400e+00],\n",
              "       [2.7290e-02, 0.0000e+00, 7.0700e+00, ..., 1.7800e+01, 3.9283e+02,\n",
              "        4.0300e+00],\n",
              "       ...,\n",
              "       [6.0760e-02, 0.0000e+00, 1.1930e+01, ..., 2.1000e+01, 3.9690e+02,\n",
              "        5.6400e+00],\n",
              "       [1.0959e-01, 0.0000e+00, 1.1930e+01, ..., 2.1000e+01, 3.9345e+02,\n",
              "        6.4800e+00],\n",
              "       [4.7410e-02, 0.0000e+00, 1.1930e+01, ..., 2.1000e+01, 3.9690e+02,\n",
              "        7.8800e+00]])"
            ]
          },
          "metadata": {
            "tags": []
          },
          "execution_count": 8
        }
      ]
    },
    {
      "cell_type": "code",
      "metadata": {
        "id": "28BN0r_MUi6K"
      },
      "source": [
        "a,b = datasets.make_circles()"
      ],
      "execution_count": null,
      "outputs": []
    },
    {
      "cell_type": "code",
      "metadata": {
        "colab": {
          "base_uri": "https://localhost:8080/"
        },
        "id": "7gsVqjECUi2L",
        "outputId": "4edbb78e-265b-47f2-dd12-a1448aba781b"
      },
      "source": [
        "b"
      ],
      "execution_count": null,
      "outputs": [
        {
          "output_type": "execute_result",
          "data": {
            "text/plain": [
              "array([0, 1, 1, 1, 0, 0, 0, 0, 1, 1, 1, 0, 1, 1, 0, 0, 1, 0, 1, 0, 1, 0,\n",
              "       0, 0, 0, 0, 1, 1, 1, 1, 0, 0, 0, 0, 1, 1, 0, 0, 1, 0, 0, 0, 0, 0,\n",
              "       0, 1, 1, 1, 0, 1, 1, 1, 1, 1, 0, 1, 1, 0, 1, 1, 0, 0, 0, 1, 1, 1,\n",
              "       1, 1, 0, 1, 0, 1, 0, 1, 1, 1, 0, 0, 1, 1, 0, 1, 0, 1, 0, 1, 0, 0,\n",
              "       0, 1, 1, 0, 1, 0, 1, 0, 0, 0, 1, 0])"
            ]
          },
          "metadata": {
            "tags": []
          },
          "execution_count": 10
        }
      ]
    },
    {
      "cell_type": "code",
      "metadata": {
        "colab": {
          "base_uri": "https://localhost:8080/"
        },
        "id": "6SdN7AlqUiyY",
        "outputId": "ef2ac442-dfa3-4e17-ea5a-c61a03f46392"
      },
      "source": [
        "a[:10]"
      ],
      "execution_count": null,
      "outputs": [
        {
          "output_type": "execute_result",
          "data": {
            "text/plain": [
              "array([[ 0.72896863, -0.68454711],\n",
              "       [-0.6472136 , -0.4702282 ],\n",
              "       [-0.34062343, -0.72386164],\n",
              "       [-0.70104534, -0.38540294],\n",
              "       [-0.9921147 ,  0.12533323],\n",
              "       [ 0.30901699, -0.95105652],\n",
              "       [ 0.72896863,  0.68454711],\n",
              "       [ 0.92977649, -0.36812455],\n",
              "       [-0.70104534,  0.38540294],\n",
              "       [ 0.70104534, -0.38540294]])"
            ]
          },
          "metadata": {
            "tags": []
          },
          "execution_count": 11
        }
      ]
    },
    {
      "cell_type": "code",
      "metadata": {
        "id": "lfjdI5BPUis4"
      },
      "source": [
        "data = list(zip(*a))\r\n",
        "x = data[0]\r\n",
        "y = data[1] "
      ],
      "execution_count": null,
      "outputs": []
    },
    {
      "cell_type": "code",
      "metadata": {
        "colab": {
          "base_uri": "https://localhost:8080/",
          "height": 282
        },
        "id": "7WsVPYRBUiew",
        "outputId": "959d0c52-1a56-4031-bde1-dc3f379377d9"
      },
      "source": [
        "plt.figure(facecolor='w')\r\n",
        "plt.scatter(x, y, c=b)"
      ],
      "execution_count": null,
      "outputs": [
        {
          "output_type": "execute_result",
          "data": {
            "text/plain": [
              "<matplotlib.collections.PathCollection at 0x7faaa20ae4a8>"
            ]
          },
          "metadata": {
            "tags": []
          },
          "execution_count": 18
        },
        {
          "output_type": "display_data",
          "data": {
            "image/png": "[encoded data removed]",
            "text/plain": [
              "<Figure size 432x288 with 1 Axes>"
            ]
          },
          "metadata": {
            "tags": []
          }
        }
      ]
    },
    {
      "cell_type": "code",
      "metadata": {
        "id": "0TgVQ0SUWDAg"
      },
      "source": [
        "imagenes = datasets.load_digits()"
      ],
      "execution_count": null,
      "outputs": []
    },
    {
      "cell_type": "code",
      "metadata": {
        "colab": {
          "base_uri": "https://localhost:8080/"
        },
        "id": "o4NycVuvWC8-",
        "outputId": "efd464ac-9c9e-4ae9-8fa8-7f8dcfac97c9"
      },
      "source": [
        "imagenes.keys()"
      ],
      "execution_count": null,
      "outputs": [
        {
          "output_type": "execute_result",
          "data": {
            "text/plain": [
              "dict_keys(['data', 'target', 'target_names', 'images', 'DESCR'])"
            ]
          },
          "metadata": {
            "tags": []
          },
          "execution_count": 20
        }
      ]
    },
    {
      "cell_type": "code",
      "metadata": {
        "colab": {
          "base_uri": "https://localhost:8080/"
        },
        "id": "ftlOS8SAWCrS",
        "outputId": "7a23ed01-f74e-47f3-a5e1-4861c4244b8a"
      },
      "source": [
        "imagenes.images[0]"
      ],
      "execution_count": null,
      "outputs": [
        {
          "output_type": "execute_result",
          "data": {
            "text/plain": [
              "array([[ 0.,  0.,  5., 13.,  9.,  1.,  0.,  0.],\n",
              "       [ 0.,  0., 13., 15., 10., 15.,  5.,  0.],\n",
              "       [ 0.,  3., 15.,  2.,  0., 11.,  8.,  0.],\n",
              "       [ 0.,  4., 12.,  0.,  0.,  8.,  8.,  0.],\n",
              "       [ 0.,  5.,  8.,  0.,  0.,  9.,  8.,  0.],\n",
              "       [ 0.,  4., 11.,  0.,  1., 12.,  7.,  0.],\n",
              "       [ 0.,  2., 14.,  5., 10., 12.,  0.,  0.],\n",
              "       [ 0.,  0.,  6., 13., 10.,  0.,  0.,  0.]])"
            ]
          },
          "metadata": {
            "tags": []
          },
          "execution_count": 22
        }
      ]
    },
    {
      "cell_type": "code",
      "metadata": {
        "colab": {
          "base_uri": "https://localhost:8080/"
        },
        "id": "zciridrZWSLN",
        "outputId": "f10a27c4-709a-4082-a71b-1c89e5a9e00f"
      },
      "source": [
        "plano=imagenes.data[0]\r\n",
        "plano"
      ],
      "execution_count": null,
      "outputs": [
        {
          "output_type": "execute_result",
          "data": {
            "text/plain": [
              "array([ 0.,  0.,  5., 13.,  9.,  1.,  0.,  0.,  0.,  0., 13., 15., 10.,\n",
              "       15.,  5.,  0.,  0.,  3., 15.,  2.,  0., 11.,  8.,  0.,  0.,  4.,\n",
              "       12.,  0.,  0.,  8.,  8.,  0.,  0.,  5.,  8.,  0.,  0.,  9.,  8.,\n",
              "        0.,  0.,  4., 11.,  0.,  1., 12.,  7.,  0.,  0.,  2., 14.,  5.,\n",
              "       10., 12.,  0.,  0.,  0.,  0.,  6., 13., 10.,  0.,  0.,  0.])"
            ]
          },
          "metadata": {
            "tags": []
          },
          "execution_count": 27
        }
      ]
    },
    {
      "cell_type": "code",
      "metadata": {
        "id": "SjNgyjGXWZyg"
      },
      "source": [
        "import numpy as np"
      ],
      "execution_count": null,
      "outputs": []
    },
    {
      "cell_type": "code",
      "metadata": {
        "colab": {
          "base_uri": "https://localhost:8080/"
        },
        "id": "P3WnmCiKYkU0",
        "outputId": "5e71b8b0-e2ee-4a26-82ac-d850ab84928b"
      },
      "source": [
        "plano_numpy = np.array(plano)\r\n",
        "plano_numpy.reshape( 8, 8)"
      ],
      "execution_count": null,
      "outputs": [
        {
          "output_type": "execute_result",
          "data": {
            "text/plain": [
              "array([[ 0.,  0.,  5., 13.,  9.,  1.,  0.,  0.],\n",
              "       [ 0.,  0., 13., 15., 10., 15.,  5.,  0.],\n",
              "       [ 0.,  3., 15.,  2.,  0., 11.,  8.,  0.],\n",
              "       [ 0.,  4., 12.,  0.,  0.,  8.,  8.,  0.],\n",
              "       [ 0.,  5.,  8.,  0.,  0.,  9.,  8.,  0.],\n",
              "       [ 0.,  4., 11.,  0.,  1., 12.,  7.,  0.],\n",
              "       [ 0.,  2., 14.,  5., 10., 12.,  0.,  0.],\n",
              "       [ 0.,  0.,  6., 13., 10.,  0.,  0.,  0.]])"
            ]
          },
          "metadata": {
            "tags": []
          },
          "execution_count": 35
        }
      ]
    },
    {
      "cell_type": "code",
      "metadata": {
        "colab": {
          "base_uri": "https://localhost:8080/"
        },
        "id": "YxtdTWPIXkRr",
        "outputId": "c9adcd96-7eac-4419-d358-9dd7d9ee9154"
      },
      "source": [
        "imagenes.target[1]"
      ],
      "execution_count": null,
      "outputs": [
        {
          "output_type": "execute_result",
          "data": {
            "text/plain": [
              "1"
            ]
          },
          "metadata": {
            "tags": []
          },
          "execution_count": 33
        }
      ]
    },
    {
      "cell_type": "code",
      "metadata": {
        "colab": {
          "base_uri": "https://localhost:8080/",
          "height": 282
        },
        "id": "xe4GKVRsWtK1",
        "outputId": "71939ac6-6c3d-44b8-f326-bcf9a2d4b449"
      },
      "source": [
        "plt.imshow(imagenes.images[1])"
      ],
      "execution_count": null,
      "outputs": [
        {
          "output_type": "execute_result",
          "data": {
            "text/plain": [
              "<matplotlib.image.AxesImage at 0x7faaa1c9f7f0>"
            ]
          },
          "metadata": {
            "tags": []
          },
          "execution_count": 32
        },
        {
          "output_type": "display_data",
          "data": {
            "image/png": "[encoded data removed]",
            "text/plain": [
              "<Figure size 432x288 with 1 Axes>"
            ]
          },
          "metadata": {
            "tags": [],
            "needs_background": "light"
          }
        }
      ]
    },
    {
      "cell_type": "markdown",
      "metadata": {
        "id": "cZHHGyySTFVc"
      },
      "source": [
        "### Preprocessing"
      ]
    },
    {
      "cell_type": "code",
      "metadata": {
        "id": "a22x5h2sTLJi"
      },
      "source": [
        "from sklearn import preprocessing\r\n",
        "import pandas as pd"
      ],
      "execution_count": null,
      "outputs": []
    },
    {
      "cell_type": "code",
      "metadata": {
        "id": "rXvjg5z-ZUbY"
      },
      "source": [
        "data = datasets.load_boston()"
      ],
      "execution_count": null,
      "outputs": []
    },
    {
      "cell_type": "code",
      "metadata": {
        "id": "2r8oPVxfZsRf"
      },
      "source": [
        "x = data.data\r\n",
        "y = data.target"
      ],
      "execution_count": null,
      "outputs": []
    },
    {
      "cell_type": "code",
      "metadata": {
        "id": "ROvyL8hNZsM8"
      },
      "source": [
        "x = pd.DataFrame(x)"
      ],
      "execution_count": null,
      "outputs": []
    },
    {
      "cell_type": "code",
      "metadata": {
        "colab": {
          "base_uri": "https://localhost:8080/",
          "height": 204
        },
        "id": "EfxeR3ylZsHr",
        "outputId": "dfdeb489-bf67-4769-fad0-afbd120fa8a7"
      },
      "source": [
        "x.head()"
      ],
      "execution_count": null,
      "outputs": [
        {
          "output_type": "execute_result",
          "data": {
            "text/html": [
              "<div>\n",
              "<style scoped>\n",
              "    .dataframe tbody tr th:only-of-type {\n",
              "        vertical-align: middle;\n",
              "    }\n",
              "\n",
              "    .dataframe tbody tr th {\n",
              "        vertical-align: top;\n",
              "    }\n",
              "\n",
              "    .dataframe thead th {\n",
              "        text-align: right;\n",
              "    }\n",
              "</style>\n",
              "<table border=\"1\" class=\"dataframe\">\n",
              "  <thead>\n",
              "    <tr style=\"text-align: right;\">\n",
              "      <th></th>\n",
              "      <th>0</th>\n",
              "      <th>1</th>\n",
              "      <th>2</th>\n",
              "      <th>3</th>\n",
              "      <th>4</th>\n",
              "      <th>5</th>\n",
              "      <th>6</th>\n",
              "      <th>7</th>\n",
              "      <th>8</th>\n",
              "      <th>9</th>\n",
              "      <th>10</th>\n",
              "      <th>11</th>\n",
              "      <th>12</th>\n",
              "    </tr>\n",
              "  </thead>\n",
              "  <tbody>\n",
              "    <tr>\n",
              "      <th>0</th>\n",
              "      <td>0.00632</td>\n",
              "      <td>18.0</td>\n",
              "      <td>2.31</td>\n",
              "      <td>0.0</td>\n",
              "      <td>0.538</td>\n",
              "      <td>6.575</td>\n",
              "      <td>65.2</td>\n",
              "      <td>4.0900</td>\n",
              "      <td>1.0</td>\n",
              "      <td>296.0</td>\n",
              "      <td>15.3</td>\n",
              "      <td>396.90</td>\n",
              "      <td>4.98</td>\n",
              "    </tr>\n",
              "    <tr>\n",
              "      <th>1</th>\n",
              "      <td>0.02731</td>\n",
              "      <td>0.0</td>\n",
              "      <td>7.07</td>\n",
              "      <td>0.0</td>\n",
              "      <td>0.469</td>\n",
              "      <td>6.421</td>\n",
              "      <td>78.9</td>\n",
              "      <td>4.9671</td>\n",
              "      <td>2.0</td>\n",
              "      <td>242.0</td>\n",
              "      <td>17.8</td>\n",
              "      <td>396.90</td>\n",
              "      <td>9.14</td>\n",
              "    </tr>\n",
              "    <tr>\n",
              "      <th>2</th>\n",
              "      <td>0.02729</td>\n",
              "      <td>0.0</td>\n",
              "      <td>7.07</td>\n",
              "      <td>0.0</td>\n",
              "      <td>0.469</td>\n",
              "      <td>7.185</td>\n",
              "      <td>61.1</td>\n",
              "      <td>4.9671</td>\n",
              "      <td>2.0</td>\n",
              "      <td>242.0</td>\n",
              "      <td>17.8</td>\n",
              "      <td>392.83</td>\n",
              "      <td>4.03</td>\n",
              "    </tr>\n",
              "    <tr>\n",
              "      <th>3</th>\n",
              "      <td>0.03237</td>\n",
              "      <td>0.0</td>\n",
              "      <td>2.18</td>\n",
              "      <td>0.0</td>\n",
              "      <td>0.458</td>\n",
              "      <td>6.998</td>\n",
              "      <td>45.8</td>\n",
              "      <td>6.0622</td>\n",
              "      <td>3.0</td>\n",
              "      <td>222.0</td>\n",
              "      <td>18.7</td>\n",
              "      <td>394.63</td>\n",
              "      <td>2.94</td>\n",
              "    </tr>\n",
              "    <tr>\n",
              "      <th>4</th>\n",
              "      <td>0.06905</td>\n",
              "      <td>0.0</td>\n",
              "      <td>2.18</td>\n",
              "      <td>0.0</td>\n",
              "      <td>0.458</td>\n",
              "      <td>7.147</td>\n",
              "      <td>54.2</td>\n",
              "      <td>6.0622</td>\n",
              "      <td>3.0</td>\n",
              "      <td>222.0</td>\n",
              "      <td>18.7</td>\n",
              "      <td>396.90</td>\n",
              "      <td>5.33</td>\n",
              "    </tr>\n",
              "  </tbody>\n",
              "</table>\n",
              "</div>"
            ],
            "text/plain": [
              "        0     1     2    3      4   ...   8      9     10      11    12\n",
              "0  0.00632  18.0  2.31  0.0  0.538  ...  1.0  296.0  15.3  396.90  4.98\n",
              "1  0.02731   0.0  7.07  0.0  0.469  ...  2.0  242.0  17.8  396.90  9.14\n",
              "2  0.02729   0.0  7.07  0.0  0.469  ...  2.0  242.0  17.8  392.83  4.03\n",
              "3  0.03237   0.0  2.18  0.0  0.458  ...  3.0  222.0  18.7  394.63  2.94\n",
              "4  0.06905   0.0  2.18  0.0  0.458  ...  3.0  222.0  18.7  396.90  5.33\n",
              "\n",
              "[5 rows x 13 columns]"
            ]
          },
          "metadata": {
            "tags": []
          },
          "execution_count": 43
        }
      ]
    },
    {
      "cell_type": "code",
      "metadata": {
        "colab": {
          "base_uri": "https://localhost:8080/"
        },
        "id": "cikiLBtFaExk",
        "outputId": "eb88647d-3966-458f-e6a5-f98ef6fc0a93"
      },
      "source": [
        "# x-u/s\r\n",
        "scaler = preprocessing.StandardScaler()\r\n",
        "scaler.fit(x)"
      ],
      "execution_count": null,
      "outputs": [
        {
          "output_type": "execute_result",
          "data": {
            "text/plain": [
              "StandardScaler(copy=True, with_mean=True, with_std=True)"
            ]
          },
          "metadata": {
            "tags": []
          },
          "execution_count": 45
        }
      ]
    },
    {
      "cell_type": "code",
      "metadata": {
        "colab": {
          "base_uri": "https://localhost:8080/",
          "height": 402
        },
        "id": "-CupJE95aEs8",
        "outputId": "134c0e7e-3c2a-401e-bc06-b2581c6d2aa9"
      },
      "source": [
        "pd.DataFrame(scaler.transform(x)).describe()"
      ],
      "execution_count": null,
      "outputs": [
        {
          "output_type": "execute_result",
          "data": {
            "text/html": [
              "<div>\n",
              "<style scoped>\n",
              "    .dataframe tbody tr th:only-of-type {\n",
              "        vertical-align: middle;\n",
              "    }\n",
              "\n",
              "    .dataframe tbody tr th {\n",
              "        vertical-align: top;\n",
              "    }\n",
              "\n",
              "    .dataframe thead th {\n",
              "        text-align: right;\n",
              "    }\n",
              "</style>\n",
              "<table border=\"1\" class=\"dataframe\">\n",
              "  <thead>\n",
              "    <tr style=\"text-align: right;\">\n",
              "      <th></th>\n",
              "      <th>0</th>\n",
              "      <th>1</th>\n",
              "      <th>2</th>\n",
              "      <th>3</th>\n",
              "      <th>4</th>\n",
              "      <th>5</th>\n",
              "      <th>6</th>\n",
              "      <th>7</th>\n",
              "      <th>8</th>\n",
              "      <th>9</th>\n",
              "      <th>10</th>\n",
              "      <th>11</th>\n",
              "      <th>12</th>\n",
              "    </tr>\n",
              "  </thead>\n",
              "  <tbody>\n",
              "    <tr>\n",
              "      <th>count</th>\n",
              "      <td>5.060000e+02</td>\n",
              "      <td>5.060000e+02</td>\n",
              "      <td>5.060000e+02</td>\n",
              "      <td>5.060000e+02</td>\n",
              "      <td>5.060000e+02</td>\n",
              "      <td>5.060000e+02</td>\n",
              "      <td>5.060000e+02</td>\n",
              "      <td>5.060000e+02</td>\n",
              "      <td>5.060000e+02</td>\n",
              "      <td>5.060000e+02</td>\n",
              "      <td>5.060000e+02</td>\n",
              "      <td>5.060000e+02</td>\n",
              "      <td>5.060000e+02</td>\n",
              "    </tr>\n",
              "    <tr>\n",
              "      <th>mean</th>\n",
              "      <td>-8.787437e-17</td>\n",
              "      <td>-6.343191e-16</td>\n",
              "      <td>-2.682911e-15</td>\n",
              "      <td>4.701992e-16</td>\n",
              "      <td>2.490322e-15</td>\n",
              "      <td>-1.145230e-14</td>\n",
              "      <td>-1.407855e-15</td>\n",
              "      <td>9.210902e-16</td>\n",
              "      <td>5.441409e-16</td>\n",
              "      <td>-8.868619e-16</td>\n",
              "      <td>-9.205636e-15</td>\n",
              "      <td>8.163101e-15</td>\n",
              "      <td>-3.370163e-16</td>\n",
              "    </tr>\n",
              "    <tr>\n",
              "      <th>std</th>\n",
              "      <td>1.000990e+00</td>\n",
              "      <td>1.000990e+00</td>\n",
              "      <td>1.000990e+00</td>\n",
              "      <td>1.000990e+00</td>\n",
              "      <td>1.000990e+00</td>\n",
              "      <td>1.000990e+00</td>\n",
              "      <td>1.000990e+00</td>\n",
              "      <td>1.000990e+00</td>\n",
              "      <td>1.000990e+00</td>\n",
              "      <td>1.000990e+00</td>\n",
              "      <td>1.000990e+00</td>\n",
              "      <td>1.000990e+00</td>\n",
              "      <td>1.000990e+00</td>\n",
              "    </tr>\n",
              "    <tr>\n",
              "      <th>min</th>\n",
              "      <td>-4.197819e-01</td>\n",
              "      <td>-4.877224e-01</td>\n",
              "      <td>-1.557842e+00</td>\n",
              "      <td>-2.725986e-01</td>\n",
              "      <td>-1.465882e+00</td>\n",
              "      <td>-3.880249e+00</td>\n",
              "      <td>-2.335437e+00</td>\n",
              "      <td>-1.267069e+00</td>\n",
              "      <td>-9.828429e-01</td>\n",
              "      <td>-1.313990e+00</td>\n",
              "      <td>-2.707379e+00</td>\n",
              "      <td>-3.907193e+00</td>\n",
              "      <td>-1.531127e+00</td>\n",
              "    </tr>\n",
              "    <tr>\n",
              "      <th>25%</th>\n",
              "      <td>-4.109696e-01</td>\n",
              "      <td>-4.877224e-01</td>\n",
              "      <td>-8.676906e-01</td>\n",
              "      <td>-2.725986e-01</td>\n",
              "      <td>-9.130288e-01</td>\n",
              "      <td>-5.686303e-01</td>\n",
              "      <td>-8.374480e-01</td>\n",
              "      <td>-8.056878e-01</td>\n",
              "      <td>-6.379618e-01</td>\n",
              "      <td>-7.675760e-01</td>\n",
              "      <td>-4.880391e-01</td>\n",
              "      <td>2.050715e-01</td>\n",
              "      <td>-7.994200e-01</td>\n",
              "    </tr>\n",
              "    <tr>\n",
              "      <th>50%</th>\n",
              "      <td>-3.906665e-01</td>\n",
              "      <td>-4.877224e-01</td>\n",
              "      <td>-2.110985e-01</td>\n",
              "      <td>-2.725986e-01</td>\n",
              "      <td>-1.442174e-01</td>\n",
              "      <td>-1.084655e-01</td>\n",
              "      <td>3.173816e-01</td>\n",
              "      <td>-2.793234e-01</td>\n",
              "      <td>-5.230014e-01</td>\n",
              "      <td>-4.646726e-01</td>\n",
              "      <td>2.748590e-01</td>\n",
              "      <td>3.811865e-01</td>\n",
              "      <td>-1.812536e-01</td>\n",
              "    </tr>\n",
              "    <tr>\n",
              "      <th>75%</th>\n",
              "      <td>7.396560e-03</td>\n",
              "      <td>4.877224e-02</td>\n",
              "      <td>1.015999e+00</td>\n",
              "      <td>-2.725986e-01</td>\n",
              "      <td>5.986790e-01</td>\n",
              "      <td>4.827678e-01</td>\n",
              "      <td>9.067981e-01</td>\n",
              "      <td>6.623709e-01</td>\n",
              "      <td>1.661245e+00</td>\n",
              "      <td>1.530926e+00</td>\n",
              "      <td>8.065758e-01</td>\n",
              "      <td>4.336510e-01</td>\n",
              "      <td>6.030188e-01</td>\n",
              "    </tr>\n",
              "    <tr>\n",
              "      <th>max</th>\n",
              "      <td>9.933931e+00</td>\n",
              "      <td>3.804234e+00</td>\n",
              "      <td>2.422565e+00</td>\n",
              "      <td>3.668398e+00</td>\n",
              "      <td>2.732346e+00</td>\n",
              "      <td>3.555044e+00</td>\n",
              "      <td>1.117494e+00</td>\n",
              "      <td>3.960518e+00</td>\n",
              "      <td>1.661245e+00</td>\n",
              "      <td>1.798194e+00</td>\n",
              "      <td>1.638828e+00</td>\n",
              "      <td>4.410519e-01</td>\n",
              "      <td>3.548771e+00</td>\n",
              "    </tr>\n",
              "  </tbody>\n",
              "</table>\n",
              "</div>"
            ],
            "text/plain": [
              "                 0             1   ...            11            12\n",
              "count  5.060000e+02  5.060000e+02  ...  5.060000e+02  5.060000e+02\n",
              "mean  -8.787437e-17 -6.343191e-16  ...  8.163101e-15 -3.370163e-16\n",
              "std    1.000990e+00  1.000990e+00  ...  1.000990e+00  1.000990e+00\n",
              "min   -4.197819e-01 -4.877224e-01  ... -3.907193e+00 -1.531127e+00\n",
              "25%   -4.109696e-01 -4.877224e-01  ...  2.050715e-01 -7.994200e-01\n",
              "50%   -3.906665e-01 -4.877224e-01  ...  3.811865e-01 -1.812536e-01\n",
              "75%    7.396560e-03  4.877224e-02  ...  4.336510e-01  6.030188e-01\n",
              "max    9.933931e+00  3.804234e+00  ...  4.410519e-01  3.548771e+00\n",
              "\n",
              "[8 rows x 13 columns]"
            ]
          },
          "metadata": {
            "tags": []
          },
          "execution_count": 54
        }
      ]
    },
    {
      "cell_type": "code",
      "metadata": {
        "colab": {
          "base_uri": "https://localhost:8080/"
        },
        "id": "tjR1z5iWZsDX",
        "outputId": "d97c46d7-06f9-4f3f-9c96-3a86a6e3f111"
      },
      "source": [
        "scaler.mean_"
      ],
      "execution_count": null,
      "outputs": [
        {
          "output_type": "execute_result",
          "data": {
            "text/plain": [
              "array([3.61352356e+00, 1.13636364e+01, 1.11367787e+01, 6.91699605e-02,\n",
              "       5.54695059e-01, 6.28463439e+00, 6.85749012e+01, 3.79504269e+00,\n",
              "       9.54940711e+00, 4.08237154e+02, 1.84555336e+01, 3.56674032e+02,\n",
              "       1.26530632e+01])"
            ]
          },
          "metadata": {
            "tags": []
          },
          "execution_count": 47
        }
      ]
    },
    {
      "cell_type": "code",
      "metadata": {
        "colab": {
          "base_uri": "https://localhost:8080/"
        },
        "id": "IBmG7ozTZr_Y",
        "outputId": "df75c3d4-fe42-405f-cef1-ff81b14f4c1f"
      },
      "source": [
        "x.mean()"
      ],
      "execution_count": null,
      "outputs": [
        {
          "output_type": "execute_result",
          "data": {
            "text/plain": [
              "0       3.613524\n",
              "1      11.363636\n",
              "2      11.136779\n",
              "3       0.069170\n",
              "4       0.554695\n",
              "5       6.284634\n",
              "6      68.574901\n",
              "7       3.795043\n",
              "8       9.549407\n",
              "9     408.237154\n",
              "10     18.455534\n",
              "11    356.674032\n",
              "12     12.653063\n",
              "dtype: float64"
            ]
          },
          "metadata": {
            "tags": []
          },
          "execution_count": 48
        }
      ]
    },
    {
      "cell_type": "code",
      "metadata": {
        "colab": {
          "base_uri": "https://localhost:8080/",
          "height": 297
        },
        "id": "VYmhREdSZr21",
        "outputId": "41497657-22c8-4546-ad44-3a5adc0cf17c"
      },
      "source": [
        "x.describe()"
      ],
      "execution_count": null,
      "outputs": [
        {
          "output_type": "execute_result",
          "data": {
            "text/html": [
              "<div>\n",
              "<style scoped>\n",
              "    .dataframe tbody tr th:only-of-type {\n",
              "        vertical-align: middle;\n",
              "    }\n",
              "\n",
              "    .dataframe tbody tr th {\n",
              "        vertical-align: top;\n",
              "    }\n",
              "\n",
              "    .dataframe thead th {\n",
              "        text-align: right;\n",
              "    }\n",
              "</style>\n",
              "<table border=\"1\" class=\"dataframe\">\n",
              "  <thead>\n",
              "    <tr style=\"text-align: right;\">\n",
              "      <th></th>\n",
              "      <th>0</th>\n",
              "      <th>1</th>\n",
              "      <th>2</th>\n",
              "      <th>3</th>\n",
              "      <th>4</th>\n",
              "      <th>5</th>\n",
              "      <th>6</th>\n",
              "      <th>7</th>\n",
              "      <th>8</th>\n",
              "      <th>9</th>\n",
              "      <th>10</th>\n",
              "      <th>11</th>\n",
              "      <th>12</th>\n",
              "    </tr>\n",
              "  </thead>\n",
              "  <tbody>\n",
              "    <tr>\n",
              "      <th>count</th>\n",
              "      <td>506.000000</td>\n",
              "      <td>506.000000</td>\n",
              "      <td>506.000000</td>\n",
              "      <td>506.000000</td>\n",
              "      <td>506.000000</td>\n",
              "      <td>506.000000</td>\n",
              "      <td>506.000000</td>\n",
              "      <td>506.000000</td>\n",
              "      <td>506.000000</td>\n",
              "      <td>506.000000</td>\n",
              "      <td>506.000000</td>\n",
              "      <td>506.000000</td>\n",
              "      <td>506.000000</td>\n",
              "    </tr>\n",
              "    <tr>\n",
              "      <th>mean</th>\n",
              "      <td>3.613524</td>\n",
              "      <td>11.363636</td>\n",
              "      <td>11.136779</td>\n",
              "      <td>0.069170</td>\n",
              "      <td>0.554695</td>\n",
              "      <td>6.284634</td>\n",
              "      <td>68.574901</td>\n",
              "      <td>3.795043</td>\n",
              "      <td>9.549407</td>\n",
              "      <td>408.237154</td>\n",
              "      <td>18.455534</td>\n",
              "      <td>356.674032</td>\n",
              "      <td>12.653063</td>\n",
              "    </tr>\n",
              "    <tr>\n",
              "      <th>std</th>\n",
              "      <td>8.601545</td>\n",
              "      <td>23.322453</td>\n",
              "      <td>6.860353</td>\n",
              "      <td>0.253994</td>\n",
              "      <td>0.115878</td>\n",
              "      <td>0.702617</td>\n",
              "      <td>28.148861</td>\n",
              "      <td>2.105710</td>\n",
              "      <td>8.707259</td>\n",
              "      <td>168.537116</td>\n",
              "      <td>2.164946</td>\n",
              "      <td>91.294864</td>\n",
              "      <td>7.141062</td>\n",
              "    </tr>\n",
              "    <tr>\n",
              "      <th>min</th>\n",
              "      <td>0.006320</td>\n",
              "      <td>0.000000</td>\n",
              "      <td>0.460000</td>\n",
              "      <td>0.000000</td>\n",
              "      <td>0.385000</td>\n",
              "      <td>3.561000</td>\n",
              "      <td>2.900000</td>\n",
              "      <td>1.129600</td>\n",
              "      <td>1.000000</td>\n",
              "      <td>187.000000</td>\n",
              "      <td>12.600000</td>\n",
              "      <td>0.320000</td>\n",
              "      <td>1.730000</td>\n",
              "    </tr>\n",
              "    <tr>\n",
              "      <th>25%</th>\n",
              "      <td>0.082045</td>\n",
              "      <td>0.000000</td>\n",
              "      <td>5.190000</td>\n",
              "      <td>0.000000</td>\n",
              "      <td>0.449000</td>\n",
              "      <td>5.885500</td>\n",
              "      <td>45.025000</td>\n",
              "      <td>2.100175</td>\n",
              "      <td>4.000000</td>\n",
              "      <td>279.000000</td>\n",
              "      <td>17.400000</td>\n",
              "      <td>375.377500</td>\n",
              "      <td>6.950000</td>\n",
              "    </tr>\n",
              "    <tr>\n",
              "      <th>50%</th>\n",
              "      <td>0.256510</td>\n",
              "      <td>0.000000</td>\n",
              "      <td>9.690000</td>\n",
              "      <td>0.000000</td>\n",
              "      <td>0.538000</td>\n",
              "      <td>6.208500</td>\n",
              "      <td>77.500000</td>\n",
              "      <td>3.207450</td>\n",
              "      <td>5.000000</td>\n",
              "      <td>330.000000</td>\n",
              "      <td>19.050000</td>\n",
              "      <td>391.440000</td>\n",
              "      <td>11.360000</td>\n",
              "    </tr>\n",
              "    <tr>\n",
              "      <th>75%</th>\n",
              "      <td>3.677083</td>\n",
              "      <td>12.500000</td>\n",
              "      <td>18.100000</td>\n",
              "      <td>0.000000</td>\n",
              "      <td>0.624000</td>\n",
              "      <td>6.623500</td>\n",
              "      <td>94.075000</td>\n",
              "      <td>5.188425</td>\n",
              "      <td>24.000000</td>\n",
              "      <td>666.000000</td>\n",
              "      <td>20.200000</td>\n",
              "      <td>396.225000</td>\n",
              "      <td>16.955000</td>\n",
              "    </tr>\n",
              "    <tr>\n",
              "      <th>max</th>\n",
              "      <td>88.976200</td>\n",
              "      <td>100.000000</td>\n",
              "      <td>27.740000</td>\n",
              "      <td>1.000000</td>\n",
              "      <td>0.871000</td>\n",
              "      <td>8.780000</td>\n",
              "      <td>100.000000</td>\n",
              "      <td>12.126500</td>\n",
              "      <td>24.000000</td>\n",
              "      <td>711.000000</td>\n",
              "      <td>22.000000</td>\n",
              "      <td>396.900000</td>\n",
              "      <td>37.970000</td>\n",
              "    </tr>\n",
              "  </tbody>\n",
              "</table>\n",
              "</div>"
            ],
            "text/plain": [
              "               0           1           2   ...          10          11          12\n",
              "count  506.000000  506.000000  506.000000  ...  506.000000  506.000000  506.000000\n",
              "mean     3.613524   11.363636   11.136779  ...   18.455534  356.674032   12.653063\n",
              "std      8.601545   23.322453    6.860353  ...    2.164946   91.294864    7.141062\n",
              "min      0.006320    0.000000    0.460000  ...   12.600000    0.320000    1.730000\n",
              "25%      0.082045    0.000000    5.190000  ...   17.400000  375.377500    6.950000\n",
              "50%      0.256510    0.000000    9.690000  ...   19.050000  391.440000   11.360000\n",
              "75%      3.677083   12.500000   18.100000  ...   20.200000  396.225000   16.955000\n",
              "max     88.976200  100.000000   27.740000  ...   22.000000  396.900000   37.970000\n",
              "\n",
              "[8 rows x 13 columns]"
            ]
          },
          "metadata": {
            "tags": []
          },
          "execution_count": 50
        }
      ]
    },
    {
      "cell_type": "code",
      "metadata": {
        "colab": {
          "base_uri": "https://localhost:8080/"
        },
        "id": "4jx8A2Rtbx8h",
        "outputId": "92f1fd72-9b66-40a4-ea72-2063183b26e4"
      },
      "source": [
        "# Standard Scaler para outliers\r\n",
        "robust = preprocessing.RobustScaler()\r\n",
        "robust.fit(x)"
      ],
      "execution_count": null,
      "outputs": [
        {
          "output_type": "execute_result",
          "data": {
            "text/plain": [
              "RobustScaler(copy=True, quantile_range=(25.0, 75.0), with_centering=True,\n",
              "             with_scaling=True)"
            ]
          },
          "metadata": {
            "tags": []
          },
          "execution_count": 51
        }
      ]
    },
    {
      "cell_type": "code",
      "metadata": {
        "colab": {
          "base_uri": "https://localhost:8080/",
          "height": 368
        },
        "id": "AIYS77T-cCpq",
        "outputId": "d367532e-e8ae-4b0d-d8f6-e88ad6df9cdf"
      },
      "source": [
        "pd.DataFrame(robust.transform(x)).describe()"
      ],
      "execution_count": null,
      "outputs": [
        {
          "output_type": "execute_result",
          "data": {
            "text/html": [
              "<div>\n",
              "<style scoped>\n",
              "    .dataframe tbody tr th:only-of-type {\n",
              "        vertical-align: middle;\n",
              "    }\n",
              "\n",
              "    .dataframe tbody tr th {\n",
              "        vertical-align: top;\n",
              "    }\n",
              "\n",
              "    .dataframe thead th {\n",
              "        text-align: right;\n",
              "    }\n",
              "</style>\n",
              "<table border=\"1\" class=\"dataframe\">\n",
              "  <thead>\n",
              "    <tr style=\"text-align: right;\">\n",
              "      <th></th>\n",
              "      <th>0</th>\n",
              "      <th>1</th>\n",
              "      <th>2</th>\n",
              "      <th>3</th>\n",
              "      <th>4</th>\n",
              "      <th>5</th>\n",
              "      <th>6</th>\n",
              "      <th>7</th>\n",
              "      <th>8</th>\n",
              "      <th>9</th>\n",
              "      <th>10</th>\n",
              "      <th>11</th>\n",
              "      <th>12</th>\n",
              "    </tr>\n",
              "  </thead>\n",
              "  <tbody>\n",
              "    <tr>\n",
              "      <th>count</th>\n",
              "      <td>5.060000e+02</td>\n",
              "      <td>506.000000</td>\n",
              "      <td>506.000000</td>\n",
              "      <td>506.000000</td>\n",
              "      <td>506.000000</td>\n",
              "      <td>506.000000</td>\n",
              "      <td>506.000000</td>\n",
              "      <td>5.060000e+02</td>\n",
              "      <td>506.000000</td>\n",
              "      <td>506.000000</td>\n",
              "      <td>506.000000</td>\n",
              "      <td>506.000000</td>\n",
              "      <td>5.060000e+02</td>\n",
              "    </tr>\n",
              "    <tr>\n",
              "      <th>mean</th>\n",
              "      <td>9.337910e-01</td>\n",
              "      <td>0.909091</td>\n",
              "      <td>0.112067</td>\n",
              "      <td>0.069170</td>\n",
              "      <td>0.095400</td>\n",
              "      <td>0.103163</td>\n",
              "      <td>-0.181959</td>\n",
              "      <td>1.902672e-01</td>\n",
              "      <td>0.227470</td>\n",
              "      <td>0.202163</td>\n",
              "      <td>-0.212309</td>\n",
              "      <td>-1.667632</td>\n",
              "      <td>1.292417e-01</td>\n",
              "    </tr>\n",
              "    <tr>\n",
              "      <th>std</th>\n",
              "      <td>2.392616e+00</td>\n",
              "      <td>1.865796</td>\n",
              "      <td>0.531398</td>\n",
              "      <td>0.253994</td>\n",
              "      <td>0.662158</td>\n",
              "      <td>0.952056</td>\n",
              "      <td>0.573881</td>\n",
              "      <td>6.818457e-01</td>\n",
              "      <td>0.435363</td>\n",
              "      <td>0.435496</td>\n",
              "      <td>0.773195</td>\n",
              "      <td>4.379176</td>\n",
              "      <td>7.137493e-01</td>\n",
              "    </tr>\n",
              "    <tr>\n",
              "      <th>min</th>\n",
              "      <td>-6.959315e-02</td>\n",
              "      <td>0.000000</td>\n",
              "      <td>-0.714950</td>\n",
              "      <td>0.000000</td>\n",
              "      <td>-0.874286</td>\n",
              "      <td>-3.587398</td>\n",
              "      <td>-1.520897</td>\n",
              "      <td>-6.728244e-01</td>\n",
              "      <td>-0.200000</td>\n",
              "      <td>-0.369509</td>\n",
              "      <td>-2.303571</td>\n",
              "      <td>-18.761003</td>\n",
              "      <td>-9.625187e-01</td>\n",
              "    </tr>\n",
              "    <tr>\n",
              "      <th>25%</th>\n",
              "      <td>-4.852940e-02</td>\n",
              "      <td>0.000000</td>\n",
              "      <td>-0.348567</td>\n",
              "      <td>0.000000</td>\n",
              "      <td>-0.508571</td>\n",
              "      <td>-0.437669</td>\n",
              "      <td>-0.662080</td>\n",
              "      <td>-3.585445e-01</td>\n",
              "      <td>-0.050000</td>\n",
              "      <td>-0.131783</td>\n",
              "      <td>-0.589286</td>\n",
              "      <td>-0.770476</td>\n",
              "      <td>-4.407796e-01</td>\n",
              "    </tr>\n",
              "    <tr>\n",
              "      <th>50%</th>\n",
              "      <td>-7.697835e-18</td>\n",
              "      <td>0.000000</td>\n",
              "      <td>0.000000</td>\n",
              "      <td>0.000000</td>\n",
              "      <td>0.000000</td>\n",
              "      <td>0.000000</td>\n",
              "      <td>0.000000</td>\n",
              "      <td>7.199102e-17</td>\n",
              "      <td>0.000000</td>\n",
              "      <td>0.000000</td>\n",
              "      <td>0.000000</td>\n",
              "      <td>0.000000</td>\n",
              "      <td>8.868774e-17</td>\n",
              "    </tr>\n",
              "    <tr>\n",
              "      <th>75%</th>\n",
              "      <td>9.514706e-01</td>\n",
              "      <td>1.000000</td>\n",
              "      <td>0.651433</td>\n",
              "      <td>0.000000</td>\n",
              "      <td>0.491429</td>\n",
              "      <td>0.562331</td>\n",
              "      <td>0.337920</td>\n",
              "      <td>6.414555e-01</td>\n",
              "      <td>0.950000</td>\n",
              "      <td>0.868217</td>\n",
              "      <td>0.410714</td>\n",
              "      <td>0.229524</td>\n",
              "      <td>5.592204e-01</td>\n",
              "    </tr>\n",
              "    <tr>\n",
              "      <th>max</th>\n",
              "      <td>2.467838e+01</td>\n",
              "      <td>8.000000</td>\n",
              "      <td>1.398141</td>\n",
              "      <td>1.000000</td>\n",
              "      <td>1.902857</td>\n",
              "      <td>3.484417</td>\n",
              "      <td>0.458716</td>\n",
              "      <td>2.888060e+00</td>\n",
              "      <td>0.950000</td>\n",
              "      <td>0.984496</td>\n",
              "      <td>1.053571</td>\n",
              "      <td>0.261902</td>\n",
              "      <td>2.659670e+00</td>\n",
              "    </tr>\n",
              "  </tbody>\n",
              "</table>\n",
              "</div>"
            ],
            "text/plain": [
              "                 0           1   ...          11            12\n",
              "count  5.060000e+02  506.000000  ...  506.000000  5.060000e+02\n",
              "mean   9.337910e-01    0.909091  ...   -1.667632  1.292417e-01\n",
              "std    2.392616e+00    1.865796  ...    4.379176  7.137493e-01\n",
              "min   -6.959315e-02    0.000000  ...  -18.761003 -9.625187e-01\n",
              "25%   -4.852940e-02    0.000000  ...   -0.770476 -4.407796e-01\n",
              "50%   -7.697835e-18    0.000000  ...    0.000000  8.868774e-17\n",
              "75%    9.514706e-01    1.000000  ...    0.229524  5.592204e-01\n",
              "max    2.467838e+01    8.000000  ...    0.261902  2.659670e+00\n",
              "\n",
              "[8 rows x 13 columns]"
            ]
          },
          "metadata": {
            "tags": []
          },
          "execution_count": 53
        }
      ]
    },
    {
      "cell_type": "code",
      "metadata": {
        "colab": {
          "base_uri": "https://localhost:8080/"
        },
        "id": "sS0RfRmwgt3F",
        "outputId": "2f705d75-e534-43eb-ecbb-4e2cf7d2d6b0"
      },
      "source": [
        "# Dividir nuestros datos entre el valor absoluto más grande\r\n",
        "maxabs = preprocessing.MaxAbsScaler()\r\n",
        "maxabs.fit(x)"
      ],
      "execution_count": null,
      "outputs": [
        {
          "output_type": "execute_result",
          "data": {
            "text/plain": [
              "MaxAbsScaler(copy=True)"
            ]
          },
          "metadata": {
            "tags": []
          },
          "execution_count": 62
        }
      ]
    },
    {
      "cell_type": "code",
      "metadata": {
        "colab": {
          "base_uri": "https://localhost:8080/",
          "height": 297
        },
        "id": "3Jyezvx5hS90",
        "outputId": "9975c500-1f4b-4a72-ddb5-c08f1fa875e8"
      },
      "source": [
        "x.describe()"
      ],
      "execution_count": null,
      "outputs": [
        {
          "output_type": "execute_result",
          "data": {
            "text/html": [
              "<div>\n",
              "<style scoped>\n",
              "    .dataframe tbody tr th:only-of-type {\n",
              "        vertical-align: middle;\n",
              "    }\n",
              "\n",
              "    .dataframe tbody tr th {\n",
              "        vertical-align: top;\n",
              "    }\n",
              "\n",
              "    .dataframe thead th {\n",
              "        text-align: right;\n",
              "    }\n",
              "</style>\n",
              "<table border=\"1\" class=\"dataframe\">\n",
              "  <thead>\n",
              "    <tr style=\"text-align: right;\">\n",
              "      <th></th>\n",
              "      <th>0</th>\n",
              "      <th>1</th>\n",
              "      <th>2</th>\n",
              "      <th>3</th>\n",
              "      <th>4</th>\n",
              "      <th>5</th>\n",
              "      <th>6</th>\n",
              "      <th>7</th>\n",
              "      <th>8</th>\n",
              "      <th>9</th>\n",
              "      <th>10</th>\n",
              "      <th>11</th>\n",
              "      <th>12</th>\n",
              "    </tr>\n",
              "  </thead>\n",
              "  <tbody>\n",
              "    <tr>\n",
              "      <th>count</th>\n",
              "      <td>506.000000</td>\n",
              "      <td>506.000000</td>\n",
              "      <td>506.000000</td>\n",
              "      <td>506.000000</td>\n",
              "      <td>506.000000</td>\n",
              "      <td>506.000000</td>\n",
              "      <td>506.000000</td>\n",
              "      <td>506.000000</td>\n",
              "      <td>506.000000</td>\n",
              "      <td>506.000000</td>\n",
              "      <td>506.000000</td>\n",
              "      <td>506.000000</td>\n",
              "      <td>506.000000</td>\n",
              "    </tr>\n",
              "    <tr>\n",
              "      <th>mean</th>\n",
              "      <td>3.613524</td>\n",
              "      <td>11.363636</td>\n",
              "      <td>11.136779</td>\n",
              "      <td>0.069170</td>\n",
              "      <td>0.554695</td>\n",
              "      <td>6.284634</td>\n",
              "      <td>68.574901</td>\n",
              "      <td>3.795043</td>\n",
              "      <td>9.549407</td>\n",
              "      <td>408.237154</td>\n",
              "      <td>18.455534</td>\n",
              "      <td>356.674032</td>\n",
              "      <td>12.653063</td>\n",
              "    </tr>\n",
              "    <tr>\n",
              "      <th>std</th>\n",
              "      <td>8.601545</td>\n",
              "      <td>23.322453</td>\n",
              "      <td>6.860353</td>\n",
              "      <td>0.253994</td>\n",
              "      <td>0.115878</td>\n",
              "      <td>0.702617</td>\n",
              "      <td>28.148861</td>\n",
              "      <td>2.105710</td>\n",
              "      <td>8.707259</td>\n",
              "      <td>168.537116</td>\n",
              "      <td>2.164946</td>\n",
              "      <td>91.294864</td>\n",
              "      <td>7.141062</td>\n",
              "    </tr>\n",
              "    <tr>\n",
              "      <th>min</th>\n",
              "      <td>0.006320</td>\n",
              "      <td>0.000000</td>\n",
              "      <td>0.460000</td>\n",
              "      <td>0.000000</td>\n",
              "      <td>0.385000</td>\n",
              "      <td>3.561000</td>\n",
              "      <td>2.900000</td>\n",
              "      <td>1.129600</td>\n",
              "      <td>1.000000</td>\n",
              "      <td>187.000000</td>\n",
              "      <td>12.600000</td>\n",
              "      <td>0.320000</td>\n",
              "      <td>1.730000</td>\n",
              "    </tr>\n",
              "    <tr>\n",
              "      <th>25%</th>\n",
              "      <td>0.082045</td>\n",
              "      <td>0.000000</td>\n",
              "      <td>5.190000</td>\n",
              "      <td>0.000000</td>\n",
              "      <td>0.449000</td>\n",
              "      <td>5.885500</td>\n",
              "      <td>45.025000</td>\n",
              "      <td>2.100175</td>\n",
              "      <td>4.000000</td>\n",
              "      <td>279.000000</td>\n",
              "      <td>17.400000</td>\n",
              "      <td>375.377500</td>\n",
              "      <td>6.950000</td>\n",
              "    </tr>\n",
              "    <tr>\n",
              "      <th>50%</th>\n",
              "      <td>0.256510</td>\n",
              "      <td>0.000000</td>\n",
              "      <td>9.690000</td>\n",
              "      <td>0.000000</td>\n",
              "      <td>0.538000</td>\n",
              "      <td>6.208500</td>\n",
              "      <td>77.500000</td>\n",
              "      <td>3.207450</td>\n",
              "      <td>5.000000</td>\n",
              "      <td>330.000000</td>\n",
              "      <td>19.050000</td>\n",
              "      <td>391.440000</td>\n",
              "      <td>11.360000</td>\n",
              "    </tr>\n",
              "    <tr>\n",
              "      <th>75%</th>\n",
              "      <td>3.677083</td>\n",
              "      <td>12.500000</td>\n",
              "      <td>18.100000</td>\n",
              "      <td>0.000000</td>\n",
              "      <td>0.624000</td>\n",
              "      <td>6.623500</td>\n",
              "      <td>94.075000</td>\n",
              "      <td>5.188425</td>\n",
              "      <td>24.000000</td>\n",
              "      <td>666.000000</td>\n",
              "      <td>20.200000</td>\n",
              "      <td>396.225000</td>\n",
              "      <td>16.955000</td>\n",
              "    </tr>\n",
              "    <tr>\n",
              "      <th>max</th>\n",
              "      <td>88.976200</td>\n",
              "      <td>100.000000</td>\n",
              "      <td>27.740000</td>\n",
              "      <td>1.000000</td>\n",
              "      <td>0.871000</td>\n",
              "      <td>8.780000</td>\n",
              "      <td>100.000000</td>\n",
              "      <td>12.126500</td>\n",
              "      <td>24.000000</td>\n",
              "      <td>711.000000</td>\n",
              "      <td>22.000000</td>\n",
              "      <td>396.900000</td>\n",
              "      <td>37.970000</td>\n",
              "    </tr>\n",
              "  </tbody>\n",
              "</table>\n",
              "</div>"
            ],
            "text/plain": [
              "               0           1           2   ...          10          11          12\n",
              "count  506.000000  506.000000  506.000000  ...  506.000000  506.000000  506.000000\n",
              "mean     3.613524   11.363636   11.136779  ...   18.455534  356.674032   12.653063\n",
              "std      8.601545   23.322453    6.860353  ...    2.164946   91.294864    7.141062\n",
              "min      0.006320    0.000000    0.460000  ...   12.600000    0.320000    1.730000\n",
              "25%      0.082045    0.000000    5.190000  ...   17.400000  375.377500    6.950000\n",
              "50%      0.256510    0.000000    9.690000  ...   19.050000  391.440000   11.360000\n",
              "75%      3.677083   12.500000   18.100000  ...   20.200000  396.225000   16.955000\n",
              "max     88.976200  100.000000   27.740000  ...   22.000000  396.900000   37.970000\n",
              "\n",
              "[8 rows x 13 columns]"
            ]
          },
          "metadata": {
            "tags": []
          },
          "execution_count": 63
        }
      ]
    },
    {
      "cell_type": "code",
      "metadata": {
        "colab": {
          "base_uri": "https://localhost:8080/",
          "height": 297
        },
        "id": "_r0EA53vhYDL",
        "outputId": "bfa9eae6-a5e7-441f-cc17-71b5355c9ef2"
      },
      "source": [
        "# Agrege un renglón de -1's al final de cada columna\r\n",
        "otro=x.append(pd.DataFrame([-1 for x in range(13)]).T,ignore_index=True)\r\n",
        "otro.describe()"
      ],
      "execution_count": null,
      "outputs": [
        {
          "output_type": "execute_result",
          "data": {
            "text/html": [
              "<div>\n",
              "<style scoped>\n",
              "    .dataframe tbody tr th:only-of-type {\n",
              "        vertical-align: middle;\n",
              "    }\n",
              "\n",
              "    .dataframe tbody tr th {\n",
              "        vertical-align: top;\n",
              "    }\n",
              "\n",
              "    .dataframe thead th {\n",
              "        text-align: right;\n",
              "    }\n",
              "</style>\n",
              "<table border=\"1\" class=\"dataframe\">\n",
              "  <thead>\n",
              "    <tr style=\"text-align: right;\">\n",
              "      <th></th>\n",
              "      <th>0</th>\n",
              "      <th>1</th>\n",
              "      <th>2</th>\n",
              "      <th>3</th>\n",
              "      <th>4</th>\n",
              "      <th>5</th>\n",
              "      <th>6</th>\n",
              "      <th>7</th>\n",
              "      <th>8</th>\n",
              "      <th>9</th>\n",
              "      <th>10</th>\n",
              "      <th>11</th>\n",
              "      <th>12</th>\n",
              "    </tr>\n",
              "  </thead>\n",
              "  <tbody>\n",
              "    <tr>\n",
              "      <th>count</th>\n",
              "      <td>507.000000</td>\n",
              "      <td>507.000000</td>\n",
              "      <td>507.000000</td>\n",
              "      <td>507.000000</td>\n",
              "      <td>507.000000</td>\n",
              "      <td>507.000000</td>\n",
              "      <td>507.000000</td>\n",
              "      <td>507.000000</td>\n",
              "      <td>507.000000</td>\n",
              "      <td>507.000000</td>\n",
              "      <td>507.000000</td>\n",
              "      <td>507.000000</td>\n",
              "      <td>507.000000</td>\n",
              "    </tr>\n",
              "    <tr>\n",
              "      <th>mean</th>\n",
              "      <td>3.604424</td>\n",
              "      <td>11.339250</td>\n",
              "      <td>11.112840</td>\n",
              "      <td>0.067061</td>\n",
              "      <td>0.551629</td>\n",
              "      <td>6.270266</td>\n",
              "      <td>68.437673</td>\n",
              "      <td>3.785585</td>\n",
              "      <td>9.528600</td>\n",
              "      <td>407.429980</td>\n",
              "      <td>18.417160</td>\n",
              "      <td>355.968560</td>\n",
              "      <td>12.626134</td>\n",
              "    </tr>\n",
              "    <tr>\n",
              "      <th>std</th>\n",
              "      <td>8.595484</td>\n",
              "      <td>23.305865</td>\n",
              "      <td>6.874734</td>\n",
              "      <td>0.258148</td>\n",
              "      <td>0.134791</td>\n",
              "      <td>0.772892</td>\n",
              "      <td>28.290283</td>\n",
              "      <td>2.114380</td>\n",
              "      <td>8.711259</td>\n",
              "      <td>169.348602</td>\n",
              "      <td>2.329015</td>\n",
              "      <td>92.577585</td>\n",
              "      <td>7.159724</td>\n",
              "    </tr>\n",
              "    <tr>\n",
              "      <th>min</th>\n",
              "      <td>-1.000000</td>\n",
              "      <td>-1.000000</td>\n",
              "      <td>-1.000000</td>\n",
              "      <td>-1.000000</td>\n",
              "      <td>-1.000000</td>\n",
              "      <td>-1.000000</td>\n",
              "      <td>-1.000000</td>\n",
              "      <td>-1.000000</td>\n",
              "      <td>-1.000000</td>\n",
              "      <td>-1.000000</td>\n",
              "      <td>-1.000000</td>\n",
              "      <td>-1.000000</td>\n",
              "      <td>-1.000000</td>\n",
              "    </tr>\n",
              "    <tr>\n",
              "      <th>25%</th>\n",
              "      <td>0.081930</td>\n",
              "      <td>0.000000</td>\n",
              "      <td>5.160000</td>\n",
              "      <td>0.000000</td>\n",
              "      <td>0.449000</td>\n",
              "      <td>5.884500</td>\n",
              "      <td>44.700000</td>\n",
              "      <td>2.094100</td>\n",
              "      <td>4.000000</td>\n",
              "      <td>279.000000</td>\n",
              "      <td>17.350000</td>\n",
              "      <td>375.270000</td>\n",
              "      <td>6.925000</td>\n",
              "    </tr>\n",
              "    <tr>\n",
              "      <th>50%</th>\n",
              "      <td>0.253870</td>\n",
              "      <td>0.000000</td>\n",
              "      <td>9.690000</td>\n",
              "      <td>0.000000</td>\n",
              "      <td>0.538000</td>\n",
              "      <td>6.208000</td>\n",
              "      <td>77.300000</td>\n",
              "      <td>3.199200</td>\n",
              "      <td>5.000000</td>\n",
              "      <td>330.000000</td>\n",
              "      <td>19.000000</td>\n",
              "      <td>391.430000</td>\n",
              "      <td>11.340000</td>\n",
              "    </tr>\n",
              "    <tr>\n",
              "      <th>75%</th>\n",
              "      <td>3.675945</td>\n",
              "      <td>12.500000</td>\n",
              "      <td>18.100000</td>\n",
              "      <td>0.000000</td>\n",
              "      <td>0.624000</td>\n",
              "      <td>6.622000</td>\n",
              "      <td>94.050000</td>\n",
              "      <td>5.164950</td>\n",
              "      <td>24.000000</td>\n",
              "      <td>666.000000</td>\n",
              "      <td>20.200000</td>\n",
              "      <td>396.220000</td>\n",
              "      <td>16.950000</td>\n",
              "    </tr>\n",
              "    <tr>\n",
              "      <th>max</th>\n",
              "      <td>88.976200</td>\n",
              "      <td>100.000000</td>\n",
              "      <td>27.740000</td>\n",
              "      <td>1.000000</td>\n",
              "      <td>0.871000</td>\n",
              "      <td>8.780000</td>\n",
              "      <td>100.000000</td>\n",
              "      <td>12.126500</td>\n",
              "      <td>24.000000</td>\n",
              "      <td>711.000000</td>\n",
              "      <td>22.000000</td>\n",
              "      <td>396.900000</td>\n",
              "      <td>37.970000</td>\n",
              "    </tr>\n",
              "  </tbody>\n",
              "</table>\n",
              "</div>"
            ],
            "text/plain": [
              "               0           1           2   ...          10          11          12\n",
              "count  507.000000  507.000000  507.000000  ...  507.000000  507.000000  507.000000\n",
              "mean     3.604424   11.339250   11.112840  ...   18.417160  355.968560   12.626134\n",
              "std      8.595484   23.305865    6.874734  ...    2.329015   92.577585    7.159724\n",
              "min     -1.000000   -1.000000   -1.000000  ...   -1.000000   -1.000000   -1.000000\n",
              "25%      0.081930    0.000000    5.160000  ...   17.350000  375.270000    6.925000\n",
              "50%      0.253870    0.000000    9.690000  ...   19.000000  391.430000   11.340000\n",
              "75%      3.675945   12.500000   18.100000  ...   20.200000  396.220000   16.950000\n",
              "max     88.976200  100.000000   27.740000  ...   22.000000  396.900000   37.970000\n",
              "\n",
              "[8 rows x 13 columns]"
            ]
          },
          "metadata": {
            "tags": []
          },
          "execution_count": 64
        }
      ]
    },
    {
      "cell_type": "code",
      "metadata": {
        "colab": {
          "base_uri": "https://localhost:8080/",
          "height": 204
        },
        "id": "RvvhIjaRheUE",
        "outputId": "1442b377-215e-47f1-9b90-b152b0094a3c"
      },
      "source": [
        "otro.tail()"
      ],
      "execution_count": null,
      "outputs": [
        {
          "output_type": "execute_result",
          "data": {
            "text/html": [
              "<div>\n",
              "<style scoped>\n",
              "    .dataframe tbody tr th:only-of-type {\n",
              "        vertical-align: middle;\n",
              "    }\n",
              "\n",
              "    .dataframe tbody tr th {\n",
              "        vertical-align: top;\n",
              "    }\n",
              "\n",
              "    .dataframe thead th {\n",
              "        text-align: right;\n",
              "    }\n",
              "</style>\n",
              "<table border=\"1\" class=\"dataframe\">\n",
              "  <thead>\n",
              "    <tr style=\"text-align: right;\">\n",
              "      <th></th>\n",
              "      <th>0</th>\n",
              "      <th>1</th>\n",
              "      <th>2</th>\n",
              "      <th>3</th>\n",
              "      <th>4</th>\n",
              "      <th>5</th>\n",
              "      <th>6</th>\n",
              "      <th>7</th>\n",
              "      <th>8</th>\n",
              "      <th>9</th>\n",
              "      <th>10</th>\n",
              "      <th>11</th>\n",
              "      <th>12</th>\n",
              "    </tr>\n",
              "  </thead>\n",
              "  <tbody>\n",
              "    <tr>\n",
              "      <th>502</th>\n",
              "      <td>0.04527</td>\n",
              "      <td>0.0</td>\n",
              "      <td>11.93</td>\n",
              "      <td>0.0</td>\n",
              "      <td>0.573</td>\n",
              "      <td>6.120</td>\n",
              "      <td>76.7</td>\n",
              "      <td>2.2875</td>\n",
              "      <td>1.0</td>\n",
              "      <td>273.0</td>\n",
              "      <td>21.0</td>\n",
              "      <td>396.90</td>\n",
              "      <td>9.08</td>\n",
              "    </tr>\n",
              "    <tr>\n",
              "      <th>503</th>\n",
              "      <td>0.06076</td>\n",
              "      <td>0.0</td>\n",
              "      <td>11.93</td>\n",
              "      <td>0.0</td>\n",
              "      <td>0.573</td>\n",
              "      <td>6.976</td>\n",
              "      <td>91.0</td>\n",
              "      <td>2.1675</td>\n",
              "      <td>1.0</td>\n",
              "      <td>273.0</td>\n",
              "      <td>21.0</td>\n",
              "      <td>396.90</td>\n",
              "      <td>5.64</td>\n",
              "    </tr>\n",
              "    <tr>\n",
              "      <th>504</th>\n",
              "      <td>0.10959</td>\n",
              "      <td>0.0</td>\n",
              "      <td>11.93</td>\n",
              "      <td>0.0</td>\n",
              "      <td>0.573</td>\n",
              "      <td>6.794</td>\n",
              "      <td>89.3</td>\n",
              "      <td>2.3889</td>\n",
              "      <td>1.0</td>\n",
              "      <td>273.0</td>\n",
              "      <td>21.0</td>\n",
              "      <td>393.45</td>\n",
              "      <td>6.48</td>\n",
              "    </tr>\n",
              "    <tr>\n",
              "      <th>505</th>\n",
              "      <td>0.04741</td>\n",
              "      <td>0.0</td>\n",
              "      <td>11.93</td>\n",
              "      <td>0.0</td>\n",
              "      <td>0.573</td>\n",
              "      <td>6.030</td>\n",
              "      <td>80.8</td>\n",
              "      <td>2.5050</td>\n",
              "      <td>1.0</td>\n",
              "      <td>273.0</td>\n",
              "      <td>21.0</td>\n",
              "      <td>396.90</td>\n",
              "      <td>7.88</td>\n",
              "    </tr>\n",
              "    <tr>\n",
              "      <th>506</th>\n",
              "      <td>-1.00000</td>\n",
              "      <td>-1.0</td>\n",
              "      <td>-1.00</td>\n",
              "      <td>-1.0</td>\n",
              "      <td>-1.000</td>\n",
              "      <td>-1.000</td>\n",
              "      <td>-1.0</td>\n",
              "      <td>-1.0000</td>\n",
              "      <td>-1.0</td>\n",
              "      <td>-1.0</td>\n",
              "      <td>-1.0</td>\n",
              "      <td>-1.00</td>\n",
              "      <td>-1.00</td>\n",
              "    </tr>\n",
              "  </tbody>\n",
              "</table>\n",
              "</div>"
            ],
            "text/plain": [
              "          0    1      2    3      4   ...   8      9     10      11    12\n",
              "502  0.04527  0.0  11.93  0.0  0.573  ...  1.0  273.0  21.0  396.90  9.08\n",
              "503  0.06076  0.0  11.93  0.0  0.573  ...  1.0  273.0  21.0  396.90  5.64\n",
              "504  0.10959  0.0  11.93  0.0  0.573  ...  1.0  273.0  21.0  393.45  6.48\n",
              "505  0.04741  0.0  11.93  0.0  0.573  ...  1.0  273.0  21.0  396.90  7.88\n",
              "506 -1.00000 -1.0  -1.00 -1.0 -1.000  ... -1.0   -1.0  -1.0   -1.00 -1.00\n",
              "\n",
              "[5 rows x 13 columns]"
            ]
          },
          "metadata": {
            "tags": []
          },
          "execution_count": 60
        }
      ]
    },
    {
      "cell_type": "code",
      "metadata": {
        "colab": {
          "base_uri": "https://localhost:8080/",
          "height": 297
        },
        "id": "dGYMYXZ9hMal",
        "outputId": "77736cef-3ccc-4498-9b69-20bcefc3f57b"
      },
      "source": [
        "pd.DataFrame(maxabs.transform(otro)).describe()"
      ],
      "execution_count": null,
      "outputs": [
        {
          "output_type": "execute_result",
          "data": {
            "text/html": [
              "<div>\n",
              "<style scoped>\n",
              "    .dataframe tbody tr th:only-of-type {\n",
              "        vertical-align: middle;\n",
              "    }\n",
              "\n",
              "    .dataframe tbody tr th {\n",
              "        vertical-align: top;\n",
              "    }\n",
              "\n",
              "    .dataframe thead th {\n",
              "        text-align: right;\n",
              "    }\n",
              "</style>\n",
              "<table border=\"1\" class=\"dataframe\">\n",
              "  <thead>\n",
              "    <tr style=\"text-align: right;\">\n",
              "      <th></th>\n",
              "      <th>0</th>\n",
              "      <th>1</th>\n",
              "      <th>2</th>\n",
              "      <th>3</th>\n",
              "      <th>4</th>\n",
              "      <th>5</th>\n",
              "      <th>6</th>\n",
              "      <th>7</th>\n",
              "      <th>8</th>\n",
              "      <th>9</th>\n",
              "      <th>10</th>\n",
              "      <th>11</th>\n",
              "      <th>12</th>\n",
              "    </tr>\n",
              "  </thead>\n",
              "  <tbody>\n",
              "    <tr>\n",
              "      <th>count</th>\n",
              "      <td>507.000000</td>\n",
              "      <td>507.000000</td>\n",
              "      <td>507.000000</td>\n",
              "      <td>507.000000</td>\n",
              "      <td>507.000000</td>\n",
              "      <td>507.000000</td>\n",
              "      <td>507.000000</td>\n",
              "      <td>507.000000</td>\n",
              "      <td>507.000000</td>\n",
              "      <td>507.000000</td>\n",
              "      <td>507.000000</td>\n",
              "      <td>507.000000</td>\n",
              "      <td>507.000000</td>\n",
              "    </tr>\n",
              "    <tr>\n",
              "      <th>mean</th>\n",
              "      <td>0.040510</td>\n",
              "      <td>0.113393</td>\n",
              "      <td>0.400607</td>\n",
              "      <td>0.067061</td>\n",
              "      <td>0.633328</td>\n",
              "      <td>0.714153</td>\n",
              "      <td>0.684377</td>\n",
              "      <td>0.312175</td>\n",
              "      <td>0.397025</td>\n",
              "      <td>0.573038</td>\n",
              "      <td>0.837144</td>\n",
              "      <td>0.896872</td>\n",
              "      <td>0.332529</td>\n",
              "    </tr>\n",
              "    <tr>\n",
              "      <th>std</th>\n",
              "      <td>0.096604</td>\n",
              "      <td>0.233059</td>\n",
              "      <td>0.247827</td>\n",
              "      <td>0.258148</td>\n",
              "      <td>0.154754</td>\n",
              "      <td>0.088029</td>\n",
              "      <td>0.282903</td>\n",
              "      <td>0.174360</td>\n",
              "      <td>0.362969</td>\n",
              "      <td>0.238184</td>\n",
              "      <td>0.105864</td>\n",
              "      <td>0.233252</td>\n",
              "      <td>0.188563</td>\n",
              "    </tr>\n",
              "    <tr>\n",
              "      <th>min</th>\n",
              "      <td>-0.011239</td>\n",
              "      <td>-0.010000</td>\n",
              "      <td>-0.036049</td>\n",
              "      <td>-1.000000</td>\n",
              "      <td>-1.148106</td>\n",
              "      <td>-0.113895</td>\n",
              "      <td>-0.010000</td>\n",
              "      <td>-0.082464</td>\n",
              "      <td>-0.041667</td>\n",
              "      <td>-0.001406</td>\n",
              "      <td>-0.045455</td>\n",
              "      <td>-0.002520</td>\n",
              "      <td>-0.026337</td>\n",
              "    </tr>\n",
              "    <tr>\n",
              "      <th>25%</th>\n",
              "      <td>0.000921</td>\n",
              "      <td>0.000000</td>\n",
              "      <td>0.186013</td>\n",
              "      <td>0.000000</td>\n",
              "      <td>0.515499</td>\n",
              "      <td>0.670216</td>\n",
              "      <td>0.447000</td>\n",
              "      <td>0.172688</td>\n",
              "      <td>0.166667</td>\n",
              "      <td>0.392405</td>\n",
              "      <td>0.788636</td>\n",
              "      <td>0.945503</td>\n",
              "      <td>0.182381</td>\n",
              "    </tr>\n",
              "    <tr>\n",
              "      <th>50%</th>\n",
              "      <td>0.002853</td>\n",
              "      <td>0.000000</td>\n",
              "      <td>0.349315</td>\n",
              "      <td>0.000000</td>\n",
              "      <td>0.617681</td>\n",
              "      <td>0.707062</td>\n",
              "      <td>0.773000</td>\n",
              "      <td>0.263819</td>\n",
              "      <td>0.208333</td>\n",
              "      <td>0.464135</td>\n",
              "      <td>0.863636</td>\n",
              "      <td>0.986218</td>\n",
              "      <td>0.298657</td>\n",
              "    </tr>\n",
              "    <tr>\n",
              "      <th>75%</th>\n",
              "      <td>0.041314</td>\n",
              "      <td>0.125000</td>\n",
              "      <td>0.652487</td>\n",
              "      <td>0.000000</td>\n",
              "      <td>0.716418</td>\n",
              "      <td>0.754214</td>\n",
              "      <td>0.940500</td>\n",
              "      <td>0.425923</td>\n",
              "      <td>1.000000</td>\n",
              "      <td>0.936709</td>\n",
              "      <td>0.918182</td>\n",
              "      <td>0.998287</td>\n",
              "      <td>0.446405</td>\n",
              "    </tr>\n",
              "    <tr>\n",
              "      <th>max</th>\n",
              "      <td>1.000000</td>\n",
              "      <td>1.000000</td>\n",
              "      <td>1.000000</td>\n",
              "      <td>1.000000</td>\n",
              "      <td>1.000000</td>\n",
              "      <td>1.000000</td>\n",
              "      <td>1.000000</td>\n",
              "      <td>1.000000</td>\n",
              "      <td>1.000000</td>\n",
              "      <td>1.000000</td>\n",
              "      <td>1.000000</td>\n",
              "      <td>1.000000</td>\n",
              "      <td>1.000000</td>\n",
              "    </tr>\n",
              "  </tbody>\n",
              "</table>\n",
              "</div>"
            ],
            "text/plain": [
              "               0           1           2   ...          10          11          12\n",
              "count  507.000000  507.000000  507.000000  ...  507.000000  507.000000  507.000000\n",
              "mean     0.040510    0.113393    0.400607  ...    0.837144    0.896872    0.332529\n",
              "std      0.096604    0.233059    0.247827  ...    0.105864    0.233252    0.188563\n",
              "min     -0.011239   -0.010000   -0.036049  ...   -0.045455   -0.002520   -0.026337\n",
              "25%      0.000921    0.000000    0.186013  ...    0.788636    0.945503    0.182381\n",
              "50%      0.002853    0.000000    0.349315  ...    0.863636    0.986218    0.298657\n",
              "75%      0.041314    0.125000    0.652487  ...    0.918182    0.998287    0.446405\n",
              "max      1.000000    1.000000    1.000000  ...    1.000000    1.000000    1.000000\n",
              "\n",
              "[8 rows x 13 columns]"
            ]
          },
          "metadata": {
            "tags": []
          },
          "execution_count": 61
        }
      ]
    },
    {
      "cell_type": "code",
      "metadata": {
        "colab": {
          "base_uri": "https://localhost:8080/",
          "height": 297
        },
        "id": "1qWZXlxXhw_2",
        "outputId": "73f4e94f-bcad-4ea5-a80e-a9767b8d41b3"
      },
      "source": [
        "otro.describe()"
      ],
      "execution_count": null,
      "outputs": [
        {
          "output_type": "execute_result",
          "data": {
            "text/html": [
              "<div>\n",
              "<style scoped>\n",
              "    .dataframe tbody tr th:only-of-type {\n",
              "        vertical-align: middle;\n",
              "    }\n",
              "\n",
              "    .dataframe tbody tr th {\n",
              "        vertical-align: top;\n",
              "    }\n",
              "\n",
              "    .dataframe thead th {\n",
              "        text-align: right;\n",
              "    }\n",
              "</style>\n",
              "<table border=\"1\" class=\"dataframe\">\n",
              "  <thead>\n",
              "    <tr style=\"text-align: right;\">\n",
              "      <th></th>\n",
              "      <th>0</th>\n",
              "      <th>1</th>\n",
              "      <th>2</th>\n",
              "      <th>3</th>\n",
              "      <th>4</th>\n",
              "      <th>5</th>\n",
              "      <th>6</th>\n",
              "      <th>7</th>\n",
              "      <th>8</th>\n",
              "      <th>9</th>\n",
              "      <th>10</th>\n",
              "      <th>11</th>\n",
              "      <th>12</th>\n",
              "    </tr>\n",
              "  </thead>\n",
              "  <tbody>\n",
              "    <tr>\n",
              "      <th>count</th>\n",
              "      <td>507.000000</td>\n",
              "      <td>507.000000</td>\n",
              "      <td>507.000000</td>\n",
              "      <td>507.000000</td>\n",
              "      <td>507.000000</td>\n",
              "      <td>507.000000</td>\n",
              "      <td>507.000000</td>\n",
              "      <td>507.000000</td>\n",
              "      <td>507.000000</td>\n",
              "      <td>507.000000</td>\n",
              "      <td>507.000000</td>\n",
              "      <td>507.000000</td>\n",
              "      <td>507.000000</td>\n",
              "    </tr>\n",
              "    <tr>\n",
              "      <th>mean</th>\n",
              "      <td>3.604424</td>\n",
              "      <td>11.339250</td>\n",
              "      <td>11.112840</td>\n",
              "      <td>0.067061</td>\n",
              "      <td>0.551629</td>\n",
              "      <td>6.270266</td>\n",
              "      <td>68.437673</td>\n",
              "      <td>3.785585</td>\n",
              "      <td>9.528600</td>\n",
              "      <td>407.429980</td>\n",
              "      <td>18.417160</td>\n",
              "      <td>355.968560</td>\n",
              "      <td>12.626134</td>\n",
              "    </tr>\n",
              "    <tr>\n",
              "      <th>std</th>\n",
              "      <td>8.595484</td>\n",
              "      <td>23.305865</td>\n",
              "      <td>6.874734</td>\n",
              "      <td>0.258148</td>\n",
              "      <td>0.134791</td>\n",
              "      <td>0.772892</td>\n",
              "      <td>28.290283</td>\n",
              "      <td>2.114380</td>\n",
              "      <td>8.711259</td>\n",
              "      <td>169.348602</td>\n",
              "      <td>2.329015</td>\n",
              "      <td>92.577585</td>\n",
              "      <td>7.159724</td>\n",
              "    </tr>\n",
              "    <tr>\n",
              "      <th>min</th>\n",
              "      <td>-1.000000</td>\n",
              "      <td>-1.000000</td>\n",
              "      <td>-1.000000</td>\n",
              "      <td>-1.000000</td>\n",
              "      <td>-1.000000</td>\n",
              "      <td>-1.000000</td>\n",
              "      <td>-1.000000</td>\n",
              "      <td>-1.000000</td>\n",
              "      <td>-1.000000</td>\n",
              "      <td>-1.000000</td>\n",
              "      <td>-1.000000</td>\n",
              "      <td>-1.000000</td>\n",
              "      <td>-1.000000</td>\n",
              "    </tr>\n",
              "    <tr>\n",
              "      <th>25%</th>\n",
              "      <td>0.081930</td>\n",
              "      <td>0.000000</td>\n",
              "      <td>5.160000</td>\n",
              "      <td>0.000000</td>\n",
              "      <td>0.449000</td>\n",
              "      <td>5.884500</td>\n",
              "      <td>44.700000</td>\n",
              "      <td>2.094100</td>\n",
              "      <td>4.000000</td>\n",
              "      <td>279.000000</td>\n",
              "      <td>17.350000</td>\n",
              "      <td>375.270000</td>\n",
              "      <td>6.925000</td>\n",
              "    </tr>\n",
              "    <tr>\n",
              "      <th>50%</th>\n",
              "      <td>0.253870</td>\n",
              "      <td>0.000000</td>\n",
              "      <td>9.690000</td>\n",
              "      <td>0.000000</td>\n",
              "      <td>0.538000</td>\n",
              "      <td>6.208000</td>\n",
              "      <td>77.300000</td>\n",
              "      <td>3.199200</td>\n",
              "      <td>5.000000</td>\n",
              "      <td>330.000000</td>\n",
              "      <td>19.000000</td>\n",
              "      <td>391.430000</td>\n",
              "      <td>11.340000</td>\n",
              "    </tr>\n",
              "    <tr>\n",
              "      <th>75%</th>\n",
              "      <td>3.675945</td>\n",
              "      <td>12.500000</td>\n",
              "      <td>18.100000</td>\n",
              "      <td>0.000000</td>\n",
              "      <td>0.624000</td>\n",
              "      <td>6.622000</td>\n",
              "      <td>94.050000</td>\n",
              "      <td>5.164950</td>\n",
              "      <td>24.000000</td>\n",
              "      <td>666.000000</td>\n",
              "      <td>20.200000</td>\n",
              "      <td>396.220000</td>\n",
              "      <td>16.950000</td>\n",
              "    </tr>\n",
              "    <tr>\n",
              "      <th>max</th>\n",
              "      <td>88.976200</td>\n",
              "      <td>100.000000</td>\n",
              "      <td>27.740000</td>\n",
              "      <td>1.000000</td>\n",
              "      <td>0.871000</td>\n",
              "      <td>8.780000</td>\n",
              "      <td>100.000000</td>\n",
              "      <td>12.126500</td>\n",
              "      <td>24.000000</td>\n",
              "      <td>711.000000</td>\n",
              "      <td>22.000000</td>\n",
              "      <td>396.900000</td>\n",
              "      <td>37.970000</td>\n",
              "    </tr>\n",
              "  </tbody>\n",
              "</table>\n",
              "</div>"
            ],
            "text/plain": [
              "               0           1           2   ...          10          11          12\n",
              "count  507.000000  507.000000  507.000000  ...  507.000000  507.000000  507.000000\n",
              "mean     3.604424   11.339250   11.112840  ...   18.417160  355.968560   12.626134\n",
              "std      8.595484   23.305865    6.874734  ...    2.329015   92.577585    7.159724\n",
              "min     -1.000000   -1.000000   -1.000000  ...   -1.000000   -1.000000   -1.000000\n",
              "25%      0.081930    0.000000    5.160000  ...   17.350000  375.270000    6.925000\n",
              "50%      0.253870    0.000000    9.690000  ...   19.000000  391.430000   11.340000\n",
              "75%      3.675945   12.500000   18.100000  ...   20.200000  396.220000   16.950000\n",
              "max     88.976200  100.000000   27.740000  ...   22.000000  396.900000   37.970000\n",
              "\n",
              "[8 rows x 13 columns]"
            ]
          },
          "metadata": {
            "tags": []
          },
          "execution_count": 65
        }
      ]
    },
    {
      "cell_type": "markdown",
      "metadata": {
        "id": "NdMgJE8_TL6t"
      },
      "source": [
        "### Feature_selection"
      ]
    },
    {
      "cell_type": "code",
      "metadata": {
        "id": "FgQnKjuwTOgn"
      },
      "source": [
        "from sklearn import feature_selection"
      ],
      "execution_count": null,
      "outputs": []
    },
    {
      "cell_type": "code",
      "metadata": {
        "colab": {
          "base_uri": "https://localhost:8080/"
        },
        "id": "dmj0crMDjBk_",
        "outputId": "f0d2d0d5-4081-4196-db1f-ad3a78b66da2"
      },
      "source": [
        "data = datasets.load_boston()\r\n",
        "print(data.DESCR)"
      ],
      "execution_count": null,
      "outputs": [
        {
          "output_type": "stream",
          "text": [
            ".. _boston_dataset:\n",
            "\n",
            "Boston house prices dataset\n",
            "---------------------------\n",
            "\n",
            "**Data Set Characteristics:**  \n",
            "\n",
            "    :Number of Instances: 506 \n",
            "\n",
            "    :Number of Attributes: 13 numeric/categorical predictive. Median Value (attribute 14) is usually the target.\n",
            "\n",
            "    :Attribute Information (in order):\n",
            "        - CRIM     per capita crime rate by town\n",
            "        - ZN       proportion of residential land zoned for lots over 25,000 sq.ft.\n",
            "        - INDUS    proportion of non-retail business acres per town\n",
            "        - CHAS     Charles River dummy variable (= 1 if tract bounds river; 0 otherwise)\n",
            "        - NOX      nitric oxides concentration (parts per 10 million)\n",
            "        - RM       average number of rooms per dwelling\n",
            "        - AGE      proportion of owner-occupied units built prior to 1940\n",
            "        - DIS      weighted distances to five Boston employment centres\n",
            "        - RAD      index of accessibility to radial highways\n",
            "        - TAX      full-value property-tax rate per $10,000\n",
            "        - PTRATIO  pupil-teacher ratio by town\n",
            "        - B        1000(Bk - 0.63)^2 where Bk is the proportion of blacks by town\n",
            "        - LSTAT    % lower status of the population\n",
            "        - MEDV     Median value of owner-occupied homes in $1000's\n",
            "\n",
            "    :Missing Attribute Values: None\n",
            "\n",
            "    :Creator: Harrison, D. and Rubinfeld, D.L.\n",
            "\n",
            "This is a copy of UCI ML housing dataset.\n",
            "https://archive.ics.uci.edu/ml/machine-learning-databases/housing/\n",
            "\n",
            "\n",
            "This dataset was taken from the StatLib library which is maintained at Carnegie Mellon University.\n",
            "\n",
            "The Boston house-price data of Harrison, D. and Rubinfeld, D.L. 'Hedonic\n",
            "prices and the demand for clean air', J. Environ. Economics & Management,\n",
            "vol.5, 81-102, 1978.   Used in Belsley, Kuh & Welsch, 'Regression diagnostics\n",
            "...', Wiley, 1980.   N.B. Various transformations are used in the table on\n",
            "pages 244-261 of the latter.\n",
            "\n",
            "The Boston house-price data has been used in many machine learning papers that address regression\n",
            "problems.   \n",
            "     \n",
            ".. topic:: References\n",
            "\n",
            "   - Belsley, Kuh & Welsch, 'Regression diagnostics: Identifying Influential Data and Sources of Collinearity', Wiley, 1980. 244-261.\n",
            "   - Quinlan,R. (1993). Combining Instance-Based and Model-Based Learning. In Proceedings on the Tenth International Conference of Machine Learning, 236-243, University of Massachusetts, Amherst. Morgan Kaufmann.\n",
            "\n"
          ],
          "name": "stdout"
        }
      ]
    },
    {
      "cell_type": "code",
      "metadata": {
        "colab": {
          "base_uri": "https://localhost:8080/"
        },
        "id": "NK57v1kbiwrQ",
        "outputId": "05c17093-e5d0-4101-ee28-368e407a6de8"
      },
      "source": [
        "feature_selection.f_regression(x,y)"
      ],
      "execution_count": null,
      "outputs": [
        {
          "output_type": "execute_result",
          "data": {
            "text/plain": [
              "(array([ 89.48611476,  75.2576423 , 153.95488314,  15.97151242,\n",
              "        112.59148028, 471.84673988,  83.47745922,  33.57957033,\n",
              "         85.91427767, 141.76135658, 175.10554288,  63.05422911,\n",
              "        601.61787111]),\n",
              " array([1.17398708e-19, 5.71358415e-17, 4.90025998e-31, 7.39062317e-05,\n",
              "        7.06504159e-24, 2.48722887e-74, 1.56998221e-18, 1.20661173e-08,\n",
              "        5.46593257e-19, 5.63773363e-29, 1.60950948e-34, 1.31811273e-14,\n",
              "        5.08110339e-88]))"
            ]
          },
          "metadata": {
            "tags": []
          },
          "execution_count": 73
        }
      ]
    },
    {
      "cell_type": "code",
      "metadata": {
        "id": "0emkYLEhi5zC"
      },
      "source": [
        "mejores_3 = feature_selection.SelectKBest(feature_selection.f_regression, k=3)\r\n",
        "mejores3_x = mejores_3.fit_transform(x,y)"
      ],
      "execution_count": null,
      "outputs": []
    },
    {
      "cell_type": "code",
      "metadata": {
        "colab": {
          "base_uri": "https://localhost:8080/",
          "height": 204
        },
        "id": "nkNFDT0GkhsW",
        "outputId": "b7d93d41-3a03-49c2-af43-549e42662587"
      },
      "source": [
        "x.head()"
      ],
      "execution_count": null,
      "outputs": [
        {
          "output_type": "execute_result",
          "data": {
            "text/html": [
              "<div>\n",
              "<style scoped>\n",
              "    .dataframe tbody tr th:only-of-type {\n",
              "        vertical-align: middle;\n",
              "    }\n",
              "\n",
              "    .dataframe tbody tr th {\n",
              "        vertical-align: top;\n",
              "    }\n",
              "\n",
              "    .dataframe thead th {\n",
              "        text-align: right;\n",
              "    }\n",
              "</style>\n",
              "<table border=\"1\" class=\"dataframe\">\n",
              "  <thead>\n",
              "    <tr style=\"text-align: right;\">\n",
              "      <th></th>\n",
              "      <th>0</th>\n",
              "      <th>1</th>\n",
              "      <th>2</th>\n",
              "      <th>3</th>\n",
              "      <th>4</th>\n",
              "      <th>5</th>\n",
              "      <th>6</th>\n",
              "      <th>7</th>\n",
              "      <th>8</th>\n",
              "      <th>9</th>\n",
              "      <th>10</th>\n",
              "      <th>11</th>\n",
              "      <th>12</th>\n",
              "    </tr>\n",
              "  </thead>\n",
              "  <tbody>\n",
              "    <tr>\n",
              "      <th>0</th>\n",
              "      <td>0.00632</td>\n",
              "      <td>18.0</td>\n",
              "      <td>2.31</td>\n",
              "      <td>0.0</td>\n",
              "      <td>0.538</td>\n",
              "      <td>6.575</td>\n",
              "      <td>65.2</td>\n",
              "      <td>4.0900</td>\n",
              "      <td>1.0</td>\n",
              "      <td>296.0</td>\n",
              "      <td>15.3</td>\n",
              "      <td>396.90</td>\n",
              "      <td>4.98</td>\n",
              "    </tr>\n",
              "    <tr>\n",
              "      <th>1</th>\n",
              "      <td>0.02731</td>\n",
              "      <td>0.0</td>\n",
              "      <td>7.07</td>\n",
              "      <td>0.0</td>\n",
              "      <td>0.469</td>\n",
              "      <td>6.421</td>\n",
              "      <td>78.9</td>\n",
              "      <td>4.9671</td>\n",
              "      <td>2.0</td>\n",
              "      <td>242.0</td>\n",
              "      <td>17.8</td>\n",
              "      <td>396.90</td>\n",
              "      <td>9.14</td>\n",
              "    </tr>\n",
              "    <tr>\n",
              "      <th>2</th>\n",
              "      <td>0.02729</td>\n",
              "      <td>0.0</td>\n",
              "      <td>7.07</td>\n",
              "      <td>0.0</td>\n",
              "      <td>0.469</td>\n",
              "      <td>7.185</td>\n",
              "      <td>61.1</td>\n",
              "      <td>4.9671</td>\n",
              "      <td>2.0</td>\n",
              "      <td>242.0</td>\n",
              "      <td>17.8</td>\n",
              "      <td>392.83</td>\n",
              "      <td>4.03</td>\n",
              "    </tr>\n",
              "    <tr>\n",
              "      <th>3</th>\n",
              "      <td>0.03237</td>\n",
              "      <td>0.0</td>\n",
              "      <td>2.18</td>\n",
              "      <td>0.0</td>\n",
              "      <td>0.458</td>\n",
              "      <td>6.998</td>\n",
              "      <td>45.8</td>\n",
              "      <td>6.0622</td>\n",
              "      <td>3.0</td>\n",
              "      <td>222.0</td>\n",
              "      <td>18.7</td>\n",
              "      <td>394.63</td>\n",
              "      <td>2.94</td>\n",
              "    </tr>\n",
              "    <tr>\n",
              "      <th>4</th>\n",
              "      <td>0.06905</td>\n",
              "      <td>0.0</td>\n",
              "      <td>2.18</td>\n",
              "      <td>0.0</td>\n",
              "      <td>0.458</td>\n",
              "      <td>7.147</td>\n",
              "      <td>54.2</td>\n",
              "      <td>6.0622</td>\n",
              "      <td>3.0</td>\n",
              "      <td>222.0</td>\n",
              "      <td>18.7</td>\n",
              "      <td>396.90</td>\n",
              "      <td>5.33</td>\n",
              "    </tr>\n",
              "  </tbody>\n",
              "</table>\n",
              "</div>"
            ],
            "text/plain": [
              "        0     1     2    3      4   ...   8      9     10      11    12\n",
              "0  0.00632  18.0  2.31  0.0  0.538  ...  1.0  296.0  15.3  396.90  4.98\n",
              "1  0.02731   0.0  7.07  0.0  0.469  ...  2.0  242.0  17.8  396.90  9.14\n",
              "2  0.02729   0.0  7.07  0.0  0.469  ...  2.0  242.0  17.8  392.83  4.03\n",
              "3  0.03237   0.0  2.18  0.0  0.458  ...  3.0  222.0  18.7  394.63  2.94\n",
              "4  0.06905   0.0  2.18  0.0  0.458  ...  3.0  222.0  18.7  396.90  5.33\n",
              "\n",
              "[5 rows x 13 columns]"
            ]
          },
          "metadata": {
            "tags": []
          },
          "execution_count": 80
        }
      ]
    },
    {
      "cell_type": "code",
      "metadata": {
        "colab": {
          "base_uri": "https://localhost:8080/"
        },
        "id": "8UsjWpthj6Cs",
        "outputId": "061efdb0-50ef-4cd0-e1ce-d37d39571078"
      },
      "source": [
        "mejores3_x"
      ],
      "execution_count": null,
      "outputs": [
        {
          "output_type": "execute_result",
          "data": {
            "text/plain": [
              "array([[ 6.575, 15.3  ,  4.98 ],\n",
              "       [ 6.421, 17.8  ,  9.14 ],\n",
              "       [ 7.185, 17.8  ,  4.03 ],\n",
              "       ...,\n",
              "       [ 6.976, 21.   ,  5.64 ],\n",
              "       [ 6.794, 21.   ,  6.48 ],\n",
              "       [ 6.03 , 21.   ,  7.88 ]])"
            ]
          },
          "metadata": {
            "tags": []
          },
          "execution_count": 79
        }
      ]
    },
    {
      "cell_type": "code",
      "metadata": {
        "id": "uVcxZVhJkoZG"
      },
      "source": [
        "# Dataset de 3 plantas diferentes\r\n",
        "x,y = datasets.load_iris(return_X_y=True)\r\n"
      ],
      "execution_count": null,
      "outputs": []
    },
    {
      "cell_type": "code",
      "metadata": {
        "colab": {
          "base_uri": "https://localhost:8080/"
        },
        "id": "TVm9JQu3lGvv",
        "outputId": "fbfe7e42-a02e-4378-d214-034e4306678b"
      },
      "source": [
        "y"
      ],
      "execution_count": null,
      "outputs": [
        {
          "output_type": "execute_result",
          "data": {
            "text/plain": [
              "array([0, 0, 0, 0, 0, 0, 0, 0, 0, 0, 0, 0, 0, 0, 0, 0, 0, 0, 0, 0, 0, 0,\n",
              "       0, 0, 0, 0, 0, 0, 0, 0, 0, 0, 0, 0, 0, 0, 0, 0, 0, 0, 0, 0, 0, 0,\n",
              "       0, 0, 0, 0, 0, 0, 1, 1, 1, 1, 1, 1, 1, 1, 1, 1, 1, 1, 1, 1, 1, 1,\n",
              "       1, 1, 1, 1, 1, 1, 1, 1, 1, 1, 1, 1, 1, 1, 1, 1, 1, 1, 1, 1, 1, 1,\n",
              "       1, 1, 1, 1, 1, 1, 1, 1, 1, 1, 1, 1, 2, 2, 2, 2, 2, 2, 2, 2, 2, 2,\n",
              "       2, 2, 2, 2, 2, 2, 2, 2, 2, 2, 2, 2, 2, 2, 2, 2, 2, 2, 2, 2, 2, 2,\n",
              "       2, 2, 2, 2, 2, 2, 2, 2, 2, 2, 2, 2, 2, 2, 2, 2, 2, 2])"
            ]
          },
          "metadata": {
            "tags": []
          },
          "execution_count": 101
        }
      ]
    },
    {
      "cell_type": "code",
      "metadata": {
        "id": "CusrVNzFlGn6"
      },
      "source": [
        "iris = datasets.load_iris()"
      ],
      "execution_count": null,
      "outputs": []
    },
    {
      "cell_type": "markdown",
      "metadata": {
        "id": "wcOWM4ZzTPJV"
      },
      "source": [
        "### Model_selection"
      ]
    },
    {
      "cell_type": "code",
      "metadata": {
        "id": "cbbosvfMTRX7"
      },
      "source": [
        "from sklearn import model_selection"
      ],
      "execution_count": null,
      "outputs": []
    },
    {
      "cell_type": "code",
      "metadata": {
        "id": "j0POrSHLmxGh"
      },
      "source": [
        "x_train, x_test ,y_train, y_test = model_selection.train_test_split(x,y,test_size=0.2)"
      ],
      "execution_count": null,
      "outputs": []
    },
    {
      "cell_type": "code",
      "metadata": {
        "colab": {
          "base_uri": "https://localhost:8080/"
        },
        "id": "DdK95xQEncB2",
        "outputId": "cebf5981-9471-4987-f950-64fed87f9795"
      },
      "source": [
        "y_train.shape"
      ],
      "execution_count": null,
      "outputs": [
        {
          "output_type": "execute_result",
          "data": {
            "text/plain": [
              "(120,)"
            ]
          },
          "metadata": {
            "tags": []
          },
          "execution_count": 111
        }
      ]
    },
    {
      "cell_type": "code",
      "metadata": {
        "id": "TXyCyXw3nnEo"
      },
      "source": [
        "from sklearn import svm"
      ],
      "execution_count": null,
      "outputs": []
    },
    {
      "cell_type": "code",
      "metadata": {
        "id": "--mHY7kpn9_G"
      },
      "source": [
        "# maquina de soporte vectorial\r\n",
        "# clasificador de soporte vectorial\r\n",
        "svc = svm.SVC()\r\n",
        "parameters = {'kernel':('linear', 'rbf'), 'C':[1, 8, 10]}\r\n",
        "# svc1 = svm.SVC(kernel=linear, c=1)\r\n",
        "# svc2 = svm.SVC(kernel=linear, c=8)"
      ],
      "execution_count": null,
      "outputs": []
    },
    {
      "cell_type": "code",
      "metadata": {
        "id": "3i8vvVq9nvJT"
      },
      "source": [
        "clf = model_selection.GridSearchCV(svc, parameters)"
      ],
      "execution_count": null,
      "outputs": []
    },
    {
      "cell_type": "code",
      "metadata": {
        "colab": {
          "base_uri": "https://localhost:8080/"
        },
        "id": "B6FKvWQanvC_",
        "outputId": "4ccc46b1-7083-40e8-d08c-d11dd86c9783"
      },
      "source": [
        "clf.fit(x,y)"
      ],
      "execution_count": null,
      "outputs": [
        {
          "output_type": "execute_result",
          "data": {
            "text/plain": [
              "GridSearchCV(cv=None, error_score=nan,\n",
              "             estimator=SVC(C=1.0, break_ties=False, cache_size=200,\n",
              "                           class_weight=None, coef0=0.0,\n",
              "                           decision_function_shape='ovr', degree=3,\n",
              "                           gamma='scale', kernel='rbf', max_iter=-1,\n",
              "                           probability=False, random_state=None, shrinking=True,\n",
              "                           tol=0.001, verbose=False),\n",
              "             iid='deprecated', n_jobs=None,\n",
              "             param_grid={'C': [1, 8, 10], 'kernel': ('linear', 'rbf')},\n",
              "             pre_dispatch='2*n_jobs', refit=True, return_train_score=False,\n",
              "             scoring=None, verbose=0)"
            ]
          },
          "metadata": {
            "tags": []
          },
          "execution_count": 122
        }
      ]
    },
    {
      "cell_type": "code",
      "metadata": {
        "colab": {
          "base_uri": "https://localhost:8080/"
        },
        "id": "R8Yrfamlnu69",
        "outputId": "028ab57d-54be-4d00-8d7c-0755ed3c5fed"
      },
      "source": [
        "clf.best_params_"
      ],
      "execution_count": null,
      "outputs": [
        {
          "output_type": "execute_result",
          "data": {
            "text/plain": [
              "{'C': 8, 'kernel': 'rbf'}"
            ]
          },
          "metadata": {
            "tags": []
          },
          "execution_count": 123
        }
      ]
    },
    {
      "cell_type": "code",
      "metadata": {
        "colab": {
          "base_uri": "https://localhost:8080/"
        },
        "id": "_tnlxv5aoqiV",
        "outputId": "4cc48312-4eda-477a-ea0e-9236362f00b1"
      },
      "source": [
        "clf.best_score_"
      ],
      "execution_count": null,
      "outputs": [
        {
          "output_type": "execute_result",
          "data": {
            "text/plain": [
              "0.9866666666666667"
            ]
          },
          "metadata": {
            "tags": []
          },
          "execution_count": 124
        }
      ]
    },
    {
      "cell_type": "code",
      "metadata": {
        "id": "pf5zIySvqT9o"
      },
      "source": [
        "svc = svm.SVC(C=8, kernel='rbf').fit(x,y)\r\n"
      ],
      "execution_count": null,
      "outputs": []
    },
    {
      "cell_type": "code",
      "metadata": {
        "id": "bjO3PqoZqdHM"
      },
      "source": [
        "predicciones= svc.predict(x)"
      ],
      "execution_count": null,
      "outputs": []
    },
    {
      "cell_type": "markdown",
      "metadata": {
        "id": "d7zHXbmmTUIU"
      },
      "source": [
        "### Metrics"
      ]
    },
    {
      "cell_type": "markdown",
      "metadata": {
        "id": "XRfDsCYhqC-S"
      },
      "source": [
        "Funciones para evaluar mi modelo"
      ]
    },
    {
      "cell_type": "code",
      "metadata": {
        "id": "XqvlZ3sUTVCc"
      },
      "source": [
        "from sklearn import metrics"
      ],
      "execution_count": null,
      "outputs": []
    },
    {
      "cell_type": "code",
      "metadata": {
        "colab": {
          "base_uri": "https://localhost:8080/"
        },
        "id": "4qrAe5DeqkZZ",
        "outputId": "bdfdf716-9127-4932-fbea-0198019595fe"
      },
      "source": [
        "print(metrics.classification_report(predicciones, y))"
      ],
      "execution_count": null,
      "outputs": [
        {
          "output_type": "stream",
          "text": [
            "              precision    recall  f1-score   support\n",
            "\n",
            "           0       1.00      1.00      1.00        50\n",
            "           1       0.98      1.00      0.99        49\n",
            "           2       1.00      0.98      0.99        51\n",
            "\n",
            "    accuracy                           0.99       150\n",
            "   macro avg       0.99      0.99      0.99       150\n",
            "weighted avg       0.99      0.99      0.99       150\n",
            "\n"
          ],
          "name": "stdout"
        }
      ]
    },
    {
      "cell_type": "code",
      "metadata": {
        "id": "7t-c0oaGqqqK"
      },
      "source": [
        ""
      ],
      "execution_count": null,
      "outputs": []
    }
  ]
}