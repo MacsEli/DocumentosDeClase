{
  "nbformat": 4,
  "nbformat_minor": 0,
  "metadata": {
    "colab": {
      "name": "More_Hyp_Testing_Scipy&StatsMod.ipynb",
      "provenance": [],
      "include_colab_link": true
    },
    "kernelspec": {
      "name": "python3",
      "display_name": "Python 3"
    }
  },
  "cells": [
    {
      "cell_type": "markdown",
      "metadata": {
        "id": "view-in-github",
        "colab_type": "text"
      },
      "source": [
        "<a href=\"https://colab.research.google.com/github/MacsEli/DocumentosDeClase/blob/main/More_Hyp_Testing_Scipy%26StatsMod.ipynb\" target=\"_parent\"><img src=\"https://colab.research.google.com/assets/colab-badge.svg\" alt=\"Open In Colab\"/></a>"
      ]
    },
    {
      "cell_type": "markdown",
      "metadata": {
        "id": "9gYFTYahwS1x"
      },
      "source": [
        "## ANOVA"
      ]
    },
    {
      "cell_type": "markdown",
      "metadata": {
        "id": "Yy3TmdZqwn6r"
      },
      "source": [
        "Prueba que nos permite comprobar si el grupo al que pertenecen nuestros datos hacen diferencia significativa en los resultados.\r\n",
        "\r\n",
        "- Normalidad\r\n",
        "- Varianza entre grupos\r\n",
        "- Independencia\r\n",
        "\r\n",
        "$\\mu_i=\\mu_j$"
      ]
    },
    {
      "cell_type": "markdown",
      "metadata": {
        "id": "O70w7X9KyJdR"
      },
      "source": [
        "### Construcción de anova"
      ]
    },
    {
      "cell_type": "markdown",
      "metadata": {
        "id": "DHvqJdo2whHz"
      },
      "source": [
        "![ANOVA](https://camo.githubusercontent.com/f4be2d25ab16745e51ad1d15349badb3329ec78d/68747470733a2f2f73332d65752d776573742d312e616d617a6f6e6177732e636f6d2f69682d6d6174657269616c732f75706c6f6164732f646174612d7374617469632f696d616765732f616e6f76612e706e67)"
      ]
    },
    {
      "cell_type": "markdown",
      "metadata": {
        "id": "gBybLXquzXt9"
      },
      "source": [
        "##### Ej\r\n",
        "Supongamos los siguientes datos\r\n",
        "\r\n",
        "| Valor | Grupo |\r\n",
        "|:-----:|:-----:|\r\n",
        "| 3     | A     |\r\n",
        "| 2     | A     |\r\n",
        "| 1     | A     |\r\n",
        "| 5     | B     |\r\n",
        "| 3     | B     | \r\n",
        "| 4     | B     |\r\n",
        "| 5     | C     |\r\n",
        "| 6     | C     |\r\n",
        "| 7     | C     |\r\n",
        "\r\n",
        "Lo cual podemos resumir de la siguiente manera\r\n",
        "\r\n",
        "| A | B | C |\r\n",
        "|---|---|---|\r\n",
        "| 3 | 5 | 5 |\r\n",
        "| 2 | 3 | 6 |\r\n",
        "| 1 | 4 | 7 |"
      ]
    },
    {
      "cell_type": "markdown",
      "metadata": {
        "id": "6ssu5jgh7NTF"
      },
      "source": [
        "- SST Variación total\r\n",
        "- SSB Variación entre un grupo y otro\r\n",
        "- SSE Variación dentro de los grupos"
      ]
    },
    {
      "cell_type": "markdown",
      "metadata": {
        "id": "lXDW64mb7jdE"
      },
      "source": [
        "SST dof 8 \\\\\r\n",
        "SSB dof 2 \\\\\r\n",
        "SSE dof 6"
      ]
    },
    {
      "cell_type": "markdown",
      "metadata": {
        "id": "mT8uK5qHessA"
      },
      "source": [
        "Primero calculamos\\\r\n",
        "$\\overline{X},\\overline{X}_A,\\overline{X}_B,\\overline{X}_C$ \\\\\r\n",
        "Resultando en \\\\\r\n",
        "$\\overline{X}=4$ \\\\\r\n",
        "$\\overline{X}_A=2$ \\\\\r\n",
        "$\\overline{X}_B=4$ \\\\\r\n",
        "$\\overline{X}_C=6$ \\\\\r\n",
        "$$SST=\\sum\\sum(X-\\overline{X})^2=30$$\r\n",
        "$$SSB=\\sum n_i(\\overline{X}_i-\\overline{X})^2=24$$\r\n",
        "$$SSE=\\sum\\sum(X-\\overline{X}_i)^2=6$$\r\n",
        "$$MSB=\\frac{24}{2}=12$$\r\n",
        "$$MSE=\\frac{6}{6}=1$$\r\n",
        "$$F=12$$\r\n"
      ]
    },
    {
      "cell_type": "code",
      "metadata": {
        "id": "CHSqa2gp9dIT"
      },
      "source": [
        "import statsmodels.api as sm\r\n",
        "from statsmodels.formula.api import ols\r\n",
        "from scipy.stats import f_oneway\r\n",
        "import matplotlib.pyplot as plt\r\n",
        "import seaborn as sns\r\n",
        "import numpy as np\r\n",
        "import pandas as pd"
      ],
      "execution_count": null,
      "outputs": []
    },
    {
      "cell_type": "code",
      "metadata": {
        "id": "vI_ToYwc-ZTm"
      },
      "source": [
        "df = pd.DataFrame({'water': np.repeat(['daily', 'weekly'], 15),\r\n",
        "                   'sun': np.tile(np.repeat(['low', 'med', 'high'], 5), 2),\r\n",
        "                   'height': [6, 6, 6, 5, 6, 5, 5, 6, 4, 5,\r\n",
        "                              6, 6, 7, 8, 7, 3, 4, 4, 4, 5,\r\n",
        "                              4, 4, 4, 4, 4, 5, 6, 6, 7, 8]})"
      ],
      "execution_count": null,
      "outputs": []
    },
    {
      "cell_type": "code",
      "metadata": {
        "colab": {
          "base_uri": "https://localhost:8080/",
          "height": 204
        },
        "id": "ZZX_iLpp-a6J",
        "outputId": "17102e7b-9061-4217-d30f-bdb6233c59a8"
      },
      "source": [
        "df1 = df[['sun','height']].copy()\r\n",
        "df1.head()"
      ],
      "execution_count": null,
      "outputs": [
        {
          "output_type": "execute_result",
          "data": {
            "text/html": [
              "<div>\n",
              "<style scoped>\n",
              "    .dataframe tbody tr th:only-of-type {\n",
              "        vertical-align: middle;\n",
              "    }\n",
              "\n",
              "    .dataframe tbody tr th {\n",
              "        vertical-align: top;\n",
              "    }\n",
              "\n",
              "    .dataframe thead th {\n",
              "        text-align: right;\n",
              "    }\n",
              "</style>\n",
              "<table border=\"1\" class=\"dataframe\">\n",
              "  <thead>\n",
              "    <tr style=\"text-align: right;\">\n",
              "      <th></th>\n",
              "      <th>sun</th>\n",
              "      <th>height</th>\n",
              "    </tr>\n",
              "  </thead>\n",
              "  <tbody>\n",
              "    <tr>\n",
              "      <th>0</th>\n",
              "      <td>low</td>\n",
              "      <td>6</td>\n",
              "    </tr>\n",
              "    <tr>\n",
              "      <th>1</th>\n",
              "      <td>low</td>\n",
              "      <td>6</td>\n",
              "    </tr>\n",
              "    <tr>\n",
              "      <th>2</th>\n",
              "      <td>low</td>\n",
              "      <td>6</td>\n",
              "    </tr>\n",
              "    <tr>\n",
              "      <th>3</th>\n",
              "      <td>low</td>\n",
              "      <td>5</td>\n",
              "    </tr>\n",
              "    <tr>\n",
              "      <th>4</th>\n",
              "      <td>low</td>\n",
              "      <td>6</td>\n",
              "    </tr>\n",
              "  </tbody>\n",
              "</table>\n",
              "</div>"
            ],
            "text/plain": [
              "   sun  height\n",
              "0  low       6\n",
              "1  low       6\n",
              "2  low       6\n",
              "3  low       5\n",
              "4  low       6"
            ]
          },
          "metadata": {
            "tags": []
          },
          "execution_count": 30
        }
      ]
    },
    {
      "cell_type": "code",
      "metadata": {
        "id": "ZvORKEx_-yg7"
      },
      "source": [
        "df1['sun_count']=df1.groupby('sun').cumcount()\r\n",
        "df1_pivot = df1.pivot(index='sun_count',columns='sun',values='height')\r\n",
        "df1_pivot.columns = ['sun_'+str(x) for x in df1_pivot.columns.values]"
      ],
      "execution_count": null,
      "outputs": []
    },
    {
      "cell_type": "code",
      "metadata": {
        "colab": {
          "base_uri": "https://localhost:8080/",
          "height": 421
        },
        "id": "r8jKrdtz_Zcn",
        "outputId": "4eb41ef5-624c-4cac-c2e8-00c077a412f2"
      },
      "source": [
        "df1_pivot"
      ],
      "execution_count": null,
      "outputs": [
        {
          "output_type": "execute_result",
          "data": {
            "text/html": [
              "<div>\n",
              "<style scoped>\n",
              "    .dataframe tbody tr th:only-of-type {\n",
              "        vertical-align: middle;\n",
              "    }\n",
              "\n",
              "    .dataframe tbody tr th {\n",
              "        vertical-align: top;\n",
              "    }\n",
              "\n",
              "    .dataframe thead th {\n",
              "        text-align: right;\n",
              "    }\n",
              "</style>\n",
              "<table border=\"1\" class=\"dataframe\">\n",
              "  <thead>\n",
              "    <tr style=\"text-align: right;\">\n",
              "      <th></th>\n",
              "      <th>sun_high</th>\n",
              "      <th>sun_low</th>\n",
              "      <th>sun_med</th>\n",
              "    </tr>\n",
              "    <tr>\n",
              "      <th>sun_count</th>\n",
              "      <th></th>\n",
              "      <th></th>\n",
              "      <th></th>\n",
              "    </tr>\n",
              "  </thead>\n",
              "  <tbody>\n",
              "    <tr>\n",
              "      <th>0</th>\n",
              "      <td>6.0</td>\n",
              "      <td>6.0</td>\n",
              "      <td>6.0</td>\n",
              "    </tr>\n",
              "    <tr>\n",
              "      <th>1</th>\n",
              "      <td>6.0</td>\n",
              "      <td>6.0</td>\n",
              "      <td>5.0</td>\n",
              "    </tr>\n",
              "    <tr>\n",
              "      <th>2</th>\n",
              "      <td>7.0</td>\n",
              "      <td>5.0</td>\n",
              "      <td>5.0</td>\n",
              "    </tr>\n",
              "    <tr>\n",
              "      <th>3</th>\n",
              "      <td>8.0</td>\n",
              "      <td>6.0</td>\n",
              "      <td>6.0</td>\n",
              "    </tr>\n",
              "    <tr>\n",
              "      <th>4</th>\n",
              "      <td>7.0</td>\n",
              "      <td>3.0</td>\n",
              "      <td>4.0</td>\n",
              "    </tr>\n",
              "    <tr>\n",
              "      <th>5</th>\n",
              "      <td>5.0</td>\n",
              "      <td>4.0</td>\n",
              "      <td>5.0</td>\n",
              "    </tr>\n",
              "    <tr>\n",
              "      <th>6</th>\n",
              "      <td>6.0</td>\n",
              "      <td>4.0</td>\n",
              "      <td>4.0</td>\n",
              "    </tr>\n",
              "    <tr>\n",
              "      <th>7</th>\n",
              "      <td>6.0</td>\n",
              "      <td>4.0</td>\n",
              "      <td>4.0</td>\n",
              "    </tr>\n",
              "    <tr>\n",
              "      <th>8</th>\n",
              "      <td>7.0</td>\n",
              "      <td>5.0</td>\n",
              "      <td>4.0</td>\n",
              "    </tr>\n",
              "    <tr>\n",
              "      <th>9</th>\n",
              "      <td>8.0</td>\n",
              "      <td>NaN</td>\n",
              "      <td>4.0</td>\n",
              "    </tr>\n",
              "    <tr>\n",
              "      <th>10</th>\n",
              "      <td>NaN</td>\n",
              "      <td>NaN</td>\n",
              "      <td>4.0</td>\n",
              "    </tr>\n",
              "  </tbody>\n",
              "</table>\n",
              "</div>"
            ],
            "text/plain": [
              "           sun_high  sun_low  sun_med\n",
              "sun_count                            \n",
              "0               6.0      6.0      6.0\n",
              "1               6.0      6.0      5.0\n",
              "2               7.0      5.0      5.0\n",
              "3               8.0      6.0      6.0\n",
              "4               7.0      3.0      4.0\n",
              "5               5.0      4.0      5.0\n",
              "6               6.0      4.0      4.0\n",
              "7               6.0      4.0      4.0\n",
              "8               7.0      5.0      4.0\n",
              "9               8.0      NaN      4.0\n",
              "10              NaN      NaN      4.0"
            ]
          },
          "metadata": {
            "tags": []
          },
          "execution_count": 28
        }
      ]
    },
    {
      "cell_type": "code",
      "metadata": {
        "colab": {
          "base_uri": "https://localhost:8080/"
        },
        "id": "DXUUtMKj_6Ih",
        "outputId": "fb72bb7c-2039-4ebc-f9ee-a8d47265e105"
      },
      "source": [
        "f_oneway(df1_pivot.sun_high, df1_pivot.sun_low, df1_pivot.sun_med)"
      ],
      "execution_count": null,
      "outputs": [
        {
          "output_type": "execute_result",
          "data": {
            "text/plain": [
              "F_onewayResult(statistic=nan, pvalue=nan)"
            ]
          },
          "metadata": {
            "tags": []
          },
          "execution_count": 29
        }
      ]
    },
    {
      "cell_type": "code",
      "metadata": {
        "colab": {
          "base_uri": "https://localhost:8080/",
          "height": 204
        },
        "id": "fOvEKg0vAKpl",
        "outputId": "398f4eac-23b2-45c5-c2d7-f413245480d7"
      },
      "source": [
        "#df1.iat[0,0]='med'\r\n",
        "df1.head()"
      ],
      "execution_count": null,
      "outputs": [
        {
          "output_type": "execute_result",
          "data": {
            "text/html": [
              "<div>\n",
              "<style scoped>\n",
              "    .dataframe tbody tr th:only-of-type {\n",
              "        vertical-align: middle;\n",
              "    }\n",
              "\n",
              "    .dataframe tbody tr th {\n",
              "        vertical-align: top;\n",
              "    }\n",
              "\n",
              "    .dataframe thead th {\n",
              "        text-align: right;\n",
              "    }\n",
              "</style>\n",
              "<table border=\"1\" class=\"dataframe\">\n",
              "  <thead>\n",
              "    <tr style=\"text-align: right;\">\n",
              "      <th></th>\n",
              "      <th>sun</th>\n",
              "      <th>height</th>\n",
              "    </tr>\n",
              "  </thead>\n",
              "  <tbody>\n",
              "    <tr>\n",
              "      <th>0</th>\n",
              "      <td>med</td>\n",
              "      <td>6</td>\n",
              "    </tr>\n",
              "    <tr>\n",
              "      <th>1</th>\n",
              "      <td>low</td>\n",
              "      <td>6</td>\n",
              "    </tr>\n",
              "    <tr>\n",
              "      <th>2</th>\n",
              "      <td>low</td>\n",
              "      <td>6</td>\n",
              "    </tr>\n",
              "    <tr>\n",
              "      <th>3</th>\n",
              "      <td>low</td>\n",
              "      <td>5</td>\n",
              "    </tr>\n",
              "    <tr>\n",
              "      <th>4</th>\n",
              "      <td>low</td>\n",
              "      <td>6</td>\n",
              "    </tr>\n",
              "  </tbody>\n",
              "</table>\n",
              "</div>"
            ],
            "text/plain": [
              "   sun  height\n",
              "0  med       6\n",
              "1  low       6\n",
              "2  low       6\n",
              "3  low       5\n",
              "4  low       6"
            ]
          },
          "metadata": {
            "tags": []
          },
          "execution_count": 59
        }
      ]
    },
    {
      "cell_type": "code",
      "metadata": {
        "id": "I-y9xrV5AzcJ"
      },
      "source": [
        "model_simp = ols('height ~ sun', data=df1).fit()"
      ],
      "execution_count": null,
      "outputs": []
    },
    {
      "cell_type": "code",
      "metadata": {
        "colab": {
          "base_uri": "https://localhost:8080/",
          "height": 111
        },
        "id": "itAZzxTNBSsD",
        "outputId": "97096900-7569-4fb1-c2e5-a92316415d6d"
      },
      "source": [
        "sm.stats.anova_lm(model_simp, typ=2)"
      ],
      "execution_count": null,
      "outputs": [
        {
          "output_type": "execute_result",
          "data": {
            "text/html": [
              "<div>\n",
              "<style scoped>\n",
              "    .dataframe tbody tr th:only-of-type {\n",
              "        vertical-align: middle;\n",
              "    }\n",
              "\n",
              "    .dataframe tbody tr th {\n",
              "        vertical-align: top;\n",
              "    }\n",
              "\n",
              "    .dataframe thead th {\n",
              "        text-align: right;\n",
              "    }\n",
              "</style>\n",
              "<table border=\"1\" class=\"dataframe\">\n",
              "  <thead>\n",
              "    <tr style=\"text-align: right;\">\n",
              "      <th></th>\n",
              "      <th>sum_sq</th>\n",
              "      <th>df</th>\n",
              "      <th>F</th>\n",
              "      <th>PR(&gt;F)</th>\n",
              "    </tr>\n",
              "  </thead>\n",
              "  <tbody>\n",
              "    <tr>\n",
              "      <th>sun</th>\n",
              "      <td>24.165657</td>\n",
              "      <td>2.0</td>\n",
              "      <td>13.315221</td>\n",
              "      <td>0.000095</td>\n",
              "    </tr>\n",
              "    <tr>\n",
              "      <th>Residual</th>\n",
              "      <td>24.501010</td>\n",
              "      <td>27.0</td>\n",
              "      <td>NaN</td>\n",
              "      <td>NaN</td>\n",
              "    </tr>\n",
              "  </tbody>\n",
              "</table>\n",
              "</div>"
            ],
            "text/plain": [
              "             sum_sq    df          F    PR(>F)\n",
              "sun       24.165657   2.0  13.315221  0.000095\n",
              "Residual  24.501010  27.0        NaN       NaN"
            ]
          },
          "metadata": {
            "tags": []
          },
          "execution_count": 61
        }
      ]
    },
    {
      "cell_type": "code",
      "metadata": {
        "colab": {
          "base_uri": "https://localhost:8080/",
          "height": 142
        },
        "id": "Sb6ea7VGFG82",
        "outputId": "6642fd2a-685a-4c1d-f8f0-1909b3d26d7f"
      },
      "source": [
        "model_amb = ols('height ~ sun + water', data=df).fit()\r\n",
        "sm.stats.anova_lm(model_amb, typ=2)"
      ],
      "execution_count": null,
      "outputs": [
        {
          "output_type": "execute_result",
          "data": {
            "text/html": [
              "<div>\n",
              "<style scoped>\n",
              "    .dataframe tbody tr th:only-of-type {\n",
              "        vertical-align: middle;\n",
              "    }\n",
              "\n",
              "    .dataframe tbody tr th {\n",
              "        vertical-align: top;\n",
              "    }\n",
              "\n",
              "    .dataframe thead th {\n",
              "        text-align: right;\n",
              "    }\n",
              "</style>\n",
              "<table border=\"1\" class=\"dataframe\">\n",
              "  <thead>\n",
              "    <tr style=\"text-align: right;\">\n",
              "      <th></th>\n",
              "      <th>sum_sq</th>\n",
              "      <th>df</th>\n",
              "      <th>F</th>\n",
              "      <th>PR(&gt;F)</th>\n",
              "    </tr>\n",
              "  </thead>\n",
              "  <tbody>\n",
              "    <tr>\n",
              "      <th>sun</th>\n",
              "      <td>24.866667</td>\n",
              "      <td>2.0</td>\n",
              "      <td>21.174672</td>\n",
              "      <td>0.000003</td>\n",
              "    </tr>\n",
              "    <tr>\n",
              "      <th>water</th>\n",
              "      <td>8.533333</td>\n",
              "      <td>1.0</td>\n",
              "      <td>14.532751</td>\n",
              "      <td>0.000762</td>\n",
              "    </tr>\n",
              "    <tr>\n",
              "      <th>Residual</th>\n",
              "      <td>15.266667</td>\n",
              "      <td>26.0</td>\n",
              "      <td>NaN</td>\n",
              "      <td>NaN</td>\n",
              "    </tr>\n",
              "  </tbody>\n",
              "</table>\n",
              "</div>"
            ],
            "text/plain": [
              "             sum_sq    df          F    PR(>F)\n",
              "sun       24.866667   2.0  21.174672  0.000003\n",
              "water      8.533333   1.0  14.532751  0.000762\n",
              "Residual  15.266667  26.0        NaN       NaN"
            ]
          },
          "metadata": {
            "tags": []
          },
          "execution_count": 63
        }
      ]
    },
    {
      "cell_type": "code",
      "metadata": {
        "colab": {
          "base_uri": "https://localhost:8080/",
          "height": 173
        },
        "id": "cs02zFSLFG42",
        "outputId": "ef04766c-7f05-4b85-c964-4adae32e52bd"
      },
      "source": [
        "model_duo = ols('height ~ sun*water', data=df).fit()\r\n",
        "sm.stats.anova_lm(model_duo, typ=2)"
      ],
      "execution_count": null,
      "outputs": [
        {
          "output_type": "execute_result",
          "data": {
            "text/html": [
              "<div>\n",
              "<style scoped>\n",
              "    .dataframe tbody tr th:only-of-type {\n",
              "        vertical-align: middle;\n",
              "    }\n",
              "\n",
              "    .dataframe tbody tr th {\n",
              "        vertical-align: top;\n",
              "    }\n",
              "\n",
              "    .dataframe thead th {\n",
              "        text-align: right;\n",
              "    }\n",
              "</style>\n",
              "<table border=\"1\" class=\"dataframe\">\n",
              "  <thead>\n",
              "    <tr style=\"text-align: right;\">\n",
              "      <th></th>\n",
              "      <th>sum_sq</th>\n",
              "      <th>df</th>\n",
              "      <th>F</th>\n",
              "      <th>PR(&gt;F)</th>\n",
              "    </tr>\n",
              "  </thead>\n",
              "  <tbody>\n",
              "    <tr>\n",
              "      <th>sun</th>\n",
              "      <td>24.866667</td>\n",
              "      <td>2.0</td>\n",
              "      <td>23.3125</td>\n",
              "      <td>0.000002</td>\n",
              "    </tr>\n",
              "    <tr>\n",
              "      <th>water</th>\n",
              "      <td>8.533333</td>\n",
              "      <td>1.0</td>\n",
              "      <td>16.0000</td>\n",
              "      <td>0.000527</td>\n",
              "    </tr>\n",
              "    <tr>\n",
              "      <th>sun:water</th>\n",
              "      <td>2.466667</td>\n",
              "      <td>2.0</td>\n",
              "      <td>2.3125</td>\n",
              "      <td>0.120667</td>\n",
              "    </tr>\n",
              "    <tr>\n",
              "      <th>Residual</th>\n",
              "      <td>12.800000</td>\n",
              "      <td>24.0</td>\n",
              "      <td>NaN</td>\n",
              "      <td>NaN</td>\n",
              "    </tr>\n",
              "  </tbody>\n",
              "</table>\n",
              "</div>"
            ],
            "text/plain": [
              "              sum_sq    df        F    PR(>F)\n",
              "sun        24.866667   2.0  23.3125  0.000002\n",
              "water       8.533333   1.0  16.0000  0.000527\n",
              "sun:water   2.466667   2.0   2.3125  0.120667\n",
              "Residual   12.800000  24.0      NaN       NaN"
            ]
          },
          "metadata": {
            "tags": []
          },
          "execution_count": 68
        }
      ]
    },
    {
      "cell_type": "markdown",
      "metadata": {
        "id": "ZHIgSvbR77QZ"
      },
      "source": [
        "## Regresión Lineal"
      ]
    },
    {
      "cell_type": "markdown",
      "metadata": {
        "id": "ONHeVJk179dQ"
      },
      "source": [
        "Es un módelo que nos permite representar una variable como combinación lineal de otras, es decir\r\n",
        "\r\n",
        "$$ Y = \\beta_0 + \\beta_1X_1 +\\dots+ \\beta_nX_n$$"
      ]
    },
    {
      "cell_type": "markdown",
      "metadata": {
        "id": "1Kg9Y4s8_bOS"
      },
      "source": [
        "Para visualizar de mejor manera veremos el caso particular\r\n",
        "$$ Y = \\beta_0 + \\beta_1X + \\varepsilon$$\r\n",
        "\r\n",
        "Podemos observarlo de la siguiente manera \\\\\r\n",
        "\r\n",
        "(No supe subir la imagen jeje)"
      ]
    },
    {
      "cell_type": "code",
      "metadata": {
        "id": "WT7xZSwpMUk6"
      },
      "source": [
        "from scipy.stats import linregress"
      ],
      "execution_count": null,
      "outputs": []
    },
    {
      "cell_type": "code",
      "metadata": {
        "colab": {
          "base_uri": "https://localhost:8080/",
          "height": 204
        },
        "id": "aImuWHlRMvPM",
        "outputId": "b85ca348-a660-402b-c6bc-d1ea5be3851b"
      },
      "source": [
        "auto = pd.read_csv('sample_data/auto-mpg.csv')\r\n",
        "auto.head()"
      ],
      "execution_count": null,
      "outputs": [
        {
          "output_type": "execute_result",
          "data": {
            "text/html": [
              "<div>\n",
              "<style scoped>\n",
              "    .dataframe tbody tr th:only-of-type {\n",
              "        vertical-align: middle;\n",
              "    }\n",
              "\n",
              "    .dataframe tbody tr th {\n",
              "        vertical-align: top;\n",
              "    }\n",
              "\n",
              "    .dataframe thead th {\n",
              "        text-align: right;\n",
              "    }\n",
              "</style>\n",
              "<table border=\"1\" class=\"dataframe\">\n",
              "  <thead>\n",
              "    <tr style=\"text-align: right;\">\n",
              "      <th></th>\n",
              "      <th>mpg</th>\n",
              "      <th>cylinders</th>\n",
              "      <th>displacement</th>\n",
              "      <th>horse_power</th>\n",
              "      <th>weight</th>\n",
              "      <th>acceleration</th>\n",
              "      <th>model_year</th>\n",
              "      <th>car_name</th>\n",
              "    </tr>\n",
              "  </thead>\n",
              "  <tbody>\n",
              "    <tr>\n",
              "      <th>0</th>\n",
              "      <td>18.0</td>\n",
              "      <td>8</td>\n",
              "      <td>307.0</td>\n",
              "      <td>130.0</td>\n",
              "      <td>3504</td>\n",
              "      <td>12.0</td>\n",
              "      <td>70</td>\n",
              "      <td>\\t\"chevrolet chevelle malibu\"</td>\n",
              "    </tr>\n",
              "    <tr>\n",
              "      <th>1</th>\n",
              "      <td>15.0</td>\n",
              "      <td>8</td>\n",
              "      <td>350.0</td>\n",
              "      <td>165.0</td>\n",
              "      <td>3693</td>\n",
              "      <td>11.5</td>\n",
              "      <td>70</td>\n",
              "      <td>\\t\"buick skylark 320\"</td>\n",
              "    </tr>\n",
              "    <tr>\n",
              "      <th>2</th>\n",
              "      <td>18.0</td>\n",
              "      <td>8</td>\n",
              "      <td>318.0</td>\n",
              "      <td>150.0</td>\n",
              "      <td>3436</td>\n",
              "      <td>11.0</td>\n",
              "      <td>70</td>\n",
              "      <td>\\t\"plymouth satellite\"</td>\n",
              "    </tr>\n",
              "    <tr>\n",
              "      <th>3</th>\n",
              "      <td>16.0</td>\n",
              "      <td>8</td>\n",
              "      <td>304.0</td>\n",
              "      <td>150.0</td>\n",
              "      <td>3433</td>\n",
              "      <td>12.0</td>\n",
              "      <td>70</td>\n",
              "      <td>\\t\"amc rebel sst\"</td>\n",
              "    </tr>\n",
              "    <tr>\n",
              "      <th>4</th>\n",
              "      <td>17.0</td>\n",
              "      <td>8</td>\n",
              "      <td>302.0</td>\n",
              "      <td>140.0</td>\n",
              "      <td>3449</td>\n",
              "      <td>10.5</td>\n",
              "      <td>70</td>\n",
              "      <td>\\t\"ford torino\"</td>\n",
              "    </tr>\n",
              "  </tbody>\n",
              "</table>\n",
              "</div>"
            ],
            "text/plain": [
              "    mpg  cylinders  ...  model_year                       car_name\n",
              "0  18.0          8  ...          70  \\t\"chevrolet chevelle malibu\"\n",
              "1  15.0          8  ...          70          \\t\"buick skylark 320\"\n",
              "2  18.0          8  ...          70         \\t\"plymouth satellite\"\n",
              "3  16.0          8  ...          70              \\t\"amc rebel sst\"\n",
              "4  17.0          8  ...          70                \\t\"ford torino\"\n",
              "\n",
              "[5 rows x 8 columns]"
            ]
          },
          "metadata": {
            "tags": []
          },
          "execution_count": 72
        }
      ]
    },
    {
      "cell_type": "code",
      "metadata": {
        "id": "f9S6ZwyVM-78"
      },
      "source": [
        "car = auto[['acceleration','mpg']].copy()"
      ],
      "execution_count": null,
      "outputs": []
    },
    {
      "cell_type": "code",
      "metadata": {
        "colab": {
          "base_uri": "https://localhost:8080/",
          "height": 204
        },
        "id": "rihEOxX4NR3s",
        "outputId": "b0cfbb46-593b-4da7-8fbd-df3b21473534"
      },
      "source": [
        "car.head()"
      ],
      "execution_count": null,
      "outputs": [
        {
          "output_type": "execute_result",
          "data": {
            "text/html": [
              "<div>\n",
              "<style scoped>\n",
              "    .dataframe tbody tr th:only-of-type {\n",
              "        vertical-align: middle;\n",
              "    }\n",
              "\n",
              "    .dataframe tbody tr th {\n",
              "        vertical-align: top;\n",
              "    }\n",
              "\n",
              "    .dataframe thead th {\n",
              "        text-align: right;\n",
              "    }\n",
              "</style>\n",
              "<table border=\"1\" class=\"dataframe\">\n",
              "  <thead>\n",
              "    <tr style=\"text-align: right;\">\n",
              "      <th></th>\n",
              "      <th>acceleration</th>\n",
              "      <th>mpg</th>\n",
              "    </tr>\n",
              "  </thead>\n",
              "  <tbody>\n",
              "    <tr>\n",
              "      <th>0</th>\n",
              "      <td>12.0</td>\n",
              "      <td>18.0</td>\n",
              "    </tr>\n",
              "    <tr>\n",
              "      <th>1</th>\n",
              "      <td>11.5</td>\n",
              "      <td>15.0</td>\n",
              "    </tr>\n",
              "    <tr>\n",
              "      <th>2</th>\n",
              "      <td>11.0</td>\n",
              "      <td>18.0</td>\n",
              "    </tr>\n",
              "    <tr>\n",
              "      <th>3</th>\n",
              "      <td>12.0</td>\n",
              "      <td>16.0</td>\n",
              "    </tr>\n",
              "    <tr>\n",
              "      <th>4</th>\n",
              "      <td>10.5</td>\n",
              "      <td>17.0</td>\n",
              "    </tr>\n",
              "  </tbody>\n",
              "</table>\n",
              "</div>"
            ],
            "text/plain": [
              "   acceleration   mpg\n",
              "0          12.0  18.0\n",
              "1          11.5  15.0\n",
              "2          11.0  18.0\n",
              "3          12.0  16.0\n",
              "4          10.5  17.0"
            ]
          },
          "metadata": {
            "tags": []
          },
          "execution_count": 75
        }
      ]
    },
    {
      "cell_type": "code",
      "metadata": {
        "colab": {
          "base_uri": "https://localhost:8080/",
          "height": 279
        },
        "id": "vDCm7qQ1NV2d",
        "outputId": "e3bd112a-6f0d-40d2-c8a1-931e27211a8a"
      },
      "source": [
        "fig = plt.figure(facecolor='w')\r\n",
        "sns.scatterplot(x=car.acceleration, y=car.mpg)\r\n",
        "x = [car.acceleration.min(), car.acceleration.max()]\r\n",
        "y = [car.acceleration.min()*2, car.acceleration.max()*2]\r\n",
        "sns.lineplot(x=x, y=y, color='r');"
      ],
      "execution_count": null,
      "outputs": [
        {
          "output_type": "display_data",
          "data": {
            "image/png": "[encoded data removed]",
            "text/plain": [
              "<Figure size 432x288 with 1 Axes>"
            ]
          },
          "metadata": {
            "tags": []
          }
        }
      ]
    },
    {
      "cell_type": "code",
      "metadata": {
        "colab": {
          "base_uri": "https://localhost:8080/"
        },
        "id": "m1EGNgqnNhD9",
        "outputId": "6070b22c-a8eb-4bb2-9cf9-fcf14f5ae94d"
      },
      "source": [
        "slope, intercept, rvalue, pvalue, stderr = linregress(car.acceleration, car.mpg)\r\n",
        "pvalue"
      ],
      "execution_count": null,
      "outputs": [
        {
          "output_type": "execute_result",
          "data": {
            "text/plain": [
              "1.8230915350787203e-18"
            ]
          },
          "metadata": {
            "tags": []
          },
          "execution_count": 102
        }
      ]
    },
    {
      "cell_type": "code",
      "metadata": {
        "colab": {
          "base_uri": "https://localhost:8080/",
          "height": 279
        },
        "id": "X43-08IKPu_1",
        "outputId": "0ea7e8fa-90a2-4166-f1fc-b943dbf0dbed"
      },
      "source": [
        "fig = plt.figure(facecolor='w')\r\n",
        "sns.scatterplot(x=car.acceleration, y=car.mpg)\r\n",
        "x = [car.acceleration.min(), car.acceleration.max()]\r\n",
        "y = [intercept+car.acceleration.min()*slope, intercept+car.acceleration.max()*slope]\r\n",
        "sns.lineplot(x=x, y=y, color='r');"
      ],
      "execution_count": null,
      "outputs": [
        {
          "output_type": "display_data",
          "data": {
            "image/png": "[encoded data removed]",
            "text/plain": [
              "<Figure size 432x288 with 1 Axes>"
            ]
          },
          "metadata": {
            "tags": []
          }
        }
      ]
    },
    {
      "cell_type": "code",
      "metadata": {
        "id": "VzibfIJgO-va"
      },
      "source": [
        "X = sm.add_constant(car.acceleration)\r\n",
        "y = car.mpg"
      ],
      "execution_count": null,
      "outputs": []
    },
    {
      "cell_type": "code",
      "metadata": {
        "colab": {
          "base_uri": "https://localhost:8080/"
        },
        "id": "m3EDJsSRTgk3",
        "outputId": "14841009-3ef7-463e-8b0f-fe7805343187"
      },
      "source": [
        "intercept"
      ],
      "execution_count": null,
      "outputs": [
        {
          "output_type": "execute_result",
          "data": {
            "text/plain": [
              "4.9697930042539085"
            ]
          },
          "metadata": {
            "tags": []
          },
          "execution_count": 108
        }
      ]
    },
    {
      "cell_type": "code",
      "metadata": {
        "id": "Cg0kCuktSkD9"
      },
      "source": [
        "linreg_stats = sm.OLS(y, X).fit()"
      ],
      "execution_count": null,
      "outputs": []
    },
    {
      "cell_type": "code",
      "metadata": {
        "colab": {
          "base_uri": "https://localhost:8080/"
        },
        "id": "5W0F2MqWS9dq",
        "outputId": "dedadd6d-2875-4c0c-ef31-f52eb81f42c9"
      },
      "source": [
        "print(linreg_stats.summary())"
      ],
      "execution_count": null,
      "outputs": [
        {
          "output_type": "stream",
          "text": [
            "                            OLS Regression Results                            \n",
            "==============================================================================\n",
            "Dep. Variable:                    mpg   R-squared:                       0.177\n",
            "Model:                            OLS   Adj. R-squared:                  0.175\n",
            "Method:                 Least Squares   F-statistic:                     84.96\n",
            "Date:                Sat, 09 Jan 2021   Prob (F-statistic):           1.82e-18\n",
            "Time:                        22:42:20   Log-Likelihood:                -1343.9\n",
            "No. Observations:                 398   AIC:                             2692.\n",
            "Df Residuals:                     396   BIC:                             2700.\n",
            "Df Model:                           1                                         \n",
            "Covariance Type:            nonrobust                                         \n",
            "================================================================================\n",
            "                   coef    std err          t      P>|t|      [0.025      0.975]\n",
            "--------------------------------------------------------------------------------\n",
            "const            4.9698      2.043      2.432      0.015       0.953       8.987\n",
            "acceleration     1.1912      0.129      9.217      0.000       0.937       1.445\n",
            "==============================================================================\n",
            "Omnibus:                       17.459   Durbin-Watson:                   0.677\n",
            "Prob(Omnibus):                  0.000   Jarque-Bera (JB):               18.214\n",
            "Skew:                           0.497   Prob(JB):                     0.000111\n",
            "Kurtosis:                       2.670   Cond. No.                         91.1\n",
            "==============================================================================\n",
            "\n",
            "Warnings:\n",
            "[1] Standard Errors assume that the covariance matrix of the errors is correctly specified.\n"
          ],
          "name": "stdout"
        }
      ]
    },
    {
      "cell_type": "code",
      "metadata": {
        "id": "WO_6GNfVUA58"
      },
      "source": [
        "predicciones = linreg_stats.predict(X)"
      ],
      "execution_count": null,
      "outputs": []
    },
    {
      "cell_type": "code",
      "metadata": {
        "id": "ue9pAM3LUzhi"
      },
      "source": [
        "X['predict'] = predicciones"
      ],
      "execution_count": null,
      "outputs": []
    },
    {
      "cell_type": "code",
      "metadata": {
        "colab": {
          "base_uri": "https://localhost:8080/"
        },
        "id": "DRK89IfdVAYx",
        "outputId": "6ab809b0-c1cf-444c-bc38-16320bd8f2e8"
      },
      "source": [
        "linreg_stats.predict([1,11])"
      ],
      "execution_count": null,
      "outputs": [
        {
          "output_type": "execute_result",
          "data": {
            "text/plain": [
              "array([18.07304283])"
            ]
          },
          "metadata": {
            "tags": []
          },
          "execution_count": 117
        }
      ]
    }
  ]
}