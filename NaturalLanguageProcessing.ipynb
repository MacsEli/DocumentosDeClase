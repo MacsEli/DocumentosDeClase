{
  "nbformat": 4,
  "nbformat_minor": 0,
  "metadata": {
    "colab": {
      "name": "NaturalLanguageProcessing.ipynb",
      "provenance": [],
      "include_colab_link": true
    },
    "kernelspec": {
      "name": "python3",
      "display_name": "Python 3"
    }
  },
  "cells": [
    {
      "cell_type": "markdown",
      "metadata": {
        "id": "view-in-github",
        "colab_type": "text"
      },
      "source": [
        "<a href=\"https://colab.research.google.com/github/MacsEli/DocumentosDeClase/blob/main/NaturalLanguageProcessing.ipynb\" target=\"_parent\"><img src=\"https://colab.research.google.com/assets/colab-badge.svg\" alt=\"Open In Colab\"/></a>"
      ]
    },
    {
      "cell_type": "markdown",
      "metadata": {
        "id": "piRUOfQB_slf"
      },
      "source": [
        "## NLTK"
      ]
    },
    {
      "cell_type": "code",
      "metadata": {
        "id": "CVvr0o4MP2IR"
      },
      "source": [
        "import nltk"
      ],
      "execution_count": null,
      "outputs": []
    },
    {
      "cell_type": "code",
      "metadata": {
        "colab": {
          "base_uri": "https://localhost:8080/"
        },
        "id": "iYLUPz7HP88L",
        "outputId": "e0fae361-c635-4976-d469-9d137f76a4fa"
      },
      "source": [
        "nltk.download()"
      ],
      "execution_count": null,
      "outputs": [
        {
          "output_type": "stream",
          "text": [
            "NLTK Downloader\n",
            "---------------------------------------------------------------------------\n",
            "    d) Download   l) List    u) Update   c) Config   h) Help   q) Quit\n",
            "---------------------------------------------------------------------------\n",
            "Downloader> d\n",
            "\n",
            "Download which package (l=list; x=cancel)?\n",
            "  Identifier> book\n",
            "    Downloading collection 'book'\n",
            "       | \n",
            "       | Downloading package abc to /root/nltk_data...\n",
            "       |   Unzipping corpora/abc.zip.\n",
            "       | Downloading package brown to /root/nltk_data...\n",
            "       |   Unzipping corpora/brown.zip.\n",
            "       | Downloading package chat80 to /root/nltk_data...\n",
            "       |   Unzipping corpora/chat80.zip.\n",
            "       | Downloading package cmudict to /root/nltk_data...\n",
            "       |   Unzipping corpora/cmudict.zip.\n",
            "       | Downloading package conll2000 to /root/nltk_data...\n",
            "       |   Unzipping corpora/conll2000.zip.\n",
            "       | Downloading package conll2002 to /root/nltk_data...\n",
            "       |   Unzipping corpora/conll2002.zip.\n",
            "       | Downloading package dependency_treebank to /root/nltk_data...\n",
            "       |   Unzipping corpora/dependency_treebank.zip.\n",
            "       | Downloading package genesis to /root/nltk_data...\n",
            "       |   Unzipping corpora/genesis.zip.\n",
            "       | Downloading package gutenberg to /root/nltk_data...\n",
            "       |   Unzipping corpora/gutenberg.zip.\n",
            "       | Downloading package ieer to /root/nltk_data...\n",
            "       |   Unzipping corpora/ieer.zip.\n",
            "       | Downloading package inaugural to /root/nltk_data...\n",
            "       |   Unzipping corpora/inaugural.zip.\n",
            "       | Downloading package movie_reviews to /root/nltk_data...\n",
            "       |   Unzipping corpora/movie_reviews.zip.\n",
            "       | Downloading package nps_chat to /root/nltk_data...\n",
            "       |   Unzipping corpora/nps_chat.zip.\n",
            "       | Downloading package names to /root/nltk_data...\n",
            "       |   Unzipping corpora/names.zip.\n",
            "       | Downloading package ppattach to /root/nltk_data...\n",
            "       |   Unzipping corpora/ppattach.zip.\n",
            "       | Downloading package reuters to /root/nltk_data...\n",
            "       | Downloading package senseval to /root/nltk_data...\n",
            "       |   Unzipping corpora/senseval.zip.\n",
            "       | Downloading package state_union to /root/nltk_data...\n",
            "       |   Unzipping corpora/state_union.zip.\n",
            "       | Downloading package stopwords to /root/nltk_data...\n",
            "       |   Unzipping corpora/stopwords.zip.\n",
            "       | Downloading package swadesh to /root/nltk_data...\n",
            "       |   Unzipping corpora/swadesh.zip.\n",
            "       | Downloading package timit to /root/nltk_data...\n",
            "       |   Unzipping corpora/timit.zip.\n",
            "       | Downloading package treebank to /root/nltk_data...\n",
            "       |   Unzipping corpora/treebank.zip.\n",
            "       | Downloading package toolbox to /root/nltk_data...\n",
            "       |   Unzipping corpora/toolbox.zip.\n",
            "       | Downloading package udhr to /root/nltk_data...\n",
            "       |   Unzipping corpora/udhr.zip.\n",
            "       | Downloading package udhr2 to /root/nltk_data...\n",
            "       |   Unzipping corpora/udhr2.zip.\n",
            "       | Downloading package unicode_samples to /root/nltk_data...\n",
            "       |   Unzipping corpora/unicode_samples.zip.\n",
            "       | Downloading package webtext to /root/nltk_data...\n",
            "       |   Unzipping corpora/webtext.zip.\n",
            "       | Downloading package wordnet to /root/nltk_data...\n",
            "       |   Unzipping corpora/wordnet.zip.\n",
            "       | Downloading package wordnet_ic to /root/nltk_data...\n",
            "       |   Unzipping corpora/wordnet_ic.zip.\n",
            "       | Downloading package words to /root/nltk_data...\n",
            "       |   Unzipping corpora/words.zip.\n",
            "       | Downloading package maxent_treebank_pos_tagger to\n",
            "       |     /root/nltk_data...\n",
            "       |   Unzipping taggers/maxent_treebank_pos_tagger.zip.\n",
            "       | Downloading package maxent_ne_chunker to /root/nltk_data...\n",
            "       |   Unzipping chunkers/maxent_ne_chunker.zip.\n",
            "       | Downloading package universal_tagset to /root/nltk_data...\n",
            "       |   Unzipping taggers/universal_tagset.zip.\n",
            "       | Downloading package punkt to /root/nltk_data...\n",
            "       |   Unzipping tokenizers/punkt.zip.\n",
            "       | Downloading package book_grammars to /root/nltk_data...\n",
            "       |   Unzipping grammars/book_grammars.zip.\n",
            "       | Downloading package city_database to /root/nltk_data...\n",
            "       |   Unzipping corpora/city_database.zip.\n",
            "       | Downloading package tagsets to /root/nltk_data...\n",
            "       |   Unzipping help/tagsets.zip.\n",
            "       | Downloading package panlex_swadesh to /root/nltk_data...\n",
            "       | Downloading package averaged_perceptron_tagger to\n",
            "       |     /root/nltk_data...\n",
            "       |   Unzipping taggers/averaged_perceptron_tagger.zip.\n",
            "       | \n",
            "     Done downloading collection book\n",
            "\n",
            "---------------------------------------------------------------------------\n",
            "    d) Download   l) List    u) Update   c) Config   h) Help   q) Quit\n",
            "---------------------------------------------------------------------------\n",
            "Downloader> q\n"
          ],
          "name": "stdout"
        },
        {
          "output_type": "execute_result",
          "data": {
            "text/plain": [
              "True"
            ]
          },
          "metadata": {
            "tags": []
          },
          "execution_count": 2
        }
      ]
    },
    {
      "cell_type": "code",
      "metadata": {
        "colab": {
          "base_uri": "https://localhost:8080/"
        },
        "id": "2eUT4D17QKBk",
        "outputId": "ced152cf-f862-4570-9458-46e36b085539"
      },
      "source": [
        "from nltk.book import *"
      ],
      "execution_count": null,
      "outputs": [
        {
          "output_type": "stream",
          "text": [
            "*** Introductory Examples for the NLTK Book ***\n",
            "Loading text1, ..., text9 and sent1, ..., sent9\n",
            "Type the name of the text or sentence to view it.\n",
            "Type: 'texts()' or 'sents()' to list the materials.\n",
            "text1: Moby Dick by Herman Melville 1851\n",
            "text2: Sense and Sensibility by Jane Austen 1811\n",
            "text3: The Book of Genesis\n",
            "text4: Inaugural Address Corpus\n",
            "text5: Chat Corpus\n",
            "text6: Monty Python and the Holy Grail\n",
            "text7: Wall Street Journal\n",
            "text8: Personals Corpus\n",
            "text9: The Man Who Was Thursday by G . K . Chesterton 1908\n"
          ],
          "name": "stdout"
        }
      ]
    },
    {
      "cell_type": "code",
      "metadata": {
        "colab": {
          "base_uri": "https://localhost:8080/"
        },
        "id": "wb2DUoDlQJ_e",
        "outputId": "8ef57c6d-43d2-4e6c-c038-44b54e9cca5d"
      },
      "source": [
        "text3"
      ],
      "execution_count": null,
      "outputs": [
        {
          "output_type": "execute_result",
          "data": {
            "text/plain": [
              "<Text: The Book of Genesis>"
            ]
          },
          "metadata": {
            "tags": []
          },
          "execution_count": 4
        }
      ]
    },
    {
      "cell_type": "code",
      "metadata": {
        "id": "xZ9AaxB5QJ75"
      },
      "source": [
        "#text3.vocab()"
      ],
      "execution_count": null,
      "outputs": []
    },
    {
      "cell_type": "code",
      "metadata": {
        "colab": {
          "base_uri": "https://localhost:8080/"
        },
        "id": "sEyjdZpwQJ4r",
        "outputId": "e2e9958e-eb6f-4aa2-e825-073d5c171a71"
      },
      "source": [
        "text1.concordance(\"monstrous\")"
      ],
      "execution_count": null,
      "outputs": [
        {
          "output_type": "stream",
          "text": [
            "Displaying 11 of 11 matches:\n",
            "ong the former , one was of a most monstrous size . ... This came towards us , \n",
            "ON OF THE PSALMS . \" Touching that monstrous bulk of the whale or ork we have r\n",
            "ll over with a heathenish array of monstrous clubs and spears . Some were thick\n",
            "d as you gazed , and wondered what monstrous cannibal and savage could ever hav\n",
            "that has survived the flood ; most monstrous and most mountainous ! That Himmal\n",
            "they might scout at Moby Dick as a monstrous fable , or still worse and more de\n",
            "th of Radney .'\" CHAPTER 55 Of the Monstrous Pictures of Whales . I shall ere l\n",
            "ing Scenes . In connexion with the monstrous pictures of whales , I am strongly\n",
            "ere to enter upon those still more monstrous stories of them which are to be fo\n",
            "ght have been rummaged out of this monstrous cabinet there is no telling . But \n",
            "of Whale - Bones ; for Whales of a monstrous size are oftentimes cast up dead u\n"
          ],
          "name": "stdout"
        }
      ]
    },
    {
      "cell_type": "code",
      "metadata": {
        "colab": {
          "base_uri": "https://localhost:8080/"
        },
        "id": "diLht7fEQJ17",
        "outputId": "1af86f6e-622d-4ce0-b876-0235a6f2b73c"
      },
      "source": [
        "text1.similar(\"monstrous\")"
      ],
      "execution_count": null,
      "outputs": [
        {
          "output_type": "stream",
          "text": [
            "true contemptible christian abundant few part mean careful puzzled\n",
            "mystifying passing curious loving wise doleful gamesome singular\n",
            "delightfully perilous fearless\n"
          ],
          "name": "stdout"
        }
      ]
    },
    {
      "cell_type": "code",
      "metadata": {
        "colab": {
          "base_uri": "https://localhost:8080/"
        },
        "id": "4jXfVFG2QJzD",
        "outputId": "fbe64534-5b8b-4ded-8689-e4d51aa29d94"
      },
      "source": [
        "text2.similar(\"monstrous\")"
      ],
      "execution_count": null,
      "outputs": [
        {
          "output_type": "stream",
          "text": [
            "very so exceedingly heartily a as good great extremely remarkably\n",
            "sweet vast amazingly\n"
          ],
          "name": "stdout"
        }
      ]
    },
    {
      "cell_type": "code",
      "metadata": {
        "colab": {
          "base_uri": "https://localhost:8080/"
        },
        "id": "36nKATpQQJvx",
        "outputId": "1a781142-5054-45b9-b1c7-feff23189da2"
      },
      "source": [
        "text2.common_contexts([\"monstrous\", \"very\"])"
      ],
      "execution_count": null,
      "outputs": [
        {
          "output_type": "stream",
          "text": [
            "a_pretty am_glad a_lucky is_pretty be_glad\n"
          ],
          "name": "stdout"
        }
      ]
    },
    {
      "cell_type": "code",
      "metadata": {
        "colab": {
          "base_uri": "https://localhost:8080/"
        },
        "id": "Ze73Tdf_QJpI",
        "outputId": "e3f9b1a3-adfd-4302-dbea-946bdd725526"
      },
      "source": [
        "text2.concordance(\"monstrous\")"
      ],
      "execution_count": null,
      "outputs": [
        {
          "output_type": "stream",
          "text": [
            "Displaying 11 of 11 matches:\n",
            ". \" Now , Palmer , you shall see a monstrous pretty girl .\" He immediately went\n",
            "your sister is to marry him . I am monstrous glad of it , for then I shall have\n",
            "ou may tell your sister . She is a monstrous lucky girl to get him , upon my ho\n",
            "k how you will like them . Lucy is monstrous pretty , and so good humoured and \n",
            " Jennings , \" I am sure I shall be monstrous glad of Miss Marianne ' s company \n",
            " usual noisy cheerfulness , \" I am monstrous glad to see you -- sorry I could n\n",
            "t however , as it turns out , I am monstrous glad there was never any thing in \n",
            "so scornfully ! for they say he is monstrous fond of her , as well he may . I s\n",
            "possible that she should .\" \" I am monstrous glad of it . Good gracious ! I hav\n",
            "thing of the kind . So then he was monstrous happy , and talked on some time ab\n",
            "e very genteel people . He makes a monstrous deal of money , and they keep thei\n"
          ],
          "name": "stdout"
        }
      ]
    },
    {
      "cell_type": "code",
      "metadata": {
        "colab": {
          "base_uri": "https://localhost:8080/"
        },
        "id": "Qva3rj6HSI1R",
        "outputId": "700e870a-a78f-44ba-c3fd-2f647e193b6b"
      },
      "source": [
        "text2.concordance(\"very\")"
      ],
      "execution_count": null,
      "outputs": [
        {
          "output_type": "stream",
          "text": [
            "Displaying 25 of 500 matches:\n",
            "te was a single man , who lived to a very advanced age , and who for many year\n",
            "en made amiable himself ; for he was very young when he married , and very fon\n",
            "was very young when he married , and very fond of his wife . But Mrs . John Da\n",
            "osity to so large an amount . It was very well known that no affection was eve\n",
            "y , to be sure ,\" said her husband , very gravely , \" that would make great di\n",
            "amily , for instance , it would be a very convenient addition .\" \" To be sure \n",
            "ounds on their mother ' s death -- a very comfortable fortune for any young wo\n",
            "d if they do not , they may all live very comfortably together on the interest\n",
            " of ten thousand pounds .\" \" That is very true , and , therefore , I do not kn\n",
            "annuity to be paid them ; and she is very stout and healthy , and hardly forty\n",
            ", and hardly forty . An annuity is a very serious business ; it comes over and\n",
            "ow them any thing yearly . It may be very inconvenient some years to spare a h\n",
            "thing farther ; indeed , it would be very strange and unreasonable if he did .\n",
            " some of the plate would have been a very pleasant addition to our own stock h\n",
            "nor attention to his wishes ; for we very well know that if he could , he woul\n",
            "tions . The contempt which she had , very early in their acquaintance , felt f\n",
            "lt for her daughter - in - law , was very much increased by the farther knowle\n",
            "the eldest son of a man who had died very rich ; and some might have repressed\n",
            "er it with some surprise . Edward is very amiable , and I love him tenderly . \n",
            "hough he admires Elinor ' s drawings very much , it is not the admiration of a\n",
            "arning , I think he would have drawn very well . He distrusts his own judgment\n",
            "y the drawings of other people , was very far from that rapturous delight , wh\n",
            "What say you , Marianne ?\" \" I shall very soon think him handsome , Elinor , i\n",
            " of him . She felt that Edward stood very high in her opinion . She believed t\n",
            "to deny ,\" said she , \" that I think very highly of him -- that I greatly este\n"
          ],
          "name": "stdout"
        }
      ]
    },
    {
      "cell_type": "code",
      "metadata": {
        "colab": {
          "base_uri": "https://localhost:8080/",
          "height": 295
        },
        "id": "9LxCCPaESIwz",
        "outputId": "695b5c6a-e97b-4df6-bc66-5fc9344edaec"
      },
      "source": [
        "text4.dispersion_plot([\"citizens\", \"democracy\", \"freedom\", \"duties\", \"America\"])"
      ],
      "execution_count": null,
      "outputs": [
        {
          "output_type": "display_data",
          "data": {
            "image/png": "[encoded data removed]",
            "text/plain": [
              "<Figure size 432x288 with 1 Axes>"
            ]
          },
          "metadata": {
            "tags": [],
            "needs_background": "light"
          }
        }
      ]
    },
    {
      "cell_type": "code",
      "metadata": {
        "colab": {
          "base_uri": "https://localhost:8080/"
        },
        "id": "Uagx692bSIsa",
        "outputId": "27e801f9-16b7-4509-ef9f-5afa95400162"
      },
      "source": [
        "text4"
      ],
      "execution_count": null,
      "outputs": [
        {
          "output_type": "execute_result",
          "data": {
            "text/plain": [
              "<Text: Inaugural Address Corpus>"
            ]
          },
          "metadata": {
            "tags": []
          },
          "execution_count": 24
        }
      ]
    },
    {
      "cell_type": "code",
      "metadata": {
        "colab": {
          "base_uri": "https://localhost:8080/"
        },
        "id": "A7Y2ADaxSIph",
        "outputId": "d9317cc4-e732-4d71-deb2-a7dfed552d64"
      },
      "source": [
        "len(text3)"
      ],
      "execution_count": null,
      "outputs": [
        {
          "output_type": "execute_result",
          "data": {
            "text/plain": [
              "44764"
            ]
          },
          "metadata": {
            "tags": []
          },
          "execution_count": 29
        }
      ]
    },
    {
      "cell_type": "code",
      "metadata": {
        "colab": {
          "base_uri": "https://localhost:8080/"
        },
        "id": "M0e6Gq9_SIem",
        "outputId": "3a5d71b7-c429-4082-d4f7-c57369b38564"
      },
      "source": [
        "len(set(text3))"
      ],
      "execution_count": null,
      "outputs": [
        {
          "output_type": "execute_result",
          "data": {
            "text/plain": [
              "2789"
            ]
          },
          "metadata": {
            "tags": []
          },
          "execution_count": 30
        }
      ]
    },
    {
      "cell_type": "code",
      "metadata": {
        "colab": {
          "base_uri": "https://localhost:8080/"
        },
        "id": "lK2sIhoSXYh1",
        "outputId": "9812d3ca-044e-4b4d-c6e4-472b734e081c"
      },
      "source": [
        "len(set(text3))/len(text3)"
      ],
      "execution_count": null,
      "outputs": [
        {
          "output_type": "execute_result",
          "data": {
            "text/plain": [
              "0.06230453042623537"
            ]
          },
          "metadata": {
            "tags": []
          },
          "execution_count": 31
        }
      ]
    },
    {
      "cell_type": "code",
      "metadata": {
        "colab": {
          "base_uri": "https://localhost:8080/"
        },
        "id": "s2vEgHStXYbx",
        "outputId": "eb3df2ce-de15-47e5-ad30-629a5215e4f0"
      },
      "source": [
        "text3"
      ],
      "execution_count": null,
      "outputs": [
        {
          "output_type": "execute_result",
          "data": {
            "text/plain": [
              "<Text: The Book of Genesis>"
            ]
          },
          "metadata": {
            "tags": []
          },
          "execution_count": 32
        }
      ]
    },
    {
      "cell_type": "code",
      "metadata": {
        "id": "fn-SEB-5YIXS"
      },
      "source": [
        "#set(text3)"
      ],
      "execution_count": null,
      "outputs": []
    },
    {
      "cell_type": "code",
      "metadata": {
        "colab": {
          "base_uri": "https://localhost:8080/"
        },
        "id": "XJVzYNwkYINr",
        "outputId": "affa0675-6c88-453c-aa15-3c497fa022ee"
      },
      "source": [
        "text5.count(\"lol\")"
      ],
      "execution_count": null,
      "outputs": [
        {
          "output_type": "execute_result",
          "data": {
            "text/plain": [
              "704"
            ]
          },
          "metadata": {
            "tags": []
          },
          "execution_count": 35
        }
      ]
    },
    {
      "cell_type": "code",
      "metadata": {
        "colab": {
          "base_uri": "https://localhost:8080/"
        },
        "id": "v6VIGzgbYIID",
        "outputId": "9bbebd68-aaa1-439e-d312-7eb751ba4fc5"
      },
      "source": [
        "100*text5.count(\"lol\")/len(text5)"
      ],
      "execution_count": null,
      "outputs": [
        {
          "output_type": "execute_result",
          "data": {
            "text/plain": [
              "1.5640968673628082"
            ]
          },
          "metadata": {
            "tags": []
          },
          "execution_count": 36
        }
      ]
    },
    {
      "cell_type": "code",
      "metadata": {
        "colab": {
          "base_uri": "https://localhost:8080/"
        },
        "id": "xw5z69nkYH_e",
        "outputId": "18aaf51c-276b-46ce-ebce-d984705443de"
      },
      "source": [
        "[x for x in set(text5) if \"lol\" in x]"
      ],
      "execution_count": null,
      "outputs": [
        {
          "output_type": "execute_result",
          "data": {
            "text/plain": [
              "['lol.', 'lolololll', 'lol', 'lolol']"
            ]
          },
          "metadata": {
            "tags": []
          },
          "execution_count": 39
        }
      ]
    },
    {
      "cell_type": "code",
      "metadata": {
        "colab": {
          "base_uri": "https://localhost:8080/"
        },
        "id": "i0q6f9NoXYOu",
        "outputId": "c77b8df9-c59b-4f47-db0f-20227e8ded5d"
      },
      "source": [
        "text5.count(\"lolololll\")"
      ],
      "execution_count": null,
      "outputs": [
        {
          "output_type": "execute_result",
          "data": {
            "text/plain": [
              "1"
            ]
          },
          "metadata": {
            "tags": []
          },
          "execution_count": 41
        }
      ]
    },
    {
      "cell_type": "code",
      "metadata": {
        "colab": {
          "base_uri": "https://localhost:8080/"
        },
        "id": "i2wffmZHY_Ci",
        "outputId": "8000eee3-227e-4e3b-ad5d-d9c87f3aa377"
      },
      "source": [
        "text5.count(\"lolol\")"
      ],
      "execution_count": null,
      "outputs": [
        {
          "output_type": "execute_result",
          "data": {
            "text/plain": [
              "1"
            ]
          },
          "metadata": {
            "tags": []
          },
          "execution_count": 43
        }
      ]
    },
    {
      "cell_type": "code",
      "metadata": {
        "id": "oJ6VhgtmZIxl"
      },
      "source": [
        "fdist1 = FreqDist(text1)"
      ],
      "execution_count": null,
      "outputs": []
    },
    {
      "cell_type": "code",
      "metadata": {
        "colab": {
          "base_uri": "https://localhost:8080/"
        },
        "id": "oAF_9P24ZcJF",
        "outputId": "0c361148-1dce-480f-a871-d8112b1942e2"
      },
      "source": [
        "fdist1.most_common(10)"
      ],
      "execution_count": null,
      "outputs": [
        {
          "output_type": "execute_result",
          "data": {
            "text/plain": [
              "[(',', 18713),\n",
              " ('the', 13721),\n",
              " ('.', 6862),\n",
              " ('of', 6536),\n",
              " ('and', 6024),\n",
              " ('a', 4569),\n",
              " ('to', 4542),\n",
              " (';', 4072),\n",
              " ('in', 3916),\n",
              " ('that', 2982)]"
            ]
          },
          "metadata": {
            "tags": []
          },
          "execution_count": 46
        }
      ]
    },
    {
      "cell_type": "code",
      "metadata": {
        "colab": {
          "base_uri": "https://localhost:8080/",
          "height": 299
        },
        "id": "iazV4k8CZcGt",
        "outputId": "7e06db6c-efc8-42ba-8685-8c3f1bb67381"
      },
      "source": [
        "fdist1.plot(50, cumulative=True)"
      ],
      "execution_count": null,
      "outputs": [
        {
          "output_type": "display_data",
          "data": {
            "image/png": "[encoded data removed]",
            "text/plain": [
              "<Figure size 432x288 with 1 Axes>"
            ]
          },
          "metadata": {
            "tags": [],
            "needs_background": "light"
          }
        }
      ]
    },
    {
      "cell_type": "code",
      "metadata": {
        "id": "RXf4pfd_ZcCU"
      },
      "source": [
        "fre1 = FreqDist(\"Hola como estas , hola bien y tu . bye bye\".split())"
      ],
      "execution_count": null,
      "outputs": []
    },
    {
      "cell_type": "code",
      "metadata": {
        "colab": {
          "base_uri": "https://localhost:8080/"
        },
        "id": "oIeVr1B6Zb87",
        "outputId": "487d3342-175c-4906-a1ac-6c5e19974a6c"
      },
      "source": [
        "fre1.most_common(5)"
      ],
      "execution_count": null,
      "outputs": [
        {
          "output_type": "execute_result",
          "data": {
            "text/plain": [
              "[('bye', 2), ('Hola', 1), ('como', 1), ('estas', 1), (',', 1)]"
            ]
          },
          "metadata": {
            "tags": []
          },
          "execution_count": 58
        }
      ]
    },
    {
      "cell_type": "code",
      "metadata": {
        "id": "crGSdCIgZb4L"
      },
      "source": [
        "#fdist1.hapaxes()"
      ],
      "execution_count": null,
      "outputs": []
    },
    {
      "cell_type": "code",
      "metadata": {
        "id": "cepg9IRdZb1Q"
      },
      "source": [
        "V = set(text1)\r\n",
        "long_words = [word for word in V if len(word)>13]\r\n",
        "#sorted(long_words)"
      ],
      "execution_count": null,
      "outputs": []
    },
    {
      "cell_type": "code",
      "metadata": {
        "colab": {
          "base_uri": "https://localhost:8080/"
        },
        "id": "yR8IF7E8ZbxM",
        "outputId": "31a507b8-11ad-42e3-f563-19a801cfac3d"
      },
      "source": [
        "fdist5 = FreqDist(text5)\r\n",
        "sorted(w for w in set(text5) if len(w)>7 and fdist5[w]>7)"
      ],
      "execution_count": null,
      "outputs": [
        {
          "output_type": "execute_result",
          "data": {
            "text/plain": [
              "['#14-19teens',\n",
              " '#talkcity_adults',\n",
              " '((((((((((',\n",
              " '........',\n",
              " 'Question',\n",
              " 'actually',\n",
              " 'anything',\n",
              " 'computer',\n",
              " 'cute.-ass',\n",
              " 'everyone',\n",
              " 'football',\n",
              " 'innocent',\n",
              " 'listening',\n",
              " 'remember',\n",
              " 'seriously',\n",
              " 'something',\n",
              " 'together',\n",
              " 'tomorrow',\n",
              " 'watching']"
            ]
          },
          "metadata": {
            "tags": []
          },
          "execution_count": 67
        }
      ]
    },
    {
      "cell_type": "code",
      "metadata": {
        "colab": {
          "base_uri": "https://localhost:8080/"
        },
        "id": "47KMjszGZbto",
        "outputId": "1c6391e2-ee46-43ac-f694-c122c58d26cd"
      },
      "source": [
        "text5"
      ],
      "execution_count": null,
      "outputs": [
        {
          "output_type": "execute_result",
          "data": {
            "text/plain": [
              "<Text: Chat Corpus>"
            ]
          },
          "metadata": {
            "tags": []
          },
          "execution_count": 68
        }
      ]
    },
    {
      "cell_type": "code",
      "metadata": {
        "id": "7BPF4rgNZbpi"
      },
      "source": [
        "fdist = FreqDist(len(w) for w in text1)"
      ],
      "execution_count": null,
      "outputs": []
    },
    {
      "cell_type": "code",
      "metadata": {
        "colab": {
          "base_uri": "https://localhost:8080/"
        },
        "id": "-pt6e6Bkbk8R",
        "outputId": "b2256747-0ca4-4dc8-967a-ddb48992f018"
      },
      "source": [
        "fdist.most_common()"
      ],
      "execution_count": null,
      "outputs": [
        {
          "output_type": "execute_result",
          "data": {
            "text/plain": [
              "[(3, 50223),\n",
              " (1, 47933),\n",
              " (4, 42345),\n",
              " (2, 38513),\n",
              " (5, 26597),\n",
              " (6, 17111),\n",
              " (7, 14399),\n",
              " (8, 9966),\n",
              " (9, 6428),\n",
              " (10, 3528),\n",
              " (11, 1873),\n",
              " (12, 1053),\n",
              " (13, 567),\n",
              " (14, 177),\n",
              " (15, 70),\n",
              " (16, 22),\n",
              " (17, 12),\n",
              " (18, 1),\n",
              " (20, 1)]"
            ]
          },
          "metadata": {
            "tags": []
          },
          "execution_count": 70
        }
      ]
    },
    {
      "cell_type": "code",
      "metadata": {
        "colab": {
          "base_uri": "https://localhost:8080/"
        },
        "id": "WYt8ImzhdJpW",
        "outputId": "47dcaa37-34f9-4f37-c25e-c318fc1bb9bd"
      },
      "source": [
        "[w for w in set(text1) if len(w)>17]"
      ],
      "execution_count": null,
      "outputs": [
        {
          "output_type": "execute_result",
          "data": {
            "text/plain": [
              "['characteristically', 'uninterpenetratingly']"
            ]
          },
          "metadata": {
            "tags": []
          },
          "execution_count": 77
        }
      ]
    },
    {
      "cell_type": "code",
      "metadata": {
        "colab": {
          "base_uri": "https://localhost:8080/"
        },
        "id": "8XKKrvNkbk3w",
        "outputId": "ce6e1ab7-a88b-4d5f-8024-254c2254257b"
      },
      "source": [
        "fdist.max()"
      ],
      "execution_count": null,
      "outputs": [
        {
          "output_type": "execute_result",
          "data": {
            "text/plain": [
              "3"
            ]
          },
          "metadata": {
            "tags": []
          },
          "execution_count": 71
        }
      ]
    },
    {
      "cell_type": "code",
      "metadata": {
        "colab": {
          "base_uri": "https://localhost:8080/",
          "height": 35
        },
        "id": "zusk4AZYbkzj",
        "outputId": "927b7dee-b525-49ba-b3bc-567dafd4312e"
      },
      "source": [
        "fdist1.max()"
      ],
      "execution_count": null,
      "outputs": [
        {
          "output_type": "execute_result",
          "data": {
            "application/vnd.google.colaboratory.intrinsic+json": {
              "type": "string"
            },
            "text/plain": [
              "','"
            ]
          },
          "metadata": {
            "tags": []
          },
          "execution_count": 72
        }
      ]
    },
    {
      "cell_type": "code",
      "metadata": {
        "colab": {
          "base_uri": "https://localhost:8080/",
          "height": 282
        },
        "id": "qJusQ-i9bkt1",
        "outputId": "6a0e9a44-f00b-44a9-85f0-6b53a476d196"
      },
      "source": [
        "fdist.plot()"
      ],
      "execution_count": null,
      "outputs": [
        {
          "output_type": "display_data",
          "data": {
            "image/png": "[encoded data removed]",
            "text/plain": [
              "<Figure size 432x288 with 1 Axes>"
            ]
          },
          "metadata": {
            "tags": [],
            "needs_background": "light"
          }
        }
      ]
    },
    {
      "cell_type": "markdown",
      "metadata": {
        "id": "OaCYJQCZAG7G"
      },
      "source": [
        "#### Nombres"
      ]
    },
    {
      "cell_type": "code",
      "metadata": {
        "id": "79UaIN1CespB"
      },
      "source": [
        "from nltk.corpus import names"
      ],
      "execution_count": null,
      "outputs": []
    },
    {
      "cell_type": "code",
      "metadata": {
        "id": "SknDIz3qeslJ"
      },
      "source": [
        "labeled_names = ([(name, 'male') for name in names.words('male.txt')]+[(name, 'female') for name in names.words('female.txt')])"
      ],
      "execution_count": null,
      "outputs": []
    },
    {
      "cell_type": "code",
      "metadata": {
        "id": "vB-bBnlxesgX"
      },
      "source": [
        "import random"
      ],
      "execution_count": null,
      "outputs": []
    },
    {
      "cell_type": "code",
      "metadata": {
        "id": "mHZb6qoMesSM"
      },
      "source": [
        "random.shuffle(labeled_names)"
      ],
      "execution_count": null,
      "outputs": []
    },
    {
      "cell_type": "code",
      "metadata": {
        "id": "7N7D8PZEfSn_"
      },
      "source": [
        "def gender_features(palabra):\r\n",
        "  return {'ultima_letra': palabra[-1]}"
      ],
      "execution_count": null,
      "outputs": []
    },
    {
      "cell_type": "code",
      "metadata": {
        "colab": {
          "base_uri": "https://localhost:8080/",
          "height": 35
        },
        "id": "asdnwOoRfoGX",
        "outputId": "0597a046-1864-4fdf-ca54-f99673d2ccb5"
      },
      "source": [
        "labeled_names[0][0]"
      ],
      "execution_count": null,
      "outputs": [
        {
          "output_type": "execute_result",
          "data": {
            "application/vnd.google.colaboratory.intrinsic+json": {
              "type": "string"
            },
            "text/plain": [
              "'Constantia'"
            ]
          },
          "metadata": {
            "tags": []
          },
          "execution_count": 88
        }
      ]
    },
    {
      "cell_type": "code",
      "metadata": {
        "colab": {
          "base_uri": "https://localhost:8080/"
        },
        "id": "nAvhITeWfSix",
        "outputId": "641a3932-1341-4d5b-a41c-72b2a3e558ec"
      },
      "source": [
        "gender_features(labeled_names[0][0])"
      ],
      "execution_count": null,
      "outputs": [
        {
          "output_type": "execute_result",
          "data": {
            "text/plain": [
              "{'ultima_letra': 'a'}"
            ]
          },
          "metadata": {
            "tags": []
          },
          "execution_count": 89
        }
      ]
    },
    {
      "cell_type": "code",
      "metadata": {
        "id": "BwWuj_8DfSY8"
      },
      "source": [
        "featuresets=[(gender_features(name), gender) for name,gender in labeled_names]"
      ],
      "execution_count": null,
      "outputs": []
    },
    {
      "cell_type": "code",
      "metadata": {
        "colab": {
          "base_uri": "https://localhost:8080/"
        },
        "id": "ATIcrCQHfSVn",
        "outputId": "d9ff7e0e-802c-40b0-eccf-adff0e222e5a"
      },
      "source": [
        "featuresets[0]"
      ],
      "execution_count": null,
      "outputs": [
        {
          "output_type": "execute_result",
          "data": {
            "text/plain": [
              "({'ultima_letra': 'a'}, 'female')"
            ]
          },
          "metadata": {
            "tags": []
          },
          "execution_count": 92
        }
      ]
    },
    {
      "cell_type": "code",
      "metadata": {
        "id": "RX6KnOMTfSRO"
      },
      "source": [
        "train_set, test_set = featuresets[500:], featuresets[:500]"
      ],
      "execution_count": null,
      "outputs": []
    },
    {
      "cell_type": "code",
      "metadata": {
        "id": "H9Q6gplQfSJj"
      },
      "source": [
        "classifier = nltk.NaiveBayesClassifier.train(train_set)"
      ],
      "execution_count": null,
      "outputs": []
    },
    {
      "cell_type": "code",
      "metadata": {
        "colab": {
          "base_uri": "https://localhost:8080/",
          "height": 35
        },
        "id": "L_nWBeTTgeO-",
        "outputId": "a4701b4c-1cfb-4edc-e31b-a85a5fc09562"
      },
      "source": [
        "classifier.classify(gender_features('Francisco'))"
      ],
      "execution_count": null,
      "outputs": [
        {
          "output_type": "execute_result",
          "data": {
            "application/vnd.google.colaboratory.intrinsic+json": {
              "type": "string"
            },
            "text/plain": [
              "'male'"
            ]
          },
          "metadata": {
            "tags": []
          },
          "execution_count": 98
        }
      ]
    },
    {
      "cell_type": "code",
      "metadata": {
        "colab": {
          "base_uri": "https://localhost:8080/",
          "height": 35
        },
        "id": "9xLPsk2Ig4ul",
        "outputId": "23339ed2-472b-441c-dd71-bcb8b94bf1d0"
      },
      "source": [
        "classifier.classify(gender_features('Cosme'))"
      ],
      "execution_count": null,
      "outputs": [
        {
          "output_type": "execute_result",
          "data": {
            "application/vnd.google.colaboratory.intrinsic+json": {
              "type": "string"
            },
            "text/plain": [
              "'female'"
            ]
          },
          "metadata": {
            "tags": []
          },
          "execution_count": 100
        }
      ]
    },
    {
      "cell_type": "code",
      "metadata": {
        "colab": {
          "base_uri": "https://localhost:8080/",
          "height": 35
        },
        "id": "P29f6fLYg-18",
        "outputId": "be27d38e-06d8-415e-837d-71ad8278412c"
      },
      "source": [
        "classifier.classify(gender_features('Marian'))"
      ],
      "execution_count": null,
      "outputs": [
        {
          "output_type": "execute_result",
          "data": {
            "application/vnd.google.colaboratory.intrinsic+json": {
              "type": "string"
            },
            "text/plain": [
              "'male'"
            ]
          },
          "metadata": {
            "tags": []
          },
          "execution_count": 101
        }
      ]
    },
    {
      "cell_type": "code",
      "metadata": {
        "colab": {
          "base_uri": "https://localhost:8080/"
        },
        "id": "AS5fkY4xg7v2",
        "outputId": "b169f125-3c2f-4ef8-b7ae-9b473343bb76"
      },
      "source": [
        "print(nltk.classify.accuracy(classifier, test_set))\r\n",
        "print(nltk.classify.accuracy(classifier, train_set))"
      ],
      "execution_count": null,
      "outputs": [
        {
          "output_type": "stream",
          "text": [
            "0.762\n",
            "0.7628962923159591\n"
          ],
          "name": "stdout"
        }
      ]
    },
    {
      "cell_type": "code",
      "metadata": {
        "id": "2ewTLw3qhOEV"
      },
      "source": [
        "#train_set"
      ],
      "execution_count": null,
      "outputs": []
    },
    {
      "cell_type": "code",
      "metadata": {
        "colab": {
          "base_uri": "https://localhost:8080/"
        },
        "id": "ZJZm49oMhCLy",
        "outputId": "97854535-1c58-4edc-9fb2-51581c85ad0f"
      },
      "source": [
        "gender_features('Marian')"
      ],
      "execution_count": null,
      "outputs": [
        {
          "output_type": "execute_result",
          "data": {
            "text/plain": [
              "{'ultima_letra': 'n'}"
            ]
          },
          "metadata": {
            "tags": []
          },
          "execution_count": 103
        }
      ]
    },
    {
      "cell_type": "code",
      "metadata": {
        "colab": {
          "base_uri": "https://localhost:8080/"
        },
        "id": "ukWqgWNQhCHN",
        "outputId": "dc7f6d8b-c5ff-4d4e-f517-8fcb7451fbf2"
      },
      "source": [
        "classifier.show_most_informative_features(5)"
      ],
      "execution_count": null,
      "outputs": [
        {
          "output_type": "stream",
          "text": [
            "Most Informative Features\n",
            "            ultima_letra = 'a'            female : male   =     35.4 : 1.0\n",
            "            ultima_letra = 'k'              male : female =     31.5 : 1.0\n",
            "            ultima_letra = 'f'              male : female =     17.4 : 1.0\n",
            "            ultima_letra = 'p'              male : female =     12.7 : 1.0\n",
            "            ultima_letra = 'v'              male : female =     10.6 : 1.0\n"
          ],
          "name": "stdout"
        }
      ]
    },
    {
      "cell_type": "code",
      "metadata": {
        "id": "8IIZwwAqhB8Y"
      },
      "source": [
        "from nltk.classify import apply_features"
      ],
      "execution_count": null,
      "outputs": []
    },
    {
      "cell_type": "code",
      "metadata": {
        "colab": {
          "base_uri": "https://localhost:8080/"
        },
        "id": "stxoVOD9hn8R",
        "outputId": "9500c52b-2abc-4b1f-dfc3-35d3d7be2129"
      },
      "source": [
        "apply_features(gender_features, labeled_names)"
      ],
      "execution_count": null,
      "outputs": [
        {
          "output_type": "execute_result",
          "data": {
            "text/plain": [
              "[({'ultima_letra': 'a'}, 'female'), ({'ultima_letra': 'e'}, 'male'), ...]"
            ]
          },
          "metadata": {
            "tags": []
          },
          "execution_count": 111
        }
      ]
    },
    {
      "cell_type": "code",
      "metadata": {
        "id": "YoOVtw5Shn3E"
      },
      "source": [
        "def gender_features2(nombre):\r\n",
        "  return {'ultima_letra':nombre[-1],\r\n",
        "          'ultimas_dos' :nombre[-2:],\r\n",
        "          'vocales': len([letra for letra in nombre if letra in 'aeiou'])}"
      ],
      "execution_count": null,
      "outputs": []
    },
    {
      "cell_type": "code",
      "metadata": {
        "colab": {
          "base_uri": "https://localhost:8080/"
        },
        "id": "3zYi8MBkhnxx",
        "outputId": "32907935-4d02-43c3-d6a2-188aff0e2dc0"
      },
      "source": [
        "gender_features2('Francisco')"
      ],
      "execution_count": null,
      "outputs": [
        {
          "output_type": "execute_result",
          "data": {
            "text/plain": [
              "{'ultima_letra': 'o', 'ultimas_dos': 'co', 'vocales': 3}"
            ]
          },
          "metadata": {
            "tags": []
          },
          "execution_count": 118
        }
      ]
    },
    {
      "cell_type": "code",
      "metadata": {
        "id": "ciVXqsGXhnsF"
      },
      "source": [
        "train_set = apply_features(gender_features2, labeled_names[500:])\r\n",
        "test_set = apply_features(gender_features2, labeled_names[:500])"
      ],
      "execution_count": null,
      "outputs": []
    },
    {
      "cell_type": "code",
      "metadata": {
        "colab": {
          "base_uri": "https://localhost:8080/"
        },
        "id": "52Vr-VizjJnk",
        "outputId": "b6343804-8629-41df-e885-0ad2db4261fe"
      },
      "source": [
        "train_set"
      ],
      "execution_count": null,
      "outputs": [
        {
          "output_type": "execute_result",
          "data": {
            "text/plain": [
              "[({'ultima_letra': 'n', 'ultimas_dos': 'an', 'vocales': 2}, 'female'), ({'ultima_letra': 'n', 'ultimas_dos': 'in', 'vocales': 2}, 'male'), ...]"
            ]
          },
          "metadata": {
            "tags": []
          },
          "execution_count": 120
        }
      ]
    },
    {
      "cell_type": "code",
      "metadata": {
        "id": "8tFkghCZjJkU"
      },
      "source": [
        "classifier = nltk.NaiveBayesClassifier.train(train_set)"
      ],
      "execution_count": null,
      "outputs": []
    },
    {
      "cell_type": "code",
      "metadata": {
        "colab": {
          "base_uri": "https://localhost:8080/",
          "height": 35
        },
        "id": "TNjy2487jJgI",
        "outputId": "11fe32c4-a267-45bb-f471-c5b8dcd1d349"
      },
      "source": [
        "classifier.classify(gender_features2('Francisco'))"
      ],
      "execution_count": null,
      "outputs": [
        {
          "output_type": "execute_result",
          "data": {
            "application/vnd.google.colaboratory.intrinsic+json": {
              "type": "string"
            },
            "text/plain": [
              "'male'"
            ]
          },
          "metadata": {
            "tags": []
          },
          "execution_count": 123
        }
      ]
    },
    {
      "cell_type": "code",
      "metadata": {
        "colab": {
          "base_uri": "https://localhost:8080/",
          "height": 35
        },
        "id": "cDJu2rOPjJb3",
        "outputId": "7e751656-de11-40a5-fbd2-e0b487c159df"
      },
      "source": [
        "classifier.classify(gender_features2('Cosme'))"
      ],
      "execution_count": null,
      "outputs": [
        {
          "output_type": "execute_result",
          "data": {
            "application/vnd.google.colaboratory.intrinsic+json": {
              "type": "string"
            },
            "text/plain": [
              "'female'"
            ]
          },
          "metadata": {
            "tags": []
          },
          "execution_count": 124
        }
      ]
    },
    {
      "cell_type": "code",
      "metadata": {
        "colab": {
          "base_uri": "https://localhost:8080/",
          "height": 35
        },
        "id": "Tczx7AT8jlQM",
        "outputId": "f8503ce8-4cbb-4aa9-db34-3a70a0dd888c"
      },
      "source": [
        "classifier.classify(gender_features2('Marian'))"
      ],
      "execution_count": null,
      "outputs": [
        {
          "output_type": "execute_result",
          "data": {
            "application/vnd.google.colaboratory.intrinsic+json": {
              "type": "string"
            },
            "text/plain": [
              "'male'"
            ]
          },
          "metadata": {
            "tags": []
          },
          "execution_count": 125
        }
      ]
    },
    {
      "cell_type": "code",
      "metadata": {
        "colab": {
          "base_uri": "https://localhost:8080/"
        },
        "id": "JriGLJVFjmu5",
        "outputId": "a780728e-2caf-4374-db4c-c8e4bde8d028"
      },
      "source": [
        "print(nltk.classify.accuracy(classifier, test_set))\r\n",
        "print(nltk.classify.accuracy(classifier, train_set))"
      ],
      "execution_count": null,
      "outputs": [
        {
          "output_type": "stream",
          "text": [
            "0.778\n",
            "0.7822407307898979\n"
          ],
          "name": "stdout"
        }
      ]
    },
    {
      "cell_type": "code",
      "metadata": {
        "colab": {
          "base_uri": "https://localhost:8080/"
        },
        "id": "CwW0IP6jjq4S",
        "outputId": "2fb1edfe-43f7-4bc0-90ae-7e7bf5b09490"
      },
      "source": [
        "classifier.show_most_informative_features(5)"
      ],
      "execution_count": null,
      "outputs": [
        {
          "output_type": "stream",
          "text": [
            "Most Informative Features\n",
            "             ultimas_dos = 'na'           female : male   =     99.8 : 1.0\n",
            "             ultimas_dos = 'ia'           female : male   =     39.2 : 1.0\n",
            "            ultima_letra = 'a'            female : male   =     35.4 : 1.0\n",
            "             ultimas_dos = 'sa'           female : male   =     33.2 : 1.0\n",
            "            ultima_letra = 'k'              male : female =     31.5 : 1.0\n"
          ],
          "name": "stdout"
        }
      ]
    },
    {
      "cell_type": "markdown",
      "metadata": {
        "id": "2dVO9Gua_waS"
      },
      "source": [
        "## spaCY"
      ]
    },
    {
      "cell_type": "code",
      "metadata": {
        "id": "LMVIKLwMmb8D"
      },
      "source": [
        "sentence = \"In pursuit of a wall, President Trump ran into one.\""
      ],
      "execution_count": null,
      "outputs": []
    },
    {
      "cell_type": "code",
      "metadata": {
        "id": "ZsUawiyzmq5S"
      },
      "source": [
        "tokens = nltk.word_tokenize(sentence)"
      ],
      "execution_count": null,
      "outputs": []
    },
    {
      "cell_type": "code",
      "metadata": {
        "colab": {
          "base_uri": "https://localhost:8080/"
        },
        "id": "B4zGYJLPmqzR",
        "outputId": "aea7f4e8-7e64-4d53-be25-75e367265d65"
      },
      "source": [
        "tokens"
      ],
      "execution_count": null,
      "outputs": [
        {
          "output_type": "execute_result",
          "data": {
            "text/plain": [
              "['In',\n",
              " 'pursuit',\n",
              " 'of',\n",
              " 'a',\n",
              " 'wall',\n",
              " ',',\n",
              " 'President',\n",
              " 'Trump',\n",
              " 'ran',\n",
              " 'into',\n",
              " 'one',\n",
              " '.']"
            ]
          },
          "metadata": {
            "tags": []
          },
          "execution_count": 144
        }
      ]
    },
    {
      "cell_type": "code",
      "metadata": {
        "colab": {
          "base_uri": "https://localhost:8080/"
        },
        "id": "q2xlIh_VmqpD",
        "outputId": "063e27af-13a7-419b-8255-b6bc431201bd"
      },
      "source": [
        "tagged = nltk.pos_tag(tokens)\r\n",
        "tagged"
      ],
      "execution_count": null,
      "outputs": [
        {
          "output_type": "execute_result",
          "data": {
            "text/plain": [
              "[('In', 'IN'),\n",
              " ('pursuit', 'NN'),\n",
              " ('of', 'IN'),\n",
              " ('a', 'DT'),\n",
              " ('wall', 'NN'),\n",
              " (',', ','),\n",
              " ('President', 'NNP'),\n",
              " ('Trump', 'NNP'),\n",
              " ('ran', 'VBD'),\n",
              " ('into', 'IN'),\n",
              " ('one', 'CD'),\n",
              " ('.', '.')]"
            ]
          },
          "metadata": {
            "tags": []
          },
          "execution_count": 145
        }
      ]
    },
    {
      "cell_type": "code",
      "metadata": {
        "colab": {
          "base_uri": "https://localhost:8080/"
        },
        "id": "Vyk7RQubnWtI",
        "outputId": "4e2bd5ac-06fc-4ef8-989e-f191df6ef234"
      },
      "source": [
        "nltk.help.upenn_tagset('VBD')"
      ],
      "execution_count": null,
      "outputs": [
        {
          "output_type": "stream",
          "text": [
            "VBD: verb, past tense\n",
            "    dipped pleaded swiped regummed soaked tidied convened halted registered\n",
            "    cushioned exacted snubbed strode aimed adopted belied figgered\n",
            "    speculated wore appreciated contemplated ...\n"
          ],
          "name": "stdout"
        }
      ]
    },
    {
      "cell_type": "code",
      "metadata": {
        "id": "NkE49AhjkP2c"
      },
      "source": [
        "from spacy.lang.en import English\r\n",
        "nlp = English()"
      ],
      "execution_count": null,
      "outputs": []
    },
    {
      "cell_type": "code",
      "metadata": {
        "id": "RN_5SewzkaBr"
      },
      "source": [
        "import en_core_web_sm"
      ],
      "execution_count": null,
      "outputs": []
    },
    {
      "cell_type": "code",
      "metadata": {
        "id": "65O0IcB7oD5n"
      },
      "source": [
        "text = \"\"\"When learning data science, you shouldn't get discouraged!\r\n",
        "Challenges and setbacks aren't failures, they're just part of the journey. You've got this!\"\"\"\r\n",
        "my_doc = nlp(text)"
      ],
      "execution_count": null,
      "outputs": []
    },
    {
      "cell_type": "code",
      "metadata": {
        "colab": {
          "base_uri": "https://localhost:8080/"
        },
        "id": "CiBTYSM8oD1Q",
        "outputId": "16541235-e30d-4ef4-a5b9-c3dad01bd417"
      },
      "source": [
        "token_list = []\r\n",
        "for token in my_doc:\r\n",
        "  token_list.append(token.text)\r\n",
        "print(token_list)"
      ],
      "execution_count": null,
      "outputs": [
        {
          "output_type": "stream",
          "text": [
            "['When', 'learning', 'data', 'science', ',', 'you', 'should', \"n't\", 'get', 'discouraged', '!', '\\n', 'Challenges', 'and', 'setbacks', 'are', \"n't\", 'failures', ',', 'they', \"'re\", 'just', 'part', 'of', 'the', 'journey', '.', 'You', \"'ve\", 'got', 'this', '!']\n"
          ],
          "name": "stdout"
        }
      ]
    },
    {
      "cell_type": "code",
      "metadata": {
        "colab": {
          "base_uri": "https://localhost:8080/"
        },
        "id": "-pQSJuH2oDvP",
        "outputId": "80286860-02e9-46f2-a7a6-3b1c40d975d4"
      },
      "source": [
        "# El pipeline vacio no hace tan buen trabajo\r\n",
        "token_list = []\r\n",
        "for token in my_doc:\r\n",
        "  token_list.append(token.lemma_)\r\n",
        "print(token_list)"
      ],
      "execution_count": null,
      "outputs": [
        {
          "output_type": "stream",
          "text": [
            "['When', 'learning', 'data', 'science', ',', 'you', 'should', 'not', 'get', 'discouraged', '!', '\\n', 'Challenges', 'and', 'setbacks', 'be', 'not', 'failures', ',', '-PRON-', 'be', 'just', 'part', 'of', 'the', 'journey', '.', '-PRON-', 'have', 'got', 'this', '!']\n"
          ],
          "name": "stdout"
        }
      ]
    },
    {
      "cell_type": "code",
      "metadata": {
        "id": "pA_k-mDpqE-i"
      },
      "source": [
        "sbd = nlp.create_pipe('sentencizer')\r\n",
        "nlp.add_pipe(sbd)\r\n",
        "#npl.add_pipe('sentencizer', first=True)"
      ],
      "execution_count": null,
      "outputs": []
    },
    {
      "cell_type": "code",
      "metadata": {
        "id": "sR3yfsqNqE64"
      },
      "source": [
        "doc = nlp(text)"
      ],
      "execution_count": null,
      "outputs": []
    },
    {
      "cell_type": "code",
      "metadata": {
        "colab": {
          "base_uri": "https://localhost:8080/"
        },
        "id": "5w8w7VlnqE1w",
        "outputId": "bee4a89f-c24c-459a-a036-433955755f17"
      },
      "source": [
        "sents_list = []\r\n",
        "for sent in doc.sents:\r\n",
        "  sents_list.append(sent)\r\n",
        "print(sents_list)"
      ],
      "execution_count": null,
      "outputs": [
        {
          "output_type": "stream",
          "text": [
            "[When learning data science, you shouldn't get discouraged!, \n",
            "Challenges and setbacks aren't failures, they're just part of the journey., You've got this!]\n"
          ],
          "name": "stdout"
        }
      ]
    },
    {
      "cell_type": "code",
      "metadata": {
        "colab": {
          "base_uri": "https://localhost:8080/",
          "height": 35
        },
        "id": "ndO5jDyxrJsZ",
        "outputId": "d4452e9f-df45-49ab-e9f2-bbd006cae08e"
      },
      "source": [
        "sents_list[0].text"
      ],
      "execution_count": null,
      "outputs": [
        {
          "output_type": "execute_result",
          "data": {
            "application/vnd.google.colaboratory.intrinsic+json": {
              "type": "string"
            },
            "text/plain": [
              "\"When learning data science, you shouldn't get discouraged!\""
            ]
          },
          "metadata": {
            "tags": []
          },
          "execution_count": 8
        }
      ]
    },
    {
      "cell_type": "code",
      "metadata": {
        "colab": {
          "base_uri": "https://localhost:8080/",
          "height": 35
        },
        "id": "Au3gFkn-qExB",
        "outputId": "e4ff19d2-5f81-46af-e03e-d8bf6fbaf6ab"
      },
      "source": [
        "sents_list[0].lemma_"
      ],
      "execution_count": null,
      "outputs": [
        {
          "output_type": "execute_result",
          "data": {
            "application/vnd.google.colaboratory.intrinsic+json": {
              "type": "string"
            },
            "text/plain": [
              "'when learn datum science , -PRON- should not get discourage !'"
            ]
          },
          "metadata": {
            "tags": []
          },
          "execution_count": 183
        }
      ]
    },
    {
      "cell_type": "code",
      "metadata": {
        "id": "h3j_GNH-rarf"
      },
      "source": [
        "import spacy\r\n",
        "spacy_stopwords = spacy.lang.en.stop_words.STOP_WORDS"
      ],
      "execution_count": null,
      "outputs": []
    },
    {
      "cell_type": "code",
      "metadata": {
        "colab": {
          "base_uri": "https://localhost:8080/"
        },
        "id": "_m2QI5EIvmaq",
        "outputId": "ae9d8915-e350-45b1-85ef-b2c10e50f902"
      },
      "source": [
        "print(f\"Numero de SW: {len(spacy_stopwords)}\")\r\n",
        "print(f\"Primeras 10: {list(spacy_stopwors)[:10]}\")"
      ],
      "execution_count": null,
      "outputs": [
        {
          "output_type": "stream",
          "text": [
            "Numero de SW: 326\n",
            "Primeras 10: ['whom', 'has', 'am', 'of', '‘d', '‘ll', 'n’t', 'when', 'becoming', 'whatever']\n"
          ],
          "name": "stdout"
        }
      ]
    },
    {
      "cell_type": "code",
      "metadata": {
        "colab": {
          "base_uri": "https://localhost:8080/"
        },
        "id": "CUF7E4tfwN0p",
        "outputId": "07434a5b-b71a-4c85-cacd-5e358852201a"
      },
      "source": [
        "filt_sent=[]\r\n",
        "for word in doc:\r\n",
        "  if word.is_stop==False:\r\n",
        "    filt_sent.append(word)\r\n",
        "print(filt_sent)"
      ],
      "execution_count": null,
      "outputs": [
        {
          "output_type": "stream",
          "text": [
            "[learning, data, science, ,, discouraged, !, \n",
            ", Challenges, setbacks, failures, ,, journey, ., got, !]\n"
          ],
          "name": "stdout"
        }
      ]
    },
    {
      "cell_type": "code",
      "metadata": {
        "colab": {
          "base_uri": "https://localhost:8080/"
        },
        "id": "KYXQccQiwNll",
        "outputId": "0f39cc98-ec47-4531-f8c9-82ae9550eeda"
      },
      "source": [
        "sents_list"
      ],
      "execution_count": null,
      "outputs": [
        {
          "output_type": "execute_result",
          "data": {
            "text/plain": [
              "[When learning data science, you shouldn't get discouraged!, \n",
              " Challenges and setbacks aren't failures, they're just part of the journey., You've got this!]"
            ]
          },
          "metadata": {
            "tags": []
          },
          "execution_count": 22
        }
      ]
    },
    {
      "cell_type": "code",
      "metadata": {
        "id": "DjGQFL-7pcqT"
      },
      "source": [
        "import en_core_web_sm\r\n",
        "nlp = en_core_web_sm.load()"
      ],
      "execution_count": null,
      "outputs": []
    },
    {
      "cell_type": "code",
      "metadata": {
        "colab": {
          "base_uri": "https://localhost:8080/"
        },
        "id": "MuSmiHQmoDmG",
        "outputId": "608f31cb-532f-493a-faf7-c52e9f521ce5"
      },
      "source": [
        "lem = nlp('run runs running runner ran')\r\n",
        "for word in lem:\r\n",
        "  print(word.lemma_)"
      ],
      "execution_count": null,
      "outputs": [
        {
          "output_type": "stream",
          "text": [
            "run\n",
            "run\n",
            "run\n",
            "runner\n",
            "run\n"
          ],
          "name": "stdout"
        }
      ]
    },
    {
      "cell_type": "code",
      "metadata": {
        "id": "tdOaZLpyoDiM"
      },
      "source": [
        "nytimes= nlp(\"\"\"New York City on Tuesday declared a public health emergency and ordered mandatory measles vaccinations amid an outbreak, becoming the latest national flash point over refusals to inoculate against dangerous diseases.\r\n",
        "\r\n",
        "At least 285 people have contracted measles in the city since September, mostly in Brooklyn’s Williamsburg neighborhood. The order covers four Zip codes there, Mayor Bill de Blasio (D) said Tuesday.\r\n",
        "\r\n",
        "The mandate orders all unvaccinated people in the area, including a concentration of Orthodox Jews, to receive inoculations, including for children as young as 6 months old. Anyone who resists could be fined up to $1,000.\"\"\")"
      ],
      "execution_count": null,
      "outputs": []
    },
    {
      "cell_type": "code",
      "metadata": {
        "colab": {
          "base_uri": "https://localhost:8080/"
        },
        "id": "0vDcTogeoDd_",
        "outputId": "7cc36263-bf39-4936-f011-bb3acf624f3f"
      },
      "source": [
        "entities = [(ent, ent.label_, ent.label) for ent in nytimes.ents]\r\n",
        "entities"
      ],
      "execution_count": null,
      "outputs": [
        {
          "output_type": "execute_result",
          "data": {
            "text/plain": [
              "[(New York City, 'GPE', 384),\n",
              " (Tuesday, 'DATE', 391),\n",
              " (At least 285, 'CARDINAL', 397),\n",
              " (September, 'DATE', 391),\n",
              " (Brooklyn, 'GPE', 384),\n",
              " (Williamsburg, 'GPE', 384),\n",
              " (four, 'CARDINAL', 397),\n",
              " (Bill de Blasio, 'PERSON', 380),\n",
              " (Tuesday, 'DATE', 391),\n",
              " (Orthodox Jews, 'PERSON', 380),\n",
              " (6 months old, 'DATE', 391),\n",
              " (up to $1,000, 'MONEY', 394)]"
            ]
          },
          "metadata": {
            "tags": []
          },
          "execution_count": 29
        }
      ]
    },
    {
      "cell_type": "code",
      "metadata": {
        "id": "JzVfqZcvxyVG"
      },
      "source": [
        "from spacy import displacy"
      ],
      "execution_count": null,
      "outputs": []
    },
    {
      "cell_type": "code",
      "metadata": {
        "colab": {
          "base_uri": "https://localhost:8080/",
          "height": 292
        },
        "id": "wORQ2W5tx2cj",
        "outputId": "9c6e40fc-ab52-47ce-8f4c-699630f03be3"
      },
      "source": [
        "displacy.render(nytimes, style='ent',jupyter=True)"
      ],
      "execution_count": null,
      "outputs": [
        {
          "output_type": "display_data",
          "data": {
            "text/html": [
              "<span class=\"tex2jax_ignore\"><div class=\"entities\" style=\"line-height: 2.5; direction: ltr\">\n",
              "<mark class=\"entity\" style=\"background: #feca74; padding: 0.45em 0.6em; margin: 0 0.25em; line-height: 1; border-radius: 0.35em;\">\n",
              "    New York City\n",
              "    <span style=\"font-size: 0.8em; font-weight: bold; line-height: 1; border-radius: 0.35em; text-transform: uppercase; vertical-align: middle; margin-left: 0.5rem\">GPE</span>\n",
              "</mark>\n",
              " on \n",
              "<mark class=\"entity\" style=\"background: #bfe1d9; padding: 0.45em 0.6em; margin: 0 0.25em; line-height: 1; border-radius: 0.35em;\">\n",
              "    Tuesday\n",
              "    <span style=\"font-size: 0.8em; font-weight: bold; line-height: 1; border-radius: 0.35em; text-transform: uppercase; vertical-align: middle; margin-left: 0.5rem\">DATE</span>\n",
              "</mark>\n",
              " declared a public health emergency and ordered mandatory measles vaccinations amid an outbreak, becoming the latest national flash point over refusals to inoculate against dangerous diseases.</br></br>\n",
              "<mark class=\"entity\" style=\"background: #e4e7d2; padding: 0.45em 0.6em; margin: 0 0.25em; line-height: 1; border-radius: 0.35em;\">\n",
              "    At least 285\n",
              "    <span style=\"font-size: 0.8em; font-weight: bold; line-height: 1; border-radius: 0.35em; text-transform: uppercase; vertical-align: middle; margin-left: 0.5rem\">CARDINAL</span>\n",
              "</mark>\n",
              " people have contracted measles in the city since \n",
              "<mark class=\"entity\" style=\"background: #bfe1d9; padding: 0.45em 0.6em; margin: 0 0.25em; line-height: 1; border-radius: 0.35em;\">\n",
              "    September\n",
              "    <span style=\"font-size: 0.8em; font-weight: bold; line-height: 1; border-radius: 0.35em; text-transform: uppercase; vertical-align: middle; margin-left: 0.5rem\">DATE</span>\n",
              "</mark>\n",
              ", mostly in \n",
              "<mark class=\"entity\" style=\"background: #feca74; padding: 0.45em 0.6em; margin: 0 0.25em; line-height: 1; border-radius: 0.35em;\">\n",
              "    Brooklyn\n",
              "    <span style=\"font-size: 0.8em; font-weight: bold; line-height: 1; border-radius: 0.35em; text-transform: uppercase; vertical-align: middle; margin-left: 0.5rem\">GPE</span>\n",
              "</mark>\n",
              "’s \n",
              "<mark class=\"entity\" style=\"background: #feca74; padding: 0.45em 0.6em; margin: 0 0.25em; line-height: 1; border-radius: 0.35em;\">\n",
              "    Williamsburg\n",
              "    <span style=\"font-size: 0.8em; font-weight: bold; line-height: 1; border-radius: 0.35em; text-transform: uppercase; vertical-align: middle; margin-left: 0.5rem\">GPE</span>\n",
              "</mark>\n",
              " neighborhood. The order covers \n",
              "<mark class=\"entity\" style=\"background: #e4e7d2; padding: 0.45em 0.6em; margin: 0 0.25em; line-height: 1; border-radius: 0.35em;\">\n",
              "    four\n",
              "    <span style=\"font-size: 0.8em; font-weight: bold; line-height: 1; border-radius: 0.35em; text-transform: uppercase; vertical-align: middle; margin-left: 0.5rem\">CARDINAL</span>\n",
              "</mark>\n",
              " Zip codes there, Mayor \n",
              "<mark class=\"entity\" style=\"background: #aa9cfc; padding: 0.45em 0.6em; margin: 0 0.25em; line-height: 1; border-radius: 0.35em;\">\n",
              "    Bill de Blasio\n",
              "    <span style=\"font-size: 0.8em; font-weight: bold; line-height: 1; border-radius: 0.35em; text-transform: uppercase; vertical-align: middle; margin-left: 0.5rem\">PERSON</span>\n",
              "</mark>\n",
              " (D) said \n",
              "<mark class=\"entity\" style=\"background: #bfe1d9; padding: 0.45em 0.6em; margin: 0 0.25em; line-height: 1; border-radius: 0.35em;\">\n",
              "    Tuesday\n",
              "    <span style=\"font-size: 0.8em; font-weight: bold; line-height: 1; border-radius: 0.35em; text-transform: uppercase; vertical-align: middle; margin-left: 0.5rem\">DATE</span>\n",
              "</mark>\n",
              ".</br></br>The mandate orders all unvaccinated people in the area, including a concentration of \n",
              "<mark class=\"entity\" style=\"background: #aa9cfc; padding: 0.45em 0.6em; margin: 0 0.25em; line-height: 1; border-radius: 0.35em;\">\n",
              "    Orthodox Jews\n",
              "    <span style=\"font-size: 0.8em; font-weight: bold; line-height: 1; border-radius: 0.35em; text-transform: uppercase; vertical-align: middle; margin-left: 0.5rem\">PERSON</span>\n",
              "</mark>\n",
              ", to receive inoculations, including for children as young as \n",
              "<mark class=\"entity\" style=\"background: #bfe1d9; padding: 0.45em 0.6em; margin: 0 0.25em; line-height: 1; border-radius: 0.35em;\">\n",
              "    6 months old\n",
              "    <span style=\"font-size: 0.8em; font-weight: bold; line-height: 1; border-radius: 0.35em; text-transform: uppercase; vertical-align: middle; margin-left: 0.5rem\">DATE</span>\n",
              "</mark>\n",
              ". Anyone who resists could be fined \n",
              "<mark class=\"entity\" style=\"background: #e4e7d2; padding: 0.45em 0.6em; margin: 0 0.25em; line-height: 1; border-radius: 0.35em;\">\n",
              "    up to $1,000\n",
              "    <span style=\"font-size: 0.8em; font-weight: bold; line-height: 1; border-radius: 0.35em; text-transform: uppercase; vertical-align: middle; margin-left: 0.5rem\">MONEY</span>\n",
              "</mark>\n",
              ".</div></span>"
            ],
            "text/plain": [
              "<IPython.core.display.HTML object>"
            ]
          },
          "metadata": {
            "tags": []
          }
        }
      ]
    },
    {
      "cell_type": "code",
      "metadata": {
        "id": "FeXu0AWGyGeY"
      },
      "source": [
        "docp = nlp(\"In pursut of a wal, President Trump ran intoo one.\")"
      ],
      "execution_count": null,
      "outputs": []
    },
    {
      "cell_type": "code",
      "metadata": {
        "colab": {
          "base_uri": "https://localhost:8080/"
        },
        "id": "mS1wVyRXyGax",
        "outputId": "b45eed55-ee53-49b0-95fe-b7cdf1fae8b6"
      },
      "source": [
        "for chunk in docp.noun_chunks:\r\n",
        "  print(chunk.text, chunk.root.text, chunk.root.dep_, chunk.root.head.text)"
      ],
      "execution_count": null,
      "outputs": [
        {
          "output_type": "stream",
          "text": [
            "pursut pursut pobj In\n",
            "a wal wal pobj of\n",
            "President Trump Trump nsubj ran\n"
          ],
          "name": "stdout"
        }
      ]
    },
    {
      "cell_type": "code",
      "metadata": {
        "colab": {
          "base_uri": "https://localhost:8080/",
          "height": 441
        },
        "id": "fwQ1oUydyGPE",
        "outputId": "a51dca8a-95f2-47b8-ca6c-3dd6a7a8abd6"
      },
      "source": [
        "displacy.render(docp, style='dep', jupyter=True)"
      ],
      "execution_count": null,
      "outputs": [
        {
          "output_type": "display_data",
          "data": {
            "text/html": [
              "<span class=\"tex2jax_ignore\"><svg xmlns=\"http://www.w3.org/2000/svg\" xmlns:xlink=\"http://www.w3.org/1999/xlink\" xml:lang=\"en\" id=\"cda3c311728144fc90d1abfa82af65d3-0\" class=\"displacy\" width=\"1800\" height=\"399.5\" direction=\"ltr\" style=\"max-width: none; height: 399.5px; color: #000000; background: #ffffff; font-family: Arial; direction: ltr\">\n",
              "<text class=\"displacy-token\" fill=\"currentColor\" text-anchor=\"middle\" y=\"309.5\">\n",
              "    <tspan class=\"displacy-word\" fill=\"currentColor\" x=\"50\">In</tspan>\n",
              "    <tspan class=\"displacy-tag\" dy=\"2em\" fill=\"currentColor\" x=\"50\">ADP</tspan>\n",
              "</text>\n",
              "\n",
              "<text class=\"displacy-token\" fill=\"currentColor\" text-anchor=\"middle\" y=\"309.5\">\n",
              "    <tspan class=\"displacy-word\" fill=\"currentColor\" x=\"225\">pursut</tspan>\n",
              "    <tspan class=\"displacy-tag\" dy=\"2em\" fill=\"currentColor\" x=\"225\">NOUN</tspan>\n",
              "</text>\n",
              "\n",
              "<text class=\"displacy-token\" fill=\"currentColor\" text-anchor=\"middle\" y=\"309.5\">\n",
              "    <tspan class=\"displacy-word\" fill=\"currentColor\" x=\"400\">of</tspan>\n",
              "    <tspan class=\"displacy-tag\" dy=\"2em\" fill=\"currentColor\" x=\"400\">ADP</tspan>\n",
              "</text>\n",
              "\n",
              "<text class=\"displacy-token\" fill=\"currentColor\" text-anchor=\"middle\" y=\"309.5\">\n",
              "    <tspan class=\"displacy-word\" fill=\"currentColor\" x=\"575\">a</tspan>\n",
              "    <tspan class=\"displacy-tag\" dy=\"2em\" fill=\"currentColor\" x=\"575\">DET</tspan>\n",
              "</text>\n",
              "\n",
              "<text class=\"displacy-token\" fill=\"currentColor\" text-anchor=\"middle\" y=\"309.5\">\n",
              "    <tspan class=\"displacy-word\" fill=\"currentColor\" x=\"750\">wal,</tspan>\n",
              "    <tspan class=\"displacy-tag\" dy=\"2em\" fill=\"currentColor\" x=\"750\">NOUN</tspan>\n",
              "</text>\n",
              "\n",
              "<text class=\"displacy-token\" fill=\"currentColor\" text-anchor=\"middle\" y=\"309.5\">\n",
              "    <tspan class=\"displacy-word\" fill=\"currentColor\" x=\"925\">President</tspan>\n",
              "    <tspan class=\"displacy-tag\" dy=\"2em\" fill=\"currentColor\" x=\"925\">PROPN</tspan>\n",
              "</text>\n",
              "\n",
              "<text class=\"displacy-token\" fill=\"currentColor\" text-anchor=\"middle\" y=\"309.5\">\n",
              "    <tspan class=\"displacy-word\" fill=\"currentColor\" x=\"1100\">Trump</tspan>\n",
              "    <tspan class=\"displacy-tag\" dy=\"2em\" fill=\"currentColor\" x=\"1100\">PROPN</tspan>\n",
              "</text>\n",
              "\n",
              "<text class=\"displacy-token\" fill=\"currentColor\" text-anchor=\"middle\" y=\"309.5\">\n",
              "    <tspan class=\"displacy-word\" fill=\"currentColor\" x=\"1275\">ran</tspan>\n",
              "    <tspan class=\"displacy-tag\" dy=\"2em\" fill=\"currentColor\" x=\"1275\">VERB</tspan>\n",
              "</text>\n",
              "\n",
              "<text class=\"displacy-token\" fill=\"currentColor\" text-anchor=\"middle\" y=\"309.5\">\n",
              "    <tspan class=\"displacy-word\" fill=\"currentColor\" x=\"1450\">intoo</tspan>\n",
              "    <tspan class=\"displacy-tag\" dy=\"2em\" fill=\"currentColor\" x=\"1450\">VERB</tspan>\n",
              "</text>\n",
              "\n",
              "<text class=\"displacy-token\" fill=\"currentColor\" text-anchor=\"middle\" y=\"309.5\">\n",
              "    <tspan class=\"displacy-word\" fill=\"currentColor\" x=\"1625\">one.</tspan>\n",
              "    <tspan class=\"displacy-tag\" dy=\"2em\" fill=\"currentColor\" x=\"1625\">NUM</tspan>\n",
              "</text>\n",
              "\n",
              "<g class=\"displacy-arrow\">\n",
              "    <path class=\"displacy-arc\" id=\"arrow-cda3c311728144fc90d1abfa82af65d3-0-0\" stroke-width=\"2px\" d=\"M70,264.5 C70,2.0 1275.0,2.0 1275.0,264.5\" fill=\"none\" stroke=\"currentColor\"/>\n",
              "    <text dy=\"1.25em\" style=\"font-size: 0.8em; letter-spacing: 1px\">\n",
              "        <textPath xlink:href=\"#arrow-cda3c311728144fc90d1abfa82af65d3-0-0\" class=\"displacy-label\" startOffset=\"50%\" side=\"left\" fill=\"currentColor\" text-anchor=\"middle\">prep</textPath>\n",
              "    </text>\n",
              "    <path class=\"displacy-arrowhead\" d=\"M70,266.5 L62,254.5 78,254.5\" fill=\"currentColor\"/>\n",
              "</g>\n",
              "\n",
              "<g class=\"displacy-arrow\">\n",
              "    <path class=\"displacy-arc\" id=\"arrow-cda3c311728144fc90d1abfa82af65d3-0-1\" stroke-width=\"2px\" d=\"M70,264.5 C70,177.0 215.0,177.0 215.0,264.5\" fill=\"none\" stroke=\"currentColor\"/>\n",
              "    <text dy=\"1.25em\" style=\"font-size: 0.8em; letter-spacing: 1px\">\n",
              "        <textPath xlink:href=\"#arrow-cda3c311728144fc90d1abfa82af65d3-0-1\" class=\"displacy-label\" startOffset=\"50%\" side=\"left\" fill=\"currentColor\" text-anchor=\"middle\">pobj</textPath>\n",
              "    </text>\n",
              "    <path class=\"displacy-arrowhead\" d=\"M215.0,266.5 L223.0,254.5 207.0,254.5\" fill=\"currentColor\"/>\n",
              "</g>\n",
              "\n",
              "<g class=\"displacy-arrow\">\n",
              "    <path class=\"displacy-arc\" id=\"arrow-cda3c311728144fc90d1abfa82af65d3-0-2\" stroke-width=\"2px\" d=\"M245,264.5 C245,177.0 390.0,177.0 390.0,264.5\" fill=\"none\" stroke=\"currentColor\"/>\n",
              "    <text dy=\"1.25em\" style=\"font-size: 0.8em; letter-spacing: 1px\">\n",
              "        <textPath xlink:href=\"#arrow-cda3c311728144fc90d1abfa82af65d3-0-2\" class=\"displacy-label\" startOffset=\"50%\" side=\"left\" fill=\"currentColor\" text-anchor=\"middle\">prep</textPath>\n",
              "    </text>\n",
              "    <path class=\"displacy-arrowhead\" d=\"M390.0,266.5 L398.0,254.5 382.0,254.5\" fill=\"currentColor\"/>\n",
              "</g>\n",
              "\n",
              "<g class=\"displacy-arrow\">\n",
              "    <path class=\"displacy-arc\" id=\"arrow-cda3c311728144fc90d1abfa82af65d3-0-3\" stroke-width=\"2px\" d=\"M595,264.5 C595,177.0 740.0,177.0 740.0,264.5\" fill=\"none\" stroke=\"currentColor\"/>\n",
              "    <text dy=\"1.25em\" style=\"font-size: 0.8em; letter-spacing: 1px\">\n",
              "        <textPath xlink:href=\"#arrow-cda3c311728144fc90d1abfa82af65d3-0-3\" class=\"displacy-label\" startOffset=\"50%\" side=\"left\" fill=\"currentColor\" text-anchor=\"middle\">det</textPath>\n",
              "    </text>\n",
              "    <path class=\"displacy-arrowhead\" d=\"M595,266.5 L587,254.5 603,254.5\" fill=\"currentColor\"/>\n",
              "</g>\n",
              "\n",
              "<g class=\"displacy-arrow\">\n",
              "    <path class=\"displacy-arc\" id=\"arrow-cda3c311728144fc90d1abfa82af65d3-0-4\" stroke-width=\"2px\" d=\"M420,264.5 C420,89.5 745.0,89.5 745.0,264.5\" fill=\"none\" stroke=\"currentColor\"/>\n",
              "    <text dy=\"1.25em\" style=\"font-size: 0.8em; letter-spacing: 1px\">\n",
              "        <textPath xlink:href=\"#arrow-cda3c311728144fc90d1abfa82af65d3-0-4\" class=\"displacy-label\" startOffset=\"50%\" side=\"left\" fill=\"currentColor\" text-anchor=\"middle\">pobj</textPath>\n",
              "    </text>\n",
              "    <path class=\"displacy-arrowhead\" d=\"M745.0,266.5 L753.0,254.5 737.0,254.5\" fill=\"currentColor\"/>\n",
              "</g>\n",
              "\n",
              "<g class=\"displacy-arrow\">\n",
              "    <path class=\"displacy-arc\" id=\"arrow-cda3c311728144fc90d1abfa82af65d3-0-5\" stroke-width=\"2px\" d=\"M945,264.5 C945,177.0 1090.0,177.0 1090.0,264.5\" fill=\"none\" stroke=\"currentColor\"/>\n",
              "    <text dy=\"1.25em\" style=\"font-size: 0.8em; letter-spacing: 1px\">\n",
              "        <textPath xlink:href=\"#arrow-cda3c311728144fc90d1abfa82af65d3-0-5\" class=\"displacy-label\" startOffset=\"50%\" side=\"left\" fill=\"currentColor\" text-anchor=\"middle\">compound</textPath>\n",
              "    </text>\n",
              "    <path class=\"displacy-arrowhead\" d=\"M945,266.5 L937,254.5 953,254.5\" fill=\"currentColor\"/>\n",
              "</g>\n",
              "\n",
              "<g class=\"displacy-arrow\">\n",
              "    <path class=\"displacy-arc\" id=\"arrow-cda3c311728144fc90d1abfa82af65d3-0-6\" stroke-width=\"2px\" d=\"M1120,264.5 C1120,177.0 1265.0,177.0 1265.0,264.5\" fill=\"none\" stroke=\"currentColor\"/>\n",
              "    <text dy=\"1.25em\" style=\"font-size: 0.8em; letter-spacing: 1px\">\n",
              "        <textPath xlink:href=\"#arrow-cda3c311728144fc90d1abfa82af65d3-0-6\" class=\"displacy-label\" startOffset=\"50%\" side=\"left\" fill=\"currentColor\" text-anchor=\"middle\">nsubj</textPath>\n",
              "    </text>\n",
              "    <path class=\"displacy-arrowhead\" d=\"M1120,266.5 L1112,254.5 1128,254.5\" fill=\"currentColor\"/>\n",
              "</g>\n",
              "\n",
              "<g class=\"displacy-arrow\">\n",
              "    <path class=\"displacy-arc\" id=\"arrow-cda3c311728144fc90d1abfa82af65d3-0-7\" stroke-width=\"2px\" d=\"M1295,264.5 C1295,177.0 1440.0,177.0 1440.0,264.5\" fill=\"none\" stroke=\"currentColor\"/>\n",
              "    <text dy=\"1.25em\" style=\"font-size: 0.8em; letter-spacing: 1px\">\n",
              "        <textPath xlink:href=\"#arrow-cda3c311728144fc90d1abfa82af65d3-0-7\" class=\"displacy-label\" startOffset=\"50%\" side=\"left\" fill=\"currentColor\" text-anchor=\"middle\">dobj</textPath>\n",
              "    </text>\n",
              "    <path class=\"displacy-arrowhead\" d=\"M1440.0,266.5 L1448.0,254.5 1432.0,254.5\" fill=\"currentColor\"/>\n",
              "</g>\n",
              "\n",
              "<g class=\"displacy-arrow\">\n",
              "    <path class=\"displacy-arc\" id=\"arrow-cda3c311728144fc90d1abfa82af65d3-0-8\" stroke-width=\"2px\" d=\"M1470,264.5 C1470,177.0 1615.0,177.0 1615.0,264.5\" fill=\"none\" stroke=\"currentColor\"/>\n",
              "    <text dy=\"1.25em\" style=\"font-size: 0.8em; letter-spacing: 1px\">\n",
              "        <textPath xlink:href=\"#arrow-cda3c311728144fc90d1abfa82af65d3-0-8\" class=\"displacy-label\" startOffset=\"50%\" side=\"left\" fill=\"currentColor\" text-anchor=\"middle\">nummod</textPath>\n",
              "    </text>\n",
              "    <path class=\"displacy-arrowhead\" d=\"M1615.0,266.5 L1623.0,254.5 1607.0,254.5\" fill=\"currentColor\"/>\n",
              "</g>\n",
              "</svg></span>"
            ],
            "text/plain": [
              "<IPython.core.display.HTML object>"
            ]
          },
          "metadata": {
            "tags": []
          }
        }
      ]
    },
    {
      "cell_type": "code",
      "metadata": {
        "colab": {
          "base_uri": "https://localhost:8080/",
          "height": 441
        },
        "id": "tiIhWx_wyGCK",
        "outputId": "46bf6602-6587-4363-bbc5-2ef4f79dbb6b"
      },
      "source": [
        "docpb = nlp(\"In pursuit of a wall, President Trump ran into one.\")\r\n",
        "displacy.render(docpb, style='dep', jupyter=True)"
      ],
      "execution_count": null,
      "outputs": [
        {
          "output_type": "display_data",
          "data": {
            "text/html": [
              "<span class=\"tex2jax_ignore\"><svg xmlns=\"http://www.w3.org/2000/svg\" xmlns:xlink=\"http://www.w3.org/1999/xlink\" xml:lang=\"en\" id=\"d415ad46e3ba4153a2b3614ceb8149a9-0\" class=\"displacy\" width=\"1800\" height=\"399.5\" direction=\"ltr\" style=\"max-width: none; height: 399.5px; color: #000000; background: #ffffff; font-family: Arial; direction: ltr\">\n",
              "<text class=\"displacy-token\" fill=\"currentColor\" text-anchor=\"middle\" y=\"309.5\">\n",
              "    <tspan class=\"displacy-word\" fill=\"currentColor\" x=\"50\">In</tspan>\n",
              "    <tspan class=\"displacy-tag\" dy=\"2em\" fill=\"currentColor\" x=\"50\">ADP</tspan>\n",
              "</text>\n",
              "\n",
              "<text class=\"displacy-token\" fill=\"currentColor\" text-anchor=\"middle\" y=\"309.5\">\n",
              "    <tspan class=\"displacy-word\" fill=\"currentColor\" x=\"225\">pursuit</tspan>\n",
              "    <tspan class=\"displacy-tag\" dy=\"2em\" fill=\"currentColor\" x=\"225\">NOUN</tspan>\n",
              "</text>\n",
              "\n",
              "<text class=\"displacy-token\" fill=\"currentColor\" text-anchor=\"middle\" y=\"309.5\">\n",
              "    <tspan class=\"displacy-word\" fill=\"currentColor\" x=\"400\">of</tspan>\n",
              "    <tspan class=\"displacy-tag\" dy=\"2em\" fill=\"currentColor\" x=\"400\">ADP</tspan>\n",
              "</text>\n",
              "\n",
              "<text class=\"displacy-token\" fill=\"currentColor\" text-anchor=\"middle\" y=\"309.5\">\n",
              "    <tspan class=\"displacy-word\" fill=\"currentColor\" x=\"575\">a</tspan>\n",
              "    <tspan class=\"displacy-tag\" dy=\"2em\" fill=\"currentColor\" x=\"575\">DET</tspan>\n",
              "</text>\n",
              "\n",
              "<text class=\"displacy-token\" fill=\"currentColor\" text-anchor=\"middle\" y=\"309.5\">\n",
              "    <tspan class=\"displacy-word\" fill=\"currentColor\" x=\"750\">wall,</tspan>\n",
              "    <tspan class=\"displacy-tag\" dy=\"2em\" fill=\"currentColor\" x=\"750\">NOUN</tspan>\n",
              "</text>\n",
              "\n",
              "<text class=\"displacy-token\" fill=\"currentColor\" text-anchor=\"middle\" y=\"309.5\">\n",
              "    <tspan class=\"displacy-word\" fill=\"currentColor\" x=\"925\">President</tspan>\n",
              "    <tspan class=\"displacy-tag\" dy=\"2em\" fill=\"currentColor\" x=\"925\">PROPN</tspan>\n",
              "</text>\n",
              "\n",
              "<text class=\"displacy-token\" fill=\"currentColor\" text-anchor=\"middle\" y=\"309.5\">\n",
              "    <tspan class=\"displacy-word\" fill=\"currentColor\" x=\"1100\">Trump</tspan>\n",
              "    <tspan class=\"displacy-tag\" dy=\"2em\" fill=\"currentColor\" x=\"1100\">PROPN</tspan>\n",
              "</text>\n",
              "\n",
              "<text class=\"displacy-token\" fill=\"currentColor\" text-anchor=\"middle\" y=\"309.5\">\n",
              "    <tspan class=\"displacy-word\" fill=\"currentColor\" x=\"1275\">ran</tspan>\n",
              "    <tspan class=\"displacy-tag\" dy=\"2em\" fill=\"currentColor\" x=\"1275\">VERB</tspan>\n",
              "</text>\n",
              "\n",
              "<text class=\"displacy-token\" fill=\"currentColor\" text-anchor=\"middle\" y=\"309.5\">\n",
              "    <tspan class=\"displacy-word\" fill=\"currentColor\" x=\"1450\">into</tspan>\n",
              "    <tspan class=\"displacy-tag\" dy=\"2em\" fill=\"currentColor\" x=\"1450\">ADP</tspan>\n",
              "</text>\n",
              "\n",
              "<text class=\"displacy-token\" fill=\"currentColor\" text-anchor=\"middle\" y=\"309.5\">\n",
              "    <tspan class=\"displacy-word\" fill=\"currentColor\" x=\"1625\">one.</tspan>\n",
              "    <tspan class=\"displacy-tag\" dy=\"2em\" fill=\"currentColor\" x=\"1625\">NUM</tspan>\n",
              "</text>\n",
              "\n",
              "<g class=\"displacy-arrow\">\n",
              "    <path class=\"displacy-arc\" id=\"arrow-d415ad46e3ba4153a2b3614ceb8149a9-0-0\" stroke-width=\"2px\" d=\"M70,264.5 C70,2.0 1275.0,2.0 1275.0,264.5\" fill=\"none\" stroke=\"currentColor\"/>\n",
              "    <text dy=\"1.25em\" style=\"font-size: 0.8em; letter-spacing: 1px\">\n",
              "        <textPath xlink:href=\"#arrow-d415ad46e3ba4153a2b3614ceb8149a9-0-0\" class=\"displacy-label\" startOffset=\"50%\" side=\"left\" fill=\"currentColor\" text-anchor=\"middle\">prep</textPath>\n",
              "    </text>\n",
              "    <path class=\"displacy-arrowhead\" d=\"M70,266.5 L62,254.5 78,254.5\" fill=\"currentColor\"/>\n",
              "</g>\n",
              "\n",
              "<g class=\"displacy-arrow\">\n",
              "    <path class=\"displacy-arc\" id=\"arrow-d415ad46e3ba4153a2b3614ceb8149a9-0-1\" stroke-width=\"2px\" d=\"M70,264.5 C70,177.0 215.0,177.0 215.0,264.5\" fill=\"none\" stroke=\"currentColor\"/>\n",
              "    <text dy=\"1.25em\" style=\"font-size: 0.8em; letter-spacing: 1px\">\n",
              "        <textPath xlink:href=\"#arrow-d415ad46e3ba4153a2b3614ceb8149a9-0-1\" class=\"displacy-label\" startOffset=\"50%\" side=\"left\" fill=\"currentColor\" text-anchor=\"middle\">pobj</textPath>\n",
              "    </text>\n",
              "    <path class=\"displacy-arrowhead\" d=\"M215.0,266.5 L223.0,254.5 207.0,254.5\" fill=\"currentColor\"/>\n",
              "</g>\n",
              "\n",
              "<g class=\"displacy-arrow\">\n",
              "    <path class=\"displacy-arc\" id=\"arrow-d415ad46e3ba4153a2b3614ceb8149a9-0-2\" stroke-width=\"2px\" d=\"M245,264.5 C245,177.0 390.0,177.0 390.0,264.5\" fill=\"none\" stroke=\"currentColor\"/>\n",
              "    <text dy=\"1.25em\" style=\"font-size: 0.8em; letter-spacing: 1px\">\n",
              "        <textPath xlink:href=\"#arrow-d415ad46e3ba4153a2b3614ceb8149a9-0-2\" class=\"displacy-label\" startOffset=\"50%\" side=\"left\" fill=\"currentColor\" text-anchor=\"middle\">prep</textPath>\n",
              "    </text>\n",
              "    <path class=\"displacy-arrowhead\" d=\"M390.0,266.5 L398.0,254.5 382.0,254.5\" fill=\"currentColor\"/>\n",
              "</g>\n",
              "\n",
              "<g class=\"displacy-arrow\">\n",
              "    <path class=\"displacy-arc\" id=\"arrow-d415ad46e3ba4153a2b3614ceb8149a9-0-3\" stroke-width=\"2px\" d=\"M595,264.5 C595,177.0 740.0,177.0 740.0,264.5\" fill=\"none\" stroke=\"currentColor\"/>\n",
              "    <text dy=\"1.25em\" style=\"font-size: 0.8em; letter-spacing: 1px\">\n",
              "        <textPath xlink:href=\"#arrow-d415ad46e3ba4153a2b3614ceb8149a9-0-3\" class=\"displacy-label\" startOffset=\"50%\" side=\"left\" fill=\"currentColor\" text-anchor=\"middle\">det</textPath>\n",
              "    </text>\n",
              "    <path class=\"displacy-arrowhead\" d=\"M595,266.5 L587,254.5 603,254.5\" fill=\"currentColor\"/>\n",
              "</g>\n",
              "\n",
              "<g class=\"displacy-arrow\">\n",
              "    <path class=\"displacy-arc\" id=\"arrow-d415ad46e3ba4153a2b3614ceb8149a9-0-4\" stroke-width=\"2px\" d=\"M420,264.5 C420,89.5 745.0,89.5 745.0,264.5\" fill=\"none\" stroke=\"currentColor\"/>\n",
              "    <text dy=\"1.25em\" style=\"font-size: 0.8em; letter-spacing: 1px\">\n",
              "        <textPath xlink:href=\"#arrow-d415ad46e3ba4153a2b3614ceb8149a9-0-4\" class=\"displacy-label\" startOffset=\"50%\" side=\"left\" fill=\"currentColor\" text-anchor=\"middle\">pobj</textPath>\n",
              "    </text>\n",
              "    <path class=\"displacy-arrowhead\" d=\"M745.0,266.5 L753.0,254.5 737.0,254.5\" fill=\"currentColor\"/>\n",
              "</g>\n",
              "\n",
              "<g class=\"displacy-arrow\">\n",
              "    <path class=\"displacy-arc\" id=\"arrow-d415ad46e3ba4153a2b3614ceb8149a9-0-5\" stroke-width=\"2px\" d=\"M945,264.5 C945,177.0 1090.0,177.0 1090.0,264.5\" fill=\"none\" stroke=\"currentColor\"/>\n",
              "    <text dy=\"1.25em\" style=\"font-size: 0.8em; letter-spacing: 1px\">\n",
              "        <textPath xlink:href=\"#arrow-d415ad46e3ba4153a2b3614ceb8149a9-0-5\" class=\"displacy-label\" startOffset=\"50%\" side=\"left\" fill=\"currentColor\" text-anchor=\"middle\">compound</textPath>\n",
              "    </text>\n",
              "    <path class=\"displacy-arrowhead\" d=\"M945,266.5 L937,254.5 953,254.5\" fill=\"currentColor\"/>\n",
              "</g>\n",
              "\n",
              "<g class=\"displacy-arrow\">\n",
              "    <path class=\"displacy-arc\" id=\"arrow-d415ad46e3ba4153a2b3614ceb8149a9-0-6\" stroke-width=\"2px\" d=\"M1120,264.5 C1120,177.0 1265.0,177.0 1265.0,264.5\" fill=\"none\" stroke=\"currentColor\"/>\n",
              "    <text dy=\"1.25em\" style=\"font-size: 0.8em; letter-spacing: 1px\">\n",
              "        <textPath xlink:href=\"#arrow-d415ad46e3ba4153a2b3614ceb8149a9-0-6\" class=\"displacy-label\" startOffset=\"50%\" side=\"left\" fill=\"currentColor\" text-anchor=\"middle\">nsubj</textPath>\n",
              "    </text>\n",
              "    <path class=\"displacy-arrowhead\" d=\"M1120,266.5 L1112,254.5 1128,254.5\" fill=\"currentColor\"/>\n",
              "</g>\n",
              "\n",
              "<g class=\"displacy-arrow\">\n",
              "    <path class=\"displacy-arc\" id=\"arrow-d415ad46e3ba4153a2b3614ceb8149a9-0-7\" stroke-width=\"2px\" d=\"M1295,264.5 C1295,177.0 1440.0,177.0 1440.0,264.5\" fill=\"none\" stroke=\"currentColor\"/>\n",
              "    <text dy=\"1.25em\" style=\"font-size: 0.8em; letter-spacing: 1px\">\n",
              "        <textPath xlink:href=\"#arrow-d415ad46e3ba4153a2b3614ceb8149a9-0-7\" class=\"displacy-label\" startOffset=\"50%\" side=\"left\" fill=\"currentColor\" text-anchor=\"middle\">prep</textPath>\n",
              "    </text>\n",
              "    <path class=\"displacy-arrowhead\" d=\"M1440.0,266.5 L1448.0,254.5 1432.0,254.5\" fill=\"currentColor\"/>\n",
              "</g>\n",
              "\n",
              "<g class=\"displacy-arrow\">\n",
              "    <path class=\"displacy-arc\" id=\"arrow-d415ad46e3ba4153a2b3614ceb8149a9-0-8\" stroke-width=\"2px\" d=\"M1470,264.5 C1470,177.0 1615.0,177.0 1615.0,264.5\" fill=\"none\" stroke=\"currentColor\"/>\n",
              "    <text dy=\"1.25em\" style=\"font-size: 0.8em; letter-spacing: 1px\">\n",
              "        <textPath xlink:href=\"#arrow-d415ad46e3ba4153a2b3614ceb8149a9-0-8\" class=\"displacy-label\" startOffset=\"50%\" side=\"left\" fill=\"currentColor\" text-anchor=\"middle\">pobj</textPath>\n",
              "    </text>\n",
              "    <path class=\"displacy-arrowhead\" d=\"M1615.0,266.5 L1623.0,254.5 1607.0,254.5\" fill=\"currentColor\"/>\n",
              "</g>\n",
              "</svg></span>"
            ],
            "text/plain": [
              "<IPython.core.display.HTML object>"
            ]
          },
          "metadata": {
            "tags": []
          }
        }
      ]
    },
    {
      "cell_type": "code",
      "metadata": {
        "colab": {
          "base_uri": "https://localhost:8080/"
        },
        "id": "cdKwU_nE0GlC",
        "outputId": "65099959-9c36-490e-fde6-03b26673a489"
      },
      "source": [
        "mango = nlp('mango')\r\n",
        "print(mango.vector.shape)"
      ],
      "execution_count": null,
      "outputs": [
        {
          "output_type": "stream",
          "text": [
            "(96,)\n"
          ],
          "name": "stdout"
        }
      ]
    },
    {
      "cell_type": "code",
      "metadata": {
        "colab": {
          "base_uri": "https://localhost:8080/"
        },
        "id": "JYRM3vGM0Qby",
        "outputId": "6aefca76-fb36-4309-ebb8-63e2ba9b9101"
      },
      "source": [
        "print(mango.vector)"
      ],
      "execution_count": null,
      "outputs": [
        {
          "output_type": "stream",
          "text": [
            "[ 0.20538223 -1.6033721   0.2712233   0.41026044  3.2985594   3.4889507\n",
            "  1.8090308  -2.1398478   2.3156495   1.5809071   4.1519527  -1.018563\n",
            " -0.03250164 -2.7471442  -0.4177469  -2.4292278  -0.6153393   2.4422321\n",
            "  0.8078667  -2.4846373   2.0988135   1.4448198  -0.5529927  -1.341119\n",
            " -0.69847775 -0.45548356  3.8267953  -4.0225773   0.81215775  0.37661272\n",
            "  0.15751308 -1.1428397  -1.3328223   0.71877635  2.1567612  -3.018764\n",
            "  3.491902    0.69388986 -1.1943095  -0.10796595  4.702998    3.5515542\n",
            " -0.71505845 -4.458056   -0.2648064   0.6314912  -0.538128   -1.1131924\n",
            " -1.1251853   0.57400763 -1.1976197  -3.5157654   0.4251569  -1.754559\n",
            " -3.0587835   0.0168068   0.97784567  1.7633758   0.45619613  2.5090184\n",
            "  0.35267764  0.8351368  -1.3943516   0.5082067   0.7596091  -3.3654137\n",
            "  2.3440151  -2.431119    1.2401553  -1.449822   -2.3708582   1.2744557\n",
            "  2.6584349   2.5052357   0.249991    0.45837995  0.7396461  -3.0134087\n",
            " -1.1449492   2.4415343   0.58747005 -0.4724074  -0.99527407 -2.6816297\n",
            "  0.09063238  6.4157214  -2.040547    0.4545673  -1.663305   -0.9203447\n",
            "  0.12515694 -1.3880284  -2.133686    2.333706   -0.6882837  -1.3300112 ]\n"
          ],
          "name": "stdout"
        }
      ]
    },
    {
      "cell_type": "markdown",
      "metadata": {
        "id": "MCbsgiFZAEeG"
      },
      "source": [
        "#### Alexa"
      ]
    },
    {
      "cell_type": "code",
      "metadata": {
        "id": "-VWIAuNR0clY"
      },
      "source": [
        "import pandas as pd\r\n",
        "from sklearn.feature_extraction.text import CountVectorizer,TfidfVectorizer\r\n",
        "from sklearn.base import TransformerMixin\r\n",
        "from sklearn.pipeline import Pipeline"
      ],
      "execution_count": null,
      "outputs": []
    },
    {
      "cell_type": "code",
      "metadata": {
        "id": "IuRDfO-j00EC"
      },
      "source": [
        "df_amazon = pd.read_csv('amazon_alexa.tsv', sep='\\t')"
      ],
      "execution_count": null,
      "outputs": []
    },
    {
      "cell_type": "code",
      "metadata": {
        "colab": {
          "base_uri": "https://localhost:8080/",
          "height": 195
        },
        "id": "i_Bgh9Qf0z-w",
        "outputId": "ea8a9481-efce-46c4-d0c8-11d5e18349cd"
      },
      "source": [
        "df_amazon.head()"
      ],
      "execution_count": null,
      "outputs": [
        {
          "output_type": "execute_result",
          "data": {
            "text/html": [
              "<div>\n",
              "<style scoped>\n",
              "    .dataframe tbody tr th:only-of-type {\n",
              "        vertical-align: middle;\n",
              "    }\n",
              "\n",
              "    .dataframe tbody tr th {\n",
              "        vertical-align: top;\n",
              "    }\n",
              "\n",
              "    .dataframe thead th {\n",
              "        text-align: right;\n",
              "    }\n",
              "</style>\n",
              "<table border=\"1\" class=\"dataframe\">\n",
              "  <thead>\n",
              "    <tr style=\"text-align: right;\">\n",
              "      <th></th>\n",
              "      <th>rating</th>\n",
              "      <th>date</th>\n",
              "      <th>variation</th>\n",
              "      <th>verified_reviews</th>\n",
              "      <th>feedback</th>\n",
              "    </tr>\n",
              "  </thead>\n",
              "  <tbody>\n",
              "    <tr>\n",
              "      <th>0</th>\n",
              "      <td>5</td>\n",
              "      <td>31-Jul-18</td>\n",
              "      <td>Charcoal Fabric</td>\n",
              "      <td>Love my Echo!</td>\n",
              "      <td>1</td>\n",
              "    </tr>\n",
              "    <tr>\n",
              "      <th>1</th>\n",
              "      <td>5</td>\n",
              "      <td>31-Jul-18</td>\n",
              "      <td>Charcoal Fabric</td>\n",
              "      <td>Loved it!</td>\n",
              "      <td>1</td>\n",
              "    </tr>\n",
              "    <tr>\n",
              "      <th>2</th>\n",
              "      <td>4</td>\n",
              "      <td>31-Jul-18</td>\n",
              "      <td>Walnut Finish</td>\n",
              "      <td>Sometimes while playing a game, you can answer...</td>\n",
              "      <td>1</td>\n",
              "    </tr>\n",
              "    <tr>\n",
              "      <th>3</th>\n",
              "      <td>5</td>\n",
              "      <td>31-Jul-18</td>\n",
              "      <td>Charcoal Fabric</td>\n",
              "      <td>I have had a lot of fun with this thing. My 4 ...</td>\n",
              "      <td>1</td>\n",
              "    </tr>\n",
              "    <tr>\n",
              "      <th>4</th>\n",
              "      <td>5</td>\n",
              "      <td>31-Jul-18</td>\n",
              "      <td>Charcoal Fabric</td>\n",
              "      <td>Music</td>\n",
              "      <td>1</td>\n",
              "    </tr>\n",
              "  </tbody>\n",
              "</table>\n",
              "</div>"
            ],
            "text/plain": [
              "   rating  ... feedback\n",
              "0       5  ...        1\n",
              "1       5  ...        1\n",
              "2       4  ...        1\n",
              "3       5  ...        1\n",
              "4       5  ...        1\n",
              "\n",
              "[5 rows x 5 columns]"
            ]
          },
          "metadata": {
            "tags": []
          },
          "execution_count": 47
        }
      ]
    },
    {
      "cell_type": "code",
      "metadata": {
        "colab": {
          "base_uri": "https://localhost:8080/"
        },
        "id": "NrWQAx1O0z1r",
        "outputId": "517f619e-f690-4dce-9566-4672eae870b2"
      },
      "source": [
        "df_amazon.shape"
      ],
      "execution_count": null,
      "outputs": [
        {
          "output_type": "execute_result",
          "data": {
            "text/plain": [
              "(3150, 5)"
            ]
          },
          "metadata": {
            "tags": []
          },
          "execution_count": 48
        }
      ]
    },
    {
      "cell_type": "code",
      "metadata": {
        "colab": {
          "base_uri": "https://localhost:8080/"
        },
        "id": "ImJVzz6d0zuS",
        "outputId": "cc828b7d-e35f-4de2-e5de-1d89bd6c8429"
      },
      "source": [
        "df_amazon.info()"
      ],
      "execution_count": null,
      "outputs": [
        {
          "output_type": "stream",
          "text": [
            "<class 'pandas.core.frame.DataFrame'>\n",
            "RangeIndex: 3150 entries, 0 to 3149\n",
            "Data columns (total 5 columns):\n",
            " #   Column            Non-Null Count  Dtype \n",
            "---  ------            --------------  ----- \n",
            " 0   rating            3150 non-null   int64 \n",
            " 1   date              3150 non-null   object\n",
            " 2   variation         3150 non-null   object\n",
            " 3   verified_reviews  3150 non-null   object\n",
            " 4   feedback          3150 non-null   int64 \n",
            "dtypes: int64(2), object(3)\n",
            "memory usage: 123.2+ KB\n"
          ],
          "name": "stdout"
        }
      ]
    },
    {
      "cell_type": "code",
      "metadata": {
        "colab": {
          "base_uri": "https://localhost:8080/"
        },
        "id": "HTZJyGrZ0zpy",
        "outputId": "300c6a9e-2606-4134-bd52-5f43d63d658d"
      },
      "source": [
        "df_amazon.feedback.value_counts()"
      ],
      "execution_count": null,
      "outputs": [
        {
          "output_type": "execute_result",
          "data": {
            "text/plain": [
              "1    2893\n",
              "0     257\n",
              "Name: feedback, dtype: int64"
            ]
          },
          "metadata": {
            "tags": []
          },
          "execution_count": 50
        }
      ]
    },
    {
      "cell_type": "code",
      "metadata": {
        "id": "nNaI1hel1R14"
      },
      "source": [
        "import string\r\n",
        "from spacy.lang.en.stop_words import STOP_WORDS\r\n",
        "from spacy.lang.en import English"
      ],
      "execution_count": null,
      "outputs": []
    },
    {
      "cell_type": "code",
      "metadata": {
        "id": "m3ETBs3x1Rxc"
      },
      "source": [
        "punct = string.punctuation"
      ],
      "execution_count": null,
      "outputs": []
    },
    {
      "cell_type": "code",
      "metadata": {
        "id": "XOx-es601Rth"
      },
      "source": [
        "nlp = spacy.load('en_core_web_sm')\r\n",
        "stop = STOP_WORDS"
      ],
      "execution_count": null,
      "outputs": []
    },
    {
      "cell_type": "code",
      "metadata": {
        "id": "3_LJJlUj1Rpo"
      },
      "source": [
        "def spacy_tokenizer(sentence):\r\n",
        "  #inicio\r\n",
        "  tokens = nlp(sentence)\r\n",
        "  #lemma\r\n",
        "  tokens = [word.lemma_.lower().strip() if word.lemma_ != '-PRON-' else word.lower_ for word in tokens]\r\n",
        "  #SW\r\n",
        "  tokens = [word for word in tokens if word not in stop and word not in punct]\r\n",
        "\r\n",
        "  return tokens\r\n"
      ],
      "execution_count": null,
      "outputs": []
    },
    {
      "cell_type": "code",
      "metadata": {
        "colab": {
          "base_uri": "https://localhost:8080/"
        },
        "id": "M0ovz5px1RlW",
        "outputId": "e4979893-2b5f-48cb-df85-8d2cf655148a"
      },
      "source": [
        "prueba = nlp(\"I ran yesterday in the park\")\r\n",
        "prueba"
      ],
      "execution_count": null,
      "outputs": [
        {
          "output_type": "execute_result",
          "data": {
            "text/plain": [
              "I ran yesterday in the park"
            ]
          },
          "metadata": {
            "tags": []
          },
          "execution_count": 87
        }
      ]
    },
    {
      "cell_type": "code",
      "metadata": {
        "colab": {
          "base_uri": "https://localhost:8080/",
          "height": 35
        },
        "id": "AG69tqr81RhD",
        "outputId": "a0edb6ee-c56b-4d99-ad0a-d36c4a7764e3"
      },
      "source": [
        "prueba[1].lemma_"
      ],
      "execution_count": null,
      "outputs": [
        {
          "output_type": "execute_result",
          "data": {
            "application/vnd.google.colaboratory.intrinsic+json": {
              "type": "string"
            },
            "text/plain": [
              "'run'"
            ]
          },
          "metadata": {
            "tags": []
          },
          "execution_count": 69
        }
      ]
    },
    {
      "cell_type": "code",
      "metadata": {
        "colab": {
          "base_uri": "https://localhost:8080/"
        },
        "id": "ryaSXDB91Rbd",
        "outputId": "d69a278f-9ed3-4592-b728-cdee943b400d"
      },
      "source": [
        "spacy_tokenizer(\"I ran yesterday in the park\")"
      ],
      "execution_count": null,
      "outputs": [
        {
          "output_type": "execute_result",
          "data": {
            "text/plain": [
              "['run', 'yesterday', 'park']"
            ]
          },
          "metadata": {
            "tags": []
          },
          "execution_count": 88
        }
      ]
    },
    {
      "cell_type": "code",
      "metadata": {
        "id": "RjCDaxRT0zeW"
      },
      "source": [
        "# Custom transformer using spaCy\r\n",
        "class predictors(TransformerMixin):\r\n",
        "    def transform(self, X, **transform_params):\r\n",
        "        # Cleaning Text\r\n",
        "        return [clean_text(text) for text in X]\r\n",
        "# Es solo para no tronar el pipeline\r\n",
        "    def fit(self, X, y=None, **fit_params):\r\n",
        "        return self\r\n",
        "\r\n",
        "#Realmente no hace nada\r\n",
        "    def get_params(self, deep=True):\r\n",
        "        return {}\r\n",
        "\r\n",
        "# Basic function to clean the text\r\n",
        "def clean_text(text):\r\n",
        "    # Removing spaces and converting text into lowercase\r\n",
        "    return text.strip().lower()"
      ],
      "execution_count": null,
      "outputs": []
    },
    {
      "cell_type": "code",
      "metadata": {
        "id": "a3JqlkX73_uc"
      },
      "source": [
        "bow_vector = CountVectorizer(tokenizer=spacy_tokenizer, ngram_range=(1,1))"
      ],
      "execution_count": null,
      "outputs": []
    },
    {
      "cell_type": "code",
      "metadata": {
        "id": "4mreHqXO3_pg"
      },
      "source": [
        "tfidf_vector = TfidfVectorizer(tokenizer=spacy_tokenizer)"
      ],
      "execution_count": null,
      "outputs": []
    },
    {
      "cell_type": "code",
      "metadata": {
        "colab": {
          "base_uri": "https://localhost:8080/"
        },
        "id": "pOjS7rjn3_e6",
        "outputId": "15180814-3899-479b-ce00-44e0f8d4f6ce"
      },
      "source": [
        "bow_vector.fit_transform([\"alma\", \"Amigo\", \"Amigo del Amigo\", \"compa\", \"del\", \"del alma\", \"Hola\", \"Amigo del alma\"]).toarray()\r\n",
        "# alma Amigo compa del Hola"
      ],
      "execution_count": null,
      "outputs": [
        {
          "output_type": "execute_result",
          "data": {
            "text/plain": [
              "array([[1, 0, 0, 0, 0],\n",
              "       [0, 1, 0, 0, 0],\n",
              "       [0, 2, 0, 1, 0],\n",
              "       [0, 0, 1, 0, 0],\n",
              "       [0, 0, 0, 1, 0],\n",
              "       [1, 0, 0, 1, 0],\n",
              "       [0, 0, 0, 0, 1],\n",
              "       [1, 1, 0, 1, 0]])"
            ]
          },
          "metadata": {
            "tags": []
          },
          "execution_count": 78
        }
      ]
    },
    {
      "cell_type": "code",
      "metadata": {
        "colab": {
          "base_uri": "https://localhost:8080/"
        },
        "id": "6rHcDi8B3_TN",
        "outputId": "dd3add0d-f28b-4982-e129-ea8d5c41f1b5"
      },
      "source": [
        "tfidf_vector.fit_transform([\"alma\", \"Amigo\", \"Amigo del Amigo\", \"compa\", \"del\", \"del alma\", \"Hola\", \"Amigo del alma\"]).toarray()\r\n"
      ],
      "execution_count": null,
      "outputs": [
        {
          "output_type": "execute_result",
          "data": {
            "text/plain": [
              "array([[1.        , 0.        , 0.        , 0.        , 0.        ],\n",
              "       [0.        , 1.        , 0.        , 0.        , 0.        ],\n",
              "       [0.        , 0.91585783, 0.        , 0.40150273, 0.        ],\n",
              "       [0.        , 0.        , 1.        , 0.        , 0.        ],\n",
              "       [0.        , 0.        , 0.        , 1.        , 0.        ],\n",
              "       [0.75191318, 0.        , 0.        , 0.65926214, 0.        ],\n",
              "       [0.        , 0.        , 0.        , 0.        , 1.        ],\n",
              "       [0.6009782 , 0.6009782 , 0.        , 0.52692542, 0.        ]])"
            ]
          },
          "metadata": {
            "tags": []
          },
          "execution_count": 79
        }
      ]
    },
    {
      "cell_type": "code",
      "metadata": {
        "colab": {
          "base_uri": "https://localhost:8080/",
          "height": 77
        },
        "id": "_iXDAirQ5oi5",
        "outputId": "ef9b6ac6-f6e5-45ae-89da-70ecb369f9e4"
      },
      "source": [
        "from sklearn.model_selection import train_test_split\r\n",
        "df_amazon.head(1)"
      ],
      "execution_count": null,
      "outputs": [
        {
          "output_type": "execute_result",
          "data": {
            "text/html": [
              "<div>\n",
              "<style scoped>\n",
              "    .dataframe tbody tr th:only-of-type {\n",
              "        vertical-align: middle;\n",
              "    }\n",
              "\n",
              "    .dataframe tbody tr th {\n",
              "        vertical-align: top;\n",
              "    }\n",
              "\n",
              "    .dataframe thead th {\n",
              "        text-align: right;\n",
              "    }\n",
              "</style>\n",
              "<table border=\"1\" class=\"dataframe\">\n",
              "  <thead>\n",
              "    <tr style=\"text-align: right;\">\n",
              "      <th></th>\n",
              "      <th>rating</th>\n",
              "      <th>date</th>\n",
              "      <th>variation</th>\n",
              "      <th>verified_reviews</th>\n",
              "      <th>feedback</th>\n",
              "    </tr>\n",
              "  </thead>\n",
              "  <tbody>\n",
              "    <tr>\n",
              "      <th>0</th>\n",
              "      <td>5</td>\n",
              "      <td>31-Jul-18</td>\n",
              "      <td>Charcoal Fabric</td>\n",
              "      <td>Love my Echo!</td>\n",
              "      <td>1</td>\n",
              "    </tr>\n",
              "  </tbody>\n",
              "</table>\n",
              "</div>"
            ],
            "text/plain": [
              "   rating       date         variation verified_reviews  feedback\n",
              "0       5  31-Jul-18  Charcoal Fabric     Love my Echo!         1"
            ]
          },
          "metadata": {
            "tags": []
          },
          "execution_count": 80
        }
      ]
    },
    {
      "cell_type": "code",
      "metadata": {
        "id": "gK0seyUk5oYh"
      },
      "source": [
        "X = df_amazon.verified_reviews\r\n",
        "y = df_amazon.feedback\r\n",
        "X_train, X_test, y_train, y_test = train_test_split(X,y, test_size=0.2, random_state=42)"
      ],
      "execution_count": null,
      "outputs": []
    },
    {
      "cell_type": "code",
      "metadata": {
        "id": "EqpWvpQs5oLI"
      },
      "source": [
        "from sklearn.linear_model import LogisticRegression\r\n",
        "classifier = LogisticRegression()"
      ],
      "execution_count": null,
      "outputs": []
    },
    {
      "cell_type": "code",
      "metadata": {
        "id": "JUwAiGsq7Pw0"
      },
      "source": [
        "pred = predictors()"
      ],
      "execution_count": null,
      "outputs": []
    },
    {
      "cell_type": "code",
      "metadata": {
        "colab": {
          "base_uri": "https://localhost:8080/"
        },
        "id": "k6OlhKKM6RNt",
        "outputId": "b8e9ddae-1c58-41d3-a44f-a03fac2f1bda"
      },
      "source": [
        "pipe = Pipeline([(\"cleaner\", predictors()),\r\n",
        "                 (\"p\", print()),\r\n",
        "                 (\"vectorizer\", bow_vector),\r\n",
        "                 (\"classifier\", classifier)])\r\n",
        "\r\n",
        "pipe.fit(X_train, y_train)"
      ],
      "execution_count": null,
      "outputs": [
        {
          "output_type": "stream",
          "text": [
            "\n"
          ],
          "name": "stdout"
        },
        {
          "output_type": "execute_result",
          "data": {
            "text/plain": [
              "Pipeline(memory=None,\n",
              "         steps=[('cleaner', <__main__.predictors object at 0x7f9fe80fb2b0>),\n",
              "                ('p', None),\n",
              "                ('vectorizer',\n",
              "                 CountVectorizer(analyzer='word', binary=False,\n",
              "                                 decode_error='strict',\n",
              "                                 dtype=<class 'numpy.int64'>, encoding='utf-8',\n",
              "                                 input='content', lowercase=True, max_df=1.0,\n",
              "                                 max_features=None, min_df=1,\n",
              "                                 ngram_range=(1, 1), preprocessor=None,\n",
              "                                 stop_words=None, strip_acc...\n",
              "                                 token_pattern='(?u)\\\\b\\\\w\\\\w+\\\\b',\n",
              "                                 tokenizer=<function spacy_tokenizer at 0x7f9fe90317b8>,\n",
              "                                 vocabulary=None)),\n",
              "                ('classifier',\n",
              "                 LogisticRegression(C=1.0, class_weight=None, dual=False,\n",
              "                                    fit_intercept=True, intercept_scaling=1,\n",
              "                                    l1_ratio=None, max_iter=100,\n",
              "                                    multi_class='auto', n_jobs=None,\n",
              "                                    penalty='l2', random_state=None,\n",
              "                                    solver='lbfgs', tol=0.0001, verbose=0,\n",
              "                                    warm_start=False))],\n",
              "         verbose=False)"
            ]
          },
          "metadata": {
            "tags": []
          },
          "execution_count": 91
        }
      ]
    },
    {
      "cell_type": "code",
      "metadata": {
        "colab": {
          "base_uri": "https://localhost:8080/"
        },
        "id": "ZKDIi8yv62Ct",
        "outputId": "206c16d3-1bc5-4de9-ddb8-6e6a1a7341db"
      },
      "source": [
        "from sklearn import metrics\r\n",
        "predicted = pipe.predict(X_test)\r\n",
        "\r\n",
        "\r\n",
        "print(\"Logistic Regression Accuracy:\",metrics.accuracy_score(y_test, predicted))\r\n",
        "print(\"Logistic Regression Precision:\",metrics.precision_score(y_test, predicted))\r\n",
        "print(\"Logistic Regression Recall:\",metrics.recall_score(y_test, predicted))"
      ],
      "execution_count": null,
      "outputs": [
        {
          "output_type": "stream",
          "text": [
            "Logistic Regression Accuracy: 0.926984126984127\n",
            "Logistic Regression Precision: 0.9311475409836065\n",
            "Logistic Regression Recall: 0.993006993006993\n"
          ],
          "name": "stdout"
        }
      ]
    },
    {
      "cell_type": "code",
      "metadata": {
        "id": "EVu24URy8wu2"
      },
      "source": [
        ""
      ],
      "execution_count": null,
      "outputs": []
    },
    {
      "cell_type": "code",
      "metadata": {
        "colab": {
          "base_uri": "https://localhost:8080/"
        },
        "id": "MUjGi5F48TaT",
        "outputId": "7e5ba06d-d595-4509-caaf-45aa7900fc5d"
      },
      "source": [
        "pipe.predict([\"It sucks!\"])"
      ],
      "execution_count": null,
      "outputs": [
        {
          "output_type": "execute_result",
          "data": {
            "text/plain": [
              "array([1])"
            ]
          },
          "metadata": {
            "tags": []
          },
          "execution_count": 97
        }
      ]
    },
    {
      "cell_type": "markdown",
      "metadata": {
        "id": "UmAYAcRSAADC"
      },
      "source": [
        "## Chatbot"
      ]
    },
    {
      "cell_type": "code",
      "metadata": {
        "id": "ryaUG3es_nIs"
      },
      "source": [
        "from sklearn.preprocessing import LabelEncoder"
      ],
      "execution_count": null,
      "outputs": []
    },
    {
      "cell_type": "code",
      "metadata": {
        "id": "iAUtKvr3eONE"
      },
      "source": [
        "import json"
      ],
      "execution_count": null,
      "outputs": []
    },
    {
      "cell_type": "code",
      "metadata": {
        "colab": {
          "base_uri": "https://localhost:8080/"
        },
        "id": "QqPjImdLeP8u",
        "outputId": "03e9bb16-3ef4-428a-a747-ef34f8942822"
      },
      "source": [
        "text1"
      ],
      "execution_count": null,
      "outputs": [
        {
          "output_type": "execute_result",
          "data": {
            "text/plain": [
              "<Text: Moby Dick by Herman Melville 1851>"
            ]
          },
          "metadata": {
            "tags": []
          },
          "execution_count": 102
        }
      ]
    },
    {
      "cell_type": "code",
      "metadata": {
        "colab": {
          "base_uri": "https://localhost:8080/"
        },
        "id": "UbSgxfqEejJD",
        "outputId": "b464b034-a7e1-4ca5-a731-e878171fc9dd"
      },
      "source": [
        "text1.collocations()"
      ],
      "execution_count": null,
      "outputs": [
        {
          "output_type": "stream",
          "text": [
            "Sperm Whale; Moby Dick; White Whale; old man; Captain Ahab; sperm\n",
            "whale; Right Whale; Captain Peleg; New Bedford; Cape Horn; cried Ahab;\n",
            "years ago; lower jaw; never mind; Father Mapple; cried Stubb; chief\n",
            "mate; white whale; ivory leg; one hand\n"
          ],
          "name": "stdout"
        }
      ]
    },
    {
      "cell_type": "code",
      "metadata": {
        "colab": {
          "base_uri": "https://localhost:8080/"
        },
        "id": "DF2L9FToessY",
        "outputId": "682f04b4-8d4a-4cbf-d1fd-f9fc028ad066"
      },
      "source": [
        "list(bigrams(\"Hola como estas amigo\".split()))"
      ],
      "execution_count": null,
      "outputs": [
        {
          "output_type": "execute_result",
          "data": {
            "text/plain": [
              "[('Hola', 'como'), ('como', 'estas'), ('estas', 'amigo')]"
            ]
          },
          "metadata": {
            "tags": []
          },
          "execution_count": 105
        }
      ]
    },
    {
      "cell_type": "code",
      "metadata": {
        "id": "goRkIVALe8M1"
      },
      "source": [
        "with open(\"intents.json\", encoding='utf-8') as intents:\r\n",
        "    data = json.load(intents)"
      ],
      "execution_count": null,
      "outputs": []
    },
    {
      "cell_type": "code",
      "metadata": {
        "colab": {
          "base_uri": "https://localhost:8080/"
        },
        "id": "lvca_9SAfFNT",
        "outputId": "9a114056-d320-45dc-c577-6d890ca082e9"
      },
      "source": [
        "data.keys()"
      ],
      "execution_count": null,
      "outputs": [
        {
          "output_type": "execute_result",
          "data": {
            "text/plain": [
              "dict_keys(['intents'])"
            ]
          },
          "metadata": {
            "tags": []
          },
          "execution_count": 108
        }
      ]
    },
    {
      "cell_type": "code",
      "metadata": {
        "colab": {
          "base_uri": "https://localhost:8080/"
        },
        "id": "CtDajLjPfGuA",
        "outputId": "17e02af6-2727-4c15-9832-666e78149aea"
      },
      "source": [
        "data['intents']"
      ],
      "execution_count": null,
      "outputs": [
        {
          "output_type": "execute_result",
          "data": {
            "text/plain": [
              "[{'answers': ['¡Bienvenido a Panaderia Amsterdam!',\n",
              "   'Hola, ¿qué tal?',\n",
              "   '¿Cómo te va?',\n",
              "   '¡Un gusto verte!',\n",
              "   '¡Hola!'],\n",
              "  'patterns': ['hola',\n",
              "   'un saludo',\n",
              "   'hola',\n",
              "   'que onda',\n",
              "   'hello',\n",
              "   'buenas tardes',\n",
              "   'buenos dias'],\n",
              "  'tag': 'saludo'},\n",
              " {'answers': ['Muy bien, gracias', '¡Súper! Gracias por preguntar'],\n",
              "  'patterns': ['como estas?', 'estas bien?', 'como andas?'],\n",
              "  'tag': 'estado'},\n",
              " {'answers': ['Adios',\n",
              "   'Cuidate',\n",
              "   'Nos vemos pronto',\n",
              "   'Recuerda usar cubrebocas'],\n",
              "  'patterns': ['adios', 'hasta la proxima', 'nos vemos', 'bye'],\n",
              "  'tag': 'despedida'},\n",
              " {'answers': ['Me llamo Amanda', 'Mi nombre es Amanda', 'Amanda :)'],\n",
              "  'patterns': ['como te llamas?',\n",
              "   'cual es tu nombre?',\n",
              "   'nombre?',\n",
              "   'quien eres?',\n",
              "   'eres?'],\n",
              "  'tag': 'nombre'},\n",
              " {'answers': ['Tengo 22 años',\n",
              "   '22',\n",
              "   'Soy joven aun',\n",
              "   'Eso no se pregunta x.x'],\n",
              "  'patterns': ['que edad tienes?', 'cuantos años tienes?', 'edad?', 'años?'],\n",
              "  'tag': 'edad'},\n",
              " {'answers': ['Tenemos galletas, pasteles y pan dulce',\n",
              "   '¿Qué te gustaría comprar?',\n",
              "   'Nuestras galletas son las mejores',\n",
              "   'Puedes ver el menú en nuestro sitio web'],\n",
              "  'patterns': ['me gustaria comprar algo',\n",
              "   'que vendes',\n",
              "   'cuales son tus productos',\n",
              "   'quiero comprar algo'],\n",
              "  'tag': 'compras'},\n",
              " {'answers': ['10:00am - 18:00p.m de Lunes a Sábado',\n",
              "   'Abrimos a las 10:00am, ¡te esperamos!',\n",
              "   'Cerramos a las 18:00 p.m',\n",
              "   'Abrimos de Lunes a Sábado'],\n",
              "  'patterns': ['horario?',\n",
              "   'cual es tu horario?',\n",
              "   'a que hora abres?',\n",
              "   'a que hora cierras?'],\n",
              "  'tag': 'horario'},\n",
              " {'answers': ['Hay galletas con sabor a vainilla, fresa y chocolate',\n",
              "   'Las galletas cuestan $20'],\n",
              "  'patterns': ['galleta',\n",
              "   'galletas',\n",
              "   'de que sabor son las galletas?',\n",
              "   'quiero galletas',\n",
              "   'me gustaria ordenar unas galleras'],\n",
              "  'tag': 'galletas'},\n",
              " {'answers': ['Tenemos pasteles con sabor vainilla y/o chocolate',\n",
              "   'Los pasteles cuestan $450'],\n",
              "  'patterns': ['pastel',\n",
              "   'pasteles',\n",
              "   'cuanto cuestan los pasteles?',\n",
              "   'de que sabor son los pasteles?',\n",
              "   'me gustaria ordenar un pastel'],\n",
              "  'tag': 'pasteles'},\n",
              " {'answers': ['Cada pieza de pan dulce cuesta $10',\n",
              "   'Tenemos conchas, orejas, donas, etc...'],\n",
              "  'patterns': ['pan',\n",
              "   'cuanto cuesta el pan dulce?',\n",
              "   'cuanto cuesta el pan?',\n",
              "   'quiero comprar pan dulce'],\n",
              "  'tag': 'pan'},\n",
              " {'answers': ['Tenemos panaderias en CDMX, Guadalajara y León',\n",
              "   'Puedes ver nuestras sucursales en el sitio web'],\n",
              "  'patterns': ['ciudad',\n",
              "   'sucursales?',\n",
              "   'donde estan las tiendas?',\n",
              "   'donde entregas?',\n",
              "   'donde esta la panaderia?',\n",
              "   'ubicacion',\n",
              "   'donde estas?'],\n",
              "  'tag': 'ciudad'},\n",
              " {'answers': ['Me gusta la música tranquila (y el pan!)',\n",
              "   'Me encanta escuchar música',\n",
              "   'La música clásica es fantástica'],\n",
              "  'patterns': ['que musica te gusta?',\n",
              "   'te gusta la musica?',\n",
              "   'te gusta escuchar musica?',\n",
              "   'musica',\n",
              "   'canciones'],\n",
              "  'tag': 'musica'}]"
            ]
          },
          "metadata": {
            "tags": []
          },
          "execution_count": 109
        }
      ]
    },
    {
      "cell_type": "code",
      "metadata": {
        "colab": {
          "base_uri": "https://localhost:8080/"
        },
        "id": "AGnx0zGhfNvP",
        "outputId": "58b207a0-dafb-4a07-c5ff-65fa6131fa5f"
      },
      "source": [
        "data['intents'][0]"
      ],
      "execution_count": null,
      "outputs": [
        {
          "output_type": "execute_result",
          "data": {
            "text/plain": [
              "{'answers': ['¡Bienvenido a Panaderia Amsterdam!',\n",
              "  'Hola, ¿qué tal?',\n",
              "  '¿Cómo te va?',\n",
              "  '¡Un gusto verte!',\n",
              "  '¡Hola!'],\n",
              " 'patterns': ['hola',\n",
              "  'un saludo',\n",
              "  'hola',\n",
              "  'que onda',\n",
              "  'hello',\n",
              "  'buenas tardes',\n",
              "  'buenos dias'],\n",
              " 'tag': 'saludo'}"
            ]
          },
          "metadata": {
            "tags": []
          },
          "execution_count": 112
        }
      ]
    },
    {
      "cell_type": "code",
      "metadata": {
        "colab": {
          "base_uri": "https://localhost:8080/"
        },
        "id": "y1uOdi8BftOx",
        "outputId": "40e64039-75de-4f4c-8908-ddb03aca2c51"
      },
      "source": [
        "[(pattern, group['tag']) for group in data['intents'] for pattern in group['patterns']]"
      ],
      "execution_count": null,
      "outputs": [
        {
          "output_type": "execute_result",
          "data": {
            "text/plain": [
              "[('hola', 'saludo'),\n",
              " ('un saludo', 'saludo'),\n",
              " ('hola', 'saludo'),\n",
              " ('que onda', 'saludo'),\n",
              " ('hello', 'saludo'),\n",
              " ('buenas tardes', 'saludo'),\n",
              " ('buenos dias', 'saludo'),\n",
              " ('como estas?', 'estado'),\n",
              " ('estas bien?', 'estado'),\n",
              " ('como andas?', 'estado'),\n",
              " ('adios', 'despedida'),\n",
              " ('hasta la proxima', 'despedida'),\n",
              " ('nos vemos', 'despedida'),\n",
              " ('bye', 'despedida'),\n",
              " ('como te llamas?', 'nombre'),\n",
              " ('cual es tu nombre?', 'nombre'),\n",
              " ('nombre?', 'nombre'),\n",
              " ('quien eres?', 'nombre'),\n",
              " ('eres?', 'nombre'),\n",
              " ('que edad tienes?', 'edad'),\n",
              " ('cuantos años tienes?', 'edad'),\n",
              " ('edad?', 'edad'),\n",
              " ('años?', 'edad'),\n",
              " ('me gustaria comprar algo', 'compras'),\n",
              " ('que vendes', 'compras'),\n",
              " ('cuales son tus productos', 'compras'),\n",
              " ('quiero comprar algo', 'compras'),\n",
              " ('horario?', 'horario'),\n",
              " ('cual es tu horario?', 'horario'),\n",
              " ('a que hora abres?', 'horario'),\n",
              " ('a que hora cierras?', 'horario'),\n",
              " ('galleta', 'galletas'),\n",
              " ('galletas', 'galletas'),\n",
              " ('de que sabor son las galletas?', 'galletas'),\n",
              " ('quiero galletas', 'galletas'),\n",
              " ('me gustaria ordenar unas galleras', 'galletas'),\n",
              " ('pastel', 'pasteles'),\n",
              " ('pasteles', 'pasteles'),\n",
              " ('cuanto cuestan los pasteles?', 'pasteles'),\n",
              " ('de que sabor son los pasteles?', 'pasteles'),\n",
              " ('me gustaria ordenar un pastel', 'pasteles'),\n",
              " ('pan', 'pan'),\n",
              " ('cuanto cuesta el pan dulce?', 'pan'),\n",
              " ('cuanto cuesta el pan?', 'pan'),\n",
              " ('quiero comprar pan dulce', 'pan'),\n",
              " ('ciudad', 'ciudad'),\n",
              " ('sucursales?', 'ciudad'),\n",
              " ('donde estan las tiendas?', 'ciudad'),\n",
              " ('donde entregas?', 'ciudad'),\n",
              " ('donde esta la panaderia?', 'ciudad'),\n",
              " ('ubicacion', 'ciudad'),\n",
              " ('donde estas?', 'ciudad'),\n",
              " ('que musica te gusta?', 'musica'),\n",
              " ('te gusta la musica?', 'musica'),\n",
              " ('te gusta escuchar musica?', 'musica'),\n",
              " ('musica', 'musica'),\n",
              " ('canciones', 'musica')]"
            ]
          },
          "metadata": {
            "tags": []
          },
          "execution_count": 115
        }
      ]
    },
    {
      "cell_type": "code",
      "metadata": {
        "colab": {
          "base_uri": "https://localhost:8080/"
        },
        "id": "VL5FT-wdgBeZ",
        "outputId": "7fea3202-0f38-4e52-9112-f3b0e09a3c45"
      },
      "source": [
        "[(spacy_tokenizer(pattern), group['tag']) for group in data['intents'] for pattern in group['patterns']]"
      ],
      "execution_count": null,
      "outputs": [
        {
          "output_type": "execute_result",
          "data": {
            "text/plain": [
              "[(['hola'], 'saludo'),\n",
              " (['un', 'saludo'], 'saludo'),\n",
              " (['hola'], 'saludo'),\n",
              " (['que', 'onda'], 'saludo'),\n",
              " (['hello'], 'saludo'),\n",
              " (['buenas', 'tarde'], 'saludo'),\n",
              " (['buenos', 'dias'], 'saludo'),\n",
              " (['como', 'estas'], 'estado'),\n",
              " (['estas', 'bien'], 'estado'),\n",
              " (['como', 'andas'], 'estado'),\n",
              " (['adio'], 'despedida'),\n",
              " (['hasta', 'la', 'proxima'], 'despedida'),\n",
              " (['nos', 'vemos'], 'despedida'),\n",
              " (['bye'], 'despedida'),\n",
              " (['como', 'te', 'llamas'], 'nombre'),\n",
              " (['cual', 'es', 'tu', 'nombre'], 'nombre'),\n",
              " (['nombre'], 'nombre'),\n",
              " (['quien', 'eres'], 'nombre'),\n",
              " (['eres'], 'nombre'),\n",
              " (['que', 'edad', 'tiene'], 'edad'),\n",
              " (['cuantos', 'años', 'tiene'], 'edad'),\n",
              " (['edad'], 'edad'),\n",
              " (['años'], 'edad'),\n",
              " (['gustaria', 'comprar', 'algo'], 'compras'),\n",
              " (['que', 'vend'], 'compras'),\n",
              " (['cuales', 'son', 'tus', 'productos'], 'compras'),\n",
              " (['quiero', 'comprar', 'algo'], 'compras'),\n",
              " (['horario'], 'horario'),\n",
              " (['cual', 'es', 'tu', 'horario'], 'horario'),\n",
              " (['que', 'hora', 'abre'], 'horario'),\n",
              " (['que', 'hora', 'cierras'], 'horario'),\n",
              " (['galleta'], 'galletas'),\n",
              " (['galletas'], 'galletas'),\n",
              " (['de', 'que', 'sabor', 'son', 'las', 'galletas'], 'galletas'),\n",
              " (['quiero', 'galletas'], 'galletas'),\n",
              " (['gustaria', 'ordenar', 'unas', 'galleras'], 'galletas'),\n",
              " (['pastel'], 'pasteles'),\n",
              " (['pastele'], 'pasteles'),\n",
              " (['cuanto', 'cuestan', 'los', 'pasteles'], 'pasteles'),\n",
              " (['de', 'que', 'sabor', 'son', 'los', 'pasteles'], 'pasteles'),\n",
              " (['gustaria', 'ordenar', 'un', 'pastel'], 'pasteles'),\n",
              " (['pan'], 'pan'),\n",
              " (['cuanto', 'cuesta', 'el', 'pan', 'dulce'], 'pan'),\n",
              " (['cuanto', 'cuesta', 'el', 'pan'], 'pan'),\n",
              " (['quiero', 'comprar', 'pan', 'dulce'], 'pan'),\n",
              " (['ciudad'], 'ciudad'),\n",
              " (['sucursale'], 'ciudad'),\n",
              " (['donde', 'estan', 'las', 'tiendas'], 'ciudad'),\n",
              " (['donde', 'entregas'], 'ciudad'),\n",
              " (['donde', 'esta', 'la', 'panaderia'], 'ciudad'),\n",
              " (['ubicacion'], 'ciudad'),\n",
              " (['donde', 'estas'], 'ciudad'),\n",
              " (['que', 'musica', 'te', 'gusta'], 'musica'),\n",
              " (['te', 'gusta', 'la', 'musica'], 'musica'),\n",
              " (['te', 'gusta', 'escuchar', 'musica'], 'musica'),\n",
              " (['musica'], 'musica'),\n",
              " (['cancione'], 'musica')]"
            ]
          },
          "metadata": {
            "tags": []
          },
          "execution_count": 116
        }
      ]
    },
    {
      "cell_type": "code",
      "metadata": {
        "id": "dlbY7ivugeTF"
      },
      "source": [
        "X=[(' '.join(spacy_tokenizer(pattern)), group['tag']) for group in data['intents'] for pattern in group['patterns']]"
      ],
      "execution_count": null,
      "outputs": []
    },
    {
      "cell_type": "code",
      "metadata": {
        "id": "FwDKyWW1g2KF"
      },
      "source": [
        "#X"
      ],
      "execution_count": null,
      "outputs": []
    },
    {
      "cell_type": "code",
      "metadata": {
        "id": "a7e8f2Xxg3YT"
      },
      "source": [
        "X,y = list(zip(*X))"
      ],
      "execution_count": null,
      "outputs": []
    },
    {
      "cell_type": "code",
      "metadata": {
        "colab": {
          "base_uri": "https://localhost:8080/"
        },
        "id": "d7tp7wzMg-uJ",
        "outputId": "d2f64d15-af12-4cca-fc0d-65a60dc7e244"
      },
      "source": [
        "X"
      ],
      "execution_count": null,
      "outputs": [
        {
          "output_type": "execute_result",
          "data": {
            "text/plain": [
              "('hola',\n",
              " 'un saludo',\n",
              " 'hola',\n",
              " 'que onda',\n",
              " 'hello',\n",
              " 'buenas tarde',\n",
              " 'buenos dias',\n",
              " 'como estas',\n",
              " 'estas bien',\n",
              " 'como andas',\n",
              " 'adio',\n",
              " 'hasta la proxima',\n",
              " 'nos vemos',\n",
              " 'bye',\n",
              " 'como te llamas',\n",
              " 'cual es tu nombre',\n",
              " 'nombre',\n",
              " 'quien eres',\n",
              " 'eres',\n",
              " 'que edad tiene',\n",
              " 'cuantos años tiene',\n",
              " 'edad',\n",
              " 'años',\n",
              " 'gustaria comprar algo',\n",
              " 'que vend',\n",
              " 'cuales son tus productos',\n",
              " 'quiero comprar algo',\n",
              " 'horario',\n",
              " 'cual es tu horario',\n",
              " 'que hora abre',\n",
              " 'que hora cierras',\n",
              " 'galleta',\n",
              " 'galletas',\n",
              " 'de que sabor son las galletas',\n",
              " 'quiero galletas',\n",
              " 'gustaria ordenar unas galleras',\n",
              " 'pastel',\n",
              " 'pastele',\n",
              " 'cuanto cuestan los pasteles',\n",
              " 'de que sabor son los pasteles',\n",
              " 'gustaria ordenar un pastel',\n",
              " 'pan',\n",
              " 'cuanto cuesta el pan dulce',\n",
              " 'cuanto cuesta el pan',\n",
              " 'quiero comprar pan dulce',\n",
              " 'ciudad',\n",
              " 'sucursale',\n",
              " 'donde estan las tiendas',\n",
              " 'donde entregas',\n",
              " 'donde esta la panaderia',\n",
              " 'ubicacion',\n",
              " 'donde estas',\n",
              " 'que musica te gusta',\n",
              " 'te gusta la musica',\n",
              " 'te gusta escuchar musica',\n",
              " 'musica',\n",
              " 'cancione')"
            ]
          },
          "metadata": {
            "tags": []
          },
          "execution_count": 123
        }
      ]
    },
    {
      "cell_type": "code",
      "metadata": {
        "colab": {
          "base_uri": "https://localhost:8080/"
        },
        "id": "6_jVfp3PhAbZ",
        "outputId": "2a3eeb56-45f5-48fc-b10d-ee85925f05df"
      },
      "source": [
        "y"
      ],
      "execution_count": null,
      "outputs": [
        {
          "output_type": "execute_result",
          "data": {
            "text/plain": [
              "('saludo',\n",
              " 'saludo',\n",
              " 'saludo',\n",
              " 'saludo',\n",
              " 'saludo',\n",
              " 'saludo',\n",
              " 'saludo',\n",
              " 'estado',\n",
              " 'estado',\n",
              " 'estado',\n",
              " 'despedida',\n",
              " 'despedida',\n",
              " 'despedida',\n",
              " 'despedida',\n",
              " 'nombre',\n",
              " 'nombre',\n",
              " 'nombre',\n",
              " 'nombre',\n",
              " 'nombre',\n",
              " 'edad',\n",
              " 'edad',\n",
              " 'edad',\n",
              " 'edad',\n",
              " 'compras',\n",
              " 'compras',\n",
              " 'compras',\n",
              " 'compras',\n",
              " 'horario',\n",
              " 'horario',\n",
              " 'horario',\n",
              " 'horario',\n",
              " 'galletas',\n",
              " 'galletas',\n",
              " 'galletas',\n",
              " 'galletas',\n",
              " 'galletas',\n",
              " 'pasteles',\n",
              " 'pasteles',\n",
              " 'pasteles',\n",
              " 'pasteles',\n",
              " 'pasteles',\n",
              " 'pan',\n",
              " 'pan',\n",
              " 'pan',\n",
              " 'pan',\n",
              " 'ciudad',\n",
              " 'ciudad',\n",
              " 'ciudad',\n",
              " 'ciudad',\n",
              " 'ciudad',\n",
              " 'ciudad',\n",
              " 'ciudad',\n",
              " 'musica',\n",
              " 'musica',\n",
              " 'musica',\n",
              " 'musica',\n",
              " 'musica')"
            ]
          },
          "metadata": {
            "tags": []
          },
          "execution_count": 124
        }
      ]
    },
    {
      "cell_type": "code",
      "metadata": {
        "id": "-wpqCQmxhF9P"
      },
      "source": [
        "bow_vector = CountVectorizer(tokenizer=spacy_tokenizer, ngram_range=(1,2))"
      ],
      "execution_count": null,
      "outputs": []
    },
    {
      "cell_type": "code",
      "metadata": {
        "id": "UU7BlZyQhRFt"
      },
      "source": [
        "#bow_vector.fit_transform([\"alma\", \"Amigo\", \"Amigo del\", \"compa\", \"del\", \"del alma\", \"Hola\", \"Amigo del alma\"]).toarray()\r\n",
        "#alma amigo amigo_del,"
      ],
      "execution_count": null,
      "outputs": []
    },
    {
      "cell_type": "code",
      "metadata": {
        "id": "YifrH4oLhXHl"
      },
      "source": [
        "X_train = bow_vector.fit_transform(X)"
      ],
      "execution_count": null,
      "outputs": []
    },
    {
      "cell_type": "code",
      "metadata": {
        "colab": {
          "base_uri": "https://localhost:8080/"
        },
        "id": "LBuOdEFnh_uq",
        "outputId": "57cb990b-2b18-439e-9c97-028679874a2f"
      },
      "source": [
        "X_train.toarray()"
      ],
      "execution_count": null,
      "outputs": [
        {
          "output_type": "execute_result",
          "data": {
            "text/plain": [
              "array([[0, 0, 0, ..., 0, 0, 0],\n",
              "       [0, 0, 0, ..., 0, 0, 0],\n",
              "       [0, 0, 0, ..., 0, 0, 0],\n",
              "       ...,\n",
              "       [0, 0, 0, ..., 0, 0, 0],\n",
              "       [0, 0, 0, ..., 0, 0, 0],\n",
              "       [0, 0, 0, ..., 0, 0, 0]])"
            ]
          },
          "metadata": {
            "tags": []
          },
          "execution_count": 136
        }
      ]
    },
    {
      "cell_type": "code",
      "metadata": {
        "colab": {
          "base_uri": "https://localhost:8080/"
        },
        "id": "T-BZqjESiCNl",
        "outputId": "1f2b7e5c-08de-4f63-cdbe-3e2c3a920cc1"
      },
      "source": [
        "X_train"
      ],
      "execution_count": null,
      "outputs": [
        {
          "output_type": "execute_result",
          "data": {
            "text/plain": [
              "<57x143 sparse matrix of type '<class 'numpy.int64'>'\n",
              "\twith 221 stored elements in Compressed Sparse Row format>"
            ]
          },
          "metadata": {
            "tags": []
          },
          "execution_count": 137
        }
      ]
    },
    {
      "cell_type": "code",
      "metadata": {
        "id": "_F94Iw5jiHGr"
      },
      "source": [
        "encoder = LabelEncoder()\r\n",
        "y_train = encoder.fit_transform(y)"
      ],
      "execution_count": null,
      "outputs": []
    },
    {
      "cell_type": "code",
      "metadata": {
        "colab": {
          "base_uri": "https://localhost:8080/"
        },
        "id": "y7vbV5NuiLJU",
        "outputId": "c5974ff3-2661-485f-d8a9-d081a781438a"
      },
      "source": [
        "y_train"
      ],
      "execution_count": null,
      "outputs": [
        {
          "output_type": "execute_result",
          "data": {
            "text/plain": [
              "array([11, 11, 11, 11, 11, 11, 11,  4,  4,  4,  2,  2,  2,  2,  8,  8,  8,\n",
              "        8,  8,  3,  3,  3,  3,  1,  1,  1,  1,  6,  6,  6,  6,  5,  5,  5,\n",
              "        5,  5, 10, 10, 10, 10, 10,  9,  9,  9,  9,  0,  0,  0,  0,  0,  0,\n",
              "        0,  7,  7,  7,  7,  7])"
            ]
          },
          "metadata": {
            "tags": []
          },
          "execution_count": 140
        }
      ]
    },
    {
      "cell_type": "code",
      "metadata": {
        "colab": {
          "base_uri": "https://localhost:8080/"
        },
        "id": "cxbUMYlFiTLZ",
        "outputId": "76c4ab99-9f01-4c4c-949a-0ef2890a8e23"
      },
      "source": [
        "encoder.inverse_transform(y_train)"
      ],
      "execution_count": null,
      "outputs": [
        {
          "output_type": "execute_result",
          "data": {
            "text/plain": [
              "array(['saludo', 'saludo', 'saludo', 'saludo', 'saludo', 'saludo',\n",
              "       'saludo', 'estado', 'estado', 'estado', 'despedida', 'despedida',\n",
              "       'despedida', 'despedida', 'nombre', 'nombre', 'nombre', 'nombre',\n",
              "       'nombre', 'edad', 'edad', 'edad', 'edad', 'compras', 'compras',\n",
              "       'compras', 'compras', 'horario', 'horario', 'horario', 'horario',\n",
              "       'galletas', 'galletas', 'galletas', 'galletas', 'galletas',\n",
              "       'pasteles', 'pasteles', 'pasteles', 'pasteles', 'pasteles', 'pan',\n",
              "       'pan', 'pan', 'pan', 'ciudad', 'ciudad', 'ciudad', 'ciudad',\n",
              "       'ciudad', 'ciudad', 'ciudad', 'musica', 'musica', 'musica',\n",
              "       'musica', 'musica'], dtype='<U9')"
            ]
          },
          "metadata": {
            "tags": []
          },
          "execution_count": 141
        }
      ]
    },
    {
      "cell_type": "code",
      "metadata": {
        "id": "k9-Bt7VUiajk"
      },
      "source": [
        "classifier = LogisticRegression()"
      ],
      "execution_count": null,
      "outputs": []
    },
    {
      "cell_type": "code",
      "metadata": {
        "colab": {
          "base_uri": "https://localhost:8080/"
        },
        "id": "LW8Negg0ieLy",
        "outputId": "718d02e7-da7c-495f-9ce1-5ae365cc9d91"
      },
      "source": [
        "classifier.fit(X_train, y_train)"
      ],
      "execution_count": null,
      "outputs": [
        {
          "output_type": "execute_result",
          "data": {
            "text/plain": [
              "LogisticRegression(C=1.0, class_weight=None, dual=False, fit_intercept=True,\n",
              "                   intercept_scaling=1, l1_ratio=None, max_iter=100,\n",
              "                   multi_class='auto', n_jobs=None, penalty='l2',\n",
              "                   random_state=None, solver='lbfgs', tol=0.0001, verbose=0,\n",
              "                   warm_start=False)"
            ]
          },
          "metadata": {
            "tags": []
          },
          "execution_count": 143
        }
      ]
    },
    {
      "cell_type": "code",
      "metadata": {
        "id": "QlTevBeMigt7"
      },
      "source": [
        "data_inv = {cat['tag']:cat['answers'] for cat in data['intents']}"
      ],
      "execution_count": null,
      "outputs": []
    },
    {
      "cell_type": "code",
      "metadata": {
        "id": "UrtrihGnit5m"
      },
      "source": [
        "#data_inv"
      ],
      "execution_count": null,
      "outputs": []
    },
    {
      "cell_type": "code",
      "metadata": {
        "colab": {
          "base_uri": "https://localhost:8080/"
        },
        "id": "IS7H6YTqjMvX",
        "outputId": "ae0fb2a5-a13e-46bf-8180-6dd4e298e1a7"
      },
      "source": [
        "bow_vector.transform(['Hola']).toarray()"
      ],
      "execution_count": null,
      "outputs": [
        {
          "output_type": "execute_result",
          "data": {
            "text/plain": [
              "array([[0, 0, 0, 0, 0, 0, 0, 0, 0, 0, 0, 0, 0, 0, 0, 0, 0, 0, 0, 0, 0, 0,\n",
              "        0, 0, 0, 0, 0, 0, 0, 0, 0, 0, 0, 0, 0, 0, 0, 0, 0, 0, 0, 0, 0, 0,\n",
              "        0, 0, 0, 0, 0, 0, 0, 0, 0, 0, 0, 0, 0, 0, 0, 0, 0, 0, 0, 0, 0, 0,\n",
              "        0, 0, 0, 0, 0, 0, 1, 0, 0, 0, 0, 0, 0, 0, 0, 0, 0, 0, 0, 0, 0, 0,\n",
              "        0, 0, 0, 0, 0, 0, 0, 0, 0, 0, 0, 0, 0, 0, 0, 0, 0, 0, 0, 0, 0, 0,\n",
              "        0, 0, 0, 0, 0, 0, 0, 0, 0, 0, 0, 0, 0, 0, 0, 0, 0, 0, 0, 0, 0, 0,\n",
              "        0, 0, 0, 0, 0, 0, 0, 0, 0, 0, 0]])"
            ]
          },
          "metadata": {
            "tags": []
          },
          "execution_count": 156
        }
      ]
    },
    {
      "cell_type": "code",
      "metadata": {
        "id": "RxQmES4nkZWM"
      },
      "source": [
        "import random"
      ],
      "execution_count": null,
      "outputs": []
    },
    {
      "cell_type": "code",
      "metadata": {
        "id": "Fdc2qucWiupF"
      },
      "source": [
        "def chatbot_response(frase):\r\n",
        "  tok = [' '.join(spacy_tokenizer(frase))]\r\n",
        "  vect = bow_vector.transform(tok)\r\n",
        "  pred = classifier.predict(vect)\r\n",
        "  resultado = encoder.inverse_transform(pred)[0]\r\n",
        "  respuesta = random.choice(data_inv[resultado])\r\n",
        "  return respuesta"
      ],
      "execution_count": null,
      "outputs": []
    },
    {
      "cell_type": "code",
      "metadata": {
        "colab": {
          "base_uri": "https://localhost:8080/",
          "height": 35
        },
        "id": "yvmBO8SnkQkw",
        "outputId": "049ed6c1-49ab-49a6-81fe-5eb5a4286df8"
      },
      "source": [
        "chatbot_response(\"Hola\")"
      ],
      "execution_count": null,
      "outputs": [
        {
          "output_type": "execute_result",
          "data": {
            "application/vnd.google.colaboratory.intrinsic+json": {
              "type": "string"
            },
            "text/plain": [
              "'Hola, ¿qué tal?'"
            ]
          },
          "metadata": {
            "tags": []
          },
          "execution_count": 165
        }
      ]
    },
    {
      "cell_type": "code",
      "metadata": {
        "id": "Xh9eDd6wkSW6"
      },
      "source": [
        "def main():\r\n",
        "  msg = input(\">Bot: Bienvenido:\\n>Tu: \")\r\n",
        "  while msg!='' and msg.lower()!='salir':\r\n",
        "    print(\">Bot: \",chatbot_response(msg))\r\n",
        "    msg=input(\">Tu: \")\r\n",
        "  print(\">Bot: Adios! Vuelve pronto.\")"
      ],
      "execution_count": null,
      "outputs": []
    },
    {
      "cell_type": "code",
      "metadata": {
        "colab": {
          "base_uri": "https://localhost:8080/"
        },
        "id": "XL90kKeIk5Jb",
        "outputId": "39a7ffb5-9230-4729-c9fd-2504dd0e6f36"
      },
      "source": [
        "main()"
      ],
      "execution_count": null,
      "outputs": [
        {
          "output_type": "stream",
          "text": [
            ">Bot: Bienvenido:\n",
            ">Tu: hola\n",
            ">Bot:  ¿Cómo te va?\n",
            ">Tu: hola neni\n",
            ">Bot:  ¡Bienvenido a Panaderia Amsterdam!\n",
            ">Tu: como estas\n",
            ">Bot:  ¡Súper! Gracias por preguntar\n",
            ">Tu: como te va?\n",
            ">Bot:  Mi nombre es Amanda\n",
            ">Tu: como te llamas\n",
            ">Bot:  Me llamo Amanda\n",
            ">Tu: tienes pan?\n",
            ">Bot:  Cada pieza de pan dulce cuesta $10\n",
            ">Tu: donde te encuentro?\n",
            ">Bot:  Tenemos panaderias en CDMX, Guadalajara y León\n",
            ">Tu: tienes bolillos?\n",
            ">Bot:  22\n",
            ">Tu: cuantos años tienes?\n",
            ">Bot:  Tengo 22 años\n",
            ">Tu: salir\n",
            ">Bot: Adios! Vuelve pronto.\n"
          ],
          "name": "stdout"
        }
      ]
    },
    {
      "cell_type": "code",
      "metadata": {
        "id": "vXKAgkAZk9Ou"
      },
      "source": [
        ""
      ],
      "execution_count": null,
      "outputs": []
    }
  ]
}