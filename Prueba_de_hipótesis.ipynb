{
  "nbformat": 4,
  "nbformat_minor": 0,
  "metadata": {
    "colab": {
      "name": "Prueba de hipótesis.ipynb",
      "provenance": [],
      "include_colab_link": true
    },
    "kernelspec": {
      "name": "python3",
      "display_name": "Python 3"
    }
  },
  "cells": [
    {
      "cell_type": "markdown",
      "metadata": {
        "id": "view-in-github",
        "colab_type": "text"
      },
      "source": [
        "<a href=\"https://colab.research.google.com/github/MacsEli/DocumentosDeClase/blob/main/Prueba_de_hip%C3%B3tesis.ipynb\" target=\"_parent\"><img src=\"https://colab.research.google.com/assets/colab-badge.svg\" alt=\"Open In Colab\"/></a>"
      ]
    },
    {
      "cell_type": "code",
      "metadata": {
        "id": "pHXTcMCQDEoD"
      },
      "source": [
        "from statistics import mean\r\n",
        "import numpy as np\r\n",
        "import pandas as pd\r\n",
        "import matplotlib.pyplot as plt\r\n",
        "import seaborn as sns\r\n",
        "import scipy.stats as stats"
      ],
      "execution_count": null,
      "outputs": []
    },
    {
      "cell_type": "code",
      "metadata": {
        "colab": {
          "base_uri": "https://localhost:8080/"
        },
        "id": "PPFFVhgMF0an",
        "outputId": "26b738da-4beb-4a90-f079-1e678ef13112"
      },
      "source": [
        "from google.colab import drive\r\n",
        "drive.mount('/content/drive')"
      ],
      "execution_count": null,
      "outputs": [
        {
          "output_type": "stream",
          "text": [
            "Mounted at /content/drive\n"
          ],
          "name": "stdout"
        }
      ]
    },
    {
      "cell_type": "code",
      "metadata": {
        "id": "UbVpY2BsGAnj"
      },
      "source": [
        "#importamos dataset de vinos\r\n",
        "vinitos = pd.read_csv('/content/drive/MyDrive/Databases/Week 13/winemag-data-130k-v2.csv')"
      ],
      "execution_count": null,
      "outputs": []
    },
    {
      "cell_type": "code",
      "metadata": {
        "colab": {
          "base_uri": "https://localhost:8080/",
          "height": 397
        },
        "id": "SgqhyeNRGKGC",
        "outputId": "3d4340ff-43e3-411b-8651-cf6429baf1e1"
      },
      "source": [
        "vinitos.head()"
      ],
      "execution_count": null,
      "outputs": [
        {
          "output_type": "execute_result",
          "data": {
            "text/html": [
              "<div>\n",
              "<style scoped>\n",
              "    .dataframe tbody tr th:only-of-type {\n",
              "        vertical-align: middle;\n",
              "    }\n",
              "\n",
              "    .dataframe tbody tr th {\n",
              "        vertical-align: top;\n",
              "    }\n",
              "\n",
              "    .dataframe thead th {\n",
              "        text-align: right;\n",
              "    }\n",
              "</style>\n",
              "<table border=\"1\" class=\"dataframe\">\n",
              "  <thead>\n",
              "    <tr style=\"text-align: right;\">\n",
              "      <th></th>\n",
              "      <th>Unnamed: 0</th>\n",
              "      <th>country</th>\n",
              "      <th>description</th>\n",
              "      <th>designation</th>\n",
              "      <th>points</th>\n",
              "      <th>price</th>\n",
              "      <th>province</th>\n",
              "      <th>region_1</th>\n",
              "      <th>region_2</th>\n",
              "      <th>taster_name</th>\n",
              "      <th>taster_twitter_handle</th>\n",
              "      <th>title</th>\n",
              "      <th>variety</th>\n",
              "      <th>winery</th>\n",
              "    </tr>\n",
              "  </thead>\n",
              "  <tbody>\n",
              "    <tr>\n",
              "      <th>0</th>\n",
              "      <td>0</td>\n",
              "      <td>Italy</td>\n",
              "      <td>Aromas include tropical fruit, broom, brimston...</td>\n",
              "      <td>Vulkà Bianco</td>\n",
              "      <td>87</td>\n",
              "      <td>NaN</td>\n",
              "      <td>Sicily &amp; Sardinia</td>\n",
              "      <td>Etna</td>\n",
              "      <td>NaN</td>\n",
              "      <td>Kerin O’Keefe</td>\n",
              "      <td>@kerinokeefe</td>\n",
              "      <td>Nicosia 2013 Vulkà Bianco  (Etna)</td>\n",
              "      <td>White Blend</td>\n",
              "      <td>Nicosia</td>\n",
              "    </tr>\n",
              "    <tr>\n",
              "      <th>1</th>\n",
              "      <td>1</td>\n",
              "      <td>Portugal</td>\n",
              "      <td>This is ripe and fruity, a wine that is smooth...</td>\n",
              "      <td>Avidagos</td>\n",
              "      <td>87</td>\n",
              "      <td>15.0</td>\n",
              "      <td>Douro</td>\n",
              "      <td>NaN</td>\n",
              "      <td>NaN</td>\n",
              "      <td>Roger Voss</td>\n",
              "      <td>@vossroger</td>\n",
              "      <td>Quinta dos Avidagos 2011 Avidagos Red (Douro)</td>\n",
              "      <td>Portuguese Red</td>\n",
              "      <td>Quinta dos Avidagos</td>\n",
              "    </tr>\n",
              "    <tr>\n",
              "      <th>2</th>\n",
              "      <td>2</td>\n",
              "      <td>US</td>\n",
              "      <td>Tart and snappy, the flavors of lime flesh and...</td>\n",
              "      <td>NaN</td>\n",
              "      <td>87</td>\n",
              "      <td>14.0</td>\n",
              "      <td>Oregon</td>\n",
              "      <td>Willamette Valley</td>\n",
              "      <td>Willamette Valley</td>\n",
              "      <td>Paul Gregutt</td>\n",
              "      <td>@paulgwine</td>\n",
              "      <td>Rainstorm 2013 Pinot Gris (Willamette Valley)</td>\n",
              "      <td>Pinot Gris</td>\n",
              "      <td>Rainstorm</td>\n",
              "    </tr>\n",
              "    <tr>\n",
              "      <th>3</th>\n",
              "      <td>3</td>\n",
              "      <td>US</td>\n",
              "      <td>Pineapple rind, lemon pith and orange blossom ...</td>\n",
              "      <td>Reserve Late Harvest</td>\n",
              "      <td>87</td>\n",
              "      <td>13.0</td>\n",
              "      <td>Michigan</td>\n",
              "      <td>Lake Michigan Shore</td>\n",
              "      <td>NaN</td>\n",
              "      <td>Alexander Peartree</td>\n",
              "      <td>NaN</td>\n",
              "      <td>St. Julian 2013 Reserve Late Harvest Riesling ...</td>\n",
              "      <td>Riesling</td>\n",
              "      <td>St. Julian</td>\n",
              "    </tr>\n",
              "    <tr>\n",
              "      <th>4</th>\n",
              "      <td>4</td>\n",
              "      <td>US</td>\n",
              "      <td>Much like the regular bottling from 2012, this...</td>\n",
              "      <td>Vintner's Reserve Wild Child Block</td>\n",
              "      <td>87</td>\n",
              "      <td>65.0</td>\n",
              "      <td>Oregon</td>\n",
              "      <td>Willamette Valley</td>\n",
              "      <td>Willamette Valley</td>\n",
              "      <td>Paul Gregutt</td>\n",
              "      <td>@paulgwine</td>\n",
              "      <td>Sweet Cheeks 2012 Vintner's Reserve Wild Child...</td>\n",
              "      <td>Pinot Noir</td>\n",
              "      <td>Sweet Cheeks</td>\n",
              "    </tr>\n",
              "  </tbody>\n",
              "</table>\n",
              "</div>"
            ],
            "text/plain": [
              "   Unnamed: 0   country  ...         variety               winery\n",
              "0           0     Italy  ...     White Blend              Nicosia\n",
              "1           1  Portugal  ...  Portuguese Red  Quinta dos Avidagos\n",
              "2           2        US  ...      Pinot Gris            Rainstorm\n",
              "3           3        US  ...        Riesling           St. Julian\n",
              "4           4        US  ...      Pinot Noir         Sweet Cheeks\n",
              "\n",
              "[5 rows x 14 columns]"
            ]
          },
          "metadata": {
            "tags": []
          },
          "execution_count": 4
        }
      ]
    },
    {
      "cell_type": "code",
      "metadata": {
        "id": "D9ekICt_GTtX"
      },
      "source": [
        "vinitos.drop('Unnamed: 0', axis=1,inplace= True)"
      ],
      "execution_count": null,
      "outputs": []
    },
    {
      "cell_type": "code",
      "metadata": {
        "colab": {
          "base_uri": "https://localhost:8080/",
          "height": 94
        },
        "id": "aTaJfSe7GrUP",
        "outputId": "24d70027-124d-4c87-dc04-a21b44f858f7"
      },
      "source": [
        "vinitos.head(1)"
      ],
      "execution_count": null,
      "outputs": [
        {
          "output_type": "execute_result",
          "data": {
            "text/html": [
              "<div>\n",
              "<style scoped>\n",
              "    .dataframe tbody tr th:only-of-type {\n",
              "        vertical-align: middle;\n",
              "    }\n",
              "\n",
              "    .dataframe tbody tr th {\n",
              "        vertical-align: top;\n",
              "    }\n",
              "\n",
              "    .dataframe thead th {\n",
              "        text-align: right;\n",
              "    }\n",
              "</style>\n",
              "<table border=\"1\" class=\"dataframe\">\n",
              "  <thead>\n",
              "    <tr style=\"text-align: right;\">\n",
              "      <th></th>\n",
              "      <th>country</th>\n",
              "      <th>description</th>\n",
              "      <th>designation</th>\n",
              "      <th>points</th>\n",
              "      <th>price</th>\n",
              "      <th>province</th>\n",
              "      <th>region_1</th>\n",
              "      <th>region_2</th>\n",
              "      <th>taster_name</th>\n",
              "      <th>taster_twitter_handle</th>\n",
              "      <th>title</th>\n",
              "      <th>variety</th>\n",
              "      <th>winery</th>\n",
              "    </tr>\n",
              "  </thead>\n",
              "  <tbody>\n",
              "    <tr>\n",
              "      <th>0</th>\n",
              "      <td>Italy</td>\n",
              "      <td>Aromas include tropical fruit, broom, brimston...</td>\n",
              "      <td>Vulkà Bianco</td>\n",
              "      <td>87</td>\n",
              "      <td>NaN</td>\n",
              "      <td>Sicily &amp; Sardinia</td>\n",
              "      <td>Etna</td>\n",
              "      <td>NaN</td>\n",
              "      <td>Kerin O’Keefe</td>\n",
              "      <td>@kerinokeefe</td>\n",
              "      <td>Nicosia 2013 Vulkà Bianco  (Etna)</td>\n",
              "      <td>White Blend</td>\n",
              "      <td>Nicosia</td>\n",
              "    </tr>\n",
              "  </tbody>\n",
              "</table>\n",
              "</div>"
            ],
            "text/plain": [
              "  country  ...   winery\n",
              "0   Italy  ...  Nicosia\n",
              "\n",
              "[1 rows x 13 columns]"
            ]
          },
          "metadata": {
            "tags": []
          },
          "execution_count": 6
        }
      ]
    },
    {
      "cell_type": "markdown",
      "metadata": {
        "id": "aW5m4J1VGxIw"
      },
      "source": [
        "### Prueba Z\r\n",
        "\r\n",
        "Es la manera estadística de probar nuestra hipótesis si:\r\n",
        "* Conocemos la varianza de la población o\r\n",
        "* No conocemos la varianza, pero nuestra muestra es $n>=30$ \\\\\r\n",
        "\r\n",
        "Tenemos que \\\\\r\n",
        "\r\n",
        "$Z =\\frac{\\bar x - \\mu}{\\frac {\\sigma}{\\sqrt n}}$ \\\\\r\n",
        "donde \\\\\r\n",
        "$\r\n",
        "\\bar x $ = Media de la muestra \\\\\r\n",
        "$\\mu $= media de la población \\\\\r\n",
        "$\\sigma $ = Desviación estándar de la población \\\\\r\n",
        "$n $= Tamaño de la muestra"
      ]
    },
    {
      "cell_type": "markdown",
      "metadata": {
        "id": "o_sJ0_4kHDUe"
      },
      "source": [
        "Ejemplo:\r\n",
        "\r\n",
        "En este dataset de reviews de vinos, vamos a asumir que los datos  de puntaje de los vinos están distribuidos de forma\r\n",
        "normal.\r\n",
        "--->Points: The number of points WineEnthusiast rated the wine on a scale of 1-100<---\r\n",
        "\r\n",
        "Entonces definimos nuestra media poblacional ($\\mu$) y desviación estándar ($\\sigma$). Estos serán nuestros\r\n",
        "parámetros. Estamos asumiendo aquí que los datos que tenemos son los datos de la población, sin muestreo."
      ]
    },
    {
      "cell_type": "code",
      "metadata": {
        "id": "FqWpKZO-HVOJ"
      },
      "source": [
        "sns.set_style('darkgrid')"
      ],
      "execution_count": null,
      "outputs": []
    },
    {
      "cell_type": "code",
      "metadata": {
        "colab": {
          "base_uri": "https://localhost:8080/",
          "height": 282
        },
        "id": "ijjEv859Gung",
        "outputId": "a2941d74-3553-4e1a-ae7d-eec705749230"
      },
      "source": [
        "vinitos.points.plot.hist()"
      ],
      "execution_count": null,
      "outputs": [
        {
          "output_type": "execute_result",
          "data": {
            "text/plain": [
              "<matplotlib.axes._subplots.AxesSubplot at 0x7f5929671dd8>"
            ]
          },
          "metadata": {
            "tags": []
          },
          "execution_count": 9
        },
        {
          "output_type": "display_data",
          "data": {
            "image/png": "[encoded data removed]",
            "text/plain": [
              "<Figure size 432x288 with 1 Axes>"
            ]
          },
          "metadata": {
            "tags": []
          }
        }
      ]
    },
    {
      "cell_type": "code",
      "metadata": {
        "id": "JFNYxTQUHhEY"
      },
      "source": [
        "#Asginar puntos a points\r\n",
        "points = vinitos.points\r\n",
        "#calculo de media poblacional\r\n",
        "mu = points.mean()\r\n",
        "#Calculamos nuestra desviación estandar\r\n",
        "sigma = points.std()"
      ],
      "execution_count": null,
      "outputs": []
    },
    {
      "cell_type": "code",
      "metadata": {
        "colab": {
          "base_uri": "https://localhost:8080/"
        },
        "id": "WP8FyIe_JQbX",
        "outputId": "e5396089-3442-4fbc-c367-cf4d771b3d8d"
      },
      "source": [
        "mu"
      ],
      "execution_count": null,
      "outputs": [
        {
          "output_type": "execute_result",
          "data": {
            "text/plain": [
              "88.44713820775404"
            ]
          },
          "metadata": {
            "tags": []
          },
          "execution_count": 11
        }
      ]
    },
    {
      "cell_type": "code",
      "metadata": {
        "colab": {
          "base_uri": "https://localhost:8080/"
        },
        "id": "G3PPJGyBJR8c",
        "outputId": "619c4752-b316-4b8f-a918-621e2b5ed5db"
      },
      "source": [
        "sigma"
      ],
      "execution_count": null,
      "outputs": [
        {
          "output_type": "execute_result",
          "data": {
            "text/plain": [
              "3.0397302029162336"
            ]
          },
          "metadata": {
            "tags": []
          },
          "execution_count": 14
        }
      ]
    },
    {
      "cell_type": "markdown",
      "metadata": {
        "id": "d8rIfyvpJcmx"
      },
      "source": [
        "#Ejemplo\r\n",
        "Suponiendo que tengo una muestra de n=10 puntajes de vinos con una media muestral de $\\bar{x}$ = 90.2.\r\n",
        "Esta muestra viene de la misma población que las evaluaciones que tengo aquí?\r\n",
        "\r\n",
        "Para probar, vamos a utilizar una prueba z de 1 muestra. Primero, declaramos hipótesis nula e hipótesis alternativa:\r\n",
        "\r\n",
        "$H_0$: La muestra es de la misma población de enólogos -> $\\bar{x} = \\mu$\r\n",
        "\r\n",
        "$H_A$: La muestra no viene de la misma población de enólogos -> $\\bar{x} \\neq \\mu$\r\n",
        "\r\n",
        "Enseguida, específicamos qué nivel de significancia vamos a utilizar. En estadística, un nivel de signficancia común\r\n",
        "es el de $\\alpha \\leq 0.05$. Vamos a comprobar utilizando un $\\alpha = 0.05$\r\n",
        "\r\n",
        "Luego, vamos a nuestra [tabla z] para buscar el valor crítico de z que corresponde con este nivel de significancia.\r\n",
        "Nuestra prueba tendrá 2 colas porque no nos importa si la media muestral es mayor o menor que la media poblacional.\r\n",
        "Solamente estamos probando si son iguales o diferentes.\r\n",
        "\r\n",
        "[tabla z]: https://www.sjsu.edu/faculty/gerstman/StatPrimer/z-two-tails.pdf"
      ]
    },
    {
      "cell_type": "code",
      "metadata": {
        "id": "uSd88BJ7Jb8s"
      },
      "source": [
        "#Validando en la tabla z\r\n",
        "z_test = 1.96\r\n",
        "#Media me la muestra\r\n",
        "x_bar = 90.2\r\n",
        "#cantidad de datos de la muestra\r\n",
        "n= 10"
      ],
      "execution_count": null,
      "outputs": []
    },
    {
      "cell_type": "markdown",
      "metadata": {
        "id": "_6EFDh4MKVLT"
      },
      "source": [
        "Calculamos el valor de z para nuestra media muestral comparada con la media poblacional dividiendo la diferencia\r\n",
        "entre las dos medias entre la desviación estándar de la muestra, que es el error estándar: $\\frac{\\sigma}{\\sqrt{n}}$.\r\n",
        "\r\n",
        "Si este estadístico es menor que nuestro valor crítico de z, entonces no rechazamos la hipótesis nula; de\r\n",
        "lo contrario, rechazamos la hipótesis nula en favor de la alternativa."
      ]
    },
    {
      "cell_type": "code",
      "metadata": {
        "id": "97hDRzSHLHli"
      },
      "source": [
        "standard_error = sigma/np.sqrt(n)"
      ],
      "execution_count": null,
      "outputs": []
    },
    {
      "cell_type": "code",
      "metadata": {
        "colab": {
          "base_uri": "https://localhost:8080/"
        },
        "id": "kuocOuuSLVLu",
        "outputId": "8a30a5ed-c61c-4e83-d3cb-2feb768434fa"
      },
      "source": [
        "standard_error"
      ],
      "execution_count": null,
      "outputs": [
        {
          "output_type": "execute_result",
          "data": {
            "text/plain": [
              "0.96124709136211"
            ]
          },
          "metadata": {
            "tags": []
          },
          "execution_count": 18
        }
      ]
    },
    {
      "cell_type": "code",
      "metadata": {
        "id": "51sVDT84LW9-"
      },
      "source": [
        "z_stat = (x_bar-mu)/standard_error"
      ],
      "execution_count": null,
      "outputs": []
    },
    {
      "cell_type": "code",
      "metadata": {
        "colab": {
          "base_uri": "https://localhost:8080/"
        },
        "id": "i5DQI1xkLht8",
        "outputId": "f7723c77-4553-482f-d185-070c6db35473"
      },
      "source": [
        "if z_stat < z_test:\r\n",
        "    print(f'El valor de z es {z_stat}, menor que {z_test}. \\nNo rechazamos la hipótesis nula: la media muestral '\r\n",
        "          f'no es significativamente distinta de la media poblacional.')\r\n",
        "else:\r\n",
        "    print(f'El valor de z es {z_stat}, mayor que {z_test}. \\nRechazamos la hipótesis nula: la media muestral es '\r\n",
        "          f'significativamente distinta de la media poblacional.')"
      ],
      "execution_count": null,
      "outputs": [
        {
          "output_type": "stream",
          "text": [
            "El valor de z es 1.823528838731901, menor que 1.96. \n",
            "No rechazamos la hipótesis nula: la media muestral no es significativamente distinta de la media poblacional.\n"
          ],
          "name": "stdout"
        }
      ]
    },
    {
      "cell_type": "code",
      "metadata": {
        "id": "KM9ETWsVMYR-"
      },
      "source": [
        "#Que pasaría si la muestra fuera más grande con la misma media\r\n",
        "n= 30\r\n",
        "standard_error = sigma/np.sqrt(n)\r\n",
        "z_stat = (x_bar-mu)/standard_error"
      ],
      "execution_count": null,
      "outputs": []
    },
    {
      "cell_type": "code",
      "metadata": {
        "colab": {
          "base_uri": "https://localhost:8080/"
        },
        "id": "aoBWEfVgM__3",
        "outputId": "fa74dca1-4dc3-44dd-f4cc-5d7915110a2c"
      },
      "source": [
        "if z_stat < z_test:\r\n",
        "    print(f'El valor de z es {z_stat}, menor que {z_test}. \\nNo rechazamos la hipótesis nula: la media muestral '\r\n",
        "          f'no es significativamente distinta de la media poblacional.')\r\n",
        "else:\r\n",
        "    print(f'El valor de z es {z_stat}, mayor que {z_test}. \\nRechazamos la hipótesis nula: la media muestral es '\r\n",
        "          f'significativamente distinta de la media poblacional.')"
      ],
      "execution_count": null,
      "outputs": [
        {
          "output_type": "stream",
          "text": [
            "El valor de z es 3.1584445977507256, mayor que 1.96. \n",
            "Rechazamos la hipótesis nula: la media muestral es significativamente distinta de la media poblacional.\n"
          ],
          "name": "stdout"
        }
      ]
    },
    {
      "cell_type": "code",
      "metadata": {
        "id": "Fhuxj6XUNMlX"
      },
      "source": [
        "#Si tenemos una diferencia significativa entre las dos media.\r\n",
        "#Esto significa que la distribucion de las medias se hace más angosta  si n crece\r\n",
        "#Por lo tanto, es menos probable que ambas medias se lleguen a intersectar."
      ],
      "execution_count": null,
      "outputs": []
    },
    {
      "cell_type": "code",
      "metadata": {
        "id": "QKl2PbR1O88E"
      },
      "source": [
        ""
      ],
      "execution_count": null,
      "outputs": []
    },
    {
      "cell_type": "markdown",
      "metadata": {
        "id": "O30TTEaYNvbF"
      },
      "source": [
        "\r\n",
        "![alt text](https://andyjconnelly.files.wordpress.com/2017/05/distributions1.png 'Ejemplo Normal vs T-Student')"
      ]
    },
    {
      "cell_type": "markdown",
      "metadata": {
        "id": "2f0C_cCbO-Ad"
      },
      "source": [
        "### Prueba T\r\n",
        "\r\n",
        "En el ejercicio anterior, asumimos que conocemos la media y desviación estándar poblacional, entonces estamos\r\n",
        "comparando nuestra muestra con esta población. Sin embargo, durante la mayoría de las veces no vamos a conocer estos\r\n",
        "datos.\r\n",
        "\r\n",
        "Nos permite medir nuestra hipótesis cuando:\r\n",
        "* No conocemos la varianza de la población\r\n",
        "* Nuestra muestra es pequeña, n < 30 \r\n",
        "\r\n",
        "$t$ = $\r\n",
        "\\frac {\\bar x - \\mu}{\\frac {s}{\\sqrt n}}\r\n",
        "$ \\\\\r\n",
        "donde \\\\\r\n",
        "$\r\n",
        "\\bar x $ = Media de la muestra \\\\\r\n",
        "$\\mu $= media de la población \\\\\r\n",
        "$s $ = Desviación estándar de la muestra \\\\\r\n",
        "$n $= Tamaño de la muestra"
      ]
    },
    {
      "cell_type": "markdown",
      "metadata": {
        "id": "aNXfiaHRPVww"
      },
      "source": [
        "### Prueba T de 1 Muestra\r\n",
        "\r\n",
        "Supongamos que tengo una muestra y quiero comparar con un valor específico. En nuestro ejemplo, vamos a suponer que\r\n",
        "yo sé que la evaluación promedio de los vinos en Francia es de 88, y quiero saber si los vinos nuevos (\"Nouveau\") tiene\r\n",
        "una media de evaluación semejante a la población general. Voy a probar lo mismo con los vinos que están designados\r\n",
        "como \"Prestige\"\r\n",
        "\r\n",
        "En este caso, usamos una Prueba T de 1 sola muestra, ya que estamos comparando el valor de esta media con un valor de\r\n",
        " referencia (benchmark).\r\n",
        "\r\n",
        "Nuestras hipótesis:\r\n",
        "\r\n",
        "$H_0$: $\\bar{x} - \\mu = 0$ - es decir, no hay diferencia entre la media muestral y $\\mu$.\r\n",
        "\r\n",
        "$H_A$: $\\bar{x} - \\mu \\neq 0$ - prueba de dos colas\r\n",
        "\r\n",
        "$\\alpha = 0.05$\r\n",
        "\r\n",
        "Aquí veo en mi [tabla T]\r\n",
        "\r\n",
        "[tabla T]: https://www.sjsu.edu/faculty/gerstman/StatPrimer/t-table.pdf\r\n"
      ]
    },
    {
      "cell_type": "code",
      "metadata": {
        "id": "ibQgWJotO9oU"
      },
      "source": [
        "vinos_frances = vinitos['points'][vinitos.country=='France']"
      ],
      "execution_count": null,
      "outputs": []
    },
    {
      "cell_type": "code",
      "metadata": {
        "colab": {
          "base_uri": "https://localhost:8080/"
        },
        "id": "EtIuqR8UQCsX",
        "outputId": "ae8ec180-733b-483a-81a9-6a38f19e39a9"
      },
      "source": [
        "mu = vinos_frances.mean()\r\n",
        "mu"
      ],
      "execution_count": null,
      "outputs": [
        {
          "output_type": "execute_result",
          "data": {
            "text/plain": [
              "88.84510931064138"
            ]
          },
          "metadata": {
            "tags": []
          },
          "execution_count": 25
        }
      ]
    },
    {
      "cell_type": "code",
      "metadata": {
        "colab": {
          "base_uri": "https://localhost:8080/",
          "height": 282
        },
        "id": "iL9dlLtcQLEW",
        "outputId": "9110953f-f40b-450e-e858-3e3012088777"
      },
      "source": [
        "vinos_frances.plot.hist()"
      ],
      "execution_count": null,
      "outputs": [
        {
          "output_type": "execute_result",
          "data": {
            "text/plain": [
              "<matplotlib.axes._subplots.AxesSubplot at 0x7f5929626518>"
            ]
          },
          "metadata": {
            "tags": []
          },
          "execution_count": 26
        },
        {
          "output_type": "display_data",
          "data": {
            "image/png": "[encoded data removed]",
            "text/plain": [
              "<Figure size 432x288 with 1 Axes>"
            ]
          },
          "metadata": {
            "tags": []
          }
        }
      ]
    },
    {
      "cell_type": "code",
      "metadata": {
        "id": "8PeFmJ4TQSw4"
      },
      "source": [
        "#Tomar 100 muestras aleatorias de toda la población de vinos\r\n",
        "#Calcular la media de estas muestras aleatorias\r\n",
        "#Regresar el valor para hacer diferentes tipos de prueba de hipotesis\r\n",
        "def generate_means(data):\r\n",
        "  means =[]\r\n",
        "  for i in range(1000):\r\n",
        "    #Obteniendo muestras de mi población de 100 en 100\r\n",
        "    samples = np.random.choice(data,100,replace=True)\r\n",
        "    #Calcular la media de mis muestras\r\n",
        "    means.append(samples.mean())\r\n",
        "  return means\r\n",
        "\r\n",
        "\r\n"
      ],
      "execution_count": null,
      "outputs": []
    },
    {
      "cell_type": "code",
      "metadata": {
        "id": "7wrB48LfQ-zY"
      },
      "source": [
        "medias_francia = generate_means(vinos_frances)"
      ],
      "execution_count": null,
      "outputs": []
    },
    {
      "cell_type": "code",
      "metadata": {
        "colab": {
          "base_uri": "https://localhost:8080/",
          "height": 318
        },
        "id": "iFzPBVxFRVRt",
        "outputId": "7b671776-3466-42a3-da4d-f03973287d3b"
      },
      "source": [
        "sns.distplot(medias_francia, hist=True,kde=True)\r\n",
        "plt.show()"
      ],
      "execution_count": null,
      "outputs": [
        {
          "output_type": "stream",
          "text": [
            "/usr/local/lib/python3.6/dist-packages/seaborn/distributions.py:2551: FutureWarning: `distplot` is a deprecated function and will be removed in a future version. Please adapt your code to use either `displot` (a figure-level function with similar flexibility) or `histplot` (an axes-level function for histograms).\n",
            "  warnings.warn(msg, FutureWarning)\n"
          ],
          "name": "stderr"
        },
        {
          "output_type": "display_data",
          "data": {
            "image/png": "[encoded data removed]",
            "text/plain": [
              "<Figure size 432x288 with 1 Axes>"
            ]
          },
          "metadata": {
            "tags": []
          }
        }
      ]
    },
    {
      "cell_type": "code",
      "metadata": {
        "id": "57Y10P9tRjqp"
      },
      "source": [
        "#Obtener los vinos que su caracterista es que sean Nouveau\r\n",
        "nouveau = vinitos['points'][(vinitos.country=='France')&(vinitos.designation=='Nouveau')]\r\n"
      ],
      "execution_count": null,
      "outputs": []
    },
    {
      "cell_type": "code",
      "metadata": {
        "colab": {
          "base_uri": "https://localhost:8080/"
        },
        "id": "28eqAtSXR88t",
        "outputId": "c48c8f73-5aaa-46c0-a3f9-643603d024db"
      },
      "source": [
        "nouveau.mean()"
      ],
      "execution_count": null,
      "outputs": [
        {
          "output_type": "execute_result",
          "data": {
            "text/plain": [
              "85.32432432432432"
            ]
          },
          "metadata": {
            "tags": []
          },
          "execution_count": 38
        }
      ]
    },
    {
      "cell_type": "code",
      "metadata": {
        "colab": {
          "base_uri": "https://localhost:8080/"
        },
        "id": "iid1I9lvSKk0",
        "outputId": "5eae0414-18b3-4f2c-ec3b-a6220c457f58"
      },
      "source": [
        "#Vamos a usar stats para hacer nuestra prueba t \r\n",
        "t, p = stats.ttest_1samp(nouveau,mu)\r\n",
        "\r\n",
        "#Nos regresa el valor de t al inicio\r\n",
        "#Recordemos que un valor de t pequeño nos dice que neustros grupos son similares\r\n",
        "#Caso contrario, un valor de t grande nos dice que no son similares\r\n",
        "#Cuando es muy pequeño, significa que hay diferencia significativa (menor)\r\n",
        "#Cuando es mayor, hay diferencia significativa (mayor)\r\n",
        "\r\n",
        "#Los valores p nos interesan que sean bajos,\r\n",
        "#Significa que un valor de p indica una fuerte evidencia en contra de H_0\r\n",
        "#Caso contrario, no tendríamos evidencia de si es nula nuestra H_=\r\n",
        "print(t,p)"
      ],
      "execution_count": null,
      "outputs": [
        {
          "output_type": "stream",
          "text": [
            "-19.801986102576723 6.082659615924452e-21\n"
          ],
          "name": "stdout"
        }
      ]
    },
    {
      "cell_type": "code",
      "metadata": {
        "id": "IdZFptVpUPH-"
      },
      "source": [
        "#Visualizar que tan diferentes son las medias\r\n",
        "#Es decir, como se comportan nuestros datasets de Francia y Nouvea\r\n",
        "\r\n",
        "medias_nouveau = generate_means(nouveau)"
      ],
      "execution_count": null,
      "outputs": []
    },
    {
      "cell_type": "code",
      "metadata": {
        "colab": {
          "base_uri": "https://localhost:8080/",
          "height": 352
        },
        "id": "tRhTFPuJYBn7",
        "outputId": "2c1208e0-189c-48fd-d7ec-c55a88681453"
      },
      "source": [
        "#Graficar con distplot\r\n",
        "sns.distplot(medias_francia, hist= True, kde=True)\r\n",
        "sns.distplot(medias_nouveau, hist= True, kde=True, color ='red')\r\n",
        "plt.show()\r\n"
      ],
      "execution_count": null,
      "outputs": [
        {
          "output_type": "stream",
          "text": [
            "/usr/local/lib/python3.6/dist-packages/seaborn/distributions.py:2551: FutureWarning: `distplot` is a deprecated function and will be removed in a future version. Please adapt your code to use either `displot` (a figure-level function with similar flexibility) or `histplot` (an axes-level function for histograms).\n",
            "  warnings.warn(msg, FutureWarning)\n",
            "/usr/local/lib/python3.6/dist-packages/seaborn/distributions.py:2551: FutureWarning: `distplot` is a deprecated function and will be removed in a future version. Please adapt your code to use either `displot` (a figure-level function with similar flexibility) or `histplot` (an axes-level function for histograms).\n",
            "  warnings.warn(msg, FutureWarning)\n"
          ],
          "name": "stderr"
        },
        {
          "output_type": "display_data",
          "data": {
            "image/png": "[encoded data removed]",
            "text/plain": [
              "<Figure size 432x288 with 1 Axes>"
            ]
          },
          "metadata": {
            "tags": []
          }
        }
      ]
    },
    {
      "cell_type": "code",
      "metadata": {
        "id": "S7og_DZkYH5v"
      },
      "source": [
        "#Vamos a ver este mismo análisis pero con los vinos Prestige\r\n",
        "prestige = vinitos['points'][(vinitos.country=='France')&(vinitos.designation=='Prestige')]"
      ],
      "execution_count": null,
      "outputs": []
    },
    {
      "cell_type": "code",
      "metadata": {
        "colab": {
          "base_uri": "https://localhost:8080/"
        },
        "id": "IVNfYpBWY40T",
        "outputId": "bc839235-3c99-42e4-efe6-08543537c01e"
      },
      "source": [
        "prestige.mean()"
      ],
      "execution_count": null,
      "outputs": [
        {
          "output_type": "execute_result",
          "data": {
            "text/plain": [
              "88.0"
            ]
          },
          "metadata": {
            "tags": []
          },
          "execution_count": 47
        }
      ]
    },
    {
      "cell_type": "code",
      "metadata": {
        "colab": {
          "base_uri": "https://localhost:8080/"
        },
        "id": "Wx39_HQuZBlx",
        "outputId": "475aa388-79e5-47ba-c7c6-71cf1c1fb218"
      },
      "source": [
        "t, p = stats.ttest_1samp(prestige,mu)\r\n",
        "print(t,p)"
      ],
      "execution_count": null,
      "outputs": [
        {
          "output_type": "stream",
          "text": [
            "-2.6044888135679285 0.011427039851169333\n"
          ],
          "name": "stdout"
        }
      ]
    },
    {
      "cell_type": "code",
      "metadata": {
        "colab": {
          "base_uri": "https://localhost:8080/",
          "height": 352
        },
        "id": "gSrschA8ZZmZ",
        "outputId": "7f31c1f2-fc5a-4df0-f714-fc616f21af5a"
      },
      "source": [
        "medias_prestige = generate_means(prestige)\r\n",
        "\r\n",
        "sns.distplot(medias_francia, hist= True, kde=True)\r\n",
        "sns.distplot(medias_prestige, hist= True, kde=True, color ='red')\r\n",
        "#Mostramos donde esta nuestra media\r\n",
        "plt.axvline(mean(medias_prestige),color='r')\r\n",
        "plt.axvline(mean(medias_francia),color='r')\r\n",
        "plt.show()"
      ],
      "execution_count": null,
      "outputs": [
        {
          "output_type": "stream",
          "text": [
            "/usr/local/lib/python3.6/dist-packages/seaborn/distributions.py:2551: FutureWarning: `distplot` is a deprecated function and will be removed in a future version. Please adapt your code to use either `displot` (a figure-level function with similar flexibility) or `histplot` (an axes-level function for histograms).\n",
            "  warnings.warn(msg, FutureWarning)\n",
            "/usr/local/lib/python3.6/dist-packages/seaborn/distributions.py:2551: FutureWarning: `distplot` is a deprecated function and will be removed in a future version. Please adapt your code to use either `displot` (a figure-level function with similar flexibility) or `histplot` (an axes-level function for histograms).\n",
            "  warnings.warn(msg, FutureWarning)\n"
          ],
          "name": "stderr"
        },
        {
          "output_type": "display_data",
          "data": {
            "image/png": "[encoded data removed]",
            "text/plain": [
              "<Figure size 432x288 with 1 Axes>"
            ]
          },
          "metadata": {
            "tags": []
          }
        }
      ]
    },
    {
      "cell_type": "markdown",
      "metadata": {
        "id": "Jcp6T4KNaPas"
      },
      "source": [
        "#Dos pruebas de hipótesis comunes\r\n",
        "* Matches Pairs\r\n",
        "* Independent Samples"
      ]
    },
    {
      "cell_type": "markdown",
      "metadata": {
        "id": "kc9UFZOeXAHn"
      },
      "source": [
        "# Matched Pairs\r\n",
        "\r\n",
        "Significa que los datos en las dos muestras son dependientes. (las dos muestras son dependientes, contienen al mismo grupo de personas)\r\n",
        "\r\n",
        "Por ejemplo: \\\\\r\n",
        "Se ha conducido un estudio para investigar la efectividad del hipnotismo en la reducción del dolor. Los resultados para sujetos aleatorios seleccionados estan mostrados a continuación.\r\n",
        "\r\n",
        "Antes | Después | Diferencia\r\n",
        "---: | ---: | ---:\r\n",
        "6.8 | 6.6 | 0.2\r\n",
        "2.4 | 6.5 | -4.1\r\n",
        "7.4 | 9 | -1.6\r\n",
        "8.5 | 10.3 | -1.8\r\n",
        "8.1 | 11.3 | -3.2\r\n",
        "6.1 | 8.1 | -2\r\n",
        "3.4 | 6.3 | -2.9\r\n",
        "2 | 11.6 | -9.6\r\n",
        "\r\n",
        "En promedio, las mediciones sensoriales son mas bajas después del hipnotismo? Con el 95%\r\n",
        "\r\n",
        "$H_0$: No hay una mejora en la percepcion del dolor despues de la hipnosis \\\\\r\n",
        "$H_a$: Si hay una mejora en la percepcion del dolor despues de la hipnosis"
      ]
    },
    {
      "cell_type": "code",
      "metadata": {
        "id": "zF2wuotSa3CZ"
      },
      "source": [
        "from scipy.stats import ttest_rel, ttest_1samp\r\n"
      ],
      "execution_count": null,
      "outputs": []
    },
    {
      "cell_type": "code",
      "metadata": {
        "id": "9PMi5hyCa-Wv"
      },
      "source": [
        "mediciones_dict = {'antes':[6.8, 2.4, 7.4, 8.5, 8.1, 6.1, 3.4, 2], 'despues':[6.6, 6.5, 9, 10.3, 11, 8.1, 6.3, 11.6]}"
      ],
      "execution_count": null,
      "outputs": []
    },
    {
      "cell_type": "code",
      "metadata": {
        "colab": {
          "base_uri": "https://localhost:8080/",
          "height": 284
        },
        "id": "0B6zjKt4bAmf",
        "outputId": "c9fe308a-db5c-4c34-92e6-33f214c05f9b"
      },
      "source": [
        "medicionesDF = pd.DataFrame.from_dict(mediciones_dict)\r\n",
        "medicionesDF"
      ],
      "execution_count": null,
      "outputs": [
        {
          "output_type": "execute_result",
          "data": {
            "text/html": [
              "<div>\n",
              "<style scoped>\n",
              "    .dataframe tbody tr th:only-of-type {\n",
              "        vertical-align: middle;\n",
              "    }\n",
              "\n",
              "    .dataframe tbody tr th {\n",
              "        vertical-align: top;\n",
              "    }\n",
              "\n",
              "    .dataframe thead th {\n",
              "        text-align: right;\n",
              "    }\n",
              "</style>\n",
              "<table border=\"1\" class=\"dataframe\">\n",
              "  <thead>\n",
              "    <tr style=\"text-align: right;\">\n",
              "      <th></th>\n",
              "      <th>antes</th>\n",
              "      <th>despues</th>\n",
              "    </tr>\n",
              "  </thead>\n",
              "  <tbody>\n",
              "    <tr>\n",
              "      <th>0</th>\n",
              "      <td>6.8</td>\n",
              "      <td>6.6</td>\n",
              "    </tr>\n",
              "    <tr>\n",
              "      <th>1</th>\n",
              "      <td>2.4</td>\n",
              "      <td>6.5</td>\n",
              "    </tr>\n",
              "    <tr>\n",
              "      <th>2</th>\n",
              "      <td>7.4</td>\n",
              "      <td>9.0</td>\n",
              "    </tr>\n",
              "    <tr>\n",
              "      <th>3</th>\n",
              "      <td>8.5</td>\n",
              "      <td>10.3</td>\n",
              "    </tr>\n",
              "    <tr>\n",
              "      <th>4</th>\n",
              "      <td>8.1</td>\n",
              "      <td>11.0</td>\n",
              "    </tr>\n",
              "    <tr>\n",
              "      <th>5</th>\n",
              "      <td>6.1</td>\n",
              "      <td>8.1</td>\n",
              "    </tr>\n",
              "    <tr>\n",
              "      <th>6</th>\n",
              "      <td>3.4</td>\n",
              "      <td>6.3</td>\n",
              "    </tr>\n",
              "    <tr>\n",
              "      <th>7</th>\n",
              "      <td>2.0</td>\n",
              "      <td>11.6</td>\n",
              "    </tr>\n",
              "  </tbody>\n",
              "</table>\n",
              "</div>"
            ],
            "text/plain": [
              "   antes  despues\n",
              "0    6.8      6.6\n",
              "1    2.4      6.5\n",
              "2    7.4      9.0\n",
              "3    8.5     10.3\n",
              "4    8.1     11.0\n",
              "5    6.1      8.1\n",
              "6    3.4      6.3\n",
              "7    2.0     11.6"
            ]
          },
          "metadata": {
            "tags": []
          },
          "execution_count": 53
        }
      ]
    },
    {
      "cell_type": "code",
      "metadata": {
        "colab": {
          "base_uri": "https://localhost:8080/"
        },
        "id": "SuIcqe_pbQLT",
        "outputId": "cf7847ec-01fa-4a51-8e98-c289c6e371a3"
      },
      "source": [
        "#Aplicar nuestra prueba de t para 2 muestras relacionadas\r\n",
        "t, p = ttest_rel(medicionesDF.antes, medicionesDF.despues)\r\n",
        "#Una valor de t pequeño significa que la media del depués es poco inferior\r\n",
        "#a la media del antes\r\n",
        "\r\n",
        "print(t,p)"
      ],
      "execution_count": null,
      "outputs": [
        {
          "output_type": "stream",
          "text": [
            "-2.9986241010889545 0.019980979447274314\n"
          ],
          "name": "stdout"
        }
      ]
    },
    {
      "cell_type": "code",
      "metadata": {
        "id": "6b_RbEMAb2rw"
      },
      "source": [
        "medicionesDiferencia = medicionesDF.antes - medicionesDF.despues"
      ],
      "execution_count": null,
      "outputs": []
    },
    {
      "cell_type": "code",
      "metadata": {
        "colab": {
          "base_uri": "https://localhost:8080/"
        },
        "id": "-Z9Tx6xCcaUF",
        "outputId": "f8d8bd5a-4413-4496-b70a-fc806b149bf6"
      },
      "source": [
        "# Al hacer este test_1samp con la diferencia de los valores de neutros datos\r\n",
        "#dependientes, si lo compramos con cero, estamos intentando validar que NO\r\n",
        "#hay difenrecia en el dolor despues del hipnotismo\r\n",
        "t, p = ttest_1samp(medicionesDiferencia, 0)\r\n",
        "\r\n",
        "print(t,p)"
      ],
      "execution_count": null,
      "outputs": [
        {
          "output_type": "stream",
          "text": [
            "-2.9986241010889545 0.019980979447274314\n"
          ],
          "name": "stdout"
        }
      ]
    },
    {
      "cell_type": "markdown",
      "metadata": {
        "id": "aUIplHqcdOjp"
      },
      "source": [
        "---\r\n",
        "\r\n",
        "\r\n",
        "\r\n",
        "**Independent Samples**\r\n",
        "\r\n",
        "Consideramos aquellos casos  en los que tenemos dos o más ejemplos que no hacen match entre ellos. Por ejemplo A/B test en páginas web dado que un usuario ve una interfaz diferente a los otros. \r\n",
        "\r\n",
        "Se deben cumplir ciertos estatutos:\r\n",
        "\r\n",
        "\r\n",
        "1.   Independencia de los datos: Que un dato no afecte al otro\r\n",
        "2.   Las muestras fueron tomadas aleatoriamente de una población que se distribuye normalmente\r\n",
        "\r\n",
        "Podemos tener dos casos:\r\n",
        "\r\n",
        "\r\n",
        "1.   Varianzas iguales \r\n",
        "2.   Varianzas diferentes\r\n",
        "\r\n",
        "Nuesta hipótesis aquí son:\r\n",
        "\r\n",
        "$\r\n",
        "H_0 = \\mu_1 = \\mu_2 \\\\\r\n",
        "H_1 = \\mu_1 \\neq \\mu_2\r\n",
        "$"
      ]
    },
    {
      "cell_type": "markdown",
      "metadata": {
        "id": "qD4U3-xCdmS-"
      },
      "source": [
        "Se tiene información de dos pruebas que se hicieron en un sitio de e-commerce:\r\n",
        "\r\n",
        "a | b \r\n",
        "---: | ---: \r\n",
        ".27 | 13.61 \r\n",
        "6.08 | 21.53\r\n",
        "13.74 | 9.23\r\n",
        "9.70 | 5.36\r\n",
        "7.0| 12.90\r\n",
        "\r\n",
        "Asumimos que las varianzas son las mismas (dado previo conocimiento de los datos). Ahora, con un 95% de grado de confianza, vamos a validar si hay o no diferencia.\r\n",
        "\r\n",
        "$H_0$: Dado el layout que se le mostro al usuario, no hubo cambio alguno en las variables \\\\\r\n",
        "$H_a$: Dado el layout que se le mostro al usuario, afecto las variables"
      ]
    },
    {
      "cell_type": "code",
      "metadata": {
        "colab": {
          "base_uri": "https://localhost:8080/",
          "height": 195
        },
        "id": "HiLg5YoGdNoE",
        "outputId": "956f6e59-fe16-4f1f-9442-538e84c8165a"
      },
      "source": [
        "ab_test = pd.read_csv('/content/drive/MyDrive/Databases/Week 13/ab_test.csv')\r\n",
        "ab_test.head()"
      ],
      "execution_count": null,
      "outputs": [
        {
          "output_type": "execute_result",
          "data": {
            "text/html": [
              "<div>\n",
              "<style scoped>\n",
              "    .dataframe tbody tr th:only-of-type {\n",
              "        vertical-align: middle;\n",
              "    }\n",
              "\n",
              "    .dataframe tbody tr th {\n",
              "        vertical-align: top;\n",
              "    }\n",
              "\n",
              "    .dataframe thead th {\n",
              "        text-align: right;\n",
              "    }\n",
              "</style>\n",
              "<table border=\"1\" class=\"dataframe\">\n",
              "  <thead>\n",
              "    <tr style=\"text-align: right;\">\n",
              "      <th></th>\n",
              "      <th>a</th>\n",
              "      <th>b</th>\n",
              "    </tr>\n",
              "  </thead>\n",
              "  <tbody>\n",
              "    <tr>\n",
              "      <th>0</th>\n",
              "      <td>0.27</td>\n",
              "      <td>13.61</td>\n",
              "    </tr>\n",
              "    <tr>\n",
              "      <th>1</th>\n",
              "      <td>6.08</td>\n",
              "      <td>21.53</td>\n",
              "    </tr>\n",
              "    <tr>\n",
              "      <th>2</th>\n",
              "      <td>13.74</td>\n",
              "      <td>9.23</td>\n",
              "    </tr>\n",
              "    <tr>\n",
              "      <th>3</th>\n",
              "      <td>9.70</td>\n",
              "      <td>5.36</td>\n",
              "    </tr>\n",
              "    <tr>\n",
              "      <th>4</th>\n",
              "      <td>7.00</td>\n",
              "      <td>12.90</td>\n",
              "    </tr>\n",
              "  </tbody>\n",
              "</table>\n",
              "</div>"
            ],
            "text/plain": [
              "       a      b\n",
              "0   0.27  13.61\n",
              "1   6.08  21.53\n",
              "2  13.74   9.23\n",
              "3   9.70   5.36\n",
              "4   7.00  12.90"
            ]
          },
          "metadata": {
            "tags": []
          },
          "execution_count": 59
        }
      ]
    },
    {
      "cell_type": "code",
      "metadata": {
        "colab": {
          "base_uri": "https://localhost:8080/"
        },
        "id": "CoNy5SFnejGO",
        "outputId": "b9f18b5d-e8ce-40ca-8d0d-77f010702174"
      },
      "source": [
        "from scipy.stats import ttest_ind\r\n",
        "#Supongamos que nuestra varianzas son iguales\r\n",
        "ttest_ind(ab_test.a, ab_test.b, equal_var=True)\r\n",
        "#Rechazamos la hipotesis nula."
      ],
      "execution_count": null,
      "outputs": [
        {
          "output_type": "execute_result",
          "data": {
            "text/plain": [
              "Ttest_indResult(statistic=-2.637533181209767, pvalue=0.009713140852447347)"
            ]
          },
          "metadata": {
            "tags": []
          },
          "execution_count": 60
        }
      ]
    },
    {
      "cell_type": "code",
      "metadata": {
        "colab": {
          "base_uri": "https://localhost:8080/"
        },
        "id": "_jQFQOVvfEaL",
        "outputId": "b0e52c33-a714-4233-f633-2bc9c111d71e"
      },
      "source": [
        "#Supongamos que nuestra varianzas son diferentes\r\n",
        "ttest_ind(ab_test.a, ab_test.b, equal_var=False)"
      ],
      "execution_count": null,
      "outputs": [
        {
          "output_type": "execute_result",
          "data": {
            "text/plain": [
              "Ttest_indResult(statistic=-2.637533181209767, pvalue=0.009776243024828825)"
            ]
          },
          "metadata": {
            "tags": []
          },
          "execution_count": 61
        }
      ]
    },
    {
      "cell_type": "code",
      "metadata": {
        "id": "2cq1VuVDe-AF"
      },
      "source": [
        ""
      ],
      "execution_count": null,
      "outputs": []
    }
  ]
}