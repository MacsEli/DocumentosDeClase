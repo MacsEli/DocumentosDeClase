{
 "cells": [
  {
   "cell_type": "code",
   "execution_count": 4,
   "metadata": {},
   "outputs": [
    {
     "name": "stdout",
     "output_type": "stream",
     "text": [
      "<map object at 0x000001720D4D9D30>\n",
      "[(True, 'lambda functions are anonymous functions.'), (True, 'anonymous functions dont have a name.'), (False, 'functions are objects in Python.')]\n"
     ]
    }
   ],
   "source": [
    "txt = ['lambda functions are anonymous functions.',\n",
    "       'anonymous functions dont have a name.',\n",
    "       'functions are objects in Python.']\n",
    "mark=map(lambda s:(True,s) if 'anonymous' in s else (False,s),txt)\n",
    "print(mark)\n",
    "print(list(mark))"
   ]
  },
  {
   "cell_type": "code",
   "execution_count": 5,
   "metadata": {},
   "outputs": [
    {
     "name": "stdout",
     "output_type": "stream",
     "text": [
      "[['lambda', 'functions', 'are', 'anonymous', 'functions.'], ['anonymous', 'functions', 'dont', 'have', 'a', 'name.'], ['functions', 'are', 'objects', 'in', 'Python.']]\n"
     ]
    }
   ],
   "source": [
    "slicing=map(lambda s:s.split(),txt)\n",
    "print(list(slicing))"
   ]
  },
  {
   "cell_type": "code",
   "execution_count": null,
   "metadata": {},
   "outputs": [],
   "source": []
  }
 ],
 "metadata": {
  "kernelspec": {
   "display_name": "Python 3",
   "language": "python",
   "name": "python3"
  },
  "language_info": {
   "codemirror_mode": {
    "name": "ipython",
    "version": 3
   },
   "file_extension": ".py",
   "mimetype": "text/x-python",
   "name": "python",
   "nbconvert_exporter": "python",
   "pygments_lexer": "ipython3",
   "version": "3.8.3"
  }
 },
 "nbformat": 4,
 "nbformat_minor": 4
}
