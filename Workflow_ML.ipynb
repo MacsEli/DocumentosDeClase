{
  "nbformat": 4,
  "nbformat_minor": 0,
  "metadata": {
    "colab": {
      "name": "Workflow ML.ipynb",
      "provenance": [],
      "include_colab_link": true
    },
    "kernelspec": {
      "name": "python3",
      "display_name": "Python 3"
    }
  },
  "cells": [
    {
      "cell_type": "markdown",
      "metadata": {
        "id": "view-in-github",
        "colab_type": "text"
      },
      "source": [
        "<a href=\"https://colab.research.google.com/github/MacsEli/DocumentosDeClase/blob/main/Workflow_ML.ipynb\" target=\"_parent\"><img src=\"https://colab.research.google.com/assets/colab-badge.svg\" alt=\"Open In Colab\"/></a>"
      ]
    },
    {
      "cell_type": "code",
      "metadata": {
        "id": "xCMmUv0wlhmy"
      },
      "source": [
        "import pandas as pd\r\n",
        "import matplotlib.pyplot as plt"
      ],
      "execution_count": null,
      "outputs": []
    },
    {
      "cell_type": "code",
      "metadata": {
        "colab": {
          "base_uri": "https://localhost:8080/"
        },
        "id": "SY2fj1OgpPXC",
        "outputId": "667f26bd-6c4f-48fb-c993-61b57be490f8"
      },
      "source": [
        "from google.colab import drive\r\n",
        "drive.mount('/content/drive')"
      ],
      "execution_count": null,
      "outputs": [
        {
          "output_type": "stream",
          "text": [
            "Mounted at /content/drive\n"
          ],
          "name": "stdout"
        }
      ]
    },
    {
      "cell_type": "code",
      "metadata": {
        "id": "0717lCLYpdn4"
      },
      "source": [
        "#leer BD\r\n",
        "census = pd.read_csv('/content/drive/MyDrive/Databases/Week 16/census.csv')"
      ],
      "execution_count": null,
      "outputs": []
    },
    {
      "cell_type": "code",
      "metadata": {
        "colab": {
          "base_uri": "https://localhost:8080/",
          "height": 222
        },
        "id": "a5AELwSCplzs",
        "outputId": "71148ef4-dfce-4408-8fe2-00a7a6025fc9"
      },
      "source": [
        "census.head()"
      ],
      "execution_count": null,
      "outputs": [
        {
          "output_type": "execute_result",
          "data": {
            "text/html": [
              "<div>\n",
              "<style scoped>\n",
              "    .dataframe tbody tr th:only-of-type {\n",
              "        vertical-align: middle;\n",
              "    }\n",
              "\n",
              "    .dataframe tbody tr th {\n",
              "        vertical-align: top;\n",
              "    }\n",
              "\n",
              "    .dataframe thead th {\n",
              "        text-align: right;\n",
              "    }\n",
              "</style>\n",
              "<table border=\"1\" class=\"dataframe\">\n",
              "  <thead>\n",
              "    <tr style=\"text-align: right;\">\n",
              "      <th></th>\n",
              "      <th>CensusId</th>\n",
              "      <th>State</th>\n",
              "      <th>County</th>\n",
              "      <th>TotalPop</th>\n",
              "      <th>Men</th>\n",
              "      <th>Women</th>\n",
              "      <th>Hispanic</th>\n",
              "      <th>White</th>\n",
              "      <th>Black</th>\n",
              "      <th>Native</th>\n",
              "      <th>Asian</th>\n",
              "      <th>Pacific</th>\n",
              "      <th>Citizen</th>\n",
              "      <th>Income</th>\n",
              "      <th>IncomeErr</th>\n",
              "      <th>IncomePerCap</th>\n",
              "      <th>IncomePerCapErr</th>\n",
              "      <th>Poverty</th>\n",
              "      <th>ChildPoverty</th>\n",
              "      <th>Professional</th>\n",
              "      <th>Service</th>\n",
              "      <th>Office</th>\n",
              "      <th>Construction</th>\n",
              "      <th>Production</th>\n",
              "      <th>Drive</th>\n",
              "      <th>Carpool</th>\n",
              "      <th>Transit</th>\n",
              "      <th>Walk</th>\n",
              "      <th>OtherTransp</th>\n",
              "      <th>WorkAtHome</th>\n",
              "      <th>MeanCommute</th>\n",
              "      <th>Employed</th>\n",
              "      <th>PrivateWork</th>\n",
              "      <th>PublicWork</th>\n",
              "      <th>SelfEmployed</th>\n",
              "      <th>FamilyWork</th>\n",
              "      <th>Unemployment</th>\n",
              "    </tr>\n",
              "  </thead>\n",
              "  <tbody>\n",
              "    <tr>\n",
              "      <th>0</th>\n",
              "      <td>1001</td>\n",
              "      <td>Alabama</td>\n",
              "      <td>Autauga</td>\n",
              "      <td>55221</td>\n",
              "      <td>26745</td>\n",
              "      <td>28476</td>\n",
              "      <td>2.6</td>\n",
              "      <td>75.8</td>\n",
              "      <td>18.5</td>\n",
              "      <td>0.4</td>\n",
              "      <td>1.0</td>\n",
              "      <td>0.0</td>\n",
              "      <td>40725</td>\n",
              "      <td>51281.0</td>\n",
              "      <td>2391.0</td>\n",
              "      <td>24974</td>\n",
              "      <td>1080</td>\n",
              "      <td>12.9</td>\n",
              "      <td>18.6</td>\n",
              "      <td>33.2</td>\n",
              "      <td>17.0</td>\n",
              "      <td>24.2</td>\n",
              "      <td>8.6</td>\n",
              "      <td>17.1</td>\n",
              "      <td>87.5</td>\n",
              "      <td>8.8</td>\n",
              "      <td>0.1</td>\n",
              "      <td>0.5</td>\n",
              "      <td>1.3</td>\n",
              "      <td>1.8</td>\n",
              "      <td>26.5</td>\n",
              "      <td>23986</td>\n",
              "      <td>73.6</td>\n",
              "      <td>20.9</td>\n",
              "      <td>5.5</td>\n",
              "      <td>0.0</td>\n",
              "      <td>7.6</td>\n",
              "    </tr>\n",
              "    <tr>\n",
              "      <th>1</th>\n",
              "      <td>1003</td>\n",
              "      <td>Alabama</td>\n",
              "      <td>Baldwin</td>\n",
              "      <td>195121</td>\n",
              "      <td>95314</td>\n",
              "      <td>99807</td>\n",
              "      <td>4.5</td>\n",
              "      <td>83.1</td>\n",
              "      <td>9.5</td>\n",
              "      <td>0.6</td>\n",
              "      <td>0.7</td>\n",
              "      <td>0.0</td>\n",
              "      <td>147695</td>\n",
              "      <td>50254.0</td>\n",
              "      <td>1263.0</td>\n",
              "      <td>27317</td>\n",
              "      <td>711</td>\n",
              "      <td>13.4</td>\n",
              "      <td>19.2</td>\n",
              "      <td>33.1</td>\n",
              "      <td>17.7</td>\n",
              "      <td>27.1</td>\n",
              "      <td>10.8</td>\n",
              "      <td>11.2</td>\n",
              "      <td>84.7</td>\n",
              "      <td>8.8</td>\n",
              "      <td>0.1</td>\n",
              "      <td>1.0</td>\n",
              "      <td>1.4</td>\n",
              "      <td>3.9</td>\n",
              "      <td>26.4</td>\n",
              "      <td>85953</td>\n",
              "      <td>81.5</td>\n",
              "      <td>12.3</td>\n",
              "      <td>5.8</td>\n",
              "      <td>0.4</td>\n",
              "      <td>7.5</td>\n",
              "    </tr>\n",
              "    <tr>\n",
              "      <th>2</th>\n",
              "      <td>1005</td>\n",
              "      <td>Alabama</td>\n",
              "      <td>Barbour</td>\n",
              "      <td>26932</td>\n",
              "      <td>14497</td>\n",
              "      <td>12435</td>\n",
              "      <td>4.6</td>\n",
              "      <td>46.2</td>\n",
              "      <td>46.7</td>\n",
              "      <td>0.2</td>\n",
              "      <td>0.4</td>\n",
              "      <td>0.0</td>\n",
              "      <td>20714</td>\n",
              "      <td>32964.0</td>\n",
              "      <td>2973.0</td>\n",
              "      <td>16824</td>\n",
              "      <td>798</td>\n",
              "      <td>26.7</td>\n",
              "      <td>45.3</td>\n",
              "      <td>26.8</td>\n",
              "      <td>16.1</td>\n",
              "      <td>23.1</td>\n",
              "      <td>10.8</td>\n",
              "      <td>23.1</td>\n",
              "      <td>83.8</td>\n",
              "      <td>10.9</td>\n",
              "      <td>0.4</td>\n",
              "      <td>1.8</td>\n",
              "      <td>1.5</td>\n",
              "      <td>1.6</td>\n",
              "      <td>24.1</td>\n",
              "      <td>8597</td>\n",
              "      <td>71.8</td>\n",
              "      <td>20.8</td>\n",
              "      <td>7.3</td>\n",
              "      <td>0.1</td>\n",
              "      <td>17.6</td>\n",
              "    </tr>\n",
              "    <tr>\n",
              "      <th>3</th>\n",
              "      <td>1007</td>\n",
              "      <td>Alabama</td>\n",
              "      <td>Bibb</td>\n",
              "      <td>22604</td>\n",
              "      <td>12073</td>\n",
              "      <td>10531</td>\n",
              "      <td>2.2</td>\n",
              "      <td>74.5</td>\n",
              "      <td>21.4</td>\n",
              "      <td>0.4</td>\n",
              "      <td>0.1</td>\n",
              "      <td>0.0</td>\n",
              "      <td>17495</td>\n",
              "      <td>38678.0</td>\n",
              "      <td>3995.0</td>\n",
              "      <td>18431</td>\n",
              "      <td>1618</td>\n",
              "      <td>16.8</td>\n",
              "      <td>27.9</td>\n",
              "      <td>21.5</td>\n",
              "      <td>17.9</td>\n",
              "      <td>17.8</td>\n",
              "      <td>19.0</td>\n",
              "      <td>23.7</td>\n",
              "      <td>83.2</td>\n",
              "      <td>13.5</td>\n",
              "      <td>0.5</td>\n",
              "      <td>0.6</td>\n",
              "      <td>1.5</td>\n",
              "      <td>0.7</td>\n",
              "      <td>28.8</td>\n",
              "      <td>8294</td>\n",
              "      <td>76.8</td>\n",
              "      <td>16.1</td>\n",
              "      <td>6.7</td>\n",
              "      <td>0.4</td>\n",
              "      <td>8.3</td>\n",
              "    </tr>\n",
              "    <tr>\n",
              "      <th>4</th>\n",
              "      <td>1009</td>\n",
              "      <td>Alabama</td>\n",
              "      <td>Blount</td>\n",
              "      <td>57710</td>\n",
              "      <td>28512</td>\n",
              "      <td>29198</td>\n",
              "      <td>8.6</td>\n",
              "      <td>87.9</td>\n",
              "      <td>1.5</td>\n",
              "      <td>0.3</td>\n",
              "      <td>0.1</td>\n",
              "      <td>0.0</td>\n",
              "      <td>42345</td>\n",
              "      <td>45813.0</td>\n",
              "      <td>3141.0</td>\n",
              "      <td>20532</td>\n",
              "      <td>708</td>\n",
              "      <td>16.7</td>\n",
              "      <td>27.2</td>\n",
              "      <td>28.5</td>\n",
              "      <td>14.1</td>\n",
              "      <td>23.9</td>\n",
              "      <td>13.5</td>\n",
              "      <td>19.9</td>\n",
              "      <td>84.9</td>\n",
              "      <td>11.2</td>\n",
              "      <td>0.4</td>\n",
              "      <td>0.9</td>\n",
              "      <td>0.4</td>\n",
              "      <td>2.3</td>\n",
              "      <td>34.9</td>\n",
              "      <td>22189</td>\n",
              "      <td>82.0</td>\n",
              "      <td>13.5</td>\n",
              "      <td>4.2</td>\n",
              "      <td>0.4</td>\n",
              "      <td>7.7</td>\n",
              "    </tr>\n",
              "  </tbody>\n",
              "</table>\n",
              "</div>"
            ],
            "text/plain": [
              "   CensusId    State   County  ...  SelfEmployed  FamilyWork  Unemployment\n",
              "0      1001  Alabama  Autauga  ...           5.5         0.0           7.6\n",
              "1      1003  Alabama  Baldwin  ...           5.8         0.4           7.5\n",
              "2      1005  Alabama  Barbour  ...           7.3         0.1          17.6\n",
              "3      1007  Alabama     Bibb  ...           6.7         0.4           8.3\n",
              "4      1009  Alabama   Blount  ...           4.2         0.4           7.7\n",
              "\n",
              "[5 rows x 37 columns]"
            ]
          },
          "metadata": {
            "tags": []
          },
          "execution_count": 5
        }
      ]
    },
    {
      "cell_type": "code",
      "metadata": {
        "colab": {
          "base_uri": "https://localhost:8080/"
        },
        "id": "dNB3jmhLqWhF",
        "outputId": "d5986711-d596-45c2-eda2-6addcdde027d"
      },
      "source": [
        "census.info()"
      ],
      "execution_count": null,
      "outputs": [
        {
          "output_type": "stream",
          "text": [
            "<class 'pandas.core.frame.DataFrame'>\n",
            "RangeIndex: 3220 entries, 0 to 3219\n",
            "Data columns (total 37 columns):\n",
            " #   Column           Non-Null Count  Dtype  \n",
            "---  ------           --------------  -----  \n",
            " 0   CensusId         3220 non-null   int64  \n",
            " 1   State            3220 non-null   object \n",
            " 2   County           3220 non-null   object \n",
            " 3   TotalPop         3220 non-null   int64  \n",
            " 4   Men              3220 non-null   int64  \n",
            " 5   Women            3220 non-null   int64  \n",
            " 6   Hispanic         3220 non-null   float64\n",
            " 7   White            3220 non-null   float64\n",
            " 8   Black            3220 non-null   float64\n",
            " 9   Native           3220 non-null   float64\n",
            " 10  Asian            3220 non-null   float64\n",
            " 11  Pacific          3220 non-null   float64\n",
            " 12  Citizen          3220 non-null   int64  \n",
            " 13  Income           3219 non-null   float64\n",
            " 14  IncomeErr        3219 non-null   float64\n",
            " 15  IncomePerCap     3220 non-null   int64  \n",
            " 16  IncomePerCapErr  3220 non-null   int64  \n",
            " 17  Poverty          3220 non-null   float64\n",
            " 18  ChildPoverty     3219 non-null   float64\n",
            " 19  Professional     3220 non-null   float64\n",
            " 20  Service          3220 non-null   float64\n",
            " 21  Office           3220 non-null   float64\n",
            " 22  Construction     3220 non-null   float64\n",
            " 23  Production       3220 non-null   float64\n",
            " 24  Drive            3220 non-null   float64\n",
            " 25  Carpool          3220 non-null   float64\n",
            " 26  Transit          3220 non-null   float64\n",
            " 27  Walk             3220 non-null   float64\n",
            " 28  OtherTransp      3220 non-null   float64\n",
            " 29  WorkAtHome       3220 non-null   float64\n",
            " 30  MeanCommute      3220 non-null   float64\n",
            " 31  Employed         3220 non-null   int64  \n",
            " 32  PrivateWork      3220 non-null   float64\n",
            " 33  PublicWork       3220 non-null   float64\n",
            " 34  SelfEmployed     3220 non-null   float64\n",
            " 35  FamilyWork       3220 non-null   float64\n",
            " 36  Unemployment     3220 non-null   float64\n",
            "dtypes: float64(27), int64(8), object(2)\n",
            "memory usage: 930.9+ KB\n"
          ],
          "name": "stdout"
        }
      ]
    },
    {
      "cell_type": "code",
      "metadata": {
        "id": "tQgysqIhq505"
      },
      "source": [
        "#Listado con columnas de datos nulos\r\n",
        "column_with_nan = census.columns[census.isnull().any()]\r\n",
        "#elimino columnas con más del 50%\r\n",
        "for column in column_with_nan:\r\n",
        "    if census[column].isnull().sum()*100.0/census.shape[0] > 50:\r\n",
        "        census.drop(column,1, inplace=True)\r\n"
      ],
      "execution_count": null,
      "outputs": []
    },
    {
      "cell_type": "code",
      "metadata": {
        "id": "IvAcPoXWrNdF"
      },
      "source": [
        "census.info()"
      ],
      "execution_count": null,
      "outputs": []
    },
    {
      "cell_type": "code",
      "metadata": {
        "colab": {
          "base_uri": "https://localhost:8080/"
        },
        "id": "LklPTldXqZri",
        "outputId": "5d6555e6-b463-4faa-9318-b144233d22a6"
      },
      "source": [
        "census.dropna(inplace = True)\r\n",
        "census.info()"
      ],
      "execution_count": null,
      "outputs": [
        {
          "output_type": "stream",
          "text": [
            "<class 'pandas.core.frame.DataFrame'>\n",
            "Int64Index: 3218 entries, 0 to 3219\n",
            "Data columns (total 37 columns):\n",
            " #   Column           Non-Null Count  Dtype  \n",
            "---  ------           --------------  -----  \n",
            " 0   CensusId         3218 non-null   int64  \n",
            " 1   State            3218 non-null   object \n",
            " 2   County           3218 non-null   object \n",
            " 3   TotalPop         3218 non-null   int64  \n",
            " 4   Men              3218 non-null   int64  \n",
            " 5   Women            3218 non-null   int64  \n",
            " 6   Hispanic         3218 non-null   float64\n",
            " 7   White            3218 non-null   float64\n",
            " 8   Black            3218 non-null   float64\n",
            " 9   Native           3218 non-null   float64\n",
            " 10  Asian            3218 non-null   float64\n",
            " 11  Pacific          3218 non-null   float64\n",
            " 12  Citizen          3218 non-null   int64  \n",
            " 13  Income           3218 non-null   float64\n",
            " 14  IncomeErr        3218 non-null   float64\n",
            " 15  IncomePerCap     3218 non-null   int64  \n",
            " 16  IncomePerCapErr  3218 non-null   int64  \n",
            " 17  Poverty          3218 non-null   float64\n",
            " 18  ChildPoverty     3218 non-null   float64\n",
            " 19  Professional     3218 non-null   float64\n",
            " 20  Service          3218 non-null   float64\n",
            " 21  Office           3218 non-null   float64\n",
            " 22  Construction     3218 non-null   float64\n",
            " 23  Production       3218 non-null   float64\n",
            " 24  Drive            3218 non-null   float64\n",
            " 25  Carpool          3218 non-null   float64\n",
            " 26  Transit          3218 non-null   float64\n",
            " 27  Walk             3218 non-null   float64\n",
            " 28  OtherTransp      3218 non-null   float64\n",
            " 29  WorkAtHome       3218 non-null   float64\n",
            " 30  MeanCommute      3218 non-null   float64\n",
            " 31  Employed         3218 non-null   int64  \n",
            " 32  PrivateWork      3218 non-null   float64\n",
            " 33  PublicWork       3218 non-null   float64\n",
            " 34  SelfEmployed     3218 non-null   float64\n",
            " 35  FamilyWork       3218 non-null   float64\n",
            " 36  Unemployment     3218 non-null   float64\n",
            "dtypes: float64(27), int64(8), object(2)\n",
            "memory usage: 955.3+ KB\n"
          ],
          "name": "stdout"
        }
      ]
    },
    {
      "cell_type": "code",
      "metadata": {
        "colab": {
          "base_uri": "https://localhost:8080/",
          "height": 466
        },
        "id": "k35wnSuUrxFE",
        "outputId": "38c0ad1b-9c6a-4a8a-d8c8-95d5f9f786e8"
      },
      "source": [
        "#Outliers\r\n",
        "plt.style.use('ggplot')\r\n",
        "plt.figure(figsize=(7,7))\r\n",
        "census.boxplot(column=['FamilyWork'])\r\n",
        "plt.xticks(rotation=45)\r\n",
        "plt.show()"
      ],
      "execution_count": null,
      "outputs": [
        {
          "output_type": "display_data",
          "data": {
            "image/png": "[encoded data removed]",
            "text/plain": [
              "<Figure size 504x504 with 1 Axes>"
            ]
          },
          "metadata": {
            "tags": []
          }
        }
      ]
    },
    {
      "cell_type": "code",
      "metadata": {
        "id": "xQqlyx72sYCk"
      },
      "source": [
        "import numpy as np\r\n",
        "q1, q3 = np.percentile(census.FamilyWork,[25,75])\r\n",
        "iqr = q3 - q1\r\n",
        "upper = q3 + (3*iqr)\r\n",
        "lower = q1 - (3*iqr)"
      ],
      "execution_count": null,
      "outputs": []
    },
    {
      "cell_type": "code",
      "metadata": {
        "colab": {
          "base_uri": "https://localhost:8080/"
        },
        "id": "S7jqOTyxsz9F",
        "outputId": "c517c364-aa58-4e75-99e0-1d67122bb05d"
      },
      "source": [
        "upper"
      ],
      "execution_count": null,
      "outputs": [
        {
          "output_type": "execute_result",
          "data": {
            "text/plain": [
              "0.8999999999999999"
            ]
          },
          "metadata": {
            "tags": []
          },
          "execution_count": 15
        }
      ]
    },
    {
      "cell_type": "code",
      "metadata": {
        "colab": {
          "base_uri": "https://localhost:8080/"
        },
        "id": "QDHc92CBs7c9",
        "outputId": "bb82a634-6764-470a-8115-53aee649cc48"
      },
      "source": [
        "lower"
      ],
      "execution_count": null,
      "outputs": [
        {
          "output_type": "execute_result",
          "data": {
            "text/plain": [
              "-0.5"
            ]
          },
          "metadata": {
            "tags": []
          },
          "execution_count": 17
        }
      ]
    },
    {
      "cell_type": "code",
      "metadata": {
        "id": "iGqrnAf_tB2L"
      },
      "source": [
        "\r\n",
        "census_clean = census.loc[census.FamilyWork<upper].copy()"
      ],
      "execution_count": null,
      "outputs": []
    },
    {
      "cell_type": "code",
      "metadata": {
        "colab": {
          "base_uri": "https://localhost:8080/",
          "height": 466
        },
        "id": "zlmtj1FXtQjX",
        "outputId": "16233ea4-5a4f-4c74-8d6f-bec25e0ba567"
      },
      "source": [
        "plt.style.use('ggplot')\r\n",
        "plt.figure(figsize=(7,7))\r\n",
        "census_clean.boxplot(column=['FamilyWork'])\r\n",
        "plt.xticks(rotation=45)\r\n",
        "plt.show()"
      ],
      "execution_count": null,
      "outputs": [
        {
          "output_type": "display_data",
          "data": {
            "image/png": "[encoded data removed]",
            "text/plain": [
              "<Figure size 504x504 with 1 Axes>"
            ]
          },
          "metadata": {
            "tags": []
          }
        }
      ]
    },
    {
      "cell_type": "code",
      "metadata": {
        "colab": {
          "base_uri": "https://localhost:8080/"
        },
        "id": "D5YFic2StYHE",
        "outputId": "b42be4ab-9efc-4474-a2e6-b506f795299e"
      },
      "source": [
        "print(census.shape,census_clean.shape)"
      ],
      "execution_count": null,
      "outputs": [
        {
          "output_type": "stream",
          "text": [
            "(3218, 37) (3020, 37)\n"
          ],
          "name": "stdout"
        }
      ]
    },
    {
      "cell_type": "markdown",
      "metadata": {
        "id": "VxWIfL4NxatP"
      },
      "source": [
        "#Normalización / Escalar variables\r\n",
        "1. Hacer que el entrenamiento sea menos sensible a la escala de las catacteristicas, esto ayudara a resolver mejor los coeficientes.\r\n",
        "2. AL escalar o normalizar la variables, vamos a poder evaluar el analisis de multiples modeloes"
      ]
    },
    {
      "cell_type": "code",
      "metadata": {
        "id": "E3I1VaMqtjah"
      },
      "source": [
        "#Definiendo las columnas que en mi dataset van de 0 a 100 para escalar\r\n",
        "conversion=['Hispanic','White', 'Black', 'Native', 'Asian', 'Pacific', 'Poverty', 'Service', 'Office']\r\n",
        "def escala(x):\r\n",
        "    return(x/100).round(3)"
      ],
      "execution_count": null,
      "outputs": []
    },
    {
      "cell_type": "code",
      "metadata": {
        "id": "729kRw7tySzN"
      },
      "source": [
        "#renombbrar columnas\r\n",
        "n_columns = [x+'Rate' for x in conversion]\r\n",
        "census_clean[n_columns] = census_clean[conversion].apply(escala)"
      ],
      "execution_count": null,
      "outputs": []
    },
    {
      "cell_type": "code",
      "metadata": {
        "colab": {
          "base_uri": "https://localhost:8080/"
        },
        "id": "RQDlinKDy6u5",
        "outputId": "401b3ee4-d67e-413f-fc03-cbb2ebeaa73e"
      },
      "source": [
        "census_clean.NativeRate.head()"
      ],
      "execution_count": null,
      "outputs": [
        {
          "output_type": "execute_result",
          "data": {
            "text/plain": [
              "0    0.004\n",
              "1    0.006\n",
              "2    0.002\n",
              "3    0.004\n",
              "4    0.003\n",
              "Name: NativeRate, dtype: float64"
            ]
          },
          "metadata": {
            "tags": []
          },
          "execution_count": 23
        }
      ]
    },
    {
      "cell_type": "code",
      "metadata": {
        "colab": {
          "base_uri": "https://localhost:8080/",
          "height": 415
        },
        "id": "c91OqZIay_XH",
        "outputId": "1abeba40-2132-4a36-e2ea-ced5e8246e16"
      },
      "source": [
        "census_clean[['Native','NativeRate']]"
      ],
      "execution_count": null,
      "outputs": [
        {
          "output_type": "execute_result",
          "data": {
            "text/html": [
              "<div>\n",
              "<style scoped>\n",
              "    .dataframe tbody tr th:only-of-type {\n",
              "        vertical-align: middle;\n",
              "    }\n",
              "\n",
              "    .dataframe tbody tr th {\n",
              "        vertical-align: top;\n",
              "    }\n",
              "\n",
              "    .dataframe thead th {\n",
              "        text-align: right;\n",
              "    }\n",
              "</style>\n",
              "<table border=\"1\" class=\"dataframe\">\n",
              "  <thead>\n",
              "    <tr style=\"text-align: right;\">\n",
              "      <th></th>\n",
              "      <th>Native</th>\n",
              "      <th>NativeRate</th>\n",
              "    </tr>\n",
              "  </thead>\n",
              "  <tbody>\n",
              "    <tr>\n",
              "      <th>0</th>\n",
              "      <td>0.4</td>\n",
              "      <td>0.004</td>\n",
              "    </tr>\n",
              "    <tr>\n",
              "      <th>1</th>\n",
              "      <td>0.6</td>\n",
              "      <td>0.006</td>\n",
              "    </tr>\n",
              "    <tr>\n",
              "      <th>2</th>\n",
              "      <td>0.2</td>\n",
              "      <td>0.002</td>\n",
              "    </tr>\n",
              "    <tr>\n",
              "      <th>3</th>\n",
              "      <td>0.4</td>\n",
              "      <td>0.004</td>\n",
              "    </tr>\n",
              "    <tr>\n",
              "      <th>4</th>\n",
              "      <td>0.3</td>\n",
              "      <td>0.003</td>\n",
              "    </tr>\n",
              "    <tr>\n",
              "      <th>...</th>\n",
              "      <td>...</td>\n",
              "      <td>...</td>\n",
              "    </tr>\n",
              "    <tr>\n",
              "      <th>3215</th>\n",
              "      <td>0.0</td>\n",
              "      <td>0.000</td>\n",
              "    </tr>\n",
              "    <tr>\n",
              "      <th>3216</th>\n",
              "      <td>0.0</td>\n",
              "      <td>0.000</td>\n",
              "    </tr>\n",
              "    <tr>\n",
              "      <th>3217</th>\n",
              "      <td>0.0</td>\n",
              "      <td>0.000</td>\n",
              "    </tr>\n",
              "    <tr>\n",
              "      <th>3218</th>\n",
              "      <td>0.0</td>\n",
              "      <td>0.000</td>\n",
              "    </tr>\n",
              "    <tr>\n",
              "      <th>3219</th>\n",
              "      <td>0.0</td>\n",
              "      <td>0.000</td>\n",
              "    </tr>\n",
              "  </tbody>\n",
              "</table>\n",
              "<p>3020 rows × 2 columns</p>\n",
              "</div>"
            ],
            "text/plain": [
              "      Native  NativeRate\n",
              "0        0.4       0.004\n",
              "1        0.6       0.006\n",
              "2        0.2       0.002\n",
              "3        0.4       0.004\n",
              "4        0.3       0.003\n",
              "...      ...         ...\n",
              "3215     0.0       0.000\n",
              "3216     0.0       0.000\n",
              "3217     0.0       0.000\n",
              "3218     0.0       0.000\n",
              "3219     0.0       0.000\n",
              "\n",
              "[3020 rows x 2 columns]"
            ]
          },
          "metadata": {
            "tags": []
          },
          "execution_count": 24
        }
      ]
    },
    {
      "cell_type": "code",
      "metadata": {
        "id": "C1mhkhMFzosI"
      },
      "source": [
        "#Estandarización\r\n",
        "1. Comparar características que tengan diferentes unidades o escalas.\r\n",
        "2. Tiende a que los procesos de entrenamiento se comporten de ua  ejor manera. "
      ],
      "execution_count": null,
      "outputs": []
    },
    {
      "cell_type": "code",
      "metadata": {
        "colab": {
          "base_uri": "https://localhost:8080/"
        },
        "id": "kvysPu-N0KFu",
        "outputId": "64ba8811-bd79-455f-eeff-b6dd230bc216"
      },
      "source": [
        "#MinMax Excaler\r\n",
        "#Transformar cada valor de la columna entre un rango de [0,1]\r\n",
        "#\r\n",
        "from sklearn.preprocessing import MinMaxScaler\r\n",
        "census_clean['TotalPopMinMaxScaler'] = MinMaxScaler().fit_transform(census_clean.TotalPop.values.reshape(-1,1))\r\n",
        "census_clean.TotalPopMinMaxScaler.describe()"
      ],
      "execution_count": null,
      "outputs": [
        {
          "output_type": "execute_result",
          "data": {
            "text/plain": [
              "count    3020.000000\n",
              "mean        0.010478\n",
              "std         0.032757\n",
              "min         0.000000\n",
              "25%         0.001265\n",
              "50%         0.002822\n",
              "75%         0.007227\n",
              "max         1.000000\n",
              "Name: TotalPopMinMaxScaler, dtype: float64"
            ]
          },
          "metadata": {
            "tags": []
          },
          "execution_count": 26
        }
      ]
    },
    {
      "cell_type": "code",
      "metadata": {
        "id": "FeUiwIS909C4"
      },
      "source": [
        "census_clean.TotalPop.describe()"
      ],
      "execution_count": null,
      "outputs": []
    },
    {
      "cell_type": "code",
      "metadata": {
        "colab": {
          "base_uri": "https://localhost:8080/"
        },
        "id": "f0oYyhpB1Lul",
        "outputId": "06b0e2ee-8d60-4261-8d8c-31a520bc269b"
      },
      "source": [
        "#Standard Scaler\r\n",
        "#Elimina la media de neustros datos , Varianza igual a 1\r\n",
        "from  sklearn.preprocessing import StandardScaler\r\n",
        "scale=StandardScaler()\r\n",
        "census_clean['TotalPopStandardScaler'] = scale.fit_transform(census_clean.TotalPop.values.reshape(-1,1))\r\n",
        "census_clean.TotalPopStandardScaler.describe()"
      ],
      "execution_count": null,
      "outputs": [
        {
          "output_type": "execute_result",
          "data": {
            "text/plain": [
              "count    3.020000e+03\n",
              "mean    -6.855260e-17\n",
              "std      1.000166e+00\n",
              "min     -3.199394e-01\n",
              "25%     -2.813238e-01\n",
              "50%     -2.337716e-01\n",
              "75%     -9.926901e-02\n",
              "max      3.021338e+01\n",
              "Name: TotalPopStandardScaler, dtype: float64"
            ]
          },
          "metadata": {
            "tags": []
          },
          "execution_count": 28
        }
      ]
    },
    {
      "cell_type": "code",
      "metadata": {
        "id": "ZgDpNrtv4hxi"
      },
      "source": [
        ""
      ],
      "execution_count": null,
      "outputs": []
    },
    {
      "cell_type": "markdown",
      "metadata": {
        "id": "TW4yeMADzof5"
      },
      "source": [
        "Usas StandardScaler para funciones que siguen una distribucion normal\r\n",
        "PUedes usar MinMaxScaler cuando conoces lo limites superior e inferior\r\n",
        "![Standard Scaler.png](data:image/png;base64,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)"
      ]
    },
    {
      "cell_type": "code",
      "metadata": {
        "colab": {
          "base_uri": "https://localhost:8080/",
          "height": 415
        },
        "id": "4bO_Sx9o2Xp7",
        "outputId": "1c2f17f9-592b-4cb9-cbb0-c12d56344584"
      },
      "source": [
        "census_clean[['TotalPop','TotalPopStandardScaler','TotalPopMinMaxScaler']]"
      ],
      "execution_count": null,
      "outputs": [
        {
          "output_type": "execute_result",
          "data": {
            "text/html": [
              "<div>\n",
              "<style scoped>\n",
              "    .dataframe tbody tr th:only-of-type {\n",
              "        vertical-align: middle;\n",
              "    }\n",
              "\n",
              "    .dataframe tbody tr th {\n",
              "        vertical-align: top;\n",
              "    }\n",
              "\n",
              "    .dataframe thead th {\n",
              "        text-align: right;\n",
              "    }\n",
              "</style>\n",
              "<table border=\"1\" class=\"dataframe\">\n",
              "  <thead>\n",
              "    <tr style=\"text-align: right;\">\n",
              "      <th></th>\n",
              "      <th>TotalPop</th>\n",
              "      <th>TotalPopStandardScaler</th>\n",
              "      <th>TotalPopMinMaxScaler</th>\n",
              "    </tr>\n",
              "  </thead>\n",
              "  <tbody>\n",
              "    <tr>\n",
              "      <th>0</th>\n",
              "      <td>55221</td>\n",
              "      <td>-0.152784</td>\n",
              "      <td>0.005475</td>\n",
              "    </tr>\n",
              "    <tr>\n",
              "      <th>1</th>\n",
              "      <td>195121</td>\n",
              "      <td>0.272755</td>\n",
              "      <td>0.019411</td>\n",
              "    </tr>\n",
              "    <tr>\n",
              "      <th>2</th>\n",
              "      <td>26932</td>\n",
              "      <td>-0.238831</td>\n",
              "      <td>0.002656</td>\n",
              "    </tr>\n",
              "    <tr>\n",
              "      <th>3</th>\n",
              "      <td>22604</td>\n",
              "      <td>-0.251996</td>\n",
              "      <td>0.002225</td>\n",
              "    </tr>\n",
              "    <tr>\n",
              "      <th>4</th>\n",
              "      <td>57710</td>\n",
              "      <td>-0.145213</td>\n",
              "      <td>0.005722</td>\n",
              "    </tr>\n",
              "    <tr>\n",
              "      <th>...</th>\n",
              "      <td>...</td>\n",
              "      <td>...</td>\n",
              "      <td>...</td>\n",
              "    </tr>\n",
              "    <tr>\n",
              "      <th>3215</th>\n",
              "      <td>56858</td>\n",
              "      <td>-0.147804</td>\n",
              "      <td>0.005638</td>\n",
              "    </tr>\n",
              "    <tr>\n",
              "      <th>3216</th>\n",
              "      <td>9130</td>\n",
              "      <td>-0.292980</td>\n",
              "      <td>0.000883</td>\n",
              "    </tr>\n",
              "    <tr>\n",
              "      <th>3217</th>\n",
              "      <td>24685</td>\n",
              "      <td>-0.245666</td>\n",
              "      <td>0.002433</td>\n",
              "    </tr>\n",
              "    <tr>\n",
              "      <th>3218</th>\n",
              "      <td>36279</td>\n",
              "      <td>-0.210400</td>\n",
              "      <td>0.003588</td>\n",
              "    </tr>\n",
              "    <tr>\n",
              "      <th>3219</th>\n",
              "      <td>39474</td>\n",
              "      <td>-0.200682</td>\n",
              "      <td>0.003906</td>\n",
              "    </tr>\n",
              "  </tbody>\n",
              "</table>\n",
              "<p>3020 rows × 3 columns</p>\n",
              "</div>"
            ],
            "text/plain": [
              "      TotalPop  TotalPopStandardScaler  TotalPopMinMaxScaler\n",
              "0        55221               -0.152784              0.005475\n",
              "1       195121                0.272755              0.019411\n",
              "2        26932               -0.238831              0.002656\n",
              "3        22604               -0.251996              0.002225\n",
              "4        57710               -0.145213              0.005722\n",
              "...        ...                     ...                   ...\n",
              "3215     56858               -0.147804              0.005638\n",
              "3216      9130               -0.292980              0.000883\n",
              "3217     24685               -0.245666              0.002433\n",
              "3218     36279               -0.210400              0.003588\n",
              "3219     39474               -0.200682              0.003906\n",
              "\n",
              "[3020 rows x 3 columns]"
            ]
          },
          "metadata": {
            "tags": []
          },
          "execution_count": 29
        }
      ]
    },
    {
      "cell_type": "markdown",
      "metadata": {
        "id": "pU8erOxZ30P5"
      },
      "source": [
        "#Variables Dummy / One Hot Encoding\r\n",
        "\r\n",
        "##LabelEncoding, \r\n",
        "Sonvertir cada valor de una columna no numerica \r\n",
        "a una columna numerica[Col =1, MX = 0, BR =2]\r\n",
        "[Nacionalidad|NacionalidadEncoded]\r\n",
        "##One Hot Encodinging\r\n",
        "VAs a crear columnas para cada uno de tus valores\r\n",
        "[Nacionalidad|ColEncoded|MXEncoded|BREncoded]\r\n"
      ]
    },
    {
      "cell_type": "code",
      "metadata": {
        "colab": {
          "base_uri": "https://localhost:8080/"
        },
        "id": "wzPAqgjm3Wqx",
        "outputId": "f5dfa715-79b7-4e8a-c044-5c5117d510c8"
      },
      "source": [
        "estados = pd.get_dummies(census_clean.State)\r\n",
        "census_dummy = pd.concat([census_clean,estados],axis=1).copy()\r\n",
        "census_dummy.columns.values\r\n"
      ],
      "execution_count": null,
      "outputs": [
        {
          "output_type": "execute_result",
          "data": {
            "text/plain": [
              "array(['CensusId', 'State', 'County', 'TotalPop', 'Men', 'Women',\n",
              "       'Hispanic', 'White', 'Black', 'Native', 'Asian', 'Pacific',\n",
              "       'Citizen', 'Income', 'IncomeErr', 'IncomePerCap',\n",
              "       'IncomePerCapErr', 'Poverty', 'ChildPoverty', 'Professional',\n",
              "       'Service', 'Office', 'Construction', 'Production', 'Drive',\n",
              "       'Carpool', 'Transit', 'Walk', 'OtherTransp', 'WorkAtHome',\n",
              "       'MeanCommute', 'Employed', 'PrivateWork', 'PublicWork',\n",
              "       'SelfEmployed', 'FamilyWork', 'Unemployment', 'HispanicRate',\n",
              "       'WhiteRate', 'BlackRate', 'NativeRate', 'AsianRate', 'PacificRate',\n",
              "       'PovertyRate', 'ServiceRate', 'OfficeRate', 'TotalPopMinMaxScaler',\n",
              "       'TotalPopStandardScaler', 'Alabama', 'Alaska', 'Arizona',\n",
              "       'Arkansas', 'California', 'Colorado', 'Connecticut', 'Delaware',\n",
              "       'District of Columbia', 'Florida', 'Georgia', 'Hawaii', 'Idaho',\n",
              "       'Illinois', 'Indiana', 'Iowa', 'Kansas', 'Kentucky', 'Louisiana',\n",
              "       'Maine', 'Maryland', 'Massachusetts', 'Michigan', 'Minnesota',\n",
              "       'Mississippi', 'Missouri', 'Montana', 'Nebraska', 'Nevada',\n",
              "       'New Hampshire', 'New Jersey', 'New Mexico', 'New York',\n",
              "       'North Carolina', 'North Dakota', 'Ohio', 'Oklahoma', 'Oregon',\n",
              "       'Pennsylvania', 'Puerto Rico', 'Rhode Island', 'South Carolina',\n",
              "       'South Dakota', 'Tennessee', 'Texas', 'Utah', 'Vermont',\n",
              "       'Virginia', 'Washington', 'West Virginia', 'Wisconsin', 'Wyoming'],\n",
              "      dtype=object)"
            ]
          },
          "metadata": {
            "tags": []
          },
          "execution_count": 33
        }
      ]
    },
    {
      "cell_type": "code",
      "metadata": {
        "colab": {
          "base_uri": "https://localhost:8080/",
          "height": 415
        },
        "id": "Q36Rb-7k5ds5",
        "outputId": "328b8386-344e-4ad1-c237-b2ef78659e8c"
      },
      "source": [
        "census_dummy[['State','Alabama']]"
      ],
      "execution_count": null,
      "outputs": [
        {
          "output_type": "execute_result",
          "data": {
            "text/html": [
              "<div>\n",
              "<style scoped>\n",
              "    .dataframe tbody tr th:only-of-type {\n",
              "        vertical-align: middle;\n",
              "    }\n",
              "\n",
              "    .dataframe tbody tr th {\n",
              "        vertical-align: top;\n",
              "    }\n",
              "\n",
              "    .dataframe thead th {\n",
              "        text-align: right;\n",
              "    }\n",
              "</style>\n",
              "<table border=\"1\" class=\"dataframe\">\n",
              "  <thead>\n",
              "    <tr style=\"text-align: right;\">\n",
              "      <th></th>\n",
              "      <th>State</th>\n",
              "      <th>Alabama</th>\n",
              "    </tr>\n",
              "  </thead>\n",
              "  <tbody>\n",
              "    <tr>\n",
              "      <th>0</th>\n",
              "      <td>Alabama</td>\n",
              "      <td>1</td>\n",
              "    </tr>\n",
              "    <tr>\n",
              "      <th>1</th>\n",
              "      <td>Alabama</td>\n",
              "      <td>1</td>\n",
              "    </tr>\n",
              "    <tr>\n",
              "      <th>2</th>\n",
              "      <td>Alabama</td>\n",
              "      <td>1</td>\n",
              "    </tr>\n",
              "    <tr>\n",
              "      <th>3</th>\n",
              "      <td>Alabama</td>\n",
              "      <td>1</td>\n",
              "    </tr>\n",
              "    <tr>\n",
              "      <th>4</th>\n",
              "      <td>Alabama</td>\n",
              "      <td>1</td>\n",
              "    </tr>\n",
              "    <tr>\n",
              "      <th>...</th>\n",
              "      <td>...</td>\n",
              "      <td>...</td>\n",
              "    </tr>\n",
              "    <tr>\n",
              "      <th>3215</th>\n",
              "      <td>Puerto Rico</td>\n",
              "      <td>0</td>\n",
              "    </tr>\n",
              "    <tr>\n",
              "      <th>3216</th>\n",
              "      <td>Puerto Rico</td>\n",
              "      <td>0</td>\n",
              "    </tr>\n",
              "    <tr>\n",
              "      <th>3217</th>\n",
              "      <td>Puerto Rico</td>\n",
              "      <td>0</td>\n",
              "    </tr>\n",
              "    <tr>\n",
              "      <th>3218</th>\n",
              "      <td>Puerto Rico</td>\n",
              "      <td>0</td>\n",
              "    </tr>\n",
              "    <tr>\n",
              "      <th>3219</th>\n",
              "      <td>Puerto Rico</td>\n",
              "      <td>0</td>\n",
              "    </tr>\n",
              "  </tbody>\n",
              "</table>\n",
              "<p>3020 rows × 2 columns</p>\n",
              "</div>"
            ],
            "text/plain": [
              "            State  Alabama\n",
              "0         Alabama        1\n",
              "1         Alabama        1\n",
              "2         Alabama        1\n",
              "3         Alabama        1\n",
              "4         Alabama        1\n",
              "...           ...      ...\n",
              "3215  Puerto Rico        0\n",
              "3216  Puerto Rico        0\n",
              "3217  Puerto Rico        0\n",
              "3218  Puerto Rico        0\n",
              "3219  Puerto Rico        0\n",
              "\n",
              "[3020 rows x 2 columns]"
            ]
          },
          "metadata": {
            "tags": []
          },
          "execution_count": 34
        }
      ]
    },
    {
      "cell_type": "code",
      "metadata": {
        "colab": {
          "base_uri": "https://localhost:8080/"
        },
        "id": "FOPfqUcx5o-4",
        "outputId": "7eed4ddf-6e32-4d28-eafb-dfaf662d9c40"
      },
      "source": [
        "#Shuffling\r\n",
        "#Tomar muestras de nuestra población total\r\n",
        "#CAmbios aleatorios en el orden de tu dataset\r\n",
        "\r\n",
        "s_census=census_dummy.sample(frac=1, random_state=0)\r\n",
        "s_census_2=census_dummy.sample(frac=1)\r\n",
        "s_census.shape"
      ],
      "execution_count": null,
      "outputs": [
        {
          "output_type": "execute_result",
          "data": {
            "text/plain": [
              "(3020, 100)"
            ]
          },
          "metadata": {
            "tags": []
          },
          "execution_count": 54
        }
      ]
    },
    {
      "cell_type": "code",
      "metadata": {
        "colab": {
          "base_uri": "https://localhost:8080/",
          "height": 194
        },
        "id": "tFoXgRw16c7i",
        "outputId": "eebc7e6d-bd6b-4d8f-ca0f-f56147cbabaf"
      },
      "source": [
        "s_census.head(2)"
      ],
      "execution_count": null,
      "outputs": [
        {
          "output_type": "execute_result",
          "data": {
            "text/html": [
              "<div>\n",
              "<style scoped>\n",
              "    .dataframe tbody tr th:only-of-type {\n",
              "        vertical-align: middle;\n",
              "    }\n",
              "\n",
              "    .dataframe tbody tr th {\n",
              "        vertical-align: top;\n",
              "    }\n",
              "\n",
              "    .dataframe thead th {\n",
              "        text-align: right;\n",
              "    }\n",
              "</style>\n",
              "<table border=\"1\" class=\"dataframe\">\n",
              "  <thead>\n",
              "    <tr style=\"text-align: right;\">\n",
              "      <th></th>\n",
              "      <th>CensusId</th>\n",
              "      <th>State</th>\n",
              "      <th>County</th>\n",
              "      <th>TotalPop</th>\n",
              "      <th>Men</th>\n",
              "      <th>Women</th>\n",
              "      <th>Hispanic</th>\n",
              "      <th>White</th>\n",
              "      <th>Black</th>\n",
              "      <th>Native</th>\n",
              "      <th>Asian</th>\n",
              "      <th>Pacific</th>\n",
              "      <th>Citizen</th>\n",
              "      <th>Income</th>\n",
              "      <th>IncomeErr</th>\n",
              "      <th>IncomePerCap</th>\n",
              "      <th>IncomePerCapErr</th>\n",
              "      <th>Poverty</th>\n",
              "      <th>ChildPoverty</th>\n",
              "      <th>Professional</th>\n",
              "      <th>Service</th>\n",
              "      <th>Office</th>\n",
              "      <th>Construction</th>\n",
              "      <th>Production</th>\n",
              "      <th>Drive</th>\n",
              "      <th>Carpool</th>\n",
              "      <th>Transit</th>\n",
              "      <th>Walk</th>\n",
              "      <th>OtherTransp</th>\n",
              "      <th>WorkAtHome</th>\n",
              "      <th>MeanCommute</th>\n",
              "      <th>Employed</th>\n",
              "      <th>PrivateWork</th>\n",
              "      <th>PublicWork</th>\n",
              "      <th>SelfEmployed</th>\n",
              "      <th>FamilyWork</th>\n",
              "      <th>Unemployment</th>\n",
              "      <th>HispanicRate</th>\n",
              "      <th>WhiteRate</th>\n",
              "      <th>BlackRate</th>\n",
              "      <th>...</th>\n",
              "      <th>Idaho</th>\n",
              "      <th>Illinois</th>\n",
              "      <th>Indiana</th>\n",
              "      <th>Iowa</th>\n",
              "      <th>Kansas</th>\n",
              "      <th>Kentucky</th>\n",
              "      <th>Louisiana</th>\n",
              "      <th>Maine</th>\n",
              "      <th>Maryland</th>\n",
              "      <th>Massachusetts</th>\n",
              "      <th>Michigan</th>\n",
              "      <th>Minnesota</th>\n",
              "      <th>Mississippi</th>\n",
              "      <th>Missouri</th>\n",
              "      <th>Montana</th>\n",
              "      <th>Nebraska</th>\n",
              "      <th>Nevada</th>\n",
              "      <th>New Hampshire</th>\n",
              "      <th>New Jersey</th>\n",
              "      <th>New Mexico</th>\n",
              "      <th>New York</th>\n",
              "      <th>North Carolina</th>\n",
              "      <th>North Dakota</th>\n",
              "      <th>Ohio</th>\n",
              "      <th>Oklahoma</th>\n",
              "      <th>Oregon</th>\n",
              "      <th>Pennsylvania</th>\n",
              "      <th>Puerto Rico</th>\n",
              "      <th>Rhode Island</th>\n",
              "      <th>South Carolina</th>\n",
              "      <th>South Dakota</th>\n",
              "      <th>Tennessee</th>\n",
              "      <th>Texas</th>\n",
              "      <th>Utah</th>\n",
              "      <th>Vermont</th>\n",
              "      <th>Virginia</th>\n",
              "      <th>Washington</th>\n",
              "      <th>West Virginia</th>\n",
              "      <th>Wisconsin</th>\n",
              "      <th>Wyoming</th>\n",
              "    </tr>\n",
              "  </thead>\n",
              "  <tbody>\n",
              "    <tr>\n",
              "      <th>468</th>\n",
              "      <td>13165</td>\n",
              "      <td>Georgia</td>\n",
              "      <td>Jenkins</td>\n",
              "      <td>8922</td>\n",
              "      <td>4444</td>\n",
              "      <td>4478</td>\n",
              "      <td>7.8</td>\n",
              "      <td>56.4</td>\n",
              "      <td>33.4</td>\n",
              "      <td>0.0</td>\n",
              "      <td>0.2</td>\n",
              "      <td>0.0</td>\n",
              "      <td>6309</td>\n",
              "      <td>24604.0</td>\n",
              "      <td>4183.0</td>\n",
              "      <td>17366</td>\n",
              "      <td>3238</td>\n",
              "      <td>33.8</td>\n",
              "      <td>57.6</td>\n",
              "      <td>27.1</td>\n",
              "      <td>19.9</td>\n",
              "      <td>14.6</td>\n",
              "      <td>13.2</td>\n",
              "      <td>25.3</td>\n",
              "      <td>70.7</td>\n",
              "      <td>25.3</td>\n",
              "      <td>0.0</td>\n",
              "      <td>2.0</td>\n",
              "      <td>0.0</td>\n",
              "      <td>2.0</td>\n",
              "      <td>21.6</td>\n",
              "      <td>3035</td>\n",
              "      <td>74.6</td>\n",
              "      <td>21.0</td>\n",
              "      <td>4.4</td>\n",
              "      <td>0.0</td>\n",
              "      <td>10.3</td>\n",
              "      <td>0.078</td>\n",
              "      <td>0.564</td>\n",
              "      <td>0.334</td>\n",
              "      <td>...</td>\n",
              "      <td>0</td>\n",
              "      <td>0</td>\n",
              "      <td>0</td>\n",
              "      <td>0</td>\n",
              "      <td>0</td>\n",
              "      <td>0</td>\n",
              "      <td>0</td>\n",
              "      <td>0</td>\n",
              "      <td>0</td>\n",
              "      <td>0</td>\n",
              "      <td>0</td>\n",
              "      <td>0</td>\n",
              "      <td>0</td>\n",
              "      <td>0</td>\n",
              "      <td>0</td>\n",
              "      <td>0</td>\n",
              "      <td>0</td>\n",
              "      <td>0</td>\n",
              "      <td>0</td>\n",
              "      <td>0</td>\n",
              "      <td>0</td>\n",
              "      <td>0</td>\n",
              "      <td>0</td>\n",
              "      <td>0</td>\n",
              "      <td>0</td>\n",
              "      <td>0</td>\n",
              "      <td>0</td>\n",
              "      <td>0</td>\n",
              "      <td>0</td>\n",
              "      <td>0</td>\n",
              "      <td>0</td>\n",
              "      <td>0</td>\n",
              "      <td>0</td>\n",
              "      <td>0</td>\n",
              "      <td>0</td>\n",
              "      <td>0</td>\n",
              "      <td>0</td>\n",
              "      <td>0</td>\n",
              "      <td>0</td>\n",
              "      <td>0</td>\n",
              "    </tr>\n",
              "    <tr>\n",
              "      <th>1832</th>\n",
              "      <td>36009</td>\n",
              "      <td>New York</td>\n",
              "      <td>Cattaraugus</td>\n",
              "      <td>78962</td>\n",
              "      <td>39089</td>\n",
              "      <td>39873</td>\n",
              "      <td>1.9</td>\n",
              "      <td>91.2</td>\n",
              "      <td>1.5</td>\n",
              "      <td>2.8</td>\n",
              "      <td>0.8</td>\n",
              "      <td>0.0</td>\n",
              "      <td>60226</td>\n",
              "      <td>42601.0</td>\n",
              "      <td>1264.0</td>\n",
              "      <td>22336</td>\n",
              "      <td>436</td>\n",
              "      <td>18.3</td>\n",
              "      <td>27.7</td>\n",
              "      <td>27.7</td>\n",
              "      <td>20.7</td>\n",
              "      <td>24.6</td>\n",
              "      <td>11.4</td>\n",
              "      <td>15.7</td>\n",
              "      <td>80.7</td>\n",
              "      <td>8.6</td>\n",
              "      <td>0.5</td>\n",
              "      <td>5.6</td>\n",
              "      <td>1.6</td>\n",
              "      <td>3.0</td>\n",
              "      <td>21.8</td>\n",
              "      <td>34265</td>\n",
              "      <td>73.9</td>\n",
              "      <td>19.8</td>\n",
              "      <td>6.1</td>\n",
              "      <td>0.3</td>\n",
              "      <td>8.2</td>\n",
              "      <td>0.019</td>\n",
              "      <td>0.912</td>\n",
              "      <td>0.015</td>\n",
              "      <td>...</td>\n",
              "      <td>0</td>\n",
              "      <td>0</td>\n",
              "      <td>0</td>\n",
              "      <td>0</td>\n",
              "      <td>0</td>\n",
              "      <td>0</td>\n",
              "      <td>0</td>\n",
              "      <td>0</td>\n",
              "      <td>0</td>\n",
              "      <td>0</td>\n",
              "      <td>0</td>\n",
              "      <td>0</td>\n",
              "      <td>0</td>\n",
              "      <td>0</td>\n",
              "      <td>0</td>\n",
              "      <td>0</td>\n",
              "      <td>0</td>\n",
              "      <td>0</td>\n",
              "      <td>0</td>\n",
              "      <td>0</td>\n",
              "      <td>1</td>\n",
              "      <td>0</td>\n",
              "      <td>0</td>\n",
              "      <td>0</td>\n",
              "      <td>0</td>\n",
              "      <td>0</td>\n",
              "      <td>0</td>\n",
              "      <td>0</td>\n",
              "      <td>0</td>\n",
              "      <td>0</td>\n",
              "      <td>0</td>\n",
              "      <td>0</td>\n",
              "      <td>0</td>\n",
              "      <td>0</td>\n",
              "      <td>0</td>\n",
              "      <td>0</td>\n",
              "      <td>0</td>\n",
              "      <td>0</td>\n",
              "      <td>0</td>\n",
              "      <td>0</td>\n",
              "    </tr>\n",
              "  </tbody>\n",
              "</table>\n",
              "<p>2 rows × 100 columns</p>\n",
              "</div>"
            ],
            "text/plain": [
              "      CensusId     State       County  ...  West Virginia  Wisconsin  Wyoming\n",
              "468      13165   Georgia      Jenkins  ...              0          0        0\n",
              "1832     36009  New York  Cattaraugus  ...              0          0        0\n",
              "\n",
              "[2 rows x 100 columns]"
            ]
          },
          "metadata": {
            "tags": []
          },
          "execution_count": 43
        }
      ]
    },
    {
      "cell_type": "code",
      "metadata": {
        "colab": {
          "base_uri": "https://localhost:8080/",
          "height": 194
        },
        "id": "HInC5CDU6f2X",
        "outputId": "f3d382c0-e8ef-42e5-c6d4-0f27d35d3fb2"
      },
      "source": [
        "s_census_2.head(2)"
      ],
      "execution_count": null,
      "outputs": [
        {
          "output_type": "execute_result",
          "data": {
            "text/html": [
              "<div>\n",
              "<style scoped>\n",
              "    .dataframe tbody tr th:only-of-type {\n",
              "        vertical-align: middle;\n",
              "    }\n",
              "\n",
              "    .dataframe tbody tr th {\n",
              "        vertical-align: top;\n",
              "    }\n",
              "\n",
              "    .dataframe thead th {\n",
              "        text-align: right;\n",
              "    }\n",
              "</style>\n",
              "<table border=\"1\" class=\"dataframe\">\n",
              "  <thead>\n",
              "    <tr style=\"text-align: right;\">\n",
              "      <th></th>\n",
              "      <th>CensusId</th>\n",
              "      <th>State</th>\n",
              "      <th>County</th>\n",
              "      <th>TotalPop</th>\n",
              "      <th>Men</th>\n",
              "      <th>Women</th>\n",
              "      <th>Hispanic</th>\n",
              "      <th>White</th>\n",
              "      <th>Black</th>\n",
              "      <th>Native</th>\n",
              "      <th>Asian</th>\n",
              "      <th>Pacific</th>\n",
              "      <th>Citizen</th>\n",
              "      <th>Income</th>\n",
              "      <th>IncomeErr</th>\n",
              "      <th>IncomePerCap</th>\n",
              "      <th>IncomePerCapErr</th>\n",
              "      <th>Poverty</th>\n",
              "      <th>ChildPoverty</th>\n",
              "      <th>Professional</th>\n",
              "      <th>Service</th>\n",
              "      <th>Office</th>\n",
              "      <th>Construction</th>\n",
              "      <th>Production</th>\n",
              "      <th>Drive</th>\n",
              "      <th>Carpool</th>\n",
              "      <th>Transit</th>\n",
              "      <th>Walk</th>\n",
              "      <th>OtherTransp</th>\n",
              "      <th>WorkAtHome</th>\n",
              "      <th>MeanCommute</th>\n",
              "      <th>Employed</th>\n",
              "      <th>PrivateWork</th>\n",
              "      <th>PublicWork</th>\n",
              "      <th>SelfEmployed</th>\n",
              "      <th>FamilyWork</th>\n",
              "      <th>Unemployment</th>\n",
              "      <th>HispanicRate</th>\n",
              "      <th>WhiteRate</th>\n",
              "      <th>BlackRate</th>\n",
              "      <th>...</th>\n",
              "      <th>Idaho</th>\n",
              "      <th>Illinois</th>\n",
              "      <th>Indiana</th>\n",
              "      <th>Iowa</th>\n",
              "      <th>Kansas</th>\n",
              "      <th>Kentucky</th>\n",
              "      <th>Louisiana</th>\n",
              "      <th>Maine</th>\n",
              "      <th>Maryland</th>\n",
              "      <th>Massachusetts</th>\n",
              "      <th>Michigan</th>\n",
              "      <th>Minnesota</th>\n",
              "      <th>Mississippi</th>\n",
              "      <th>Missouri</th>\n",
              "      <th>Montana</th>\n",
              "      <th>Nebraska</th>\n",
              "      <th>Nevada</th>\n",
              "      <th>New Hampshire</th>\n",
              "      <th>New Jersey</th>\n",
              "      <th>New Mexico</th>\n",
              "      <th>New York</th>\n",
              "      <th>North Carolina</th>\n",
              "      <th>North Dakota</th>\n",
              "      <th>Ohio</th>\n",
              "      <th>Oklahoma</th>\n",
              "      <th>Oregon</th>\n",
              "      <th>Pennsylvania</th>\n",
              "      <th>Puerto Rico</th>\n",
              "      <th>Rhode Island</th>\n",
              "      <th>South Carolina</th>\n",
              "      <th>South Dakota</th>\n",
              "      <th>Tennessee</th>\n",
              "      <th>Texas</th>\n",
              "      <th>Utah</th>\n",
              "      <th>Vermont</th>\n",
              "      <th>Virginia</th>\n",
              "      <th>Washington</th>\n",
              "      <th>West Virginia</th>\n",
              "      <th>Wisconsin</th>\n",
              "      <th>Wyoming</th>\n",
              "    </tr>\n",
              "  </thead>\n",
              "  <tbody>\n",
              "    <tr>\n",
              "      <th>2353</th>\n",
              "      <td>45075</td>\n",
              "      <td>South Carolina</td>\n",
              "      <td>Orangeburg</td>\n",
              "      <td>90575</td>\n",
              "      <td>42660</td>\n",
              "      <td>47915</td>\n",
              "      <td>2.0</td>\n",
              "      <td>33.6</td>\n",
              "      <td>61.6</td>\n",
              "      <td>0.3</td>\n",
              "      <td>1.0</td>\n",
              "      <td>0.0</td>\n",
              "      <td>69064</td>\n",
              "      <td>34218.0</td>\n",
              "      <td>1148.0</td>\n",
              "      <td>17889</td>\n",
              "      <td>521</td>\n",
              "      <td>23.5</td>\n",
              "      <td>34.9</td>\n",
              "      <td>28.2</td>\n",
              "      <td>18.1</td>\n",
              "      <td>23.3</td>\n",
              "      <td>9.3</td>\n",
              "      <td>21.1</td>\n",
              "      <td>84.4</td>\n",
              "      <td>10.0</td>\n",
              "      <td>0.2</td>\n",
              "      <td>1.7</td>\n",
              "      <td>1.4</td>\n",
              "      <td>2.3</td>\n",
              "      <td>26.5</td>\n",
              "      <td>33811</td>\n",
              "      <td>75.9</td>\n",
              "      <td>18.8</td>\n",
              "      <td>5.1</td>\n",
              "      <td>0.2</td>\n",
              "      <td>12.8</td>\n",
              "      <td>0.02</td>\n",
              "      <td>0.336</td>\n",
              "      <td>0.616</td>\n",
              "      <td>...</td>\n",
              "      <td>0</td>\n",
              "      <td>0</td>\n",
              "      <td>0</td>\n",
              "      <td>0</td>\n",
              "      <td>0</td>\n",
              "      <td>0</td>\n",
              "      <td>0</td>\n",
              "      <td>0</td>\n",
              "      <td>0</td>\n",
              "      <td>0</td>\n",
              "      <td>0</td>\n",
              "      <td>0</td>\n",
              "      <td>0</td>\n",
              "      <td>0</td>\n",
              "      <td>0</td>\n",
              "      <td>0</td>\n",
              "      <td>0</td>\n",
              "      <td>0</td>\n",
              "      <td>0</td>\n",
              "      <td>0</td>\n",
              "      <td>0</td>\n",
              "      <td>0</td>\n",
              "      <td>0</td>\n",
              "      <td>0</td>\n",
              "      <td>0</td>\n",
              "      <td>0</td>\n",
              "      <td>0</td>\n",
              "      <td>0</td>\n",
              "      <td>0</td>\n",
              "      <td>1</td>\n",
              "      <td>0</td>\n",
              "      <td>0</td>\n",
              "      <td>0</td>\n",
              "      <td>0</td>\n",
              "      <td>0</td>\n",
              "      <td>0</td>\n",
              "      <td>0</td>\n",
              "      <td>0</td>\n",
              "      <td>0</td>\n",
              "      <td>0</td>\n",
              "    </tr>\n",
              "    <tr>\n",
              "      <th>704</th>\n",
              "      <td>18015</td>\n",
              "      <td>Indiana</td>\n",
              "      <td>Carroll</td>\n",
              "      <td>20014</td>\n",
              "      <td>9947</td>\n",
              "      <td>10067</td>\n",
              "      <td>4.0</td>\n",
              "      <td>94.3</td>\n",
              "      <td>0.3</td>\n",
              "      <td>0.0</td>\n",
              "      <td>0.1</td>\n",
              "      <td>0.0</td>\n",
              "      <td>14969</td>\n",
              "      <td>52005.0</td>\n",
              "      <td>2831.0</td>\n",
              "      <td>25365</td>\n",
              "      <td>1171</td>\n",
              "      <td>10.8</td>\n",
              "      <td>12.6</td>\n",
              "      <td>24.9</td>\n",
              "      <td>16.0</td>\n",
              "      <td>22.8</td>\n",
              "      <td>12.0</td>\n",
              "      <td>24.3</td>\n",
              "      <td>79.7</td>\n",
              "      <td>11.6</td>\n",
              "      <td>0.2</td>\n",
              "      <td>2.0</td>\n",
              "      <td>1.3</td>\n",
              "      <td>5.2</td>\n",
              "      <td>27.2</td>\n",
              "      <td>9224</td>\n",
              "      <td>78.6</td>\n",
              "      <td>12.8</td>\n",
              "      <td>8.5</td>\n",
              "      <td>0.1</td>\n",
              "      <td>8.2</td>\n",
              "      <td>0.04</td>\n",
              "      <td>0.943</td>\n",
              "      <td>0.003</td>\n",
              "      <td>...</td>\n",
              "      <td>0</td>\n",
              "      <td>0</td>\n",
              "      <td>1</td>\n",
              "      <td>0</td>\n",
              "      <td>0</td>\n",
              "      <td>0</td>\n",
              "      <td>0</td>\n",
              "      <td>0</td>\n",
              "      <td>0</td>\n",
              "      <td>0</td>\n",
              "      <td>0</td>\n",
              "      <td>0</td>\n",
              "      <td>0</td>\n",
              "      <td>0</td>\n",
              "      <td>0</td>\n",
              "      <td>0</td>\n",
              "      <td>0</td>\n",
              "      <td>0</td>\n",
              "      <td>0</td>\n",
              "      <td>0</td>\n",
              "      <td>0</td>\n",
              "      <td>0</td>\n",
              "      <td>0</td>\n",
              "      <td>0</td>\n",
              "      <td>0</td>\n",
              "      <td>0</td>\n",
              "      <td>0</td>\n",
              "      <td>0</td>\n",
              "      <td>0</td>\n",
              "      <td>0</td>\n",
              "      <td>0</td>\n",
              "      <td>0</td>\n",
              "      <td>0</td>\n",
              "      <td>0</td>\n",
              "      <td>0</td>\n",
              "      <td>0</td>\n",
              "      <td>0</td>\n",
              "      <td>0</td>\n",
              "      <td>0</td>\n",
              "      <td>0</td>\n",
              "    </tr>\n",
              "  </tbody>\n",
              "</table>\n",
              "<p>2 rows × 100 columns</p>\n",
              "</div>"
            ],
            "text/plain": [
              "      CensusId           State      County  ...  West Virginia  Wisconsin  Wyoming\n",
              "2353     45075  South Carolina  Orangeburg  ...              0          0        0\n",
              "704      18015         Indiana     Carroll  ...              0          0        0\n",
              "\n",
              "[2 rows x 100 columns]"
            ]
          },
          "metadata": {
            "tags": []
          },
          "execution_count": 44
        }
      ]
    },
    {
      "cell_type": "code",
      "metadata": {
        "colab": {
          "base_uri": "https://localhost:8080/"
        },
        "id": "Po0Zs_KZ7EJB",
        "outputId": "24046f85-4baf-4139-f288-c50d912dfa0c"
      },
      "source": [
        "#Sample\r\n",
        "census_sample_proporcion = census_clean.sample(frac=.5)\r\n",
        "census_sample_rows = census_clean.sample(n=1000)\r\n",
        "print(census_sample_proporcion.shape)\r\n",
        "print(census_sample_rows.shape)"
      ],
      "execution_count": null,
      "outputs": [
        {
          "output_type": "stream",
          "text": [
            "(1510, 48)\n",
            "(1000, 48)\n"
          ],
          "name": "stdout"
        }
      ]
    },
    {
      "cell_type": "code",
      "metadata": {
        "colab": {
          "base_uri": "https://localhost:8080/"
        },
        "id": "SfMqq1s9_KTZ",
        "outputId": "f7175999-fabb-43fd-ddbf-b7a80772071c"
      },
      "source": [
        "#Imporamos funcion de train/test para neustros datasets de entrenamiento y prueba\r\n",
        "from sklearn.model_selection import train_test_split\r\n",
        "train, test = train_test_split(census_dummy, train_size=.2)\r\n",
        "print(train.shape, test.shape)"
      ],
      "execution_count": null,
      "outputs": [
        {
          "output_type": "stream",
          "text": [
            "(604, 100) (2416, 100)\n"
          ],
          "name": "stdout"
        }
      ]
    },
    {
      "cell_type": "code",
      "metadata": {
        "colab": {
          "base_uri": "https://localhost:8080/",
          "height": 283
        },
        "id": "Zer9VxzOAB0S",
        "outputId": "5c370e05-612b-42e2-d46f-b328a7bad501"
      },
      "source": [
        "census['Income'].hist()"
      ],
      "execution_count": null,
      "outputs": [
        {
          "output_type": "execute_result",
          "data": {
            "text/plain": [
              "<matplotlib.axes._subplots.AxesSubplot at 0x7ff415c9fcc0>"
            ]
          },
          "metadata": {
            "tags": []
          },
          "execution_count": 49
        },
        {
          "output_type": "display_data",
          "data": {
            "image/png": "[encoded data removed]",
            "text/plain": [
              "<Figure size 432x288 with 1 Axes>"
            ]
          },
          "metadata": {
            "tags": []
          }
        }
      ]
    },
    {
      "cell_type": "code",
      "metadata": {
        "colab": {
          "base_uri": "https://localhost:8080/"
        },
        "id": "S7VY8nUQAS6N",
        "outputId": "31b761a1-96f8-4881-9d20-7256713c676c"
      },
      "source": [
        "census.Income.describe()"
      ],
      "execution_count": null,
      "outputs": [
        {
          "output_type": "execute_result",
          "data": {
            "text/plain": [
              "count      3218.000000\n",
              "mean      46123.616532\n",
              "std       12908.429676\n",
              "min       10499.000000\n",
              "25%       38191.250000\n",
              "50%       44748.500000\n",
              "75%       52059.000000\n",
              "max      123453.000000\n",
              "Name: Income, dtype: float64"
            ]
          },
          "metadata": {
            "tags": []
          },
          "execution_count": 51
        }
      ]
    },
    {
      "cell_type": "code",
      "metadata": {
        "colab": {
          "base_uri": "https://localhost:8080/",
          "height": 461
        },
        "id": "b7SrjUnnAaH3",
        "outputId": "20fae78e-2c17-4e47-c5dc-1dd824634c94"
      },
      "source": [
        "#Graficamos por estados que tienen un mayor income\r\n",
        "fig = plt.figure(figsize=(15,5))\r\n",
        "ax = fig.gca()\r\n",
        "census_dummy.groupby('State')[['Income']].mean().sort_values('Income',ascending = False).head(30).plot.bar(ax=ax, color='darkorange')\r\n",
        "ax.set_title('Top 30 estados por income')"
      ],
      "execution_count": null,
      "outputs": [
        {
          "output_type": "execute_result",
          "data": {
            "text/plain": [
              "Text(0.5, 1.0, 'Top 30 estados por income')"
            ]
          },
          "metadata": {
            "tags": []
          },
          "execution_count": 56
        },
        {
          "output_type": "display_data",
          "data": {
            "image/png": "[encoded data removed]",
            "text/plain": [
              "<Figure size 1080x360 with 1 Axes>"
            ]
          },
          "metadata": {
            "tags": []
          }
        }
      ]
    },
    {
      "cell_type": "code",
      "metadata": {
        "colab": {
          "base_uri": "https://localhost:8080/",
          "height": 435
        },
        "id": "P9uE_-HvDVWQ",
        "outputId": "8423b5f4-5930-4b5b-8b2e-192807e897a8"
      },
      "source": [
        "#Graficamos por estados que tienen un mayor income\r\n",
        "fig = plt.figure(figsize=(15,5))\r\n",
        "ax = fig.gca()\r\n",
        "census_dummy.groupby('State')[['Income']].mean().sort_values('Income',ascending = True).head(30).plot.bar(ax=ax, color='darkorange')\r\n",
        "ax.set_title('Bottom 30 estados por income')"
      ],
      "execution_count": null,
      "outputs": [
        {
          "output_type": "execute_result",
          "data": {
            "text/plain": [
              "Text(0.5, 1.0, 'Bottom 30 estados por income')"
            ]
          },
          "metadata": {
            "tags": []
          },
          "execution_count": 58
        },
        {
          "output_type": "display_data",
          "data": {
            "image/png": "[encoded data removed]",
            "text/plain": [
              "<Figure size 1080x360 with 1 Axes>"
            ]
          },
          "metadata": {
            "tags": []
          }
        }
      ]
    },
    {
      "cell_type": "code",
      "metadata": {
        "colab": {
          "base_uri": "https://localhost:8080/",
          "height": 269
        },
        "id": "tk-o3yuADc_5",
        "outputId": "af8c6119-f4df-4cc8-d386-592714789afe"
      },
      "source": [
        "df = census_dummy._get_numeric_data()\r\n",
        "df.head()"
      ],
      "execution_count": null,
      "outputs": [
        {
          "output_type": "execute_result",
          "data": {
            "text/html": [
              "<div>\n",
              "<style scoped>\n",
              "    .dataframe tbody tr th:only-of-type {\n",
              "        vertical-align: middle;\n",
              "    }\n",
              "\n",
              "    .dataframe tbody tr th {\n",
              "        vertical-align: top;\n",
              "    }\n",
              "\n",
              "    .dataframe thead th {\n",
              "        text-align: right;\n",
              "    }\n",
              "</style>\n",
              "<table border=\"1\" class=\"dataframe\">\n",
              "  <thead>\n",
              "    <tr style=\"text-align: right;\">\n",
              "      <th></th>\n",
              "      <th>CensusId</th>\n",
              "      <th>TotalPop</th>\n",
              "      <th>Men</th>\n",
              "      <th>Women</th>\n",
              "      <th>Hispanic</th>\n",
              "      <th>White</th>\n",
              "      <th>Black</th>\n",
              "      <th>Native</th>\n",
              "      <th>Asian</th>\n",
              "      <th>Pacific</th>\n",
              "      <th>Citizen</th>\n",
              "      <th>Income</th>\n",
              "      <th>IncomeErr</th>\n",
              "      <th>IncomePerCap</th>\n",
              "      <th>IncomePerCapErr</th>\n",
              "      <th>Poverty</th>\n",
              "      <th>ChildPoverty</th>\n",
              "      <th>Professional</th>\n",
              "      <th>Service</th>\n",
              "      <th>Office</th>\n",
              "      <th>Construction</th>\n",
              "      <th>Production</th>\n",
              "      <th>Drive</th>\n",
              "      <th>Carpool</th>\n",
              "      <th>Transit</th>\n",
              "      <th>Walk</th>\n",
              "      <th>OtherTransp</th>\n",
              "      <th>WorkAtHome</th>\n",
              "      <th>MeanCommute</th>\n",
              "      <th>Employed</th>\n",
              "      <th>PrivateWork</th>\n",
              "      <th>PublicWork</th>\n",
              "      <th>SelfEmployed</th>\n",
              "      <th>FamilyWork</th>\n",
              "      <th>Unemployment</th>\n",
              "      <th>HispanicRate</th>\n",
              "      <th>WhiteRate</th>\n",
              "      <th>BlackRate</th>\n",
              "      <th>NativeRate</th>\n",
              "      <th>AsianRate</th>\n",
              "      <th>...</th>\n",
              "      <th>Idaho</th>\n",
              "      <th>Illinois</th>\n",
              "      <th>Indiana</th>\n",
              "      <th>Iowa</th>\n",
              "      <th>Kansas</th>\n",
              "      <th>Kentucky</th>\n",
              "      <th>Louisiana</th>\n",
              "      <th>Maine</th>\n",
              "      <th>Maryland</th>\n",
              "      <th>Massachusetts</th>\n",
              "      <th>Michigan</th>\n",
              "      <th>Minnesota</th>\n",
              "      <th>Mississippi</th>\n",
              "      <th>Missouri</th>\n",
              "      <th>Montana</th>\n",
              "      <th>Nebraska</th>\n",
              "      <th>Nevada</th>\n",
              "      <th>New Hampshire</th>\n",
              "      <th>New Jersey</th>\n",
              "      <th>New Mexico</th>\n",
              "      <th>New York</th>\n",
              "      <th>North Carolina</th>\n",
              "      <th>North Dakota</th>\n",
              "      <th>Ohio</th>\n",
              "      <th>Oklahoma</th>\n",
              "      <th>Oregon</th>\n",
              "      <th>Pennsylvania</th>\n",
              "      <th>Puerto Rico</th>\n",
              "      <th>Rhode Island</th>\n",
              "      <th>South Carolina</th>\n",
              "      <th>South Dakota</th>\n",
              "      <th>Tennessee</th>\n",
              "      <th>Texas</th>\n",
              "      <th>Utah</th>\n",
              "      <th>Vermont</th>\n",
              "      <th>Virginia</th>\n",
              "      <th>Washington</th>\n",
              "      <th>West Virginia</th>\n",
              "      <th>Wisconsin</th>\n",
              "      <th>Wyoming</th>\n",
              "    </tr>\n",
              "  </thead>\n",
              "  <tbody>\n",
              "    <tr>\n",
              "      <th>0</th>\n",
              "      <td>1001</td>\n",
              "      <td>55221</td>\n",
              "      <td>26745</td>\n",
              "      <td>28476</td>\n",
              "      <td>2.6</td>\n",
              "      <td>75.8</td>\n",
              "      <td>18.5</td>\n",
              "      <td>0.4</td>\n",
              "      <td>1.0</td>\n",
              "      <td>0.0</td>\n",
              "      <td>40725</td>\n",
              "      <td>51281.0</td>\n",
              "      <td>2391.0</td>\n",
              "      <td>24974</td>\n",
              "      <td>1080</td>\n",
              "      <td>12.9</td>\n",
              "      <td>18.6</td>\n",
              "      <td>33.2</td>\n",
              "      <td>17.0</td>\n",
              "      <td>24.2</td>\n",
              "      <td>8.6</td>\n",
              "      <td>17.1</td>\n",
              "      <td>87.5</td>\n",
              "      <td>8.8</td>\n",
              "      <td>0.1</td>\n",
              "      <td>0.5</td>\n",
              "      <td>1.3</td>\n",
              "      <td>1.8</td>\n",
              "      <td>26.5</td>\n",
              "      <td>23986</td>\n",
              "      <td>73.6</td>\n",
              "      <td>20.9</td>\n",
              "      <td>5.5</td>\n",
              "      <td>0.0</td>\n",
              "      <td>7.6</td>\n",
              "      <td>0.026</td>\n",
              "      <td>0.758</td>\n",
              "      <td>0.185</td>\n",
              "      <td>0.004</td>\n",
              "      <td>0.010</td>\n",
              "      <td>...</td>\n",
              "      <td>0</td>\n",
              "      <td>0</td>\n",
              "      <td>0</td>\n",
              "      <td>0</td>\n",
              "      <td>0</td>\n",
              "      <td>0</td>\n",
              "      <td>0</td>\n",
              "      <td>0</td>\n",
              "      <td>0</td>\n",
              "      <td>0</td>\n",
              "      <td>0</td>\n",
              "      <td>0</td>\n",
              "      <td>0</td>\n",
              "      <td>0</td>\n",
              "      <td>0</td>\n",
              "      <td>0</td>\n",
              "      <td>0</td>\n",
              "      <td>0</td>\n",
              "      <td>0</td>\n",
              "      <td>0</td>\n",
              "      <td>0</td>\n",
              "      <td>0</td>\n",
              "      <td>0</td>\n",
              "      <td>0</td>\n",
              "      <td>0</td>\n",
              "      <td>0</td>\n",
              "      <td>0</td>\n",
              "      <td>0</td>\n",
              "      <td>0</td>\n",
              "      <td>0</td>\n",
              "      <td>0</td>\n",
              "      <td>0</td>\n",
              "      <td>0</td>\n",
              "      <td>0</td>\n",
              "      <td>0</td>\n",
              "      <td>0</td>\n",
              "      <td>0</td>\n",
              "      <td>0</td>\n",
              "      <td>0</td>\n",
              "      <td>0</td>\n",
              "    </tr>\n",
              "    <tr>\n",
              "      <th>1</th>\n",
              "      <td>1003</td>\n",
              "      <td>195121</td>\n",
              "      <td>95314</td>\n",
              "      <td>99807</td>\n",
              "      <td>4.5</td>\n",
              "      <td>83.1</td>\n",
              "      <td>9.5</td>\n",
              "      <td>0.6</td>\n",
              "      <td>0.7</td>\n",
              "      <td>0.0</td>\n",
              "      <td>147695</td>\n",
              "      <td>50254.0</td>\n",
              "      <td>1263.0</td>\n",
              "      <td>27317</td>\n",
              "      <td>711</td>\n",
              "      <td>13.4</td>\n",
              "      <td>19.2</td>\n",
              "      <td>33.1</td>\n",
              "      <td>17.7</td>\n",
              "      <td>27.1</td>\n",
              "      <td>10.8</td>\n",
              "      <td>11.2</td>\n",
              "      <td>84.7</td>\n",
              "      <td>8.8</td>\n",
              "      <td>0.1</td>\n",
              "      <td>1.0</td>\n",
              "      <td>1.4</td>\n",
              "      <td>3.9</td>\n",
              "      <td>26.4</td>\n",
              "      <td>85953</td>\n",
              "      <td>81.5</td>\n",
              "      <td>12.3</td>\n",
              "      <td>5.8</td>\n",
              "      <td>0.4</td>\n",
              "      <td>7.5</td>\n",
              "      <td>0.045</td>\n",
              "      <td>0.831</td>\n",
              "      <td>0.095</td>\n",
              "      <td>0.006</td>\n",
              "      <td>0.007</td>\n",
              "      <td>...</td>\n",
              "      <td>0</td>\n",
              "      <td>0</td>\n",
              "      <td>0</td>\n",
              "      <td>0</td>\n",
              "      <td>0</td>\n",
              "      <td>0</td>\n",
              "      <td>0</td>\n",
              "      <td>0</td>\n",
              "      <td>0</td>\n",
              "      <td>0</td>\n",
              "      <td>0</td>\n",
              "      <td>0</td>\n",
              "      <td>0</td>\n",
              "      <td>0</td>\n",
              "      <td>0</td>\n",
              "      <td>0</td>\n",
              "      <td>0</td>\n",
              "      <td>0</td>\n",
              "      <td>0</td>\n",
              "      <td>0</td>\n",
              "      <td>0</td>\n",
              "      <td>0</td>\n",
              "      <td>0</td>\n",
              "      <td>0</td>\n",
              "      <td>0</td>\n",
              "      <td>0</td>\n",
              "      <td>0</td>\n",
              "      <td>0</td>\n",
              "      <td>0</td>\n",
              "      <td>0</td>\n",
              "      <td>0</td>\n",
              "      <td>0</td>\n",
              "      <td>0</td>\n",
              "      <td>0</td>\n",
              "      <td>0</td>\n",
              "      <td>0</td>\n",
              "      <td>0</td>\n",
              "      <td>0</td>\n",
              "      <td>0</td>\n",
              "      <td>0</td>\n",
              "    </tr>\n",
              "    <tr>\n",
              "      <th>2</th>\n",
              "      <td>1005</td>\n",
              "      <td>26932</td>\n",
              "      <td>14497</td>\n",
              "      <td>12435</td>\n",
              "      <td>4.6</td>\n",
              "      <td>46.2</td>\n",
              "      <td>46.7</td>\n",
              "      <td>0.2</td>\n",
              "      <td>0.4</td>\n",
              "      <td>0.0</td>\n",
              "      <td>20714</td>\n",
              "      <td>32964.0</td>\n",
              "      <td>2973.0</td>\n",
              "      <td>16824</td>\n",
              "      <td>798</td>\n",
              "      <td>26.7</td>\n",
              "      <td>45.3</td>\n",
              "      <td>26.8</td>\n",
              "      <td>16.1</td>\n",
              "      <td>23.1</td>\n",
              "      <td>10.8</td>\n",
              "      <td>23.1</td>\n",
              "      <td>83.8</td>\n",
              "      <td>10.9</td>\n",
              "      <td>0.4</td>\n",
              "      <td>1.8</td>\n",
              "      <td>1.5</td>\n",
              "      <td>1.6</td>\n",
              "      <td>24.1</td>\n",
              "      <td>8597</td>\n",
              "      <td>71.8</td>\n",
              "      <td>20.8</td>\n",
              "      <td>7.3</td>\n",
              "      <td>0.1</td>\n",
              "      <td>17.6</td>\n",
              "      <td>0.046</td>\n",
              "      <td>0.462</td>\n",
              "      <td>0.467</td>\n",
              "      <td>0.002</td>\n",
              "      <td>0.004</td>\n",
              "      <td>...</td>\n",
              "      <td>0</td>\n",
              "      <td>0</td>\n",
              "      <td>0</td>\n",
              "      <td>0</td>\n",
              "      <td>0</td>\n",
              "      <td>0</td>\n",
              "      <td>0</td>\n",
              "      <td>0</td>\n",
              "      <td>0</td>\n",
              "      <td>0</td>\n",
              "      <td>0</td>\n",
              "      <td>0</td>\n",
              "      <td>0</td>\n",
              "      <td>0</td>\n",
              "      <td>0</td>\n",
              "      <td>0</td>\n",
              "      <td>0</td>\n",
              "      <td>0</td>\n",
              "      <td>0</td>\n",
              "      <td>0</td>\n",
              "      <td>0</td>\n",
              "      <td>0</td>\n",
              "      <td>0</td>\n",
              "      <td>0</td>\n",
              "      <td>0</td>\n",
              "      <td>0</td>\n",
              "      <td>0</td>\n",
              "      <td>0</td>\n",
              "      <td>0</td>\n",
              "      <td>0</td>\n",
              "      <td>0</td>\n",
              "      <td>0</td>\n",
              "      <td>0</td>\n",
              "      <td>0</td>\n",
              "      <td>0</td>\n",
              "      <td>0</td>\n",
              "      <td>0</td>\n",
              "      <td>0</td>\n",
              "      <td>0</td>\n",
              "      <td>0</td>\n",
              "    </tr>\n",
              "    <tr>\n",
              "      <th>3</th>\n",
              "      <td>1007</td>\n",
              "      <td>22604</td>\n",
              "      <td>12073</td>\n",
              "      <td>10531</td>\n",
              "      <td>2.2</td>\n",
              "      <td>74.5</td>\n",
              "      <td>21.4</td>\n",
              "      <td>0.4</td>\n",
              "      <td>0.1</td>\n",
              "      <td>0.0</td>\n",
              "      <td>17495</td>\n",
              "      <td>38678.0</td>\n",
              "      <td>3995.0</td>\n",
              "      <td>18431</td>\n",
              "      <td>1618</td>\n",
              "      <td>16.8</td>\n",
              "      <td>27.9</td>\n",
              "      <td>21.5</td>\n",
              "      <td>17.9</td>\n",
              "      <td>17.8</td>\n",
              "      <td>19.0</td>\n",
              "      <td>23.7</td>\n",
              "      <td>83.2</td>\n",
              "      <td>13.5</td>\n",
              "      <td>0.5</td>\n",
              "      <td>0.6</td>\n",
              "      <td>1.5</td>\n",
              "      <td>0.7</td>\n",
              "      <td>28.8</td>\n",
              "      <td>8294</td>\n",
              "      <td>76.8</td>\n",
              "      <td>16.1</td>\n",
              "      <td>6.7</td>\n",
              "      <td>0.4</td>\n",
              "      <td>8.3</td>\n",
              "      <td>0.022</td>\n",
              "      <td>0.745</td>\n",
              "      <td>0.214</td>\n",
              "      <td>0.004</td>\n",
              "      <td>0.001</td>\n",
              "      <td>...</td>\n",
              "      <td>0</td>\n",
              "      <td>0</td>\n",
              "      <td>0</td>\n",
              "      <td>0</td>\n",
              "      <td>0</td>\n",
              "      <td>0</td>\n",
              "      <td>0</td>\n",
              "      <td>0</td>\n",
              "      <td>0</td>\n",
              "      <td>0</td>\n",
              "      <td>0</td>\n",
              "      <td>0</td>\n",
              "      <td>0</td>\n",
              "      <td>0</td>\n",
              "      <td>0</td>\n",
              "      <td>0</td>\n",
              "      <td>0</td>\n",
              "      <td>0</td>\n",
              "      <td>0</td>\n",
              "      <td>0</td>\n",
              "      <td>0</td>\n",
              "      <td>0</td>\n",
              "      <td>0</td>\n",
              "      <td>0</td>\n",
              "      <td>0</td>\n",
              "      <td>0</td>\n",
              "      <td>0</td>\n",
              "      <td>0</td>\n",
              "      <td>0</td>\n",
              "      <td>0</td>\n",
              "      <td>0</td>\n",
              "      <td>0</td>\n",
              "      <td>0</td>\n",
              "      <td>0</td>\n",
              "      <td>0</td>\n",
              "      <td>0</td>\n",
              "      <td>0</td>\n",
              "      <td>0</td>\n",
              "      <td>0</td>\n",
              "      <td>0</td>\n",
              "    </tr>\n",
              "    <tr>\n",
              "      <th>4</th>\n",
              "      <td>1009</td>\n",
              "      <td>57710</td>\n",
              "      <td>28512</td>\n",
              "      <td>29198</td>\n",
              "      <td>8.6</td>\n",
              "      <td>87.9</td>\n",
              "      <td>1.5</td>\n",
              "      <td>0.3</td>\n",
              "      <td>0.1</td>\n",
              "      <td>0.0</td>\n",
              "      <td>42345</td>\n",
              "      <td>45813.0</td>\n",
              "      <td>3141.0</td>\n",
              "      <td>20532</td>\n",
              "      <td>708</td>\n",
              "      <td>16.7</td>\n",
              "      <td>27.2</td>\n",
              "      <td>28.5</td>\n",
              "      <td>14.1</td>\n",
              "      <td>23.9</td>\n",
              "      <td>13.5</td>\n",
              "      <td>19.9</td>\n",
              "      <td>84.9</td>\n",
              "      <td>11.2</td>\n",
              "      <td>0.4</td>\n",
              "      <td>0.9</td>\n",
              "      <td>0.4</td>\n",
              "      <td>2.3</td>\n",
              "      <td>34.9</td>\n",
              "      <td>22189</td>\n",
              "      <td>82.0</td>\n",
              "      <td>13.5</td>\n",
              "      <td>4.2</td>\n",
              "      <td>0.4</td>\n",
              "      <td>7.7</td>\n",
              "      <td>0.086</td>\n",
              "      <td>0.879</td>\n",
              "      <td>0.015</td>\n",
              "      <td>0.003</td>\n",
              "      <td>0.001</td>\n",
              "      <td>...</td>\n",
              "      <td>0</td>\n",
              "      <td>0</td>\n",
              "      <td>0</td>\n",
              "      <td>0</td>\n",
              "      <td>0</td>\n",
              "      <td>0</td>\n",
              "      <td>0</td>\n",
              "      <td>0</td>\n",
              "      <td>0</td>\n",
              "      <td>0</td>\n",
              "      <td>0</td>\n",
              "      <td>0</td>\n",
              "      <td>0</td>\n",
              "      <td>0</td>\n",
              "      <td>0</td>\n",
              "      <td>0</td>\n",
              "      <td>0</td>\n",
              "      <td>0</td>\n",
              "      <td>0</td>\n",
              "      <td>0</td>\n",
              "      <td>0</td>\n",
              "      <td>0</td>\n",
              "      <td>0</td>\n",
              "      <td>0</td>\n",
              "      <td>0</td>\n",
              "      <td>0</td>\n",
              "      <td>0</td>\n",
              "      <td>0</td>\n",
              "      <td>0</td>\n",
              "      <td>0</td>\n",
              "      <td>0</td>\n",
              "      <td>0</td>\n",
              "      <td>0</td>\n",
              "      <td>0</td>\n",
              "      <td>0</td>\n",
              "      <td>0</td>\n",
              "      <td>0</td>\n",
              "      <td>0</td>\n",
              "      <td>0</td>\n",
              "      <td>0</td>\n",
              "    </tr>\n",
              "  </tbody>\n",
              "</table>\n",
              "<p>5 rows × 98 columns</p>\n",
              "</div>"
            ],
            "text/plain": [
              "   CensusId  TotalPop    Men  ...  West Virginia  Wisconsin  Wyoming\n",
              "0      1001     55221  26745  ...              0          0        0\n",
              "1      1003    195121  95314  ...              0          0        0\n",
              "2      1005     26932  14497  ...              0          0        0\n",
              "3      1007     22604  12073  ...              0          0        0\n",
              "4      1009     57710  28512  ...              0          0        0\n",
              "\n",
              "[5 rows x 98 columns]"
            ]
          },
          "metadata": {
            "tags": []
          },
          "execution_count": 61
        }
      ]
    },
    {
      "cell_type": "code",
      "metadata": {
        "id": "ng5rlZReDr6u"
      },
      "source": [
        "#Nuestros Datasets para preeparar y/o probar nuestro algoritmo\r\n",
        "X = df.drop(columns=['TotalPop','CensusId'])\r\n",
        "y = df.TotalPop\r\n"
      ],
      "execution_count": null,
      "outputs": []
    },
    {
      "cell_type": "code",
      "metadata": {
        "colab": {
          "base_uri": "https://localhost:8080/",
          "height": 146
        },
        "id": "F42viPKWEBer",
        "outputId": "03f958ce-5e0e-43bd-ad51-74dc66373f6c"
      },
      "source": [
        "X.head(1)"
      ],
      "execution_count": null,
      "outputs": [
        {
          "output_type": "execute_result",
          "data": {
            "text/html": [
              "<div>\n",
              "<style scoped>\n",
              "    .dataframe tbody tr th:only-of-type {\n",
              "        vertical-align: middle;\n",
              "    }\n",
              "\n",
              "    .dataframe tbody tr th {\n",
              "        vertical-align: top;\n",
              "    }\n",
              "\n",
              "    .dataframe thead th {\n",
              "        text-align: right;\n",
              "    }\n",
              "</style>\n",
              "<table border=\"1\" class=\"dataframe\">\n",
              "  <thead>\n",
              "    <tr style=\"text-align: right;\">\n",
              "      <th></th>\n",
              "      <th>Men</th>\n",
              "      <th>Women</th>\n",
              "      <th>Hispanic</th>\n",
              "      <th>White</th>\n",
              "      <th>Black</th>\n",
              "      <th>Native</th>\n",
              "      <th>Asian</th>\n",
              "      <th>Pacific</th>\n",
              "      <th>Citizen</th>\n",
              "      <th>Income</th>\n",
              "      <th>IncomeErr</th>\n",
              "      <th>IncomePerCap</th>\n",
              "      <th>IncomePerCapErr</th>\n",
              "      <th>Poverty</th>\n",
              "      <th>ChildPoverty</th>\n",
              "      <th>Professional</th>\n",
              "      <th>Service</th>\n",
              "      <th>Office</th>\n",
              "      <th>Construction</th>\n",
              "      <th>Production</th>\n",
              "      <th>Drive</th>\n",
              "      <th>Carpool</th>\n",
              "      <th>Transit</th>\n",
              "      <th>Walk</th>\n",
              "      <th>OtherTransp</th>\n",
              "      <th>WorkAtHome</th>\n",
              "      <th>MeanCommute</th>\n",
              "      <th>Employed</th>\n",
              "      <th>PrivateWork</th>\n",
              "      <th>PublicWork</th>\n",
              "      <th>SelfEmployed</th>\n",
              "      <th>FamilyWork</th>\n",
              "      <th>Unemployment</th>\n",
              "      <th>HispanicRate</th>\n",
              "      <th>WhiteRate</th>\n",
              "      <th>BlackRate</th>\n",
              "      <th>NativeRate</th>\n",
              "      <th>AsianRate</th>\n",
              "      <th>PacificRate</th>\n",
              "      <th>PovertyRate</th>\n",
              "      <th>...</th>\n",
              "      <th>Idaho</th>\n",
              "      <th>Illinois</th>\n",
              "      <th>Indiana</th>\n",
              "      <th>Iowa</th>\n",
              "      <th>Kansas</th>\n",
              "      <th>Kentucky</th>\n",
              "      <th>Louisiana</th>\n",
              "      <th>Maine</th>\n",
              "      <th>Maryland</th>\n",
              "      <th>Massachusetts</th>\n",
              "      <th>Michigan</th>\n",
              "      <th>Minnesota</th>\n",
              "      <th>Mississippi</th>\n",
              "      <th>Missouri</th>\n",
              "      <th>Montana</th>\n",
              "      <th>Nebraska</th>\n",
              "      <th>Nevada</th>\n",
              "      <th>New Hampshire</th>\n",
              "      <th>New Jersey</th>\n",
              "      <th>New Mexico</th>\n",
              "      <th>New York</th>\n",
              "      <th>North Carolina</th>\n",
              "      <th>North Dakota</th>\n",
              "      <th>Ohio</th>\n",
              "      <th>Oklahoma</th>\n",
              "      <th>Oregon</th>\n",
              "      <th>Pennsylvania</th>\n",
              "      <th>Puerto Rico</th>\n",
              "      <th>Rhode Island</th>\n",
              "      <th>South Carolina</th>\n",
              "      <th>South Dakota</th>\n",
              "      <th>Tennessee</th>\n",
              "      <th>Texas</th>\n",
              "      <th>Utah</th>\n",
              "      <th>Vermont</th>\n",
              "      <th>Virginia</th>\n",
              "      <th>Washington</th>\n",
              "      <th>West Virginia</th>\n",
              "      <th>Wisconsin</th>\n",
              "      <th>Wyoming</th>\n",
              "    </tr>\n",
              "  </thead>\n",
              "  <tbody>\n",
              "    <tr>\n",
              "      <th>0</th>\n",
              "      <td>26745</td>\n",
              "      <td>28476</td>\n",
              "      <td>2.6</td>\n",
              "      <td>75.8</td>\n",
              "      <td>18.5</td>\n",
              "      <td>0.4</td>\n",
              "      <td>1.0</td>\n",
              "      <td>0.0</td>\n",
              "      <td>40725</td>\n",
              "      <td>51281.0</td>\n",
              "      <td>2391.0</td>\n",
              "      <td>24974</td>\n",
              "      <td>1080</td>\n",
              "      <td>12.9</td>\n",
              "      <td>18.6</td>\n",
              "      <td>33.2</td>\n",
              "      <td>17.0</td>\n",
              "      <td>24.2</td>\n",
              "      <td>8.6</td>\n",
              "      <td>17.1</td>\n",
              "      <td>87.5</td>\n",
              "      <td>8.8</td>\n",
              "      <td>0.1</td>\n",
              "      <td>0.5</td>\n",
              "      <td>1.3</td>\n",
              "      <td>1.8</td>\n",
              "      <td>26.5</td>\n",
              "      <td>23986</td>\n",
              "      <td>73.6</td>\n",
              "      <td>20.9</td>\n",
              "      <td>5.5</td>\n",
              "      <td>0.0</td>\n",
              "      <td>7.6</td>\n",
              "      <td>0.026</td>\n",
              "      <td>0.758</td>\n",
              "      <td>0.185</td>\n",
              "      <td>0.004</td>\n",
              "      <td>0.01</td>\n",
              "      <td>0.0</td>\n",
              "      <td>0.129</td>\n",
              "      <td>...</td>\n",
              "      <td>0</td>\n",
              "      <td>0</td>\n",
              "      <td>0</td>\n",
              "      <td>0</td>\n",
              "      <td>0</td>\n",
              "      <td>0</td>\n",
              "      <td>0</td>\n",
              "      <td>0</td>\n",
              "      <td>0</td>\n",
              "      <td>0</td>\n",
              "      <td>0</td>\n",
              "      <td>0</td>\n",
              "      <td>0</td>\n",
              "      <td>0</td>\n",
              "      <td>0</td>\n",
              "      <td>0</td>\n",
              "      <td>0</td>\n",
              "      <td>0</td>\n",
              "      <td>0</td>\n",
              "      <td>0</td>\n",
              "      <td>0</td>\n",
              "      <td>0</td>\n",
              "      <td>0</td>\n",
              "      <td>0</td>\n",
              "      <td>0</td>\n",
              "      <td>0</td>\n",
              "      <td>0</td>\n",
              "      <td>0</td>\n",
              "      <td>0</td>\n",
              "      <td>0</td>\n",
              "      <td>0</td>\n",
              "      <td>0</td>\n",
              "      <td>0</td>\n",
              "      <td>0</td>\n",
              "      <td>0</td>\n",
              "      <td>0</td>\n",
              "      <td>0</td>\n",
              "      <td>0</td>\n",
              "      <td>0</td>\n",
              "      <td>0</td>\n",
              "    </tr>\n",
              "  </tbody>\n",
              "</table>\n",
              "<p>1 rows × 96 columns</p>\n",
              "</div>"
            ],
            "text/plain": [
              "     Men  Women  Hispanic  White  ...  Washington  West Virginia  Wisconsin  Wyoming\n",
              "0  26745  28476       2.6   75.8  ...           0              0          0        0\n",
              "\n",
              "[1 rows x 96 columns]"
            ]
          },
          "metadata": {
            "tags": []
          },
          "execution_count": 63
        }
      ]
    },
    {
      "cell_type": "code",
      "metadata": {
        "colab": {
          "base_uri": "https://localhost:8080/"
        },
        "id": "fc9aHSDLEEd-",
        "outputId": "db1d50bd-817d-4c09-a7af-aa7528f285be"
      },
      "source": [
        "y"
      ],
      "execution_count": null,
      "outputs": [
        {
          "output_type": "execute_result",
          "data": {
            "text/plain": [
              "0        55221\n",
              "1       195121\n",
              "2        26932\n",
              "3        22604\n",
              "4        57710\n",
              "         ...  \n",
              "3215     56858\n",
              "3216      9130\n",
              "3217     24685\n",
              "3218     36279\n",
              "3219     39474\n",
              "Name: TotalPop, Length: 3020, dtype: int64"
            ]
          },
          "metadata": {
            "tags": []
          },
          "execution_count": 64
        }
      ]
    },
    {
      "cell_type": "code",
      "metadata": {
        "colab": {
          "base_uri": "https://localhost:8080/"
        },
        "id": "7bQ-wDNkEH_1",
        "outputId": "64f20b0c-60ae-4904-e5b0-d471594b9817"
      },
      "source": [
        "#Usando funcion para separar por entrenamiento y prueba\r\n",
        "X_train, X_test, y_train, y_test = train_test_split(X, y, test_size=.2)\r\n",
        "print(X_train.shape,y_train.shape)\r\n",
        "print(X_test.shape,y_test.shape)"
      ],
      "execution_count": null,
      "outputs": [
        {
          "output_type": "stream",
          "text": [
            "(2416, 96) (2416,)\n",
            "(604, 96) (604,)\n"
          ],
          "name": "stdout"
        }
      ]
    },
    {
      "cell_type": "code",
      "metadata": {
        "id": "DNwJDlWBEqaj"
      },
      "source": [
        "from sklearn.linear_model import LinearRegression\r\n",
        "from sklearn.metrics import r2_score"
      ],
      "execution_count": null,
      "outputs": []
    },
    {
      "cell_type": "code",
      "metadata": {
        "id": "2MZ82acpExtO"
      },
      "source": [
        "linreg = LinearRegression()\r\n",
        "linreg.fit(X_train,y_train)\r\n",
        "y_pred=linreg.predict(X_test)"
      ],
      "execution_count": null,
      "outputs": []
    },
    {
      "cell_type": "code",
      "metadata": {
        "colab": {
          "base_uri": "https://localhost:8080/",
          "height": 415
        },
        "id": "qagaS1k8FW3X",
        "outputId": "ac1d30a8-bedf-46f6-ab63-d0f980e798e5"
      },
      "source": [
        "df_predicted = pd.DataFrame({'ACtual':y_test,'Predicted':y_pred})\r\n",
        "df_predicted"
      ],
      "execution_count": null,
      "outputs": [
        {
          "output_type": "execute_result",
          "data": {
            "text/html": [
              "<div>\n",
              "<style scoped>\n",
              "    .dataframe tbody tr th:only-of-type {\n",
              "        vertical-align: middle;\n",
              "    }\n",
              "\n",
              "    .dataframe tbody tr th {\n",
              "        vertical-align: top;\n",
              "    }\n",
              "\n",
              "    .dataframe thead th {\n",
              "        text-align: right;\n",
              "    }\n",
              "</style>\n",
              "<table border=\"1\" class=\"dataframe\">\n",
              "  <thead>\n",
              "    <tr style=\"text-align: right;\">\n",
              "      <th></th>\n",
              "      <th>ACtual</th>\n",
              "      <th>Predicted</th>\n",
              "    </tr>\n",
              "  </thead>\n",
              "  <tbody>\n",
              "    <tr>\n",
              "      <th>3155</th>\n",
              "      <td>33949</td>\n",
              "      <td>33949.0</td>\n",
              "    </tr>\n",
              "    <tr>\n",
              "      <th>612</th>\n",
              "      <td>10943</td>\n",
              "      <td>10943.0</td>\n",
              "    </tr>\n",
              "    <tr>\n",
              "      <th>1757</th>\n",
              "      <td>4566</td>\n",
              "      <td>4566.0</td>\n",
              "    </tr>\n",
              "    <tr>\n",
              "      <th>539</th>\n",
              "      <td>7956</td>\n",
              "      <td>7956.0</td>\n",
              "    </tr>\n",
              "    <tr>\n",
              "      <th>2466</th>\n",
              "      <td>28013</td>\n",
              "      <td>28013.0</td>\n",
              "    </tr>\n",
              "    <tr>\n",
              "      <th>...</th>\n",
              "      <td>...</td>\n",
              "      <td>...</td>\n",
              "    </tr>\n",
              "    <tr>\n",
              "      <th>1522</th>\n",
              "      <td>10256</td>\n",
              "      <td>10256.0</td>\n",
              "    </tr>\n",
              "    <tr>\n",
              "      <th>1334</th>\n",
              "      <td>36620</td>\n",
              "      <td>36620.0</td>\n",
              "    </tr>\n",
              "    <tr>\n",
              "      <th>1442</th>\n",
              "      <td>31516</td>\n",
              "      <td>31516.0</td>\n",
              "    </tr>\n",
              "    <tr>\n",
              "      <th>305</th>\n",
              "      <td>4795</td>\n",
              "      <td>4795.0</td>\n",
              "    </tr>\n",
              "    <tr>\n",
              "      <th>2991</th>\n",
              "      <td>247408</td>\n",
              "      <td>247408.0</td>\n",
              "    </tr>\n",
              "  </tbody>\n",
              "</table>\n",
              "<p>604 rows × 2 columns</p>\n",
              "</div>"
            ],
            "text/plain": [
              "      ACtual  Predicted\n",
              "3155   33949    33949.0\n",
              "612    10943    10943.0\n",
              "1757    4566     4566.0\n",
              "539     7956     7956.0\n",
              "2466   28013    28013.0\n",
              "...      ...        ...\n",
              "1522   10256    10256.0\n",
              "1334   36620    36620.0\n",
              "1442   31516    31516.0\n",
              "305     4795     4795.0\n",
              "2991  247408   247408.0\n",
              "\n",
              "[604 rows x 2 columns]"
            ]
          },
          "metadata": {
            "tags": []
          },
          "execution_count": 68
        }
      ]
    },
    {
      "cell_type": "code",
      "metadata": {
        "colab": {
          "base_uri": "https://localhost:8080/"
        },
        "id": "WHxHL8dHFp4f",
        "outputId": "ba77c62d-558c-4361-c54a-1a0848805510"
      },
      "source": [
        "r2_score(y_test,y_pred)"
      ],
      "execution_count": null,
      "outputs": [
        {
          "output_type": "execute_result",
          "data": {
            "text/plain": [
              "1.0"
            ]
          },
          "metadata": {
            "tags": []
          },
          "execution_count": 69
        }
      ]
    }
  ]
}