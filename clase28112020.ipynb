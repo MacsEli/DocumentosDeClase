{
  "nbformat": 4,
  "nbformat_minor": 0,
  "metadata": {
    "colab": {
      "name": "clase28112020.ipynb",
      "provenance": [],
      "include_colab_link": true
    },
    "kernelspec": {
      "name": "python3",
      "display_name": "Python 3"
    }
  },
  "cells": [
    {
      "cell_type": "markdown",
      "metadata": {
        "id": "view-in-github",
        "colab_type": "text"
      },
      "source": [
        "<a href=\"https://colab.research.google.com/github/MacsEli/DocumentosDeClase/blob/main/clase28112020.ipynb\" target=\"_parent\"><img src=\"https://colab.research.google.com/assets/colab-badge.svg\" alt=\"Open In Colab\"/></a>"
      ]
    },
    {
      "cell_type": "code",
      "metadata": {
        "colab": {
          "base_uri": "https://localhost:8080/"
        },
        "id": "zeVVXvTcjIVi",
        "outputId": "5aacee01-60fc-4821-9952-0ee9ec647b57"
      },
      "source": [
        "from google.colab import drive\n",
        "drive.mount('/content/drive')"
      ],
      "execution_count": null,
      "outputs": [
        {
          "output_type": "stream",
          "text": [
            "Mounted at /content/drive\n"
          ],
          "name": "stdout"
        }
      ]
    },
    {
      "cell_type": "code",
      "metadata": {
        "id": "920N1zn2lyLK"
      },
      "source": [
        "import pandas as pd\n",
        "import numpy as np"
      ],
      "execution_count": null,
      "outputs": []
    },
    {
      "cell_type": "code",
      "metadata": {
        "id": "-dWmrskVl1ZD"
      },
      "source": [
        "df_01 = pd.read_csv('/content/drive/MyDrive/Databases/Week 9 - Saturday/denue/denue_inegi_01_.csv')"
      ],
      "execution_count": null,
      "outputs": []
    },
    {
      "cell_type": "code",
      "metadata": {
        "colab": {
          "base_uri": "https://localhost:8080/"
        },
        "id": "7H8XKg_xmE2M",
        "outputId": "3d3ac5a6-2157-4042-826e-59a7336d4d68"
      },
      "source": [
        "import chardet #detectar el charcater encoding\n",
        "with open ('/content/drive/MyDrive/Databases/Week 9 - Saturday/denue/denue_inegi_01_.csv','rb') as rawdata:\n",
        "  result = chardet.detect(rawdata.read(10000))\n",
        "  \n",
        "print(result)\n"
      ],
      "execution_count": null,
      "outputs": [
        {
          "output_type": "stream",
          "text": [
            "{'encoding': 'ISO-8859-1', 'confidence': 0.73, 'language': ''}\n"
          ],
          "name": "stdout"
        }
      ]
    },
    {
      "cell_type": "code",
      "metadata": {
        "id": "yhwxygjAmNRi"
      },
      "source": [
        "df_01 = pd.read_csv('/content/drive/MyDrive/Databases/Week 9 - Saturday/denue/denue_inegi_01_.csv', \n",
        "                    encoding = 'ISO-8859-1')"
      ],
      "execution_count": null,
      "outputs": []
    },
    {
      "cell_type": "code",
      "metadata": {
        "colab": {
          "base_uri": "https://localhost:8080/"
        },
        "id": "-L-FU9cZm3mv",
        "outputId": "e7e1839c-da6c-4dc0-f92a-2b0329193051"
      },
      "source": [
        "df_02 = pd.read_csv('/content/drive/MyDrive/Databases/Week 9 - Saturday/denue/denue_inegi_02_.csv', \n",
        "                    encoding = 'ISO-8859-1')\n",
        "df_03 = pd.read_csv('/content/drive/MyDrive/Databases/Week 9 - Saturday/denue/denue_inegi_03_.csv', \n",
        "                    encoding = 'ISO-8859-1')\n",
        "df_04 = pd.read_csv('/content/drive/MyDrive/Databases/Week 9 - Saturday/denue/denue_inegi_04_.csv', \n",
        "                    encoding = 'ISO-8859-1')\n",
        "df_05 = pd.read_csv('/content/drive/MyDrive/Databases/Week 9 - Saturday/denue/denue_inegi_05_.csv', \n",
        "                    encoding = 'ISO-8859-1')"
      ],
      "execution_count": null,
      "outputs": [
        {
          "output_type": "stream",
          "text": [
            "/usr/local/lib/python3.6/dist-packages/IPython/core/interactiveshell.py:2718: DtypeWarning: Columns (34) have mixed types.Specify dtype option on import or set low_memory=False.\n",
            "  interactivity=interactivity, compiler=compiler, result=result)\n"
          ],
          "name": "stderr"
        }
      ]
    },
    {
      "cell_type": "code",
      "metadata": {
        "colab": {
          "base_uri": "https://localhost:8080/",
          "height": 185
        },
        "id": "Xj_2Wiggm3zL",
        "outputId": "43991261-d249-4028-c8f1-7f8f4e24baca"
      },
      "source": [
        "df_01.head(1)"
      ],
      "execution_count": null,
      "outputs": [
        {
          "output_type": "execute_result",
          "data": {
            "text/html": [
              "<div>\n",
              "<style scoped>\n",
              "    .dataframe tbody tr th:only-of-type {\n",
              "        vertical-align: middle;\n",
              "    }\n",
              "\n",
              "    .dataframe tbody tr th {\n",
              "        vertical-align: top;\n",
              "    }\n",
              "\n",
              "    .dataframe thead th {\n",
              "        text-align: right;\n",
              "    }\n",
              "</style>\n",
              "<table border=\"1\" class=\"dataframe\">\n",
              "  <thead>\n",
              "    <tr style=\"text-align: right;\">\n",
              "      <th></th>\n",
              "      <th>per_ocupacion</th>\n",
              "      <th>nom_estab</th>\n",
              "      <th>raz_social</th>\n",
              "      <th>codigo_act</th>\n",
              "      <th>nombre_act</th>\n",
              "      <th>tipo_vial</th>\n",
              "      <th>numero_ext</th>\n",
              "      <th>nom_vial</th>\n",
              "      <th>tipo_v_e_1</th>\n",
              "      <th>nom_v_e_1</th>\n",
              "      <th>tipo_v_e_2</th>\n",
              "      <th>nom_v_e_2</th>\n",
              "      <th>tipo_v_e_3</th>\n",
              "      <th>id</th>\n",
              "      <th>nom_v_e_3</th>\n",
              "      <th>letra_ext</th>\n",
              "      <th>edificio</th>\n",
              "      <th>edificio_e</th>\n",
              "      <th>numero_int</th>\n",
              "      <th>letra_int</th>\n",
              "      <th>tipo_asent</th>\n",
              "      <th>nomb_asent</th>\n",
              "      <th>tipoCenCom</th>\n",
              "      <th>nom_CenCom</th>\n",
              "      <th>num_local</th>\n",
              "      <th>cod_postal</th>\n",
              "      <th>cve_ent</th>\n",
              "      <th>entidad</th>\n",
              "      <th>cve_mun</th>\n",
              "      <th>municipio</th>\n",
              "      <th>cve_loc</th>\n",
              "      <th>localidad</th>\n",
              "      <th>ageb</th>\n",
              "      <th>manzana</th>\n",
              "      <th>telefono</th>\n",
              "      <th>correoelec</th>\n",
              "      <th>www</th>\n",
              "      <th>tipoUniEco</th>\n",
              "      <th>latitud</th>\n",
              "      <th>longitud</th>\n",
              "      <th>fecha_alta</th>\n",
              "    </tr>\n",
              "  </thead>\n",
              "  <tbody>\n",
              "    <tr>\n",
              "      <th>0</th>\n",
              "      <td>31 a 50 personas</td>\n",
              "      <td>AGROPECUARIA CHARCOS DE QUEZADA</td>\n",
              "      <td>AGROPECUARIA CHARCOS DE QUEZADA SOCIEDAD DE PR...</td>\n",
              "      <td>115119</td>\n",
              "      <td>Otros servicios relacionados con la agricultura</td>\n",
              "      <td>AVENIDA</td>\n",
              "      <td>602.0</td>\n",
              "      <td>UNIVERSIDAD</td>\n",
              "      <td>CALLE</td>\n",
              "      <td>BENJAMÍN MÉNDEZ</td>\n",
              "      <td>CALLE</td>\n",
              "      <td>SILVESTRE GÓMEZ</td>\n",
              "      <td>CALLE</td>\n",
              "      <td>6862345</td>\n",
              "      <td>MARÍA DEL CARMEN MARTÍN DEL CAMPO</td>\n",
              "      <td>NaN</td>\n",
              "      <td>NaN</td>\n",
              "      <td>NaN</td>\n",
              "      <td>16.0</td>\n",
              "      <td>NaN</td>\n",
              "      <td>COLONIA</td>\n",
              "      <td>UNIDAD GANADERA</td>\n",
              "      <td>NaN</td>\n",
              "      <td>NaN</td>\n",
              "      <td>NaN</td>\n",
              "      <td>20130.0</td>\n",
              "      <td>1</td>\n",
              "      <td>AGUASCALIENTES</td>\n",
              "      <td>1</td>\n",
              "      <td>Aguascalientes</td>\n",
              "      <td>1</td>\n",
              "      <td>Aguascalientes</td>\n",
              "      <td>233</td>\n",
              "      <td>9</td>\n",
              "      <td>4.492854e+09</td>\n",
              "      <td>MICHAEL.GALINDO@UGASA.COM.MX</td>\n",
              "      <td>NaN</td>\n",
              "      <td>Fijo</td>\n",
              "      <td>21.906992</td>\n",
              "      <td>-102.309807</td>\n",
              "      <td>2019-04</td>\n",
              "    </tr>\n",
              "  </tbody>\n",
              "</table>\n",
              "</div>"
            ],
            "text/plain": [
              "      per_ocupacion                        nom_estab  ...    longitud  fecha_alta\n",
              "0  31 a 50 personas  AGROPECUARIA CHARCOS DE QUEZADA  ... -102.309807     2019-04\n",
              "\n",
              "[1 rows x 41 columns]"
            ]
          },
          "metadata": {
            "tags": []
          },
          "execution_count": 8
        }
      ]
    },
    {
      "cell_type": "code",
      "metadata": {
        "colab": {
          "base_uri": "https://localhost:8080/",
          "height": 249
        },
        "id": "bD7todD2nBa3",
        "outputId": "4d607ad6-0679-4e43-dc73-b7a175c952b5"
      },
      "source": [
        "df_02.head(2)"
      ],
      "execution_count": null,
      "outputs": [
        {
          "output_type": "execute_result",
          "data": {
            "text/html": [
              "<div>\n",
              "<style scoped>\n",
              "    .dataframe tbody tr th:only-of-type {\n",
              "        vertical-align: middle;\n",
              "    }\n",
              "\n",
              "    .dataframe tbody tr th {\n",
              "        vertical-align: top;\n",
              "    }\n",
              "\n",
              "    .dataframe thead th {\n",
              "        text-align: right;\n",
              "    }\n",
              "</style>\n",
              "<table border=\"1\" class=\"dataframe\">\n",
              "  <thead>\n",
              "    <tr style=\"text-align: right;\">\n",
              "      <th></th>\n",
              "      <th>id</th>\n",
              "      <th>nom_estab</th>\n",
              "      <th>raz_social</th>\n",
              "      <th>codigo_act</th>\n",
              "      <th>nombre_act</th>\n",
              "      <th>per_ocu</th>\n",
              "      <th>tipo_vial</th>\n",
              "      <th>nom_vial</th>\n",
              "      <th>tipo_v_e_1</th>\n",
              "      <th>nom_v_e_1</th>\n",
              "      <th>tipo_v_e_2</th>\n",
              "      <th>nom_v_e_2</th>\n",
              "      <th>tipo_v_e_3</th>\n",
              "      <th>nom_v_e_3</th>\n",
              "      <th>numero_ext</th>\n",
              "      <th>letra_ext</th>\n",
              "      <th>edificio</th>\n",
              "      <th>edificio_e</th>\n",
              "      <th>numero_int</th>\n",
              "      <th>letra_int</th>\n",
              "      <th>tipo_asent</th>\n",
              "      <th>nomb_asent</th>\n",
              "      <th>tipoCenCom</th>\n",
              "      <th>nom_CenCom</th>\n",
              "      <th>num_local</th>\n",
              "      <th>cod_postal</th>\n",
              "      <th>cve_ent</th>\n",
              "      <th>entidad</th>\n",
              "      <th>cve_mun</th>\n",
              "      <th>municipio</th>\n",
              "      <th>cve_loc</th>\n",
              "      <th>localidad</th>\n",
              "      <th>ageb</th>\n",
              "      <th>manzana</th>\n",
              "      <th>telefono</th>\n",
              "      <th>correoelec</th>\n",
              "      <th>www</th>\n",
              "      <th>tipoUniEco</th>\n",
              "      <th>latitud</th>\n",
              "      <th>longitud</th>\n",
              "      <th>fecha_alta</th>\n",
              "    </tr>\n",
              "  </thead>\n",
              "  <tbody>\n",
              "    <tr>\n",
              "      <th>0</th>\n",
              "      <td>8320509</td>\n",
              "      <td>ABOS ABS PROMOTORA DE MEXICO SADE CV</td>\n",
              "      <td>NaN</td>\n",
              "      <td>115111</td>\n",
              "      <td>Servicios de fumigación agrícola</td>\n",
              "      <td>0 a 5 personas</td>\n",
              "      <td>CALLE</td>\n",
              "      <td>NINGUNO</td>\n",
              "      <td>CALLE</td>\n",
              "      <td>NINGUNO</td>\n",
              "      <td>CALLE</td>\n",
              "      <td>NINGUNO</td>\n",
              "      <td>OTRO (ESPECIFIQUE)</td>\n",
              "      <td>SIN REFERENCIA</td>\n",
              "      <td>NaN</td>\n",
              "      <td>SN</td>\n",
              "      <td>NaN</td>\n",
              "      <td>NaN</td>\n",
              "      <td>NaN</td>\n",
              "      <td>NaN</td>\n",
              "      <td>EJIDO</td>\n",
              "      <td>HERMOSILLO</td>\n",
              "      <td>NaN</td>\n",
              "      <td>NaN</td>\n",
              "      <td>NaN</td>\n",
              "      <td>21840.0</td>\n",
              "      <td>2</td>\n",
              "      <td>BAJA CALIFORNIA</td>\n",
              "      <td>2</td>\n",
              "      <td>Mexicali</td>\n",
              "      <td>192</td>\n",
              "      <td>Ejido Hermosillo</td>\n",
              "      <td>8423</td>\n",
              "      <td>3.0</td>\n",
              "      <td>667603750.0</td>\n",
              "      <td>NaN</td>\n",
              "      <td>NaN</td>\n",
              "      <td>Fijo</td>\n",
              "      <td>32.523387</td>\n",
              "      <td>-114.917778</td>\n",
              "      <td>2019-11</td>\n",
              "    </tr>\n",
              "    <tr>\n",
              "      <th>1</th>\n",
              "      <td>8838283</td>\n",
              "      <td>ABULONES CULTIVADOS</td>\n",
              "      <td>ABULONES CULTIVADOS S DE RL DE CV</td>\n",
              "      <td>112512</td>\n",
              "      <td>Piscicultura y otra acuicultura, excepto camar...</td>\n",
              "      <td>6 a 10 personas</td>\n",
              "      <td>CALLE</td>\n",
              "      <td>TENIENTE AZUETA</td>\n",
              "      <td>OTRO (ESPECIFIQUE)</td>\n",
              "      <td>NINGUNO</td>\n",
              "      <td>OTRO (ESPECIFIQUE)</td>\n",
              "      <td>NINGUNO</td>\n",
              "      <td>OTRO (ESPECIFIQUE)</td>\n",
              "      <td>NINGUNO</td>\n",
              "      <td>187.0</td>\n",
              "      <td>B</td>\n",
              "      <td>NaN</td>\n",
              "      <td>NaN</td>\n",
              "      <td>NaN</td>\n",
              "      <td>NaN</td>\n",
              "      <td>COLONIA</td>\n",
              "      <td>ZONA CENTRO</td>\n",
              "      <td>NaN</td>\n",
              "      <td>NaN</td>\n",
              "      <td>NaN</td>\n",
              "      <td>22800.0</td>\n",
              "      <td>2</td>\n",
              "      <td>BAJA CALIFORNIA</td>\n",
              "      <td>1</td>\n",
              "      <td>Ensenada</td>\n",
              "      <td>1</td>\n",
              "      <td>Ensenada</td>\n",
              "      <td>0632</td>\n",
              "      <td>16.0</td>\n",
              "      <td>NaN</td>\n",
              "      <td>MANAGER@ABULONES.COM</td>\n",
              "      <td>WWW.ABULONES.COM</td>\n",
              "      <td>Fijo</td>\n",
              "      <td>31.860877</td>\n",
              "      <td>-116.627010</td>\n",
              "      <td>2019-11</td>\n",
              "    </tr>\n",
              "  </tbody>\n",
              "</table>\n",
              "</div>"
            ],
            "text/plain": [
              "        id                             nom_estab  ...    longitud  fecha_alta\n",
              "0  8320509  ABOS ABS PROMOTORA DE MEXICO SADE CV  ... -114.917778     2019-11\n",
              "1  8838283                   ABULONES CULTIVADOS  ... -116.627010     2019-11\n",
              "\n",
              "[2 rows x 41 columns]"
            ]
          },
          "metadata": {
            "tags": []
          },
          "execution_count": 9
        }
      ]
    },
    {
      "cell_type": "code",
      "metadata": {
        "id": "DefvNJnSpUs1"
      },
      "source": [
        "df_01 = df_01.reindex(sorted(df_01.columns),axis=1)"
      ],
      "execution_count": null,
      "outputs": []
    },
    {
      "cell_type": "code",
      "metadata": {
        "id": "npZiZFe2pyHp"
      },
      "source": [
        "df_02 = df_02.reindex(sorted(df_02.columns),axis=1)\n",
        "df_03 = df_03.reindex(sorted(df_03.columns),axis=1)\n",
        "df_04 = df_04.reindex(sorted(df_04.columns),axis=1)\n",
        "df_05 = df_05.reindex(sorted(df_05.columns),axis=1)\n"
      ],
      "execution_count": null,
      "outputs": []
    },
    {
      "cell_type": "code",
      "metadata": {
        "id": "-WR2CJR8qKEF"
      },
      "source": [
        "df_01_columns = df_01.columns\n",
        "df_02_columns = df_02.columns\n",
        "df_03_columns = df_03.columns\n",
        "df_04_columns = df_04.columns\n",
        "df_05_columns = df_05.columns"
      ],
      "execution_count": null,
      "outputs": []
    },
    {
      "cell_type": "code",
      "metadata": {
        "id": "BGGbxIiOqU65"
      },
      "source": [
        "#Revisar las columnas en común\n",
        "common_cols_01 = df_01_columns.intersection(df_02_columns)"
      ],
      "execution_count": null,
      "outputs": []
    },
    {
      "cell_type": "code",
      "metadata": {
        "colab": {
          "base_uri": "https://localhost:8080/"
        },
        "id": "g-XOnn-vqhyN",
        "outputId": "6814b51c-5a64-4e57-c0b8-bab782268761"
      },
      "source": [
        "common_cols_01"
      ],
      "execution_count": null,
      "outputs": [
        {
          "output_type": "execute_result",
          "data": {
            "text/plain": [
              "Index(['ageb', 'cod_postal', 'codigo_act', 'correoelec', 'cve_ent', 'cve_loc',\n",
              "       'cve_mun', 'edificio', 'edificio_e', 'entidad', 'fecha_alta', 'id',\n",
              "       'latitud', 'letra_ext', 'letra_int', 'localidad', 'longitud', 'manzana',\n",
              "       'municipio', 'nom_CenCom', 'nom_estab', 'nom_v_e_1', 'nom_v_e_2',\n",
              "       'nom_v_e_3', 'nom_vial', 'nomb_asent', 'nombre_act', 'num_local',\n",
              "       'numero_ext', 'numero_int', 'raz_social', 'telefono', 'tipoCenCom',\n",
              "       'tipoUniEco', 'tipo_asent', 'tipo_v_e_1', 'tipo_v_e_2', 'tipo_v_e_3',\n",
              "       'tipo_vial', 'www'],\n",
              "      dtype='object')"
            ]
          },
          "metadata": {
            "tags": []
          },
          "execution_count": 16
        }
      ]
    },
    {
      "cell_type": "code",
      "metadata": {
        "colab": {
          "base_uri": "https://localhost:8080/"
        },
        "id": "bswtna_xqkmr",
        "outputId": "e700206b-6620-4e60-880f-ffa59abc49a8"
      },
      "source": [
        "not_common_cols_01= df_01_columns.difference(df_02_columns)\n",
        "not_common_cols_01"
      ],
      "execution_count": null,
      "outputs": [
        {
          "output_type": "execute_result",
          "data": {
            "text/plain": [
              "Index(['per_ocupacion'], dtype='object')"
            ]
          },
          "metadata": {
            "tags": []
          },
          "execution_count": 22
        }
      ]
    },
    {
      "cell_type": "code",
      "metadata": {
        "colab": {
          "base_uri": "https://localhost:8080/"
        },
        "id": "JsKT8l_oq5u_",
        "outputId": "c34be052-48cc-47b0-b38b-28c176301617"
      },
      "source": [
        "not_common_cols_01= df_01_columns.difference(df_02_columns)\n",
        "not_common_cols_03= df_01_columns.difference(df_03_columns)\n",
        "not_common_cols_04= df_01_columns.difference(df_04_columns)\n",
        "not_common_cols_05= df_01_columns.difference(df_05_columns)\n",
        "print(not_common_cols_01)\n",
        "print(not_common_cols_03)\n",
        "print(not_common_cols_04)\n",
        "print(not_common_cols_05)\n"
      ],
      "execution_count": null,
      "outputs": [
        {
          "output_type": "stream",
          "text": [
            "Index([], dtype='object')\n",
            "Index([], dtype='object')\n",
            "Index([], dtype='object')\n",
            "Index([], dtype='object')\n"
          ],
          "name": "stdout"
        }
      ]
    },
    {
      "cell_type": "code",
      "metadata": {
        "id": "wpNwR-fAraJE"
      },
      "source": [
        "df_01 = df_01.rename(columns={'per_ocupacion':'per_ocu'})"
      ],
      "execution_count": null,
      "outputs": []
    },
    {
      "cell_type": "code",
      "metadata": {
        "colab": {
          "base_uri": "https://localhost:8080/"
        },
        "id": "JFpaGNI6suq7",
        "outputId": "06561731-b716-4bb0-95e8-a22bc22859c6"
      },
      "source": [
        "len(df_01)"
      ],
      "execution_count": null,
      "outputs": [
        {
          "output_type": "execute_result",
          "data": {
            "text/plain": [
              "61324"
            ]
          },
          "metadata": {
            "tags": []
          },
          "execution_count": 29
        }
      ]
    },
    {
      "cell_type": "code",
      "metadata": {
        "colab": {
          "base_uri": "https://localhost:8080/",
          "height": 581
        },
        "id": "tdQi-XHsrvW4",
        "outputId": "b55625b9-d14c-4b77-b853-641849b420d3"
      },
      "source": [
        "#union de los dataframe\n",
        "data_frame = [df_02, df_03,df_04, df_05]\n",
        "df_final = df_01.append(data_frame).reset_index(drop=True)\n",
        "df_final.tail()"
      ],
      "execution_count": null,
      "outputs": [
        {
          "output_type": "execute_result",
          "data": {
            "text/html": [
              "<div>\n",
              "<style scoped>\n",
              "    .dataframe tbody tr th:only-of-type {\n",
              "        vertical-align: middle;\n",
              "    }\n",
              "\n",
              "    .dataframe tbody tr th {\n",
              "        vertical-align: top;\n",
              "    }\n",
              "\n",
              "    .dataframe thead th {\n",
              "        text-align: right;\n",
              "    }\n",
              "</style>\n",
              "<table border=\"1\" class=\"dataframe\">\n",
              "  <thead>\n",
              "    <tr style=\"text-align: right;\">\n",
              "      <th></th>\n",
              "      <th>ageb</th>\n",
              "      <th>cod_postal</th>\n",
              "      <th>codigo_act</th>\n",
              "      <th>correoelec</th>\n",
              "      <th>cve_ent</th>\n",
              "      <th>cve_loc</th>\n",
              "      <th>cve_mun</th>\n",
              "      <th>edificio</th>\n",
              "      <th>edificio_e</th>\n",
              "      <th>entidad</th>\n",
              "      <th>fecha_alta</th>\n",
              "      <th>id</th>\n",
              "      <th>latitud</th>\n",
              "      <th>letra_ext</th>\n",
              "      <th>letra_int</th>\n",
              "      <th>localidad</th>\n",
              "      <th>longitud</th>\n",
              "      <th>manzana</th>\n",
              "      <th>municipio</th>\n",
              "      <th>nom_CenCom</th>\n",
              "      <th>nom_estab</th>\n",
              "      <th>nom_v_e_1</th>\n",
              "      <th>nom_v_e_2</th>\n",
              "      <th>nom_v_e_3</th>\n",
              "      <th>nom_vial</th>\n",
              "      <th>nomb_asent</th>\n",
              "      <th>nombre_act</th>\n",
              "      <th>num_local</th>\n",
              "      <th>numero_ext</th>\n",
              "      <th>numero_int</th>\n",
              "      <th>per_ocu</th>\n",
              "      <th>raz_social</th>\n",
              "      <th>telefono</th>\n",
              "      <th>tipoCenCom</th>\n",
              "      <th>tipoUniEco</th>\n",
              "      <th>tipo_asent</th>\n",
              "      <th>tipo_v_e_1</th>\n",
              "      <th>tipo_v_e_2</th>\n",
              "      <th>tipo_v_e_3</th>\n",
              "      <th>tipo_vial</th>\n",
              "      <th>www</th>\n",
              "    </tr>\n",
              "  </thead>\n",
              "  <tbody>\n",
              "    <tr>\n",
              "      <th>377842</th>\n",
              "      <td>0176</td>\n",
              "      <td>26170.0</td>\n",
              "      <td>931610</td>\n",
              "      <td>NaN</td>\n",
              "      <td>5</td>\n",
              "      <td>1</td>\n",
              "      <td>22</td>\n",
              "      <td>NaN</td>\n",
              "      <td>NaN</td>\n",
              "      <td>COAHUILA DE ZARAGOZA</td>\n",
              "      <td>2010-07</td>\n",
              "      <td>237654</td>\n",
              "      <td>28.431493</td>\n",
              "      <td>NaN</td>\n",
              "      <td>NaN</td>\n",
              "      <td>Nava</td>\n",
              "      <td>-100.758559</td>\n",
              "      <td>16.0</td>\n",
              "      <td>Nava</td>\n",
              "      <td>NaN</td>\n",
              "      <td>ZONA ESCOLAR 415</td>\n",
              "      <td>RINCON ENCANTADO</td>\n",
              "      <td>RINCON DEL ATARDECER</td>\n",
              "      <td>ACACIA</td>\n",
              "      <td>CALLE DEL BOSQUE</td>\n",
              "      <td>DEL BOSQUE</td>\n",
              "      <td>Actividades administrativas de instituciones d...</td>\n",
              "      <td>NaN</td>\n",
              "      <td>71.0</td>\n",
              "      <td>NaN</td>\n",
              "      <td>0 a 5 personas</td>\n",
              "      <td>SECRETARÍA DE EDUCACIÓN PÚBLICA</td>\n",
              "      <td>8.62625e+09</td>\n",
              "      <td>NaN</td>\n",
              "      <td>Fijo</td>\n",
              "      <td>COLONIA</td>\n",
              "      <td>CALLE</td>\n",
              "      <td>CALLE</td>\n",
              "      <td>CALLE</td>\n",
              "      <td>CALLE</td>\n",
              "      <td>NaN</td>\n",
              "    </tr>\n",
              "    <tr>\n",
              "      <th>377843</th>\n",
              "      <td>1773</td>\n",
              "      <td>26262.0</td>\n",
              "      <td>931610</td>\n",
              "      <td>SUPERVISION.ACU420@HOTMAIL.COM</td>\n",
              "      <td>5</td>\n",
              "      <td>1</td>\n",
              "      <td>2</td>\n",
              "      <td>NaN</td>\n",
              "      <td>NaN</td>\n",
              "      <td>COAHUILA DE ZARAGOZA</td>\n",
              "      <td>2010-07</td>\n",
              "      <td>228355</td>\n",
              "      <td>29.315194</td>\n",
              "      <td>NaN</td>\n",
              "      <td>NaN</td>\n",
              "      <td>Ciudad Acuña</td>\n",
              "      <td>-100.929953</td>\n",
              "      <td>3.0</td>\n",
              "      <td>Acuña</td>\n",
              "      <td>NaN</td>\n",
              "      <td>ZONA ESCOLAR 420 DE PRIMARIAS FEDERALIZADAS</td>\n",
              "      <td>NICOLAS BRAVO</td>\n",
              "      <td>MARIANO MATAMOROS</td>\n",
              "      <td>IGNACIO RAMÍREZ</td>\n",
              "      <td>EMILIANO ZAPATA</td>\n",
              "      <td>ISSSTE</td>\n",
              "      <td>Actividades administrativas de instituciones d...</td>\n",
              "      <td>NaN</td>\n",
              "      <td>395.0</td>\n",
              "      <td>NaN</td>\n",
              "      <td>0 a 5 personas</td>\n",
              "      <td>SECRETARÍA DE EDUCACIÓN Y CULTURA GOBIERNO FED...</td>\n",
              "      <td>NaN</td>\n",
              "      <td>NaN</td>\n",
              "      <td>Fijo</td>\n",
              "      <td>COLONIA</td>\n",
              "      <td>CALLE</td>\n",
              "      <td>CALLE</td>\n",
              "      <td>CALLE</td>\n",
              "      <td>CALLE</td>\n",
              "      <td>NaN</td>\n",
              "    </tr>\n",
              "    <tr>\n",
              "      <th>377844</th>\n",
              "      <td>0038</td>\n",
              "      <td>27800.0</td>\n",
              "      <td>931610</td>\n",
              "      <td>NaN</td>\n",
              "      <td>5</td>\n",
              "      <td>1</td>\n",
              "      <td>33</td>\n",
              "      <td>EDIFICIO SIN NOMBRE</td>\n",
              "      <td>1.0</td>\n",
              "      <td>COAHUILA DE ZARAGOZA</td>\n",
              "      <td>2019-11</td>\n",
              "      <td>8224117</td>\n",
              "      <td>25.759379</td>\n",
              "      <td>NaN</td>\n",
              "      <td>NaN</td>\n",
              "      <td>San Pedro</td>\n",
              "      <td>-102.984664</td>\n",
              "      <td>29.0</td>\n",
              "      <td>San Pedro</td>\n",
              "      <td>SUPERVISION ESCOLAR</td>\n",
              "      <td>ZONA ESCOLAR 527</td>\n",
              "      <td>MIGUEL HIDALGO</td>\n",
              "      <td>JOSE MARIA MORELOS</td>\n",
              "      <td>MANUEL ACUÑA</td>\n",
              "      <td>GONZALEZ ORTEGA</td>\n",
              "      <td>CENTRO</td>\n",
              "      <td>Actividades administrativas de instituciones d...</td>\n",
              "      <td>79</td>\n",
              "      <td>79.0</td>\n",
              "      <td>NaN</td>\n",
              "      <td>0 a 5 personas</td>\n",
              "      <td>SECRETARIA DE EDUCACION PUBLICA</td>\n",
              "      <td>NaN</td>\n",
              "      <td>EDIFICIO COMERCIAL Y DE SERVICIOS</td>\n",
              "      <td>Fijo</td>\n",
              "      <td>ZONA COMERCIAL</td>\n",
              "      <td>AVENIDA</td>\n",
              "      <td>AVENIDA</td>\n",
              "      <td>CALLE</td>\n",
              "      <td>CALLE</td>\n",
              "      <td>NaN</td>\n",
              "    </tr>\n",
              "    <tr>\n",
              "      <th>377845</th>\n",
              "      <td>095A</td>\n",
              "      <td>27805.0</td>\n",
              "      <td>931610</td>\n",
              "      <td>NaN</td>\n",
              "      <td>5</td>\n",
              "      <td>1</td>\n",
              "      <td>33</td>\n",
              "      <td>NaN</td>\n",
              "      <td>NaN</td>\n",
              "      <td>COAHUILA DE ZARAGOZA</td>\n",
              "      <td>2010-07</td>\n",
              "      <td>240300</td>\n",
              "      <td>25.755237</td>\n",
              "      <td>NaN</td>\n",
              "      <td>NaN</td>\n",
              "      <td>San Pedro</td>\n",
              "      <td>-102.986669</td>\n",
              "      <td>7.0</td>\n",
              "      <td>San Pedro</td>\n",
              "      <td>NaN</td>\n",
              "      <td>ZONA ESCOLAR 553</td>\n",
              "      <td>LEANDRO VALLE</td>\n",
              "      <td>CEPEDA</td>\n",
              "      <td>DEGOLLADO</td>\n",
              "      <td>LERDO DE TEJADA</td>\n",
              "      <td>BARRIO NUEVO</td>\n",
              "      <td>Actividades administrativas de instituciones d...</td>\n",
              "      <td>NaN</td>\n",
              "      <td>145.0</td>\n",
              "      <td>0.0</td>\n",
              "      <td>0 a 5 personas</td>\n",
              "      <td>NaN</td>\n",
              "      <td>NaN</td>\n",
              "      <td>NaN</td>\n",
              "      <td>Fijo</td>\n",
              "      <td>BARRIO</td>\n",
              "      <td>CALLE</td>\n",
              "      <td>CALLE</td>\n",
              "      <td>AVENIDA</td>\n",
              "      <td>AVENIDA</td>\n",
              "      <td>NaN</td>\n",
              "    </tr>\n",
              "    <tr>\n",
              "      <th>377846</th>\n",
              "      <td>0447</td>\n",
              "      <td>26767.0</td>\n",
              "      <td>931610</td>\n",
              "      <td>NaN</td>\n",
              "      <td>5</td>\n",
              "      <td>1</td>\n",
              "      <td>28</td>\n",
              "      <td>NaN</td>\n",
              "      <td>NaN</td>\n",
              "      <td>COAHUILA DE ZARAGOZA</td>\n",
              "      <td>2019-11</td>\n",
              "      <td>7393446</td>\n",
              "      <td>27.859814</td>\n",
              "      <td>NaN</td>\n",
              "      <td>NaN</td>\n",
              "      <td>Sabinas</td>\n",
              "      <td>-101.116410</td>\n",
              "      <td>12.0</td>\n",
              "      <td>Sabinas</td>\n",
              "      <td>NaN</td>\n",
              "      <td>ZUMBA SABINAS</td>\n",
              "      <td>MARIANO ABASOLO</td>\n",
              "      <td>AMADOR CHAPA</td>\n",
              "      <td>MIGUEL RAMOS ARIZPE</td>\n",
              "      <td>CUAUHTEMOC</td>\n",
              "      <td>PROFESOR FEDERICO BERRUETO RAMOS</td>\n",
              "      <td>Actividades administrativas de instituciones d...</td>\n",
              "      <td>NaN</td>\n",
              "      <td>755.0</td>\n",
              "      <td>NaN</td>\n",
              "      <td>0 a 5 personas</td>\n",
              "      <td>MUNICIPIO DE SABINAS COAHUILA</td>\n",
              "      <td>NaN</td>\n",
              "      <td>NaN</td>\n",
              "      <td>Fijo</td>\n",
              "      <td>COLONIA</td>\n",
              "      <td>AVENIDA</td>\n",
              "      <td>AVENIDA</td>\n",
              "      <td>CALLE</td>\n",
              "      <td>AVENIDA</td>\n",
              "      <td>NaN</td>\n",
              "    </tr>\n",
              "  </tbody>\n",
              "</table>\n",
              "</div>"
            ],
            "text/plain": [
              "        ageb  cod_postal codigo_act  ... tipo_v_e_3  tipo_vial  www\n",
              "377842  0176     26170.0     931610  ...      CALLE      CALLE  NaN\n",
              "377843  1773     26262.0     931610  ...      CALLE      CALLE  NaN\n",
              "377844  0038     27800.0     931610  ...      CALLE      CALLE  NaN\n",
              "377845  095A     27805.0     931610  ...    AVENIDA    AVENIDA  NaN\n",
              "377846  0447     26767.0     931610  ...      CALLE    AVENIDA  NaN\n",
              "\n",
              "[5 rows x 41 columns]"
            ]
          },
          "metadata": {
            "tags": []
          },
          "execution_count": 34
        }
      ]
    },
    {
      "cell_type": "code",
      "metadata": {
        "colab": {
          "base_uri": "https://localhost:8080/"
        },
        "id": "LoCEqvaStuGV",
        "outputId": "e99181db-dc8a-4206-d8c4-e403d2b7d98b"
      },
      "source": [
        "func_null = df_final.isnull().sum()\n",
        "func_null"
      ],
      "execution_count": null,
      "outputs": [
        {
          "output_type": "execute_result",
          "data": {
            "text/plain": [
              "ageb               6\n",
              "cod_postal       547\n",
              "codigo_act         0\n",
              "correoelec    301008\n",
              "cve_ent            0\n",
              "cve_loc            0\n",
              "cve_mun            0\n",
              "edificio      349115\n",
              "edificio_e    348734\n",
              "entidad            0\n",
              "fecha_alta         0\n",
              "id                 0\n",
              "latitud            0\n",
              "letra_ext     206005\n",
              "letra_int     357115\n",
              "localidad          0\n",
              "longitud           0\n",
              "manzana            6\n",
              "municipio          0\n",
              "nom_CenCom    348950\n",
              "nom_estab          0\n",
              "nom_v_e_1       7229\n",
              "nom_v_e_2       7852\n",
              "nom_v_e_3       7136\n",
              "nom_vial          22\n",
              "nomb_asent        95\n",
              "nombre_act         0\n",
              "num_local     349375\n",
              "numero_ext    110638\n",
              "numero_int    247060\n",
              "per_ocu            0\n",
              "raz_social    281178\n",
              "telefono      234277\n",
              "tipoCenCom    350291\n",
              "tipoUniEco         0\n",
              "tipo_asent       395\n",
              "tipo_v_e_1      7997\n",
              "tipo_v_e_2      8592\n",
              "tipo_v_e_3      8083\n",
              "tipo_vial        635\n",
              "www           351036\n",
              "dtype: int64"
            ]
          },
          "metadata": {
            "tags": []
          },
          "execution_count": 38
        }
      ]
    },
    {
      "cell_type": "code",
      "metadata": {
        "colab": {
          "base_uri": "https://localhost:8080/"
        },
        "id": "AICxscSKt4_B",
        "outputId": "f9b33533-8a13-4fcf-be56-6d02362cb810"
      },
      "source": [
        "cols_to_remove = list(func_null[func_null>40000].index)\n",
        "cols_to_remove"
      ],
      "execution_count": null,
      "outputs": [
        {
          "output_type": "execute_result",
          "data": {
            "text/plain": [
              "['correoelec',\n",
              " 'edificio',\n",
              " 'edificio_e',\n",
              " 'letra_ext',\n",
              " 'letra_int',\n",
              " 'nom_CenCom',\n",
              " 'num_local',\n",
              " 'numero_ext',\n",
              " 'numero_int',\n",
              " 'raz_social',\n",
              " 'telefono',\n",
              " 'tipoCenCom',\n",
              " 'www']"
            ]
          },
          "metadata": {
            "tags": []
          },
          "execution_count": 40
        }
      ]
    },
    {
      "cell_type": "code",
      "metadata": {
        "colab": {
          "base_uri": "https://localhost:8080/",
          "height": 186
        },
        "id": "QvC4RgViuW6c",
        "outputId": "a8e55f47-c44b-471f-999c-49bfda70a163"
      },
      "source": [
        "df_no_null = df_final.drop(cols_to_remove,axis=1)\n",
        "df_no_null.head(1)"
      ],
      "execution_count": null,
      "outputs": [
        {
          "output_type": "execute_result",
          "data": {
            "text/html": [
              "<div>\n",
              "<style scoped>\n",
              "    .dataframe tbody tr th:only-of-type {\n",
              "        vertical-align: middle;\n",
              "    }\n",
              "\n",
              "    .dataframe tbody tr th {\n",
              "        vertical-align: top;\n",
              "    }\n",
              "\n",
              "    .dataframe thead th {\n",
              "        text-align: right;\n",
              "    }\n",
              "</style>\n",
              "<table border=\"1\" class=\"dataframe\">\n",
              "  <thead>\n",
              "    <tr style=\"text-align: right;\">\n",
              "      <th></th>\n",
              "      <th>ageb</th>\n",
              "      <th>cod_postal</th>\n",
              "      <th>codigo_act</th>\n",
              "      <th>cve_ent</th>\n",
              "      <th>cve_loc</th>\n",
              "      <th>cve_mun</th>\n",
              "      <th>entidad</th>\n",
              "      <th>fecha_alta</th>\n",
              "      <th>id</th>\n",
              "      <th>latitud</th>\n",
              "      <th>localidad</th>\n",
              "      <th>longitud</th>\n",
              "      <th>manzana</th>\n",
              "      <th>municipio</th>\n",
              "      <th>nom_estab</th>\n",
              "      <th>nom_v_e_1</th>\n",
              "      <th>nom_v_e_2</th>\n",
              "      <th>nom_v_e_3</th>\n",
              "      <th>nom_vial</th>\n",
              "      <th>nomb_asent</th>\n",
              "      <th>nombre_act</th>\n",
              "      <th>per_ocu</th>\n",
              "      <th>tipoUniEco</th>\n",
              "      <th>tipo_asent</th>\n",
              "      <th>tipo_v_e_1</th>\n",
              "      <th>tipo_v_e_2</th>\n",
              "      <th>tipo_v_e_3</th>\n",
              "      <th>tipo_vial</th>\n",
              "    </tr>\n",
              "  </thead>\n",
              "  <tbody>\n",
              "    <tr>\n",
              "      <th>0</th>\n",
              "      <td>233</td>\n",
              "      <td>20130.0</td>\n",
              "      <td>115119</td>\n",
              "      <td>1</td>\n",
              "      <td>1</td>\n",
              "      <td>1</td>\n",
              "      <td>AGUASCALIENTES</td>\n",
              "      <td>2019-04</td>\n",
              "      <td>6862345</td>\n",
              "      <td>21.906992</td>\n",
              "      <td>Aguascalientes</td>\n",
              "      <td>-102.309807</td>\n",
              "      <td>9.0</td>\n",
              "      <td>Aguascalientes</td>\n",
              "      <td>AGROPECUARIA CHARCOS DE QUEZADA</td>\n",
              "      <td>BENJAMÍN MÉNDEZ</td>\n",
              "      <td>SILVESTRE GÓMEZ</td>\n",
              "      <td>MARÍA DEL CARMEN MARTÍN DEL CAMPO</td>\n",
              "      <td>UNIVERSIDAD</td>\n",
              "      <td>UNIDAD GANADERA</td>\n",
              "      <td>Otros servicios relacionados con la agricultura</td>\n",
              "      <td>31 a 50 personas</td>\n",
              "      <td>Fijo</td>\n",
              "      <td>COLONIA</td>\n",
              "      <td>CALLE</td>\n",
              "      <td>CALLE</td>\n",
              "      <td>CALLE</td>\n",
              "      <td>AVENIDA</td>\n",
              "    </tr>\n",
              "  </tbody>\n",
              "</table>\n",
              "</div>"
            ],
            "text/plain": [
              "  ageb  cod_postal codigo_act  ...  tipo_v_e_2  tipo_v_e_3  tipo_vial\n",
              "0  233     20130.0     115119  ...       CALLE       CALLE    AVENIDA\n",
              "\n",
              "[1 rows x 28 columns]"
            ]
          },
          "metadata": {
            "tags": []
          },
          "execution_count": 41
        }
      ]
    },
    {
      "cell_type": "code",
      "metadata": {
        "id": "AbIYt8mGu5WA"
      },
      "source": [
        "df_no_null['nombre_act'].unique().tolist()"
      ],
      "execution_count": null,
      "outputs": []
    },
    {
      "cell_type": "code",
      "metadata": {
        "id": "vi4gbDlAvb85"
      },
      "source": [
        "df_no_null['nombre_act_limpio'] = df_no_null['nombre_act'].str.lower()"
      ],
      "execution_count": null,
      "outputs": []
    },
    {
      "cell_type": "code",
      "metadata": {
        "colab": {
          "base_uri": "https://localhost:8080/"
        },
        "id": "bk5ZH-rmvmC4",
        "outputId": "45999760-bdff-4ef1-efe1-781ae99fbddb"
      },
      "source": [
        "df_no_null['nombre_act_limpio'][df_no_null['nombre_act'].str.contains('Servicios de investigación científica')].unique().tolist()"
      ],
      "execution_count": null,
      "outputs": [
        {
          "output_type": "execute_result",
          "data": {
            "text/plain": [
              "['servicios de investigación científica y desarrollo en ciencias naturales y exactas, ingeniería, y ciencias de la vida, prestados por el sector público',\n",
              " 'servicios de investigación científica y desarrollo en ciencias naturales y exactas, ingeniería, y ciencias de la vida, prestados por el sector privado',\n",
              " 'servicios de investigación científica y desarrollo en ciencias sociales y humanidades, prestados por el sector privado',\n",
              " 'servicios de investigación científica y desarrollo en ciencias sociales y humanidades, prestados por el sector público']"
            ]
          },
          "metadata": {
            "tags": []
          },
          "execution_count": 56
        }
      ]
    },
    {
      "cell_type": "code",
      "metadata": {
        "colab": {
          "base_uri": "https://localhost:8080/"
        },
        "id": "kjOJPaA0wFlE",
        "outputId": "7d517229-ac37-4c7e-f8af-c2c361c5faa1"
      },
      "source": [
        "puntuacion = [\",\",\";\",\"(\"]\n",
        "\n",
        "for p in puntuacion:\n",
        "  df_no_null['nombre_act_limpio'] = df_no_null['nombre_act_limpio'].str.replace(p,\"\")\n",
        "df_no_null['nombre_act_limpio'][df_no_null['nombre_act'].str.contains('Servicios de investigación científica')].unique().tolist()"
      ],
      "execution_count": null,
      "outputs": [
        {
          "output_type": "execute_result",
          "data": {
            "text/plain": [
              "['servicios de investigación científica y desarrollo en ciencias naturales y exactas ingeniería y ciencias de la vida prestados por el sector público',\n",
              " 'servicios de investigación científica y desarrollo en ciencias naturales y exactas ingeniería y ciencias de la vida prestados por el sector privado',\n",
              " 'servicios de investigación científica y desarrollo en ciencias sociales y humanidades prestados por el sector privado',\n",
              " 'servicios de investigación científica y desarrollo en ciencias sociales y humanidades prestados por el sector público']"
            ]
          },
          "metadata": {
            "tags": []
          },
          "execution_count": 57
        }
      ]
    },
    {
      "cell_type": "code",
      "metadata": {
        "id": "kh1ACZHowjbq"
      },
      "source": [
        "df_no_null['nombre_act_limpio'] = df_no_null['nombre_act_limpio'].str.normalize('NFKD').str.encode('ascii',errors='ignore').str.decode('utf-8')"
      ],
      "execution_count": null,
      "outputs": []
    },
    {
      "cell_type": "code",
      "metadata": {
        "colab": {
          "base_uri": "https://localhost:8080/"
        },
        "id": "5hllVGqZx6b-",
        "outputId": "eae430b2-d5e8-4bd0-98bf-e113a828e7cf"
      },
      "source": [
        "df_no_null['nombre_act_limpio'][df_no_null['nombre_act'].str.contains('Servicios de investigación científica')].unique().tolist()"
      ],
      "execution_count": null,
      "outputs": [
        {
          "output_type": "execute_result",
          "data": {
            "text/plain": [
              "['servicios de investigacion cientifica y desarrollo en ciencias naturales y exactas ingenieria y ciencias de la vida prestados por el sector publico',\n",
              " 'servicios de investigacion cientifica y desarrollo en ciencias naturales y exactas ingenieria y ciencias de la vida prestados por el sector privado',\n",
              " 'servicios de investigacion cientifica y desarrollo en ciencias sociales y humanidades prestados por el sector privado',\n",
              " 'servicios de investigacion cientifica y desarrollo en ciencias sociales y humanidades prestados por el sector publico']"
            ]
          },
          "metadata": {
            "tags": []
          },
          "execution_count": 59
        }
      ]
    },
    {
      "cell_type": "code",
      "metadata": {
        "id": "g1tEjV4cxts4"
      },
      "source": [
        "#Catalogo de actividad y entidad organizado por veces que aparece su ID en el df_final\n",
        "df_summarize = df_no_null.groupby(['nombre_act_limpio',\n",
        "                                   'cve_ent']).agg({'id':'count'}).reset_index()"
      ],
      "execution_count": null,
      "outputs": []
    },
    {
      "cell_type": "code",
      "metadata": {
        "colab": {
          "base_uri": "https://localhost:8080/",
          "height": 202
        },
        "id": "OmzG__Ip09li",
        "outputId": "c801cfb7-5f85-4258-e306-0b02ab0b23a7"
      },
      "source": [
        "df_summarize.tail()"
      ],
      "execution_count": null,
      "outputs": [
        {
          "output_type": "execute_result",
          "data": {
            "text/html": [
              "<div>\n",
              "<style scoped>\n",
              "    .dataframe tbody tr th:only-of-type {\n",
              "        vertical-align: middle;\n",
              "    }\n",
              "\n",
              "    .dataframe tbody tr th {\n",
              "        vertical-align: top;\n",
              "    }\n",
              "\n",
              "    .dataframe thead th {\n",
              "        text-align: right;\n",
              "    }\n",
              "</style>\n",
              "<table border=\"1\" class=\"dataframe\">\n",
              "  <thead>\n",
              "    <tr style=\"text-align: right;\">\n",
              "      <th></th>\n",
              "      <th>nombre_act_limpio</th>\n",
              "      <th>cve_ent</th>\n",
              "      <th>id</th>\n",
              "    </tr>\n",
              "  </thead>\n",
              "  <tbody>\n",
              "    <tr>\n",
              "      <th>3096</th>\n",
              "      <td>uniones de credito</td>\n",
              "      <td>5</td>\n",
              "      <td>9</td>\n",
              "    </tr>\n",
              "    <tr>\n",
              "      <th>3097</th>\n",
              "      <td>venta de billetes de loteria pronosticos depor...</td>\n",
              "      <td>1</td>\n",
              "      <td>34</td>\n",
              "    </tr>\n",
              "    <tr>\n",
              "      <th>3098</th>\n",
              "      <td>venta de billetes de loteria pronosticos depor...</td>\n",
              "      <td>2</td>\n",
              "      <td>60</td>\n",
              "    </tr>\n",
              "    <tr>\n",
              "      <th>3099</th>\n",
              "      <td>venta de billetes de loteria pronosticos depor...</td>\n",
              "      <td>4</td>\n",
              "      <td>129</td>\n",
              "    </tr>\n",
              "    <tr>\n",
              "      <th>3100</th>\n",
              "      <td>venta de billetes de loteria pronosticos depor...</td>\n",
              "      <td>5</td>\n",
              "      <td>149</td>\n",
              "    </tr>\n",
              "  </tbody>\n",
              "</table>\n",
              "</div>"
            ],
            "text/plain": [
              "                                      nombre_act_limpio  cve_ent   id\n",
              "3096                                 uniones de credito        5    9\n",
              "3097  venta de billetes de loteria pronosticos depor...        1   34\n",
              "3098  venta de billetes de loteria pronosticos depor...        2   60\n",
              "3099  venta de billetes de loteria pronosticos depor...        4  129\n",
              "3100  venta de billetes de loteria pronosticos depor...        5  149"
            ]
          },
          "metadata": {
            "tags": []
          },
          "execution_count": 78
        }
      ]
    },
    {
      "cell_type": "code",
      "metadata": {
        "id": "6cp61ahgyyO3"
      },
      "source": [
        "df_count_actividad = df_summarize.groupby(['nombre_act_limpio'])['id'].sum()"
      ],
      "execution_count": null,
      "outputs": []
    },
    {
      "cell_type": "code",
      "metadata": {
        "colab": {
          "base_uri": "https://localhost:8080/"
        },
        "id": "rkYm9Ksp0BGv",
        "outputId": "0cb83dd8-afc8-4a60-e4ef-5b915299281f"
      },
      "source": [
        "df_count_actividad.nlargest(10)"
      ],
      "execution_count": null,
      "outputs": [
        {
          "output_type": "execute_result",
          "data": {
            "text/plain": [
              "nombre_act_limpio\n",
              "comercio al por menor en tiendas de abarrotes ultramarinos y miscelaneas    33300\n",
              "0 a 5 personas                                                              28516\n",
              "salones y clinicas de belleza y peluquerias                                 16381\n",
              "restaurantes con servicio de preparacion de antojitos                        9427\n",
              "comercio al por menor de ropa excepto de bebe y lenceria                     8393\n",
              "asociaciones y organizaciones religiosas                                     8370\n",
              "restaurantes con servicio de preparacion de tacos y tortas                   6732\n",
              "reparacion mecanica en general de automoviles y camiones                     6599\n",
              "comercio al por menor de articulos de papeleria                              6508\n",
              "banca multiple                                                               6436\n",
              "Name: id, dtype: int64"
            ]
          },
          "metadata": {
            "tags": []
          },
          "execution_count": 73
        }
      ]
    },
    {
      "cell_type": "code",
      "metadata": {
        "colab": {
          "base_uri": "https://localhost:8080/"
        },
        "id": "tCluUrOW0Fk6",
        "outputId": "1685c311-6fc8-4639-e0e7-c2efb880620b"
      },
      "source": [
        "df_count_actividad.nsmallest(10)"
      ],
      "execution_count": null,
      "outputs": [
        {
          "output_type": "execute_result",
          "data": {
            "text/plain": [
              "nombre_act_limpio\n",
              "agentes y representantes de artistas deportistas y similares    1\n",
              "asesoria en inversiones                                         1\n",
              "casinos                                                         1\n",
              "congelacion de guisos y otros alimentos preparados              1\n",
              "cultivo de maiz grano                                           1\n",
              "despepite de algodon                                            1\n",
              "edicion de directorios y de listas de correo                    1\n",
              "elaboracion de aceites y grasas vegetales comestibles           1\n",
              "elaboracion de cafe instantaneo                                 1\n",
              "elaboracion de harina de otros productos agricolas              1\n",
              "Name: id, dtype: int64"
            ]
          },
          "metadata": {
            "tags": []
          },
          "execution_count": 74
        }
      ]
    },
    {
      "cell_type": "code",
      "metadata": {
        "colab": {
          "base_uri": "https://localhost:8080/"
        },
        "id": "hMMcSE-r0qrf",
        "outputId": "03908826-7e7c-46e6-d53b-7e12bc40cf28"
      },
      "source": [
        "df_count_actividad_clean.nsmallest(10)"
      ],
      "execution_count": null,
      "outputs": [
        {
          "output_type": "execute_result",
          "data": {
            "text/plain": [
              "nombre_act_limpio\n",
              "comercio al por mayor de desechos de papel y de carton                                          101\n",
              "operadores de servicios de telecomunicaciones inalambricas                                      101\n",
              "comercio al por mayor de maquinaria y equipo para la construccion y la mineria                  102\n",
              "comercio al por mayor de otros materiales para la construccion excepto de madera y metalicos    103\n",
              "otro autotransporte foraneo de carga especializado                                              103\n",
              "comercio al por mayor de equipo de telecomunicaciones fotografia y cinematografia               104\n",
              "otras instituciones de intermediacion crediticia y financiera no bursatil                       104\n",
              "fabricacion de articulos de alfareria porcelana y loza                                          107\n",
              "laboratorios de pruebas                                                                         107\n",
              "fabricacion de otros productos metalicos                                                        110\n",
              "Name: id, dtype: int64"
            ]
          },
          "metadata": {
            "tags": []
          },
          "execution_count": 76
        }
      ]
    },
    {
      "cell_type": "code",
      "metadata": {
        "colab": {
          "base_uri": "https://localhost:8080/"
        },
        "id": "Yt3gUXaizabj",
        "outputId": "1b9a399e-7a62-4d12-c40d-ead5c00d5410"
      },
      "source": [
        "rows_to_remove = list(df_count_actividad[df_count_actividad<100].index)\n",
        "df_count_actividad_clean = df_count_actividad.drop(rows_to_remove,axis=0)\n",
        "df_count_actividad_clean"
      ],
      "execution_count": null,
      "outputs": [
        {
          "output_type": "execute_result",
          "data": {
            "text/plain": [
              "nombre_act_limpio\n",
              "0 a 5 personas                                                                    28516\n",
              "101 a 250 personas                                                                  196\n",
              "11 a 30 personas                                                                   2853\n",
              "251 y mas personas                                                                  120\n",
              "31 a 50 personas                                                                    494\n",
              "                                                                                  ...  \n",
              "transporte colectivo foraneo de pasajeros de ruta fija                              248\n",
              "transporte colectivo urbano y suburbano de pasajeros en autobuses de ruta fija      245\n",
              "transporte de pasajeros en taxis de sitio                                           123\n",
              "transporte escolar y de personal                                                    142\n",
              "venta de billetes de loteria pronosticos deportivos y otros boletos de sorteo       372\n",
              "Name: id, Length: 319, dtype: int64"
            ]
          },
          "metadata": {
            "tags": []
          },
          "execution_count": 75
        }
      ]
    },
    {
      "cell_type": "code",
      "metadata": {
        "id": "HOgiSbxb216-"
      },
      "source": [
        "df_top10 = df_count_actividad_clean.nlargest(10).to_frame()\n",
        "df_top10['class']='top_10'\n",
        "df_low10 = df_count_actividad_clean.nsmallest(10).to_frame()\n",
        "df_low10['class']='low_10'"
      ],
      "execution_count": null,
      "outputs": []
    },
    {
      "cell_type": "code",
      "metadata": {
        "id": "EimnYOTp3RSc"
      },
      "source": [
        "catalog= pd.concat([df_top10,df_low10],axis=0).reset_index()"
      ],
      "execution_count": null,
      "outputs": []
    },
    {
      "cell_type": "code",
      "metadata": {
        "colab": {
          "base_uri": "https://localhost:8080/",
          "height": 662
        },
        "id": "BOGf76Vf3sqb",
        "outputId": "7649733e-44df-4959-dfe9-10326c621ac7"
      },
      "source": [
        "catalog"
      ],
      "execution_count": null,
      "outputs": [
        {
          "output_type": "execute_result",
          "data": {
            "text/html": [
              "<div>\n",
              "<style scoped>\n",
              "    .dataframe tbody tr th:only-of-type {\n",
              "        vertical-align: middle;\n",
              "    }\n",
              "\n",
              "    .dataframe tbody tr th {\n",
              "        vertical-align: top;\n",
              "    }\n",
              "\n",
              "    .dataframe thead th {\n",
              "        text-align: right;\n",
              "    }\n",
              "</style>\n",
              "<table border=\"1\" class=\"dataframe\">\n",
              "  <thead>\n",
              "    <tr style=\"text-align: right;\">\n",
              "      <th></th>\n",
              "      <th>nombre_act_limpio</th>\n",
              "      <th>id</th>\n",
              "      <th>class</th>\n",
              "    </tr>\n",
              "  </thead>\n",
              "  <tbody>\n",
              "    <tr>\n",
              "      <th>0</th>\n",
              "      <td>comercio al por menor en tiendas de abarrotes ...</td>\n",
              "      <td>33300</td>\n",
              "      <td>top_10</td>\n",
              "    </tr>\n",
              "    <tr>\n",
              "      <th>1</th>\n",
              "      <td>0 a 5 personas</td>\n",
              "      <td>28516</td>\n",
              "      <td>top_10</td>\n",
              "    </tr>\n",
              "    <tr>\n",
              "      <th>2</th>\n",
              "      <td>salones y clinicas de belleza y peluquerias</td>\n",
              "      <td>16381</td>\n",
              "      <td>top_10</td>\n",
              "    </tr>\n",
              "    <tr>\n",
              "      <th>3</th>\n",
              "      <td>restaurantes con servicio de preparacion de an...</td>\n",
              "      <td>9427</td>\n",
              "      <td>top_10</td>\n",
              "    </tr>\n",
              "    <tr>\n",
              "      <th>4</th>\n",
              "      <td>comercio al por menor de ropa excepto de bebe ...</td>\n",
              "      <td>8393</td>\n",
              "      <td>top_10</td>\n",
              "    </tr>\n",
              "    <tr>\n",
              "      <th>5</th>\n",
              "      <td>asociaciones y organizaciones religiosas</td>\n",
              "      <td>8370</td>\n",
              "      <td>top_10</td>\n",
              "    </tr>\n",
              "    <tr>\n",
              "      <th>6</th>\n",
              "      <td>restaurantes con servicio de preparacion de ta...</td>\n",
              "      <td>6732</td>\n",
              "      <td>top_10</td>\n",
              "    </tr>\n",
              "    <tr>\n",
              "      <th>7</th>\n",
              "      <td>reparacion mecanica en general de automoviles ...</td>\n",
              "      <td>6599</td>\n",
              "      <td>top_10</td>\n",
              "    </tr>\n",
              "    <tr>\n",
              "      <th>8</th>\n",
              "      <td>comercio al por menor de articulos de papeleria</td>\n",
              "      <td>6508</td>\n",
              "      <td>top_10</td>\n",
              "    </tr>\n",
              "    <tr>\n",
              "      <th>9</th>\n",
              "      <td>banca multiple</td>\n",
              "      <td>6436</td>\n",
              "      <td>top_10</td>\n",
              "    </tr>\n",
              "    <tr>\n",
              "      <th>10</th>\n",
              "      <td>comercio al por mayor de desechos de papel y d...</td>\n",
              "      <td>101</td>\n",
              "      <td>low_10</td>\n",
              "    </tr>\n",
              "    <tr>\n",
              "      <th>11</th>\n",
              "      <td>operadores de servicios de telecomunicaciones ...</td>\n",
              "      <td>101</td>\n",
              "      <td>low_10</td>\n",
              "    </tr>\n",
              "    <tr>\n",
              "      <th>12</th>\n",
              "      <td>comercio al por mayor de maquinaria y equipo p...</td>\n",
              "      <td>102</td>\n",
              "      <td>low_10</td>\n",
              "    </tr>\n",
              "    <tr>\n",
              "      <th>13</th>\n",
              "      <td>comercio al por mayor de otros materiales para...</td>\n",
              "      <td>103</td>\n",
              "      <td>low_10</td>\n",
              "    </tr>\n",
              "    <tr>\n",
              "      <th>14</th>\n",
              "      <td>otro autotransporte foraneo de carga especiali...</td>\n",
              "      <td>103</td>\n",
              "      <td>low_10</td>\n",
              "    </tr>\n",
              "    <tr>\n",
              "      <th>15</th>\n",
              "      <td>comercio al por mayor de equipo de telecomunic...</td>\n",
              "      <td>104</td>\n",
              "      <td>low_10</td>\n",
              "    </tr>\n",
              "    <tr>\n",
              "      <th>16</th>\n",
              "      <td>otras instituciones de intermediacion creditic...</td>\n",
              "      <td>104</td>\n",
              "      <td>low_10</td>\n",
              "    </tr>\n",
              "    <tr>\n",
              "      <th>17</th>\n",
              "      <td>fabricacion de articulos de alfareria porcelan...</td>\n",
              "      <td>107</td>\n",
              "      <td>low_10</td>\n",
              "    </tr>\n",
              "    <tr>\n",
              "      <th>18</th>\n",
              "      <td>laboratorios de pruebas</td>\n",
              "      <td>107</td>\n",
              "      <td>low_10</td>\n",
              "    </tr>\n",
              "    <tr>\n",
              "      <th>19</th>\n",
              "      <td>fabricacion de otros productos metalicos</td>\n",
              "      <td>110</td>\n",
              "      <td>low_10</td>\n",
              "    </tr>\n",
              "  </tbody>\n",
              "</table>\n",
              "</div>"
            ],
            "text/plain": [
              "                                    nombre_act_limpio     id   class\n",
              "0   comercio al por menor en tiendas de abarrotes ...  33300  top_10\n",
              "1                                      0 a 5 personas  28516  top_10\n",
              "2         salones y clinicas de belleza y peluquerias  16381  top_10\n",
              "3   restaurantes con servicio de preparacion de an...   9427  top_10\n",
              "4   comercio al por menor de ropa excepto de bebe ...   8393  top_10\n",
              "5            asociaciones y organizaciones religiosas   8370  top_10\n",
              "6   restaurantes con servicio de preparacion de ta...   6732  top_10\n",
              "7   reparacion mecanica en general de automoviles ...   6599  top_10\n",
              "8     comercio al por menor de articulos de papeleria   6508  top_10\n",
              "9                                      banca multiple   6436  top_10\n",
              "10  comercio al por mayor de desechos de papel y d...    101  low_10\n",
              "11  operadores de servicios de telecomunicaciones ...    101  low_10\n",
              "12  comercio al por mayor de maquinaria y equipo p...    102  low_10\n",
              "13  comercio al por mayor de otros materiales para...    103  low_10\n",
              "14  otro autotransporte foraneo de carga especiali...    103  low_10\n",
              "15  comercio al por mayor de equipo de telecomunic...    104  low_10\n",
              "16  otras instituciones de intermediacion creditic...    104  low_10\n",
              "17  fabricacion de articulos de alfareria porcelan...    107  low_10\n",
              "18                            laboratorios de pruebas    107  low_10\n",
              "19           fabricacion de otros productos metalicos    110  low_10"
            ]
          },
          "metadata": {
            "tags": []
          },
          "execution_count": 91
        }
      ]
    },
    {
      "cell_type": "code",
      "metadata": {
        "id": "UFtROJmi3yKm"
      },
      "source": [
        "table_concat = pd.merge(df_no_null,catalog,how='left',\n",
        "                        on=['nombre_act_limpio']).reset_index()"
      ],
      "execution_count": null,
      "outputs": []
    },
    {
      "cell_type": "code",
      "metadata": {
        "colab": {
          "base_uri": "https://localhost:8080/",
          "height": 1000
        },
        "id": "NPVf8xnT4EHE",
        "outputId": "858dec6e-9ace-4c83-d015-46bece1daa87"
      },
      "source": [
        "table_concat[table_concat['class'].notnull()]"
      ],
      "execution_count": null,
      "outputs": [
        {
          "output_type": "execute_result",
          "data": {
            "text/html": [
              "<div>\n",
              "<style scoped>\n",
              "    .dataframe tbody tr th:only-of-type {\n",
              "        vertical-align: middle;\n",
              "    }\n",
              "\n",
              "    .dataframe tbody tr th {\n",
              "        vertical-align: top;\n",
              "    }\n",
              "\n",
              "    .dataframe thead th {\n",
              "        text-align: right;\n",
              "    }\n",
              "</style>\n",
              "<table border=\"1\" class=\"dataframe\">\n",
              "  <thead>\n",
              "    <tr style=\"text-align: right;\">\n",
              "      <th></th>\n",
              "      <th>index</th>\n",
              "      <th>ageb</th>\n",
              "      <th>cod_postal</th>\n",
              "      <th>codigo_act</th>\n",
              "      <th>cve_ent</th>\n",
              "      <th>cve_loc</th>\n",
              "      <th>cve_mun</th>\n",
              "      <th>entidad</th>\n",
              "      <th>fecha_alta</th>\n",
              "      <th>id_x</th>\n",
              "      <th>latitud</th>\n",
              "      <th>localidad</th>\n",
              "      <th>longitud</th>\n",
              "      <th>manzana</th>\n",
              "      <th>municipio</th>\n",
              "      <th>nom_estab</th>\n",
              "      <th>nom_v_e_1</th>\n",
              "      <th>nom_v_e_2</th>\n",
              "      <th>nom_v_e_3</th>\n",
              "      <th>nom_vial</th>\n",
              "      <th>nomb_asent</th>\n",
              "      <th>nombre_act</th>\n",
              "      <th>per_ocu</th>\n",
              "      <th>tipoUniEco</th>\n",
              "      <th>tipo_asent</th>\n",
              "      <th>tipo_v_e_1</th>\n",
              "      <th>tipo_v_e_2</th>\n",
              "      <th>tipo_v_e_3</th>\n",
              "      <th>tipo_vial</th>\n",
              "      <th>nombre_act_limpio</th>\n",
              "      <th>id_y</th>\n",
              "      <th>class</th>\n",
              "    </tr>\n",
              "  </thead>\n",
              "  <tbody>\n",
              "    <tr>\n",
              "      <th>3266</th>\n",
              "      <td>3266</td>\n",
              "      <td>3295</td>\n",
              "      <td>20070.0</td>\n",
              "      <td>327111</td>\n",
              "      <td>1</td>\n",
              "      <td>1</td>\n",
              "      <td>1</td>\n",
              "      <td>AGUASCALIENTES</td>\n",
              "      <td>2014-12</td>\n",
              "      <td>40682</td>\n",
              "      <td>21.885422</td>\n",
              "      <td>Aguascalientes</td>\n",
              "      <td>-102.314017</td>\n",
              "      <td>1.0</td>\n",
              "      <td>Aguascalientes</td>\n",
              "      <td>ALFARERIA ELABORACION EN BARRO</td>\n",
              "      <td>PROLONGACION DOCTOR SALVADOR QUEZADA LIMON</td>\n",
              "      <td>TLAXCALA</td>\n",
              "      <td>GUANAJUATO</td>\n",
              "      <td>VERACRUZ</td>\n",
              "      <td>SAN MARCOS</td>\n",
              "      <td>Fabricación de artículos de alfarería, porcela...</td>\n",
              "      <td>0 a 5 personas</td>\n",
              "      <td>Fijo</td>\n",
              "      <td>COLONIA</td>\n",
              "      <td>AVENIDA</td>\n",
              "      <td>CALLE</td>\n",
              "      <td>CALLE</td>\n",
              "      <td>CALLE</td>\n",
              "      <td>fabricacion de articulos de alfareria porcelan...</td>\n",
              "      <td>107.0</td>\n",
              "      <td>low_10</td>\n",
              "    </tr>\n",
              "    <tr>\n",
              "      <th>3267</th>\n",
              "      <td>3267</td>\n",
              "      <td>483</td>\n",
              "      <td>20050.0</td>\n",
              "      <td>327111</td>\n",
              "      <td>1</td>\n",
              "      <td>1</td>\n",
              "      <td>1</td>\n",
              "      <td>AGUASCALIENTES</td>\n",
              "      <td>2010-07</td>\n",
              "      <td>17086</td>\n",
              "      <td>21.889108</td>\n",
              "      <td>Aguascalientes</td>\n",
              "      <td>-102.306023</td>\n",
              "      <td>2.0</td>\n",
              "      <td>Aguascalientes</td>\n",
              "      <td>ALFARERIA LA PRIETA</td>\n",
              "      <td>FUNDICION</td>\n",
              "      <td>REFORMA</td>\n",
              "      <td>FUNDICIÓN</td>\n",
              "      <td>CALLE DEL CARMEN</td>\n",
              "      <td>DEL CARMEN</td>\n",
              "      <td>Fabricación de artículos de alfarería, porcela...</td>\n",
              "      <td>0 a 5 personas</td>\n",
              "      <td>Fijo</td>\n",
              "      <td>COLONIA</td>\n",
              "      <td>AVENIDA</td>\n",
              "      <td>CALLE</td>\n",
              "      <td>AVENIDA</td>\n",
              "      <td>CALLE</td>\n",
              "      <td>fabricacion de articulos de alfareria porcelan...</td>\n",
              "      <td>107.0</td>\n",
              "      <td>low_10</td>\n",
              "    </tr>\n",
              "    <tr>\n",
              "      <th>3268</th>\n",
              "      <td>3268</td>\n",
              "      <td>483</td>\n",
              "      <td>20050.0</td>\n",
              "      <td>327111</td>\n",
              "      <td>1</td>\n",
              "      <td>1</td>\n",
              "      <td>1</td>\n",
              "      <td>AGUASCALIENTES</td>\n",
              "      <td>2010-07</td>\n",
              "      <td>17087</td>\n",
              "      <td>21.889075</td>\n",
              "      <td>Aguascalientes</td>\n",
              "      <td>-102.305822</td>\n",
              "      <td>2.0</td>\n",
              "      <td>Aguascalientes</td>\n",
              "      <td>ALFARERIA SIN NOMBRE</td>\n",
              "      <td>FUNDICION</td>\n",
              "      <td>REFORMA</td>\n",
              "      <td>BENJAMÍN DE LA MORA</td>\n",
              "      <td>CALLE DEL CARMEN</td>\n",
              "      <td>DEL CARMEN</td>\n",
              "      <td>Fabricación de artículos de alfarería, porcela...</td>\n",
              "      <td>0 a 5 personas</td>\n",
              "      <td>Fijo</td>\n",
              "      <td>COLONIA</td>\n",
              "      <td>AVENIDA</td>\n",
              "      <td>CALLE</td>\n",
              "      <td>CALLE</td>\n",
              "      <td>CALLE</td>\n",
              "      <td>fabricacion de articulos de alfareria porcelan...</td>\n",
              "      <td>107.0</td>\n",
              "      <td>low_10</td>\n",
              "    </tr>\n",
              "    <tr>\n",
              "      <th>3269</th>\n",
              "      <td>3269</td>\n",
              "      <td>515</td>\n",
              "      <td>20000.0</td>\n",
              "      <td>327111</td>\n",
              "      <td>1</td>\n",
              "      <td>1</td>\n",
              "      <td>1</td>\n",
              "      <td>AGUASCALIENTES</td>\n",
              "      <td>2019-11</td>\n",
              "      <td>6923648</td>\n",
              "      <td>21.889068</td>\n",
              "      <td>Aguascalientes</td>\n",
              "      <td>-102.290772</td>\n",
              "      <td>16.0</td>\n",
              "      <td>Aguascalientes</td>\n",
              "      <td>ALFAROLES DE BARRO</td>\n",
              "      <td>MELCHOR OCAMPO</td>\n",
              "      <td>XOCHITL</td>\n",
              "      <td>MELCHOR OCAMPO</td>\n",
              "      <td>VASCO DE GAMA</td>\n",
              "      <td>ZONA CENTRO</td>\n",
              "      <td>Fabricación de artículos de alfarería, porcela...</td>\n",
              "      <td>0 a 5 personas</td>\n",
              "      <td>Fijo</td>\n",
              "      <td>COLONIA</td>\n",
              "      <td>CALLE</td>\n",
              "      <td>CALLE</td>\n",
              "      <td>CALLE</td>\n",
              "      <td>CALLE</td>\n",
              "      <td>fabricacion de articulos de alfareria porcelan...</td>\n",
              "      <td>107.0</td>\n",
              "      <td>low_10</td>\n",
              "    </tr>\n",
              "    <tr>\n",
              "      <th>3281</th>\n",
              "      <td>3281</td>\n",
              "      <td>587</td>\n",
              "      <td>20089.0</td>\n",
              "      <td>327111</td>\n",
              "      <td>1</td>\n",
              "      <td>1</td>\n",
              "      <td>1</td>\n",
              "      <td>AGUASCALIENTES</td>\n",
              "      <td>2014-12</td>\n",
              "      <td>40922</td>\n",
              "      <td>21.877385</td>\n",
              "      <td>Aguascalientes</td>\n",
              "      <td>-102.321251</td>\n",
              "      <td>10.0</td>\n",
              "      <td>Aguascalientes</td>\n",
              "      <td>AMYCOM DE MEXICO</td>\n",
              "      <td>MIGUEL ÁNGEL</td>\n",
              "      <td>PASEO DEL RIO</td>\n",
              "      <td>DINAMARCA</td>\n",
              "      <td>NAVARRETE</td>\n",
              "      <td>DEL VALLE SEGUNDA SECCION</td>\n",
              "      <td>Fabricación de artículos de alfarería, porcela...</td>\n",
              "      <td>0 a 5 personas</td>\n",
              "      <td>Fijo</td>\n",
              "      <td>FRACCIONAMIENTO</td>\n",
              "      <td>CALLE</td>\n",
              "      <td>CALLE</td>\n",
              "      <td>CALLE</td>\n",
              "      <td>CALLE</td>\n",
              "      <td>fabricacion de articulos de alfareria porcelan...</td>\n",
              "      <td>107.0</td>\n",
              "      <td>low_10</td>\n",
              "    </tr>\n",
              "    <tr>\n",
              "      <th>...</th>\n",
              "      <td>...</td>\n",
              "      <td>...</td>\n",
              "      <td>...</td>\n",
              "      <td>...</td>\n",
              "      <td>...</td>\n",
              "      <td>...</td>\n",
              "      <td>...</td>\n",
              "      <td>...</td>\n",
              "      <td>...</td>\n",
              "      <td>...</td>\n",
              "      <td>...</td>\n",
              "      <td>...</td>\n",
              "      <td>...</td>\n",
              "      <td>...</td>\n",
              "      <td>...</td>\n",
              "      <td>...</td>\n",
              "      <td>...</td>\n",
              "      <td>...</td>\n",
              "      <td>...</td>\n",
              "      <td>...</td>\n",
              "      <td>...</td>\n",
              "      <td>...</td>\n",
              "      <td>...</td>\n",
              "      <td>...</td>\n",
              "      <td>...</td>\n",
              "      <td>...</td>\n",
              "      <td>...</td>\n",
              "      <td>...</td>\n",
              "      <td>...</td>\n",
              "      <td>...</td>\n",
              "      <td>...</td>\n",
              "      <td>...</td>\n",
              "    </tr>\n",
              "    <tr>\n",
              "      <th>376260</th>\n",
              "      <td>376260</td>\n",
              "      <td>4645</td>\n",
              "      <td>25198.0</td>\n",
              "      <td>812110</td>\n",
              "      <td>5</td>\n",
              "      <td>1</td>\n",
              "      <td>30</td>\n",
              "      <td>COAHUILA DE ZARAGOZA</td>\n",
              "      <td>2014-12</td>\n",
              "      <td>268339</td>\n",
              "      <td>25.465443</td>\n",
              "      <td>Saltillo</td>\n",
              "      <td>-100.966721</td>\n",
              "      <td>2.0</td>\n",
              "      <td>Saltillo</td>\n",
              "      <td>ZENKAI</td>\n",
              "      <td>IXTLILXOCHITL</td>\n",
              "      <td>MOCTEZUMA</td>\n",
              "      <td>HUITZILOPOCHTLI</td>\n",
              "      <td>TLOTZIN</td>\n",
              "      <td>LOS PINOS. I SECTOR</td>\n",
              "      <td>Salones y clínicas de belleza y peluquerías</td>\n",
              "      <td>0 a 5 personas</td>\n",
              "      <td>Fijo</td>\n",
              "      <td>RESIDENCIAL</td>\n",
              "      <td>CALLE</td>\n",
              "      <td>BOULEVARD</td>\n",
              "      <td>CALLE</td>\n",
              "      <td>CALLE</td>\n",
              "      <td>salones y clinicas de belleza y peluquerias</td>\n",
              "      <td>16381.0</td>\n",
              "      <td>top_10</td>\n",
              "    </tr>\n",
              "    <tr>\n",
              "      <th>376262</th>\n",
              "      <td>376262</td>\n",
              "      <td>137A</td>\n",
              "      <td>27085.0</td>\n",
              "      <td>812110</td>\n",
              "      <td>5</td>\n",
              "      <td>1</td>\n",
              "      <td>35</td>\n",
              "      <td>COAHUILA DE ZARAGOZA</td>\n",
              "      <td>2019-11</td>\n",
              "      <td>6965562</td>\n",
              "      <td>25.537780</td>\n",
              "      <td>Torreón</td>\n",
              "      <td>-103.384482</td>\n",
              "      <td>17.0</td>\n",
              "      <td>Torreón</td>\n",
              "      <td>ZIG ZAG BAREBERIA</td>\n",
              "      <td>PROLONGACION FRANCISCO SARABIA</td>\n",
              "      <td>TORRE DE CRISTAL</td>\n",
              "      <td>TORRE DEL SOL</td>\n",
              "      <td>PROLONGACION JUAREZ</td>\n",
              "      <td>LAS TORRES</td>\n",
              "      <td>Salones y clínicas de belleza y peluquerías</td>\n",
              "      <td>0 a 5 personas</td>\n",
              "      <td>Fijo</td>\n",
              "      <td>FRACCIONAMIENTO</td>\n",
              "      <td>CALLE</td>\n",
              "      <td>CALLE</td>\n",
              "      <td>CALLE</td>\n",
              "      <td>AVENIDA</td>\n",
              "      <td>salones y clinicas de belleza y peluquerias</td>\n",
              "      <td>16381.0</td>\n",
              "      <td>top_10</td>\n",
              "    </tr>\n",
              "    <tr>\n",
              "      <th>376264</th>\n",
              "      <td>376264</td>\n",
              "      <td>1040</td>\n",
              "      <td>26729.0</td>\n",
              "      <td>812110</td>\n",
              "      <td>5</td>\n",
              "      <td>1</td>\n",
              "      <td>28</td>\n",
              "      <td>COAHUILA DE ZARAGOZA</td>\n",
              "      <td>2019-11</td>\n",
              "      <td>7393566</td>\n",
              "      <td>27.867239</td>\n",
              "      <td>Sabinas</td>\n",
              "      <td>-101.109117</td>\n",
              "      <td>16.0</td>\n",
              "      <td>Sabinas</td>\n",
              "      <td>ZOE ESTETICA UNISEX</td>\n",
              "      <td>JUAN ALDAMA</td>\n",
              "      <td>MARIANO ABASOLO</td>\n",
              "      <td>CEDRO</td>\n",
              "      <td>ENCINO</td>\n",
              "      <td>LOS MONTES</td>\n",
              "      <td>Salones y clínicas de belleza y peluquerías</td>\n",
              "      <td>0 a 5 personas</td>\n",
              "      <td>Fijo</td>\n",
              "      <td>COLONIA</td>\n",
              "      <td>AVENIDA</td>\n",
              "      <td>AVENIDA</td>\n",
              "      <td>CALLE</td>\n",
              "      <td>CALLE</td>\n",
              "      <td>salones y clinicas de belleza y peluquerias</td>\n",
              "      <td>16381.0</td>\n",
              "      <td>top_10</td>\n",
              "    </tr>\n",
              "    <tr>\n",
              "      <th>376265</th>\n",
              "      <td>376265</td>\n",
              "      <td>0233</td>\n",
              "      <td>25000.0</td>\n",
              "      <td>812110</td>\n",
              "      <td>5</td>\n",
              "      <td>1</td>\n",
              "      <td>30</td>\n",
              "      <td>COAHUILA DE ZARAGOZA</td>\n",
              "      <td>2019-11</td>\n",
              "      <td>8434835</td>\n",
              "      <td>25.427494</td>\n",
              "      <td>Saltillo</td>\n",
              "      <td>-101.006599</td>\n",
              "      <td>9.0</td>\n",
              "      <td>Saltillo</td>\n",
              "      <td>ZONA RESTRINGIDA TATOO Y BARBER SHOP</td>\n",
              "      <td>CUAUHTEMOC</td>\n",
              "      <td>GUILLERMO PURCELL</td>\n",
              "      <td>LERDO DE TEJADA</td>\n",
              "      <td>GENERAL MANUEL PEREZ TREVIÑO</td>\n",
              "      <td>SALTILLO CENTRO</td>\n",
              "      <td>Salones y clínicas de belleza y peluquerías</td>\n",
              "      <td>0 a 5 personas</td>\n",
              "      <td>Fijo</td>\n",
              "      <td>NINGUNO</td>\n",
              "      <td>CALLE</td>\n",
              "      <td>CALLE</td>\n",
              "      <td>CALLE</td>\n",
              "      <td>CALLE</td>\n",
              "      <td>salones y clinicas de belleza y peluquerias</td>\n",
              "      <td>16381.0</td>\n",
              "      <td>top_10</td>\n",
              "    </tr>\n",
              "    <tr>\n",
              "      <th>376267</th>\n",
              "      <td>376267</td>\n",
              "      <td>2386</td>\n",
              "      <td>25284.0</td>\n",
              "      <td>811111</td>\n",
              "      <td>5</td>\n",
              "      <td>1</td>\n",
              "      <td>30</td>\n",
              "      <td>COAHUILA DE ZARAGOZA</td>\n",
              "      <td>2014-12</td>\n",
              "      <td>270068</td>\n",
              "      <td>25.433005</td>\n",
              "      <td>Saltillo</td>\n",
              "      <td>-100.984900</td>\n",
              "      <td>12.0</td>\n",
              "      <td>Saltillo</td>\n",
              "      <td>ZULAICA S GARAGE</td>\n",
              "      <td>FERMIN ESPINOZA ARMILLITA</td>\n",
              "      <td>MARIANO ABASOLO</td>\n",
              "      <td>ABRAHAM CEPEDA</td>\n",
              "      <td>DAVID BERLANGA</td>\n",
              "      <td>TOPO CHICO</td>\n",
              "      <td>Reparación mecánica en general de automóviles ...</td>\n",
              "      <td>0 a 5 personas</td>\n",
              "      <td>Fijo</td>\n",
              "      <td>COLONIA</td>\n",
              "      <td>CALLE</td>\n",
              "      <td>CALLE</td>\n",
              "      <td>CALLE</td>\n",
              "      <td>CALLE</td>\n",
              "      <td>reparacion mecanica en general de automoviles ...</td>\n",
              "      <td>6599.0</td>\n",
              "      <td>top_10</td>\n",
              "    </tr>\n",
              "  </tbody>\n",
              "</table>\n",
              "<p>131704 rows × 32 columns</p>\n",
              "</div>"
            ],
            "text/plain": [
              "         index  ageb  ...     id_y   class\n",
              "3266      3266  3295  ...    107.0  low_10\n",
              "3267      3267   483  ...    107.0  low_10\n",
              "3268      3268   483  ...    107.0  low_10\n",
              "3269      3269   515  ...    107.0  low_10\n",
              "3281      3281   587  ...    107.0  low_10\n",
              "...        ...   ...  ...      ...     ...\n",
              "376260  376260  4645  ...  16381.0  top_10\n",
              "376262  376262  137A  ...  16381.0  top_10\n",
              "376264  376264  1040  ...  16381.0  top_10\n",
              "376265  376265  0233  ...  16381.0  top_10\n",
              "376267  376267  2386  ...   6599.0  top_10\n",
              "\n",
              "[131704 rows x 32 columns]"
            ]
          },
          "metadata": {
            "tags": []
          },
          "execution_count": 97
        }
      ]
    }
  ]
}